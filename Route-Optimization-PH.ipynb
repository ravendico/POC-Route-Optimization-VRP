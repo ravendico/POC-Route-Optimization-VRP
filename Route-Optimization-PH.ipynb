{
 "cells": [
  {
   "attachments": {},
   "cell_type": "markdown",
   "id": "827175f0",
   "metadata": {},
   "source": [
    "# Executive Summary\n",
    "\n",
    "This notebook aims to compile resources on route optimization. For aboitiz, this can be used in its delivery logistics such as in Basco and Republic Cement.\n",
    "\n",
    "https://developers.google.com/optimization/routing\n",
    "\n",
    "A more general version of the TSP is the vehicle routing problem (VRP), in which there are multiple vehicles. In most cases, VRPs have constraints: for example, vehicles might have capacities for the maximum weight or volume of items they can carry, or drivers might be required to visit locations during specified time windows requested by customers.\n",
    "\n",
    "OR-Tools can solve many types of VRPs, including the following:\n",
    "\n",
    "- Traveling Salesperson Problem, the classic routing problem in which there is just one vehicle.\n",
    "- Vehicle routing problem, a generalisation of the TSP with multiple vehicles.\n",
    "- VRP with capacity constraints, in which vehicles have maximum capacities for the items they can carry.\n",
    "- VRP with time windows, where the vehicles must visit the locations in specified time intervals.\n",
    "- VRP with resource constraints, such as space or personnel to load and unload vehicles at the depot (the starting point for the routes).\n",
    "- VRP with dropped visits, where the vehicles aren't required to visit all locations, but must pay a penalty for each visit that is dropped.\n",
    "\n",
    "Resources:\n",
    "https://developers.google.com/optimization/routing/vrptw"
   ]
  },
  {
   "attachments": {},
   "cell_type": "markdown",
   "id": "d416a5e1",
   "metadata": {},
   "source": [
    "# Loading Libraries"
   ]
  },
  {
   "cell_type": "code",
   "execution_count": 8,
   "id": "1ea4ae4c",
   "metadata": {},
   "outputs": [],
   "source": [
    "import os\n",
    "from ortools.constraint_solver import pywrapcp\n",
    "from ortools.constraint_solver import routing_enums_pb2\n",
    "import pandas as pd\n",
    "\n",
    "import plotly\n",
    "import plotly.express as px\n",
    "import plotly.graph_objects as go\n",
    "\n",
    "import geopandas as gpd\n",
    "import numpy as np\n",
    "\n",
    "#import token\n",
    "from tokens import *\n",
    "\n",
    "import googlemaps"
   ]
  },
  {
   "attachments": {},
   "cell_type": "markdown",
   "id": "ff9ef899",
   "metadata": {},
   "source": [
    "# Traveling Salesman Problem"
   ]
  },
  {
   "attachments": {},
   "cell_type": "markdown",
   "id": "99e58b28",
   "metadata": {},
   "source": [
    "The data also includes:\n",
    "\n",
    "- The number of vehicles in the problem, which is 1 because this is a TSP. (For a vehicle routing problem (VRP), the number of vehicles can be greater than 1.)\n",
    "- The depot: the start and end location for the route. In this case, the depot is 0, which corresponds to New York.\n"
   ]
  },
  {
   "attachments": {},
   "cell_type": "markdown",
   "id": "9db3dbaa",
   "metadata": {},
   "source": [
    "## Read data"
   ]
  },
  {
   "cell_type": "code",
   "execution_count": 2,
   "id": "df86edfe",
   "metadata": {},
   "outputs": [
    {
     "data": {
      "text/plain": [
       "['ESTABLISHMENTS_752020.csv']"
      ]
     },
     "execution_count": 2,
     "metadata": {},
     "output_type": "execute_result"
    }
   ],
   "source": [
    "os.chdir('data')\n",
    "os.listdir()"
   ]
  },
  {
   "cell_type": "code",
   "execution_count": 3,
   "id": "a7127d3a",
   "metadata": {},
   "outputs": [],
   "source": [
    "df = pd.read_csv('ESTABLISHMENTS_752020.csv')"
   ]
  },
  {
   "cell_type": "code",
   "execution_count": 5,
   "id": "d4433b7a",
   "metadata": {},
   "outputs": [
    {
     "data": {
      "text/plain": [
       "BDO                           3015\n",
       "711                           2709\n",
       "BPI                           2374\n",
       "BanKo                         2247\n",
       "RCB                           1912\n",
       "MBT                           1767\n",
       "LBP                           1360\n",
       "PNB                           1206\n",
       "MERCURY DRUG                  1189\n",
       "Cebuana Lhuillier Pawnshop    1179\n",
       "JFC                           1079\n",
       "SECB                          1069\n",
       "CHIB                           931\n",
       "EW                             908\n",
       "Western Union                  896\n",
       "Lbc                            863\n",
       "Cebuana Lhuillier              757\n",
       "Chooks To Go                   724\n",
       "UBP                            713\n",
       "Shell Gasoline Station         497\n",
       "Name: Company, dtype: int64"
      ]
     },
     "execution_count": 5,
     "metadata": {},
     "output_type": "execute_result"
    }
   ],
   "source": [
    "df.Company.value_counts().head(20)"
   ]
  },
  {
   "cell_type": "code",
   "execution_count": 141,
   "id": "bce94ff6",
   "metadata": {},
   "outputs": [
    {
     "data": {
      "text/plain": [
       "(37, 9)"
      ]
     },
     "execution_count": 141,
     "metadata": {},
     "output_type": "execute_result"
    }
   ],
   "source": [
    "#filter to one restautant and city first\n",
    "jabee = df[(df.Company == 'JFC') & (df.MUNICIPALITY == 'Makati City')].copy()\n",
    "jabee = gpd.GeoDataFrame(jabee, geometry=gpd.points_from_xy(jabee.Longitude, jabee.Latitude))\n",
    "jabee.drop_duplicates(inplace=True)\n",
    "jabee.reset_index(inplace=True, drop = True)\n",
    "jabee.shape"
   ]
  },
  {
   "cell_type": "code",
   "execution_count": 140,
   "id": "29edae5d",
   "metadata": {},
   "outputs": [
    {
     "data": {
      "text/plain": [
       "(64, 9)"
      ]
     },
     "execution_count": 140,
     "metadata": {},
     "output_type": "execute_result"
    }
   ],
   "source": []
  },
  {
   "cell_type": "code",
   "execution_count": 162,
   "id": "91304843",
   "metadata": {},
   "outputs": [],
   "source": [
    "jabee = jabee.set_crs('epsg:4326') #set long lat espg\n",
    "jabee = jabee.to_crs('epsg:3857') #convert espg in meters"
   ]
  },
  {
   "attachments": {},
   "cell_type": "markdown",
   "id": "a687f27d",
   "metadata": {},
   "source": [
    "# Get distance"
   ]
  },
  {
   "attachments": {},
   "cell_type": "markdown",
   "id": "d93ac852",
   "metadata": {},
   "source": [
    "## Get euclidean distance"
   ]
  },
  {
   "cell_type": "code",
   "execution_count": null,
   "id": "fd74a846",
   "metadata": {},
   "outputs": [],
   "source": [
    "dist = jabee.geometry.apply(lambda g: jabee.distance(g))/1000 #in km\n",
    "dist"
   ]
  },
  {
   "attachments": {},
   "cell_type": "markdown",
   "id": "0abcbf4d",
   "metadata": {},
   "source": [
    "## Get traveling distance"
   ]
  },
  {
   "cell_type": "code",
   "execution_count": 37,
   "id": "23ce38bd",
   "metadata": {},
   "outputs": [],
   "source": [
    "gmaps = googlemaps.Client(key=gmap_api)"
   ]
  },
  {
   "cell_type": "code",
   "execution_count": 45,
   "id": "11a1ba93",
   "metadata": {},
   "outputs": [],
   "source": [
    "jabee['user_idx'] = jabee.index"
   ]
  },
  {
   "cell_type": "code",
   "execution_count": 46,
   "id": "61de25f4",
   "metadata": {},
   "outputs": [],
   "source": [
    "jabee['key'] = 1"
   ]
  },
  {
   "cell_type": "code",
   "execution_count": 62,
   "id": "cb470457",
   "metadata": {},
   "outputs": [],
   "source": [
    "jabee_dist = jabee[['user_idx', 'Longitude', 'Latitude', 'key']].merge(jabee[['user_idx', 'Longitude', 'Latitude', 'key']], on = 'key')\n",
    "jabee_dist = jabee_dist.loc[jabee_dist.user_idx_x != jabee_dist.user_idx_y]"
   ]
  },
  {
   "cell_type": "code",
   "execution_count": 63,
   "id": "939f48d7",
   "metadata": {},
   "outputs": [
    {
     "data": {
      "text/html": [
       "<div>\n",
       "<style scoped>\n",
       "    .dataframe tbody tr th:only-of-type {\n",
       "        vertical-align: middle;\n",
       "    }\n",
       "\n",
       "    .dataframe tbody tr th {\n",
       "        vertical-align: top;\n",
       "    }\n",
       "\n",
       "    .dataframe thead th {\n",
       "        text-align: right;\n",
       "    }\n",
       "</style>\n",
       "<table border=\"1\" class=\"dataframe\">\n",
       "  <thead>\n",
       "    <tr style=\"text-align: right;\">\n",
       "      <th></th>\n",
       "      <th>user_idx_x</th>\n",
       "      <th>Longitude_x</th>\n",
       "      <th>Latitude_x</th>\n",
       "      <th>key</th>\n",
       "      <th>user_idx_y</th>\n",
       "      <th>Longitude_y</th>\n",
       "      <th>Latitude_y</th>\n",
       "    </tr>\n",
       "  </thead>\n",
       "  <tbody>\n",
       "    <tr>\n",
       "      <th>1</th>\n",
       "      <td>0</td>\n",
       "      <td>121.044983</td>\n",
       "      <td>14.556162</td>\n",
       "      <td>1</td>\n",
       "      <td>1</td>\n",
       "      <td>121.011358</td>\n",
       "      <td>14.544866</td>\n",
       "    </tr>\n",
       "    <tr>\n",
       "      <th>2</th>\n",
       "      <td>0</td>\n",
       "      <td>121.044983</td>\n",
       "      <td>14.556162</td>\n",
       "      <td>1</td>\n",
       "      <td>2</td>\n",
       "      <td>121.026521</td>\n",
       "      <td>14.559044</td>\n",
       "    </tr>\n",
       "    <tr>\n",
       "      <th>3</th>\n",
       "      <td>0</td>\n",
       "      <td>121.044983</td>\n",
       "      <td>14.556162</td>\n",
       "      <td>1</td>\n",
       "      <td>3</td>\n",
       "      <td>121.001944</td>\n",
       "      <td>14.555620</td>\n",
       "    </tr>\n",
       "    <tr>\n",
       "      <th>4</th>\n",
       "      <td>0</td>\n",
       "      <td>121.044983</td>\n",
       "      <td>14.556162</td>\n",
       "      <td>1</td>\n",
       "      <td>4</td>\n",
       "      <td>121.022432</td>\n",
       "      <td>14.558401</td>\n",
       "    </tr>\n",
       "    <tr>\n",
       "      <th>5</th>\n",
       "      <td>0</td>\n",
       "      <td>121.044983</td>\n",
       "      <td>14.556162</td>\n",
       "      <td>1</td>\n",
       "      <td>5</td>\n",
       "      <td>121.021635</td>\n",
       "      <td>14.556076</td>\n",
       "    </tr>\n",
       "    <tr>\n",
       "      <th>...</th>\n",
       "      <td>...</td>\n",
       "      <td>...</td>\n",
       "      <td>...</td>\n",
       "      <td>...</td>\n",
       "      <td>...</td>\n",
       "      <td>...</td>\n",
       "      <td>...</td>\n",
       "    </tr>\n",
       "    <tr>\n",
       "      <th>1363</th>\n",
       "      <td>36</td>\n",
       "      <td>121.021530</td>\n",
       "      <td>14.573205</td>\n",
       "      <td>1</td>\n",
       "      <td>31</td>\n",
       "      <td>121.004251</td>\n",
       "      <td>14.553389</td>\n",
       "    </tr>\n",
       "    <tr>\n",
       "      <th>1364</th>\n",
       "      <td>36</td>\n",
       "      <td>121.021530</td>\n",
       "      <td>14.573205</td>\n",
       "      <td>1</td>\n",
       "      <td>32</td>\n",
       "      <td>121.026065</td>\n",
       "      <td>14.551445</td>\n",
       "    </tr>\n",
       "    <tr>\n",
       "      <th>1365</th>\n",
       "      <td>36</td>\n",
       "      <td>121.021530</td>\n",
       "      <td>14.573205</td>\n",
       "      <td>1</td>\n",
       "      <td>33</td>\n",
       "      <td>121.016966</td>\n",
       "      <td>14.575715</td>\n",
       "    </tr>\n",
       "    <tr>\n",
       "      <th>1366</th>\n",
       "      <td>36</td>\n",
       "      <td>121.021530</td>\n",
       "      <td>14.573205</td>\n",
       "      <td>1</td>\n",
       "      <td>34</td>\n",
       "      <td>121.025940</td>\n",
       "      <td>14.560397</td>\n",
       "    </tr>\n",
       "    <tr>\n",
       "      <th>1367</th>\n",
       "      <td>36</td>\n",
       "      <td>121.021530</td>\n",
       "      <td>14.573205</td>\n",
       "      <td>1</td>\n",
       "      <td>35</td>\n",
       "      <td>121.055895</td>\n",
       "      <td>14.549131</td>\n",
       "    </tr>\n",
       "  </tbody>\n",
       "</table>\n",
       "<p>1332 rows × 7 columns</p>\n",
       "</div>"
      ],
      "text/plain": [
       "      user_idx_x  Longitude_x  Latitude_x  key  user_idx_y  Longitude_y  \\\n",
       "1              0   121.044983   14.556162    1           1   121.011358   \n",
       "2              0   121.044983   14.556162    1           2   121.026521   \n",
       "3              0   121.044983   14.556162    1           3   121.001944   \n",
       "4              0   121.044983   14.556162    1           4   121.022432   \n",
       "5              0   121.044983   14.556162    1           5   121.021635   \n",
       "...          ...          ...         ...  ...         ...          ...   \n",
       "1363          36   121.021530   14.573205    1          31   121.004251   \n",
       "1364          36   121.021530   14.573205    1          32   121.026065   \n",
       "1365          36   121.021530   14.573205    1          33   121.016966   \n",
       "1366          36   121.021530   14.573205    1          34   121.025940   \n",
       "1367          36   121.021530   14.573205    1          35   121.055895   \n",
       "\n",
       "      Latitude_y  \n",
       "1      14.544866  \n",
       "2      14.559044  \n",
       "3      14.555620  \n",
       "4      14.558401  \n",
       "5      14.556076  \n",
       "...          ...  \n",
       "1363   14.553389  \n",
       "1364   14.551445  \n",
       "1365   14.575715  \n",
       "1366   14.560397  \n",
       "1367   14.549131  \n",
       "\n",
       "[1332 rows x 7 columns]"
      ]
     },
     "execution_count": 63,
     "metadata": {},
     "output_type": "execute_result"
    }
   ],
   "source": [
    "jabee_dist"
   ]
  },
  {
   "cell_type": "code",
   "execution_count": 69,
   "id": "8fe3232f",
   "metadata": {},
   "outputs": [
    {
     "data": {
      "text/plain": [
       "14"
      ]
     },
     "execution_count": 69,
     "metadata": {},
     "output_type": "execute_result"
    }
   ],
   "source": [
    "divs = len(jabee_dist)//100 + 1\n",
    "divs"
   ]
  },
  {
   "cell_type": "code",
   "execution_count": 85,
   "id": "7cead090",
   "metadata": {},
   "outputs": [],
   "source": [
    "jabee_dist['distance_google'] = jabee_dist.apply(lambda x: gmaps.distance_matrix([[x.Latitude_x, x.Longitude_x]], [[x.Latitude_y, x.Longitude_y]]), axis=1)"
   ]
  },
  {
   "cell_type": "code",
   "execution_count": 96,
   "id": "eb32699f",
   "metadata": {},
   "outputs": [],
   "source": [
    "jabee_dist = jabee_dist.join(jabee_dist['distance_google'].apply(pd.Series))"
   ]
  },
  {
   "cell_type": "code",
   "execution_count": 108,
   "id": "f6350f03",
   "metadata": {},
   "outputs": [
    {
     "data": {
      "text/plain": [
       "[{'distance': {'text': '5.5 km', 'value': 5468},\n",
       "  'duration': {'text': '14 mins', 'value': 850},\n",
       "  'status': 'OK'}]"
      ]
     },
     "execution_count": 108,
     "metadata": {},
     "output_type": "execute_result"
    }
   ],
   "source": [
    "jabee_dist['rows'][1][0]['elements']"
   ]
  },
  {
   "cell_type": "code",
   "execution_count": 191,
   "id": "6cece347",
   "metadata": {},
   "outputs": [
    {
     "data": {
      "text/plain": [
       "'/Users/ravenico/Documents/Work - Aboitiz/POC-Route-Optimization-VRP/data'"
      ]
     },
     "execution_count": 191,
     "metadata": {},
     "output_type": "execute_result"
    }
   ],
   "source": [
    "os.getcwd()"
   ]
  },
  {
   "cell_type": "code",
   "execution_count": 195,
   "id": "28900b57",
   "metadata": {},
   "outputs": [],
   "source": [
    "jabee_dist.to_parquet('Jabee_Distance_Matrix_gmaps_API.parquet')"
   ]
  },
  {
   "cell_type": "code",
   "execution_count": 111,
   "id": "d109bc28",
   "metadata": {},
   "outputs": [],
   "source": [
    "jabee_dist['travel_dist'] = jabee_dist['rows'].apply(lambda x: x[0]['elements'][0]['distance']['value'])\n",
    "jabee_dist['travel_time'] = jabee_dist['rows'].apply(lambda x: x[0]['elements'][0]['duration']['value'])"
   ]
  },
  {
   "cell_type": "code",
   "execution_count": 175,
   "id": "9ee79ee2",
   "metadata": {},
   "outputs": [],
   "source": [
    "#travel distance in kilometeres\n",
    "dist_travel = jabee_dist.pivot_table(index = 'user_idx_x', columns = 'user_idx_y', values = 'travel_dist').fillna(0)/1000\n",
    "#travel time in minutes\n",
    "dist_time = jabee_dist.pivot_table(index = 'user_idx_x', columns = 'user_idx_y', values = 'travel_time').fillna(0)/60\n"
   ]
  },
  {
   "attachments": {},
   "cell_type": "markdown",
   "id": "ce912f1a",
   "metadata": {},
   "source": [
    "## Create data model"
   ]
  },
  {
   "cell_type": "code",
   "execution_count": 125,
   "id": "b2c7c44d",
   "metadata": {},
   "outputs": [],
   "source": [
    "#creates data for the problem\n",
    "def create_data_model(dist_matrix, num_vehicles, depot_index):\n",
    "    \"\"\"Stores the data for the problem.\"\"\"\n",
    "    data = {}\n",
    "    data['distance_matrix'] = dist_matrix  # yapf: disable\n",
    "    data['num_vehicles'] = num_vehicles\n",
    "    data['depot'] = depot_index\n",
    "    return data"
   ]
  },
  {
   "cell_type": "code",
   "execution_count": 177,
   "id": "4815ec54",
   "metadata": {},
   "outputs": [],
   "source": [
    "data = create_data_model(np.array(dist), 3, 4)\n",
    "data_travel = create_data_model(np.array(dist_travel), 3, 4)\n",
    "data_time = create_data_model(np.array(dist_time), 3, 4)"
   ]
  },
  {
   "attachments": {},
   "cell_type": "markdown",
   "id": "d305f75d",
   "metadata": {},
   "source": [
    "# Vehicle Routing Problem\n",
    "\n",
    "In the Vehicle Routing Problem (VRP), the goal is to find optimal routes for multiple vehicles visiting a set of locations. (When there's only one vehicle, it reduces to the Traveling Salesperson Problem.)\n",
    "\n",
    "But what do we mean by \"optimal routes\" for a VRP? One answer is the routes with the least total distance. However, if there are no other constraints, the optimal solution is to assign just one vehicle to visit all locations, and find the shortest route for that vehicle. This is essentially the same problem as the TSP.\n",
    "\n",
    "A better way to define optimal routes is to minimize the length of the longest single route among all vehicles. This is the right definition if the goal is to complete all deliveries as soon as possible. The VRP example below finds optimal routes defined this way.\n",
    "\n",
    "In later sections, we'll describe other ways of generalizing the TSP by adding constraints on the vehicles, including:\n",
    "\n",
    "Capacity constraints: the vehicles need to pick up items at each location they visit, but have a maximum carrying capacity.\n",
    "Time windows: each location must be visited within a specific time window."
   ]
  },
  {
   "attachments": {},
   "cell_type": "markdown",
   "id": "9db3dbaa",
   "metadata": {},
   "source": [
    "## Create data\n",
    "\n",
    "[(456, 320), # location 0 - the depot\n",
    "(228, 0),    # location 1\n",
    "(912, 0),    # location 2\n",
    "(0, 80),     # location 3\n",
    "(114, 80),   # location 4\n",
    "(570, 160),  # location 5\n",
    "(798, 160),  # location 6\n",
    "(342, 240),  # location 7\n",
    "(684, 240),  # location 8\n",
    "(570, 400),  # location 9\n",
    "(912, 400),  # location 10\n",
    "(114, 480),  # location 11\n",
    "(228, 480),  # location 12\n",
    "(342, 560),  # location 13\n",
    "(684, 560),  # location 14\n",
    "(0, 640),    # location 15\n",
    "(798, 640)]  # location 16"
   ]
  },
  {
   "cell_type": "code",
   "execution_count": 145,
   "id": "843c4d0e",
   "metadata": {},
   "outputs": [],
   "source": [
    "# Create the routing index manager.\n",
    "manager = pywrapcp.RoutingIndexManager(len(data['distance_matrix']),\n",
    "                                        data['num_vehicles'], \n",
    "                                        data['depot'])\n",
    "\n",
    "\n",
    "\n",
    "# Create Routing Model.\n",
    "routing = pywrapcp.RoutingModel(manager)"
   ]
  },
  {
   "cell_type": "code",
   "execution_count": 146,
   "id": "ace6fe5a",
   "metadata": {},
   "outputs": [],
   "source": [
    "# Create the routing index manager.\n",
    "manager_t = pywrapcp.RoutingIndexManager(len(data_travel['distance_matrix']),\n",
    "                                        data_travel['num_vehicles'], \n",
    "                                        data_travel['depot'])\n",
    "\n",
    "\n",
    "\n",
    "# Create Routing Model.\n",
    "routing_t = pywrapcp.RoutingModel(manager_t)"
   ]
  },
  {
   "cell_type": "code",
   "execution_count": 179,
   "id": "4d13777e",
   "metadata": {},
   "outputs": [],
   "source": [
    "# Create the routing index manager.\n",
    "manager_time = pywrapcp.RoutingIndexManager(len(data_time['distance_matrix']),\n",
    "                                        data_time['num_vehicles'], \n",
    "                                        data_time['depot'])\n",
    "\n",
    "\n",
    "\n",
    "# Create Routing Model.\n",
    "routing_time = pywrapcp.RoutingModel(manager_time)"
   ]
  },
  {
   "attachments": {},
   "cell_type": "markdown",
   "id": "6b655feb",
   "metadata": {},
   "source": [
    "## Create the distance callback\n",
    "\n",
    "To use the routing solver, you need to create a distance (or transit) callback: a function that takes any pair of locations and returns the distance between them. The easiest way to do this is using the distance matrix.\n",
    "\n",
    "The following function creates the callback and registers it with the solver as transit_callback_index."
   ]
  },
  {
   "cell_type": "code",
   "execution_count": 147,
   "id": "ab9e4c0b",
   "metadata": {},
   "outputs": [],
   "source": [
    "def distance_callback(from_index, to_index):\n",
    "    \"\"\"Returns the distance between the two nodes.\"\"\"\n",
    "    # Convert from routing variable Index to distance matrix NodeIndex.\n",
    "    from_node = manager.IndexToNode(from_index)\n",
    "    to_node = manager.IndexToNode(to_index)\n",
    "    return data['distance_matrix'][from_node][to_node]\n",
    "\n",
    "transit_callback_index = routing.RegisterTransitCallback(distance_callback)"
   ]
  },
  {
   "cell_type": "code",
   "execution_count": 148,
   "id": "024a8216",
   "metadata": {},
   "outputs": [],
   "source": [
    "def distance_callback_t(from_index, to_index):\n",
    "    \"\"\"Returns the distance between the two nodes.\"\"\"\n",
    "    # Convert from routing variable Index to distance matrix NodeIndex.\n",
    "    from_node = manager_t.IndexToNode(from_index)\n",
    "    to_node = manager_t.IndexToNode(to_index)\n",
    "    return data_travel['distance_matrix'][from_node][to_node]\n",
    "\n",
    "transit_callback_index_t = routing_t.RegisterTransitCallback(distance_callback_t)"
   ]
  },
  {
   "cell_type": "code",
   "execution_count": 180,
   "id": "8807fe7a",
   "metadata": {},
   "outputs": [],
   "source": [
    "def distance_callback_time(from_index, to_index):\n",
    "    \"\"\"Returns the distance between the two nodes.\"\"\"\n",
    "    # Convert from routing variable Index to distance matrix NodeIndex.\n",
    "    from_node = manager_time.IndexToNode(from_index)\n",
    "    to_node = manager_time.IndexToNode(to_index)\n",
    "    return data_time['distance_matrix'][from_node][to_node]\n",
    "\n",
    "transit_callback_index_time = routing_time.RegisterTransitCallback(distance_callback_time)"
   ]
  },
  {
   "attachments": {},
   "cell_type": "markdown",
   "id": "db0014da",
   "metadata": {},
   "source": [
    "## Set the cost of travel\n",
    "\n",
    "In this example, the arc cost evaluator is the transit_callback_index, which is the solver's internal reference to the distance callback. This means that the cost of travel between any two locations is just the distance between them. However, in general the costs can involve other factors as well.\n",
    "\n",
    "You can also define multiple arc cost evaluators that depend on which vehicle is traveling between locations, using the method routing.SetArcCostEvaluatorOfVehicle(). For example, if the vehicles have different speeds, you could define the cost of travel between locations to be the distance divided by the vehicle's speed — in other words, the travel time.\n",
    "\n"
   ]
  },
  {
   "cell_type": "code",
   "execution_count": 181,
   "id": "8beca82f",
   "metadata": {},
   "outputs": [],
   "source": [
    "routing.SetArcCostEvaluatorOfAllVehicles(transit_callback_index)\n",
    "routing_t.SetArcCostEvaluatorOfAllVehicles(transit_callback_index_t)\n",
    "routing_time.SetArcCostEvaluatorOfAllVehicles(transit_callback_index_time)"
   ]
  },
  {
   "attachments": {},
   "cell_type": "markdown",
   "id": "0765be17",
   "metadata": {},
   "source": [
    "## Add a distance dimension\n",
    "\n",
    "To solve this VRP, you need to create a distance dimension, which computes the cumulative distance traveled by each vehicle along its route. You can then set a cost proportional to the maximum of the total distances along each route. Routing programs use dimensions to keep track of quantities that accumulate over a vehicle's route. See Dimensions for more details.\n",
    "\n",
    "The following code creates the distance dimension, using the solver's AddDimension method. The argument transit_callback_index is the index for the distance_callback."
   ]
  },
  {
   "cell_type": "code",
   "execution_count": 150,
   "id": "44d298fa",
   "metadata": {},
   "outputs": [],
   "source": [
    "dimension_name = 'Distance'\n",
    "routing.AddDimension(\n",
    "    transit_callback_index,\n",
    "    0,  # no slack\n",
    "    3000,  # vehicle maximum travel distance\n",
    "    True,  # start cumul to zero\n",
    "    dimension_name)\n",
    "distance_dimension = routing.GetDimensionOrDie(dimension_name)\n",
    "distance_dimension.SetGlobalSpanCostCoefficient(100)"
   ]
  },
  {
   "cell_type": "code",
   "execution_count": 151,
   "id": "c11049f1",
   "metadata": {},
   "outputs": [],
   "source": [
    "dimension_name = 'Distance'\n",
    "routing_t.AddDimension(\n",
    "    transit_callback_index_t,\n",
    "    0,  # no slack\n",
    "    3000,  # vehicle maximum travel distance\n",
    "    True,  # start cumul to zero\n",
    "    dimension_name)\n",
    "distance_dimension = routing_t.GetDimensionOrDie(dimension_name)\n",
    "distance_dimension.SetGlobalSpanCostCoefficient(100)"
   ]
  },
  {
   "cell_type": "code",
   "execution_count": 182,
   "id": "84f2c2ac",
   "metadata": {},
   "outputs": [],
   "source": [
    "dimension_name = 'Distance'\n",
    "routing_time.AddDimension(\n",
    "    transit_callback_index_time,\n",
    "    0,  # no slack\n",
    "    3000,  # vehicle maximum travel distance\n",
    "    True,  # start cumul to zero\n",
    "    dimension_name)\n",
    "distance_dimension = routing_time.GetDimensionOrDie(dimension_name)\n",
    "distance_dimension.SetGlobalSpanCostCoefficient(100)"
   ]
  },
  {
   "attachments": {},
   "cell_type": "markdown",
   "id": "002e2455",
   "metadata": {},
   "source": [
    "## Add solution printer"
   ]
  },
  {
   "cell_type": "code",
   "execution_count": 183,
   "id": "a04a84f1",
   "metadata": {},
   "outputs": [],
   "source": [
    "def print_solution(data, manager, routing, solution):\n",
    "    \"\"\"Prints solution on console.\"\"\"\n",
    "    print(f'Objective: {solution.ObjectiveValue()}')\n",
    "    max_route_distance = 0\n",
    "    for vehicle_id in range(data['num_vehicles']):\n",
    "        index = routing.Start(vehicle_id)\n",
    "        plan_output = 'Route for vehicle {}:\\n'.format(vehicle_id)\n",
    "        route_distance = 0\n",
    "        while not routing.IsEnd(index):\n",
    "            plan_output += ' {} -> '.format(manager.IndexToNode(index))\n",
    "            previous_index = index\n",
    "            index = solution.Value(routing.NextVar(index))\n",
    "            route_distance += routing.GetArcCostForVehicle(\n",
    "                previous_index, index, vehicle_id)\n",
    "        plan_output += '{}\\n'.format(manager.IndexToNode(index))\n",
    "        plan_output += 'Distance of the route: {}m\\n'.format(route_distance)\n",
    "        print(plan_output)\n",
    "        max_route_distance = max(route_distance, max_route_distance)\n",
    "    print('Maximum of the route distances: {}m'.format(max_route_distance))"
   ]
  },
  {
   "attachments": {},
   "cell_type": "markdown",
   "id": "03afd270",
   "metadata": {},
   "source": [
    "## Solve and print solution"
   ]
  },
  {
   "cell_type": "code",
   "execution_count": 152,
   "id": "7ed6fe45",
   "metadata": {},
   "outputs": [],
   "source": [
    "# Setting first solution heuristic.\n",
    "search_parameters = pywrapcp.DefaultRoutingSearchParameters()\n",
    "search_parameters.first_solution_strategy = (\n",
    "routing_enums_pb2.FirstSolutionStrategy.PATH_CHEAPEST_ARC)\n",
    "search_parameters.time_limit.seconds = 300 #stop after 5 minutes\n",
    "\n",
    "# Solve the problem.\n",
    "solution = routing.SolveWithParameters(search_parameters)"
   ]
  },
  {
   "cell_type": "code",
   "execution_count": 153,
   "id": "7f9acc96",
   "metadata": {},
   "outputs": [],
   "source": [
    "solution_t = routing_t.SolveWithParameters(search_parameters)"
   ]
  },
  {
   "cell_type": "code",
   "execution_count": 184,
   "id": "a77764ee",
   "metadata": {},
   "outputs": [],
   "source": [
    "solution_time = routing_time.SolveWithParameters(search_parameters)"
   ]
  },
  {
   "cell_type": "code",
   "execution_count": 154,
   "id": "3c923863",
   "metadata": {},
   "outputs": [
    {
     "name": "stdout",
     "output_type": "stream",
     "text": [
      "Objective: 613\n",
      "Route for vehicle 0:\n",
      " 4 ->  32 ->  15 ->  13 ->  19 ->  9 ->  28 ->  30 ->  35 ->  29 ->  24 ->  27 ->  22 ->  23 ->  25 ->  20 -> 4\n",
      "Distance of the route: 5m\n",
      "\n",
      "Route for vehicle 1:\n",
      " 4 ->  18 ->  0 ->  26 -> 4\n",
      "Distance of the route: 6m\n",
      "\n",
      "Route for vehicle 2:\n",
      " 4 ->  34 ->  14 ->  36 ->  33 ->  7 ->  16 ->  11 ->  8 ->  12 ->  17 ->  1 ->  3 ->  31 ->  10 ->  6 ->  21 ->  5 ->  2 -> 4\n",
      "Distance of the route: 2m\n",
      "\n",
      "Maximum of the route distances: 6m\n"
     ]
    }
   ],
   "source": [
    "print_solution(data, manager, routing, solution)"
   ]
  },
  {
   "cell_type": "code",
   "execution_count": 155,
   "id": "61880ce0",
   "metadata": {},
   "outputs": [
    {
     "name": "stdout",
     "output_type": "stream",
     "text": [
      "Objective: 1439\n",
      "Route for vehicle 0:\n",
      " 4 ->  12 ->  20 ->  17 ->  1 ->  31 ->  3 ->  10 ->  8 ->  14 ->  36 ->  16 ->  33 ->  11 ->  7 ->  6 ->  21 -> 4\n",
      "Distance of the route: 11m\n",
      "\n",
      "Route for vehicle 1:\n",
      " 4 ->  15 ->  22 ->  23 ->  24 ->  35 ->  30 ->  29 ->  26 ->  0 -> 4\n",
      "Distance of the route: 14m\n",
      "\n",
      "Route for vehicle 2:\n",
      " 4 ->  5 ->  18 ->  32 ->  25 ->  27 ->  28 ->  19 ->  9 ->  13 ->  2 ->  34 -> 4\n",
      "Distance of the route: 14m\n",
      "\n",
      "Maximum of the route distances: 14m\n"
     ]
    }
   ],
   "source": [
    "print_solution(data_travel, manager_t, routing_t, solution_t)"
   ]
  },
  {
   "cell_type": "code",
   "execution_count": 185,
   "id": "f819015f",
   "metadata": {},
   "outputs": [
    {
     "name": "stdout",
     "output_type": "stream",
     "text": [
      "Objective: 7512\n",
      "Route for vehicle 0:\n",
      " 4 ->  2 ->  0 ->  26 ->  8 ->  14 ->  36 ->  16 ->  33 ->  7 ->  11 ->  19 ->  9 ->  13 ->  34 -> 4\n",
      "Distance of the route: 73m\n",
      "\n",
      "Route for vehicle 1:\n",
      " 4 ->  32 ->  20 ->  18 ->  17 ->  27 ->  1 ->  31 ->  3 ->  10 ->  6 ->  12 ->  21 -> 4\n",
      "Distance of the route: 73m\n",
      "\n",
      "Route for vehicle 2:\n",
      " 4 ->  5 ->  15 ->  25 ->  22 ->  23 ->  24 ->  35 ->  30 ->  29 ->  28 -> 4\n",
      "Distance of the route: 66m\n",
      "\n",
      "Maximum of the route distances: 73m\n"
     ]
    }
   ],
   "source": [
    "print_solution(data_time, manager_time, routing_time, solution_time)"
   ]
  },
  {
   "attachments": {},
   "cell_type": "markdown",
   "id": "6f01d935",
   "metadata": {},
   "source": [
    "## Save routes to a list or array\n",
    "\n",
    "As an alternative to printing the solution directly, you can save the route (or routes, for a VRP) to a list or array. This has the advantage of making the routes available in case you want to do something with them later. For example, you could run the program several times with different parameters and save the routes in the returned solutions to a file for comparison.\n",
    "\n",
    "The following functions save the routes in the solution to any VRP (possibly with multiple vehicles) as a list (Python) or an array (C++)."
   ]
  },
  {
   "cell_type": "code",
   "execution_count": 156,
   "id": "d75df30b",
   "metadata": {},
   "outputs": [],
   "source": [
    "def get_routes(solution, routing, manager):\n",
    "  \"\"\"Get vehicle routes from a solution and store them in an array.\"\"\"\n",
    "  # Get vehicle routes and store them in a two dimensional array whose\n",
    "  # i,j entry is the jth location visited by vehicle i along its route.\n",
    "  routes = []\n",
    "  for route_nbr in range(routing.vehicles()):\n",
    "    index = routing.Start(route_nbr)\n",
    "    route = [manager.IndexToNode(index)]\n",
    "    while not routing.IsEnd(index):\n",
    "      index = solution.Value(routing.NextVar(index))\n",
    "      route.append(manager.IndexToNode(index))\n",
    "    routes.append(route)\n",
    "  return routes"
   ]
  },
  {
   "cell_type": "code",
   "execution_count": 188,
   "id": "ca2f4eda",
   "metadata": {},
   "outputs": [
    {
     "name": "stdout",
     "output_type": "stream",
     "text": [
      "Route 0 [4, 32, 15, 13, 19, 9, 28, 30, 35, 29, 24, 27, 22, 23, 25, 20, 4]\n",
      "Route 1 [4, 18, 0, 26, 4]\n",
      "Route 2 [4, 34, 14, 36, 33, 7, 16, 11, 8, 12, 17, 1, 3, 31, 10, 6, 21, 5, 2, 4]\n"
     ]
    }
   ],
   "source": [
    "routes = get_routes(solution, routing, manager)\n",
    "# Display the routes.\n",
    "for i, route in enumerate(routes):\n",
    "  print('Route', i, route)"
   ]
  },
  {
   "cell_type": "code",
   "execution_count": 187,
   "id": "7a826dcb",
   "metadata": {},
   "outputs": [
    {
     "name": "stdout",
     "output_type": "stream",
     "text": [
      "Route 0 [4, 12, 20, 17, 1, 31, 3, 10, 8, 14, 36, 16, 33, 11, 7, 6, 21, 4]\n",
      "Route 1 [4, 15, 22, 23, 24, 35, 30, 29, 26, 0, 4]\n",
      "Route 2 [4, 5, 18, 32, 25, 27, 28, 19, 9, 13, 2, 34, 4]\n"
     ]
    }
   ],
   "source": [
    "routes_t = get_routes(solution_t, routing_t, manager_t)\n",
    "# Display the routes.\n",
    "for i, route in enumerate(routes_t):\n",
    "  print('Route', i, route)"
   ]
  },
  {
   "cell_type": "code",
   "execution_count": 186,
   "id": "217d95bb",
   "metadata": {},
   "outputs": [
    {
     "name": "stdout",
     "output_type": "stream",
     "text": [
      "Route 0 [4, 2, 0, 26, 8, 14, 36, 16, 33, 7, 11, 19, 9, 13, 34, 4]\n",
      "Route 1 [4, 32, 20, 18, 17, 27, 1, 31, 3, 10, 6, 12, 21, 4]\n",
      "Route 2 [4, 5, 15, 25, 22, 23, 24, 35, 30, 29, 28, 4]\n"
     ]
    }
   ],
   "source": [
    "routes_time = get_routes(solution_time, routing_time, manager_time)\n",
    "# Display the routes.\n",
    "for i, route in enumerate(routes_time):\n",
    "  print('Route', i, route)"
   ]
  },
  {
   "attachments": {},
   "cell_type": "markdown",
   "id": "8fc5dbad",
   "metadata": {},
   "source": [
    "# Plot results"
   ]
  },
  {
   "cell_type": "code",
   "execution_count": 189,
   "id": "aede2283",
   "metadata": {},
   "outputs": [
    {
     "data": {
      "text/plain": [
       "([[4, 32, 15, 13, 19, 9, 28, 30, 35, 29, 24, 27, 22, 23, 25, 20, 4],\n",
       "  [4, 18, 0, 26, 4],\n",
       "  [4, 34, 14, 36, 33, 7, 16, 11, 8, 12, 17, 1, 3, 31, 10, 6, 21, 5, 2, 4]],\n",
       " [[4, 12, 20, 17, 1, 31, 3, 10, 8, 14, 36, 16, 33, 11, 7, 6, 21, 4],\n",
       "  [4, 15, 22, 23, 24, 35, 30, 29, 26, 0, 4],\n",
       "  [4, 5, 18, 32, 25, 27, 28, 19, 9, 13, 2, 34, 4]],\n",
       " [[4, 2, 0, 26, 8, 14, 36, 16, 33, 7, 11, 19, 9, 13, 34, 4],\n",
       "  [4, 32, 20, 18, 17, 27, 1, 31, 3, 10, 6, 12, 21, 4],\n",
       "  [4, 5, 15, 25, 22, 23, 24, 35, 30, 29, 28, 4]])"
      ]
     },
     "execution_count": 189,
     "metadata": {},
     "output_type": "execute_result"
    }
   ],
   "source": [
    "routes, routes_t, routes_time"
   ]
  },
  {
   "cell_type": "code",
   "execution_count": 163,
   "id": "e8c2a55e",
   "metadata": {},
   "outputs": [],
   "source": [
    "jabee = jabee.to_crs('epsg:4326')\n",
    "jabee['Hub_Flg'] = '0'\n",
    "jabee.loc[data['depot'], 'Hub_Flg'] = '1'"
   ]
  },
  {
   "cell_type": "code",
   "execution_count": 166,
   "id": "2a5fed82",
   "metadata": {},
   "outputs": [],
   "source": [
    "colors = px.colors.qualitative.Plotly"
   ]
  },
  {
   "cell_type": "code",
   "execution_count": 167,
   "id": "88dcd19d",
   "metadata": {},
   "outputs": [],
   "source": [
    "def compute_arrow_coords(A, B):\n",
    "    \n",
    "    #Workaround to get the arrow at the end of an edge AB\n",
    "    #A - coords of point 1, B - coords of point B\n",
    "    l = 0.001  # the arrow length\n",
    "    widh =0.035  #2*widh is the width of the arrow base as triangle\n",
    "\n",
    "    # A = np.array([locations['lon'][5], locations['lat'][5]])\n",
    "    # B = np.array([locations['lon'][0], locations['lat'][0]])\n",
    "    v = B-A\n",
    "    w = v/np.linalg.norm(v)     \n",
    "    u  =np.array([-v[1], v[0]])  #u orthogonal on  w\n",
    "            \n",
    "    P = B-l*w\n",
    "    S = P - widh*u\n",
    "    T = P + widh*u\n",
    "\n",
    "    return S, T"
   ]
  },
  {
   "cell_type": "code",
   "execution_count": 168,
   "id": "247aba61",
   "metadata": {},
   "outputs": [
    {
     "data": {
      "application/vnd.plotly.v1+json": {
       "config": {
        "plotlyServerURL": "https://plot.ly"
       },
       "data": [
        {
         "lat": [
          14.556161700000002,
          14.544866099999998,
          14.559043600000004,
          14.555619800000002,
          14.556076000000001,
          14.5598674,
          14.5745078,
          14.564934199999996,
          14.563068100000002,
          14.558807499999997,
          14.566752699999999,
          14.556639699999995,
          14.555462400000003,
          14.565685499999997,
          14.549455600000003,
          14.5729641,
          14.540946900000002,
          14.551870199999996,
          14.562946599999998,
          14.551239800000001,
          14.560359699999996,
          14.533541299999996,
          14.528526700000002,
          14.5408833,
          14.524794100000001,
          14.559379900000003,
          14.540867099999996,
          14.552159400000006,
          14.546747999999992,
          14.546640899999998,
          14.553389099999993,
          14.551445,
          14.5757154,
          14.560396600000002,
          14.549131399999998,
          14.573204700000002
         ],
         "lon": [
          121.04498279999999,
          121.01135829999994,
          121.02652140000004,
          121.0019444,
          121.021635,
          121.011811,
          121.01202619999997,
          121.01536699999998,
          121.037149,
          121.00582789999997,
          121.02359340000001,
          121.01770159999995,
          121.0349128,
          121.0193752,
          121.02941920000002,
          121.01973219999998,
          121.01912690000002,
          121.02358719999998,
          121.0357982,
          121.0253682,
          121.0172107,
          121.05112310000001,
          121.0572435,
          121.0560352,
          121.04543609999999,
          121.05761,
          121.05031829999999,
          121.0457543,
          121.05454990000001,
          121.05177509999997,
          121.00425109999999,
          121.02606500000002,
          121.0169656,
          121.02593960000002,
          121.05589470000001,
          121.0215297
         ],
         "marker": {
          "color": "yellow",
          "size": 10
         },
         "mode": "markers+text",
         "name": "Destinations",
         "showlegend": false,
         "text": [
          "0",
          "1",
          "2",
          "3",
          "5",
          "6",
          "7",
          "8",
          "9",
          "10",
          "11",
          "12",
          "13",
          "14",
          "15",
          "16",
          "17",
          "18",
          "19",
          "20",
          "21",
          "22",
          "23",
          "24",
          "25",
          "26",
          "27",
          "28",
          "29",
          "30",
          "31",
          "32",
          "33",
          "34",
          "35",
          "36"
         ],
         "textposition": "bottom right",
         "type": "scattermapbox"
        },
        {
         "lat": [
          14.5584008,
          14.551445,
          14.549455600000003,
          14.555462400000003,
          14.562946599999998,
          14.563068100000002,
          14.552159400000006,
          14.546640899999998,
          14.549131399999998,
          14.546747999999992,
          14.5408833,
          14.540867099999996,
          14.533541299999996,
          14.528526700000002,
          14.524794100000001,
          14.551239800000001,
          14.5584008
         ],
         "lon": [
          121.02243190000003,
          121.02606500000002,
          121.02941920000002,
          121.0349128,
          121.0357982,
          121.037149,
          121.0457543,
          121.05177509999997,
          121.05589470000001,
          121.05454990000001,
          121.0560352,
          121.05031829999999,
          121.05112310000001,
          121.0572435,
          121.04543609999999,
          121.0253682,
          121.02243190000003
         ],
         "marker": {
          "color": "#636EFA",
          "size": 14
         },
         "mode": "lines",
         "name": "Route 0",
         "type": "scattermapbox"
        },
        {
         "fill": "toself",
         "fillcolor": "#636EFA",
         "lat": [
          14.552204217899934,
          14.552458534899934,
          14.551445,
          14.552204217899934
         ],
         "line": {
          "color": "#636EFA"
         },
         "lon": [
          121.02535858169068,
          121.02584548769067,
          121.026065,
          121.02535858169068
         ],
         "mode": "lines",
         "showlegend": false,
         "type": "scattermapbox"
        },
        {
         "fill": "toself",
         "fillcolor": "#636EFA",
         "lat": [
          14.54984833289921,
          14.55008312689921,
          14.549455599999998,
          14.54984833289921
         ],
         "line": {
          "color": "#636EFA"
         },
         "lon": [
          121.02848947362999,
          121.02862873162998,
          121.0294192,
          121.02848947362999
         ],
         "mode": "lines",
         "showlegend": false,
         "type": "scattermapbox"
        },
        {
         "fill": "toself",
         "fillcolor": "#636EFA",
         "lat": [
          14.554532197277094,
          14.554916749277094,
          14.5554624,
          14.554532197277094
         ],
         "line": {
          "color": "#636EFA"
         },
         "lon": [
          121.03444815715746,
          121.03402768115747,
          121.0349128,
          121.03444815715746
         ],
         "mode": "lines",
         "showlegend": false,
         "type": "scattermapbox"
        },
        {
         "fill": "toself",
         "fillcolor": "#636EFA",
         "lat": [
          14.561922536141147,
          14.561984514141148,
          14.562946599999998,
          14.561922536141147
         ],
         "line": {
          "color": "#636EFA"
         },
         "lon": [
          121.03594266370452,
          121.03541876970452,
          121.0357982,
          121.03594266370452
         ],
         "mode": "lines",
         "showlegend": false,
         "type": "scattermapbox"
        },
        {
         "fill": "toself",
         "fillcolor": "#636EFA",
         "lat": [
          14.562931236961505,
          14.563025792961506,
          14.5630681,
          14.562931236961505
         ],
         "line": {
          "color": "#636EFA"
         },
         "lon": [
          121.03615727332307,
          121.03614876832306,
          121.037149,
          121.03615727332307
         ],
         "mode": "lines",
         "showlegend": false,
         "type": "scattermapbox"
        },
        {
         "fill": "toself",
         "fillcolor": "#636EFA",
         "lat": [
          14.55264333633617,
          14.553245707336169,
          14.5521594,
          14.55264333633617
         ],
         "line": {
          "color": "#636EFA"
         },
         "lon": [
          121.0447531541544,
          121.0455167631544,
          121.0457543,
          121.0447531541544
         ],
         "mode": "lines",
         "showlegend": false,
         "type": "scattermapbox"
        },
        {
         "fill": "toself",
         "fillcolor": "#636EFA",
         "lat": [
          14.547105858925255,
          14.547527314925256,
          14.546640900000002,
          14.547105858925255
         ],
         "line": {
          "color": "#636EFA"
         },
         "lon": [
          121.05084476380026,
          121.05123105880025,
          121.0517751,
          121.05084476380026
         ],
         "mode": "lines",
         "showlegend": false,
         "type": "scattermapbox"
        },
        {
         "fill": "toself",
         "fillcolor": "#636EFA",
         "lat": [
          14.548469858693206,
          14.548758230693206,
          14.549131400000002,
          14.548469858693206
         ],
         "line": {
          "color": "#636EFA"
         },
         "lon": [
          121.0551260968026,
          121.0549517618026,
          121.0558947,
          121.0551260968026
         ],
         "mode": "lines",
         "showlegend": false,
         "type": "scattermapbox"
        },
        {
         "fill": "toself",
         "fillcolor": "#636EFA",
         "lat": [
          14.547665996745051,
          14.54757186074505,
          14.546748,
          14.547665996745051
         ],
         "line": {
          "color": "#636EFA"
         },
         "lon": [
          121.05495789032128,
          121.05512472832129,
          121.0545499,
          121.05495789032128
         ],
         "mode": "lines",
         "showlegend": false,
         "type": "scattermapbox"
        },
        {
         "fill": "toself",
         "fillcolor": "#636EFA",
         "lat": [
          14.541800708619084,
          14.541904679619085,
          14.5408833,
          14.541800708619084
         ],
         "line": {
          "color": "#636EFA"
         },
         "lon": [
          121.05558442574075,
          121.05599495474074,
          121.0560352,
          121.05558442574075
         ],
         "mode": "lines",
         "showlegend": false,
         "type": "scattermapbox"
        },
        {
         "fill": "toself",
         "fillcolor": "#636EFA",
         "lat": [
          14.541070025192203,
          14.540669842192203,
          14.5408671,
          14.541070025192203
         ],
         "line": {
          "color": "#636EFA"
         },
         "lon": [
          121.05131772898508,
          121.05131886298508,
          121.0503183,
          121.05131772898508
         ],
         "mode": "lines",
         "showlegend": false,
         "type": "scattermapbox"
        },
        {
         "fill": "toself",
         "fillcolor": "#636EFA",
         "lat": [
          14.534507151653774,
          14.534563487653774,
          14.5335413,
          14.534507151653774
         ],
         "line": {
          "color": "#636EFA"
         },
         "lon": [
          121.05075749568174,
          121.05127030168173,
          121.0511231,
          121.05075749568174
         ],
         "mode": "lines",
         "showlegend": false,
         "type": "scattermapbox"
        },
        {
         "fill": "toself",
         "fillcolor": "#636EFA",
         "lat": [
          14.528946253580674,
          14.529374681580673,
          14.5285267,
          14.528946253580674
         ],
         "line": {
          "color": "#636EFA"
         },
         "lon": [
          121.05629446546857,
          121.05664548746856,
          121.0572435,
          121.05629446546857
         ],
         "mode": "lines",
         "showlegend": false,
         "type": "scattermapbox"
        },
        {
         "fill": "toself",
         "fillcolor": "#636EFA",
         "lat": [
          14.525508780212977,
          14.524682262212977,
          14.5247941,
          14.525508780212977
         ],
         "line": {
          "color": "#636EFA"
         },
         "lon": [
          121.04625895008668,
          121.04652023208668,
          121.0454361,
          121.04625895008668
         ],
         "mode": "lines",
         "showlegend": false,
         "type": "scattermapbox"
        },
        {
         "fill": "toself",
         "fillcolor": "#636EFA",
         "lat": [
          14.551145567110375,
          14.549740814110375,
          14.5512398,
          14.551145567110375
         ],
         "line": {
          "color": "#636EFA"
         },
         "lon": [
          121.0268982939006,
          121.02504709490061,
          121.0253682,
          121.0268982939006
         ],
         "mode": "lines",
         "showlegend": false,
         "type": "scattermapbox"
        },
        {
         "fill": "toself",
         "fillcolor": "#636EFA",
         "lat": [
          14.557578331747049,
          14.55737279074705,
          14.5584008,
          14.557578331747049
         ],
         "line": {
          "color": "#636EFA"
         },
         "lon": [
          121.02306192035824,
          121.02256065035824,
          121.02243190000002,
          121.02306192035824
         ],
         "mode": "lines",
         "showlegend": false,
         "type": "scattermapbox"
        },
        {
         "lat": [
          14.5584008,
          14.551870199999996,
          14.556161700000002,
          14.559379900000003,
          14.5584008
         ],
         "lon": [
          121.02243190000003,
          121.02358719999998,
          121.04498279999999,
          121.05761,
          121.02243190000003
         ],
         "marker": {
          "color": "#EF553B",
          "size": 14
         },
         "mode": "lines",
         "name": "Route 1",
         "type": "scattermapbox"
        },
        {
         "fill": "toself",
         "fillcolor": "#EF553B",
         "lat": [
          14.552814474653713,
          14.552895345653711,
          14.5518702,
          14.552814474653713
         ],
         "line": {
          "color": "#EF553B"
         },
         "lon": [
          121.02318442821591,
          121.0236415702159,
          121.0235872,
          121.02318442821591
         ],
         "mode": "lines",
         "showlegend": false,
         "type": "scattermapbox"
        },
        {
         "fill": "toself",
         "fillcolor": "#EF553B",
         "lat": [
          14.555216192391415,
          14.556713884391415,
          14.5561617,
          14.555216192391415
         ],
         "line": {
          "color": "#EF553B"
         },
         "lon": [
          121.04415253107679,
          121.0438521260768,
          121.0449828,
          121.04415253107679
         ],
         "mode": "lines",
         "showlegend": false,
         "type": "scattermapbox"
        },
        {
         "fill": "toself",
         "fillcolor": "#EF553B",
         "lat": [
          14.558690980183268,
          14.559574884183267,
          14.5593799,
          14.558690980183268
         ],
         "line": {
          "color": "#EF553B"
         },
         "lon": [
          121.05675361331737,
          121.05652833931737,
          121.05761,
          121.05675361331737
         ],
         "mode": "lines",
         "showlegend": false,
         "type": "scattermapbox"
        },
        {
         "fill": "toself",
         "fillcolor": "#EF553B",
         "lat": [
          14.559659855383128,
          14.55719738838313,
          14.5584008,
          14.559659855383128
         ],
         "line": {
          "color": "#EF553B"
         },
         "lon": [
          121.02339724439649,
          121.0234657813965,
          121.02243190000002,
          121.02339724439649
         ],
         "mode": "lines",
         "showlegend": false,
         "type": "scattermapbox"
        },
        {
         "lat": [
          14.5584008,
          14.560396600000002,
          14.565685499999997,
          14.573204700000002,
          14.5757154,
          14.5745078,
          14.5729641,
          14.566752699999999,
          14.564934199999996,
          14.556639699999995,
          14.540946900000002,
          14.544866099999998,
          14.555619800000002,
          14.553389099999993,
          14.558807499999997,
          14.5598674,
          14.560359699999996,
          14.556076000000001,
          14.559043600000004,
          14.5584008
         ],
         "lon": [
          121.02243190000003,
          121.02593960000002,
          121.0193752,
          121.0215297,
          121.0169656,
          121.01202619999997,
          121.01973219999998,
          121.02359340000001,
          121.01536699999998,
          121.01770159999995,
          121.01912690000002,
          121.01135829999994,
          121.0019444,
          121.00425109999999,
          121.00582789999997,
          121.011811,
          121.0172107,
          121.021635,
          121.02652140000004,
          121.02243190000003
         ],
         "marker": {
          "color": "#00CC96",
          "size": 14
         },
         "mode": "lines",
         "name": "Route 2",
         "type": "scattermapbox"
        },
        {
         "fill": "toself",
         "fillcolor": "#00CC96",
         "lat": [
          14.559779298827749,
          14.560024837827747,
          14.5603966,
          14.559779298827749
         ],
         "line": {
          "color": "#00CC96"
         },
         "lon": [
          121.02514029339144,
          121.02500058739145,
          121.0259396,
          121.02514029339144
         ],
         "mode": "lines",
         "showlegend": false,
         "type": "scattermapbox"
        },
        {
         "fill": "toself",
         "fillcolor": "#00CC96",
         "lat": [
          14.565287858918142,
          14.564828350918143,
          14.5656855,
          14.565287858918142
         ],
         "line": {
          "color": "#00CC96"
         },
         "lon": [
          121.02033901260522,
          121.01996878960522,
          121.0193752,
          121.02033901260522
         ],
         "mode": "lines",
         "showlegend": false,
         "type": "scattermapbox"
        },
        {
         "fill": "toself",
         "fillcolor": "#00CC96",
         "lat": [
          14.572167976761925,
          14.572318791761926,
          14.5732047,
          14.572167976761925
         ],
         "line": {
          "color": "#00CC96"
         },
         "lon": [
          121.0215174231813,
          121.02099107918129,
          121.0215297,
          121.0215174231813
         ],
         "mode": "lines",
         "showlegend": false,
         "type": "scattermapbox"
        },
        {
         "fill": "toself",
         "fillcolor": "#00CC96",
         "lat": [
          14.575393159164184,
          14.575073672164185,
          14.575715400000002,
          14.575393159164184
         ],
         "line": {
          "color": "#00CC96"
         },
         "lon": [
          121.01792965433316,
          121.01775390533317,
          121.0169656,
          121.01792965433316
         ],
         "mode": "lines",
         "showlegend": false,
         "type": "scattermapbox"
        },
        {
         "fill": "toself",
         "fillcolor": "#00CC96",
         "lat": [
          14.574918167555388,
          14.574572409555387,
          14.5745078,
          14.574918167555388
         ],
         "line": {
          "color": "#00CC96"
         },
         "lon": [
          121.01295532433662,
          121.0130398563366,
          121.0120262,
          121.01295532433662
         ],
         "mode": "lines",
         "showlegend": false,
         "type": "scattermapbox"
        },
        {
         "fill": "toself",
         "fillcolor": "#00CC96",
         "lat": [
          14.57289081199348,
          14.573430231993482,
          14.5729641,
          14.57289081199348
         ],
         "line": {
          "color": "#00CC96"
         },
         "lon": [
          121.01869765104558,
          121.0188057100456,
          121.0197322,
          121.01869765104558
         ],
         "mode": "lines",
         "showlegend": false,
         "type": "scattermapbox"
        },
        {
         "fill": "toself",
         "fillcolor": "#00CC96",
         "lat": [
          14.56746683968011,
          14.567737123680109,
          14.5667527,
          14.56746683968011
         ],
         "line": {
          "color": "#00CC96"
         },
         "lon": [
          121.02284806101494,
          121.02328285901493,
          121.0235934,
          121.02284806101494
         ],
         "mode": "lines",
         "showlegend": false,
         "type": "scattermapbox"
        },
        {
         "fill": "toself",
         "fillcolor": "#00CC96",
         "lat": [
          14.565437969736543,
          14.564862121736542,
          14.5649342,
          14.565437969736543
         ],
         "line": {
          "color": "#00CC96"
         },
         "lon": [
          121.01627977997708,
          121.01640707497708,
          121.015367,
          121.01627977997708
         ],
         "mode": "lines",
         "showlegend": false,
         "type": "scattermapbox"
        },
        {
         "fill": "toself",
         "fillcolor": "#00CC96",
         "lat": [
          14.5575205863271,
          14.5576840083271,
          14.5566397,
          14.5575205863271
         ],
         "line": {
          "color": "#00CC96"
         },
         "lon": [
          121.01714035637124,
          121.01772097137123,
          121.01770159999998,
          121.01714035637124
         ],
         "mode": "lines",
         "showlegend": false,
         "type": "scattermapbox"
        },
        {
         "fill": "toself",
         "fillcolor": "#00CC96",
         "lat": [
          14.54189291524566,
          14.541992686245662,
          14.540946900000002,
          14.54189291524566
         ],
         "line": {
          "color": "#00CC96"
         },
         "lon": [
          121.01848719922339,
          121.01958569522338,
          121.0191269,
          121.01848719922339
         ],
         "mode": "lines",
         "showlegend": false,
         "type": "scattermapbox"
        },
        {
         "fill": "toself",
         "fillcolor": "#00CC96",
         "lat": [
          14.54468758153786,
          14.544143779537857,
          14.5448661,
          14.54468758153786
         ],
         "line": {
          "color": "#00CC96"
         },
         "lon": [
          121.01238828906305,
          121.01211394506306,
          121.01135829999998,
          121.01238828906305
         ],
         "mode": "lines",
         "showlegend": false,
         "type": "scattermapbox"
        },
        {
         "fill": "toself",
         "fillcolor": "#00CC96",
         "lat": [
          14.555196862828216,
          14.554537889828216,
          14.5556198,
          14.555196862828216
         ],
         "line": {
          "color": "#00CC96"
         },
         "lon": [
          121.00297945895021,
          121.00222669995021,
          121.0019444,
          121.00297945895021
         ],
         "mode": "lines",
         "showlegend": false,
         "type": "scattermapbox"
        },
        {
         "fill": "toself",
         "fillcolor": "#00CC96",
         "lat": [
          14.554003530960447,
          14.554164999960449,
          14.5533891,
          14.554003530960447
         ],
         "line": {
          "color": "#00CC96"
         },
         "lon": [
          121.00345417573642,
          121.00361032473641,
          121.0042511,
          121.00345417573642
         ],
         "mode": "lines",
         "showlegend": false,
         "type": "scattermapbox"
        },
        {
         "fill": "toself",
         "fillcolor": "#00CC96",
         "lat": [
          14.557792142286354,
          14.557902518286353,
          14.5588075,
          14.557792142286354
         ],
         "line": {
          "color": "#00CC96"
         },
         "lon": [
          121.00573812653276,
          121.00535883853276,
          121.0058279,
          121.00573812653276
         ],
         "mode": "lines",
         "showlegend": false,
         "type": "scattermapbox"
        },
        {
         "fill": "toself",
         "fillcolor": "#00CC96",
         "lat": [
          14.5594835583965,
          14.5599023753965,
          14.5598674,
          14.5594835583965
         ],
         "line": {
          "color": "#00CC96"
         },
         "lon": [
          121.01086342747315,
          121.01078923447317,
          121.011811,
          121.01086342747315
         ],
         "mode": "lines",
         "showlegend": false,
         "type": "scattermapbox"
        },
        {
         "fill": "toself",
         "fillcolor": "#00CC96",
         "lat": [
          14.56007991534489,
          14.56045789434489,
          14.560359699999998,
          14.56007991534489
         ],
         "line": {
          "color": "#00CC96"
         },
         "lon": [
          121.01623206091026,
          121.01619759991024,
          121.0172107,
          121.01623206091026
         ],
         "mode": "lines",
         "showlegend": false,
         "type": "scattermapbox"
        },
        {
         "fill": "toself",
         "fillcolor": "#00CC96",
         "lat": [
          14.55661674861985,
          14.55692644961985,
          14.556076,
          14.55661674861985
         ],
         "line": {
          "color": "#00CC96"
         },
         "lon": [
          121.02076664036112,
          121.02106649936111,
          121.021635,
          121.02076664036112
         ],
         "mode": "lines",
         "showlegend": false,
         "type": "scattermapbox"
        },
        {
         "fill": "toself",
         "fillcolor": "#00CC96",
         "lat": [
          14.558353488321908,
          14.558695536321908,
          14.5590436,
          14.558353488321908
         ],
         "line": {
          "color": "#00CC96"
         },
         "lon": [
          121.02577054500318,
          121.02556281300318,
          121.02652140000002,
          121.02577054500318
         ],
         "mode": "lines",
         "showlegend": false,
         "type": "scattermapbox"
        },
        {
         "fill": "toself",
         "fillcolor": "#00CC96",
         "lat": [
          14.55869920906282,
          14.55841294406282,
          14.5584008,
          14.55869920906282
         ],
         "line": {
          "color": "#00CC96"
         },
         "lon": [
          121.02339727303868,
          121.0234422690387,
          121.02243190000002,
          121.02339727303868
         ],
         "mode": "lines",
         "showlegend": false,
         "type": "scattermapbox"
        },
        {
         "lat": [
          14.5584008
         ],
         "lon": [
          121.02243190000003
         ],
         "marker": {
          "color": "red",
          "size": 15
         },
         "mode": "markers+text+lines",
         "name": "Warehouse",
         "text": [
          "Warehouse"
         ],
         "textposition": "bottom right",
         "type": "scattermapbox"
        }
       ],
       "layout": {
        "height": 800,
        "hovermode": "closest",
        "mapbox": {
         "accesstoken": "pk.eyJ1IjoicmF2ZW5kaWNvIiwiYSI6ImNrOXNtMTQwNDE1NXEzZ3J0ZXBzbGFjajYifQ.reAoc-tEDpfezf6ZHJiyZQ",
         "center": {
          "lat": 14.554662137837838,
          "lon": 121.02965869459462
         },
         "zoom": 13
        },
        "template": {
         "data": {
          "bar": [
           {
            "error_x": {
             "color": "#2a3f5f"
            },
            "error_y": {
             "color": "#2a3f5f"
            },
            "marker": {
             "line": {
              "color": "#E5ECF6",
              "width": 0.5
             },
             "pattern": {
              "fillmode": "overlay",
              "size": 10,
              "solidity": 0.2
             }
            },
            "type": "bar"
           }
          ],
          "barpolar": [
           {
            "marker": {
             "line": {
              "color": "#E5ECF6",
              "width": 0.5
             },
             "pattern": {
              "fillmode": "overlay",
              "size": 10,
              "solidity": 0.2
             }
            },
            "type": "barpolar"
           }
          ],
          "carpet": [
           {
            "aaxis": {
             "endlinecolor": "#2a3f5f",
             "gridcolor": "white",
             "linecolor": "white",
             "minorgridcolor": "white",
             "startlinecolor": "#2a3f5f"
            },
            "baxis": {
             "endlinecolor": "#2a3f5f",
             "gridcolor": "white",
             "linecolor": "white",
             "minorgridcolor": "white",
             "startlinecolor": "#2a3f5f"
            },
            "type": "carpet"
           }
          ],
          "choropleth": [
           {
            "colorbar": {
             "outlinewidth": 0,
             "ticks": ""
            },
            "type": "choropleth"
           }
          ],
          "contour": [
           {
            "colorbar": {
             "outlinewidth": 0,
             "ticks": ""
            },
            "colorscale": [
             [
              0,
              "#0d0887"
             ],
             [
              0.1111111111111111,
              "#46039f"
             ],
             [
              0.2222222222222222,
              "#7201a8"
             ],
             [
              0.3333333333333333,
              "#9c179e"
             ],
             [
              0.4444444444444444,
              "#bd3786"
             ],
             [
              0.5555555555555556,
              "#d8576b"
             ],
             [
              0.6666666666666666,
              "#ed7953"
             ],
             [
              0.7777777777777778,
              "#fb9f3a"
             ],
             [
              0.8888888888888888,
              "#fdca26"
             ],
             [
              1,
              "#f0f921"
             ]
            ],
            "type": "contour"
           }
          ],
          "contourcarpet": [
           {
            "colorbar": {
             "outlinewidth": 0,
             "ticks": ""
            },
            "type": "contourcarpet"
           }
          ],
          "heatmap": [
           {
            "colorbar": {
             "outlinewidth": 0,
             "ticks": ""
            },
            "colorscale": [
             [
              0,
              "#0d0887"
             ],
             [
              0.1111111111111111,
              "#46039f"
             ],
             [
              0.2222222222222222,
              "#7201a8"
             ],
             [
              0.3333333333333333,
              "#9c179e"
             ],
             [
              0.4444444444444444,
              "#bd3786"
             ],
             [
              0.5555555555555556,
              "#d8576b"
             ],
             [
              0.6666666666666666,
              "#ed7953"
             ],
             [
              0.7777777777777778,
              "#fb9f3a"
             ],
             [
              0.8888888888888888,
              "#fdca26"
             ],
             [
              1,
              "#f0f921"
             ]
            ],
            "type": "heatmap"
           }
          ],
          "heatmapgl": [
           {
            "colorbar": {
             "outlinewidth": 0,
             "ticks": ""
            },
            "colorscale": [
             [
              0,
              "#0d0887"
             ],
             [
              0.1111111111111111,
              "#46039f"
             ],
             [
              0.2222222222222222,
              "#7201a8"
             ],
             [
              0.3333333333333333,
              "#9c179e"
             ],
             [
              0.4444444444444444,
              "#bd3786"
             ],
             [
              0.5555555555555556,
              "#d8576b"
             ],
             [
              0.6666666666666666,
              "#ed7953"
             ],
             [
              0.7777777777777778,
              "#fb9f3a"
             ],
             [
              0.8888888888888888,
              "#fdca26"
             ],
             [
              1,
              "#f0f921"
             ]
            ],
            "type": "heatmapgl"
           }
          ],
          "histogram": [
           {
            "marker": {
             "pattern": {
              "fillmode": "overlay",
              "size": 10,
              "solidity": 0.2
             }
            },
            "type": "histogram"
           }
          ],
          "histogram2d": [
           {
            "colorbar": {
             "outlinewidth": 0,
             "ticks": ""
            },
            "colorscale": [
             [
              0,
              "#0d0887"
             ],
             [
              0.1111111111111111,
              "#46039f"
             ],
             [
              0.2222222222222222,
              "#7201a8"
             ],
             [
              0.3333333333333333,
              "#9c179e"
             ],
             [
              0.4444444444444444,
              "#bd3786"
             ],
             [
              0.5555555555555556,
              "#d8576b"
             ],
             [
              0.6666666666666666,
              "#ed7953"
             ],
             [
              0.7777777777777778,
              "#fb9f3a"
             ],
             [
              0.8888888888888888,
              "#fdca26"
             ],
             [
              1,
              "#f0f921"
             ]
            ],
            "type": "histogram2d"
           }
          ],
          "histogram2dcontour": [
           {
            "colorbar": {
             "outlinewidth": 0,
             "ticks": ""
            },
            "colorscale": [
             [
              0,
              "#0d0887"
             ],
             [
              0.1111111111111111,
              "#46039f"
             ],
             [
              0.2222222222222222,
              "#7201a8"
             ],
             [
              0.3333333333333333,
              "#9c179e"
             ],
             [
              0.4444444444444444,
              "#bd3786"
             ],
             [
              0.5555555555555556,
              "#d8576b"
             ],
             [
              0.6666666666666666,
              "#ed7953"
             ],
             [
              0.7777777777777778,
              "#fb9f3a"
             ],
             [
              0.8888888888888888,
              "#fdca26"
             ],
             [
              1,
              "#f0f921"
             ]
            ],
            "type": "histogram2dcontour"
           }
          ],
          "mesh3d": [
           {
            "colorbar": {
             "outlinewidth": 0,
             "ticks": ""
            },
            "type": "mesh3d"
           }
          ],
          "parcoords": [
           {
            "line": {
             "colorbar": {
              "outlinewidth": 0,
              "ticks": ""
             }
            },
            "type": "parcoords"
           }
          ],
          "pie": [
           {
            "automargin": true,
            "type": "pie"
           }
          ],
          "scatter": [
           {
            "fillpattern": {
             "fillmode": "overlay",
             "size": 10,
             "solidity": 0.2
            },
            "type": "scatter"
           }
          ],
          "scatter3d": [
           {
            "line": {
             "colorbar": {
              "outlinewidth": 0,
              "ticks": ""
             }
            },
            "marker": {
             "colorbar": {
              "outlinewidth": 0,
              "ticks": ""
             }
            },
            "type": "scatter3d"
           }
          ],
          "scattercarpet": [
           {
            "marker": {
             "colorbar": {
              "outlinewidth": 0,
              "ticks": ""
             }
            },
            "type": "scattercarpet"
           }
          ],
          "scattergeo": [
           {
            "marker": {
             "colorbar": {
              "outlinewidth": 0,
              "ticks": ""
             }
            },
            "type": "scattergeo"
           }
          ],
          "scattergl": [
           {
            "marker": {
             "colorbar": {
              "outlinewidth": 0,
              "ticks": ""
             }
            },
            "type": "scattergl"
           }
          ],
          "scattermapbox": [
           {
            "marker": {
             "colorbar": {
              "outlinewidth": 0,
              "ticks": ""
             }
            },
            "type": "scattermapbox"
           }
          ],
          "scatterpolar": [
           {
            "marker": {
             "colorbar": {
              "outlinewidth": 0,
              "ticks": ""
             }
            },
            "type": "scatterpolar"
           }
          ],
          "scatterpolargl": [
           {
            "marker": {
             "colorbar": {
              "outlinewidth": 0,
              "ticks": ""
             }
            },
            "type": "scatterpolargl"
           }
          ],
          "scatterternary": [
           {
            "marker": {
             "colorbar": {
              "outlinewidth": 0,
              "ticks": ""
             }
            },
            "type": "scatterternary"
           }
          ],
          "surface": [
           {
            "colorbar": {
             "outlinewidth": 0,
             "ticks": ""
            },
            "colorscale": [
             [
              0,
              "#0d0887"
             ],
             [
              0.1111111111111111,
              "#46039f"
             ],
             [
              0.2222222222222222,
              "#7201a8"
             ],
             [
              0.3333333333333333,
              "#9c179e"
             ],
             [
              0.4444444444444444,
              "#bd3786"
             ],
             [
              0.5555555555555556,
              "#d8576b"
             ],
             [
              0.6666666666666666,
              "#ed7953"
             ],
             [
              0.7777777777777778,
              "#fb9f3a"
             ],
             [
              0.8888888888888888,
              "#fdca26"
             ],
             [
              1,
              "#f0f921"
             ]
            ],
            "type": "surface"
           }
          ],
          "table": [
           {
            "cells": {
             "fill": {
              "color": "#EBF0F8"
             },
             "line": {
              "color": "white"
             }
            },
            "header": {
             "fill": {
              "color": "#C8D4E3"
             },
             "line": {
              "color": "white"
             }
            },
            "type": "table"
           }
          ]
         },
         "layout": {
          "annotationdefaults": {
           "arrowcolor": "#2a3f5f",
           "arrowhead": 0,
           "arrowwidth": 1
          },
          "autotypenumbers": "strict",
          "coloraxis": {
           "colorbar": {
            "outlinewidth": 0,
            "ticks": ""
           }
          },
          "colorscale": {
           "diverging": [
            [
             0,
             "#8e0152"
            ],
            [
             0.1,
             "#c51b7d"
            ],
            [
             0.2,
             "#de77ae"
            ],
            [
             0.3,
             "#f1b6da"
            ],
            [
             0.4,
             "#fde0ef"
            ],
            [
             0.5,
             "#f7f7f7"
            ],
            [
             0.6,
             "#e6f5d0"
            ],
            [
             0.7,
             "#b8e186"
            ],
            [
             0.8,
             "#7fbc41"
            ],
            [
             0.9,
             "#4d9221"
            ],
            [
             1,
             "#276419"
            ]
           ],
           "sequential": [
            [
             0,
             "#0d0887"
            ],
            [
             0.1111111111111111,
             "#46039f"
            ],
            [
             0.2222222222222222,
             "#7201a8"
            ],
            [
             0.3333333333333333,
             "#9c179e"
            ],
            [
             0.4444444444444444,
             "#bd3786"
            ],
            [
             0.5555555555555556,
             "#d8576b"
            ],
            [
             0.6666666666666666,
             "#ed7953"
            ],
            [
             0.7777777777777778,
             "#fb9f3a"
            ],
            [
             0.8888888888888888,
             "#fdca26"
            ],
            [
             1,
             "#f0f921"
            ]
           ],
           "sequentialminus": [
            [
             0,
             "#0d0887"
            ],
            [
             0.1111111111111111,
             "#46039f"
            ],
            [
             0.2222222222222222,
             "#7201a8"
            ],
            [
             0.3333333333333333,
             "#9c179e"
            ],
            [
             0.4444444444444444,
             "#bd3786"
            ],
            [
             0.5555555555555556,
             "#d8576b"
            ],
            [
             0.6666666666666666,
             "#ed7953"
            ],
            [
             0.7777777777777778,
             "#fb9f3a"
            ],
            [
             0.8888888888888888,
             "#fdca26"
            ],
            [
             1,
             "#f0f921"
            ]
           ]
          },
          "colorway": [
           "#636efa",
           "#EF553B",
           "#00cc96",
           "#ab63fa",
           "#FFA15A",
           "#19d3f3",
           "#FF6692",
           "#B6E880",
           "#FF97FF",
           "#FECB52"
          ],
          "font": {
           "color": "#2a3f5f"
          },
          "geo": {
           "bgcolor": "white",
           "lakecolor": "white",
           "landcolor": "#E5ECF6",
           "showlakes": true,
           "showland": true,
           "subunitcolor": "white"
          },
          "hoverlabel": {
           "align": "left"
          },
          "hovermode": "closest",
          "mapbox": {
           "style": "light"
          },
          "paper_bgcolor": "white",
          "plot_bgcolor": "#E5ECF6",
          "polar": {
           "angularaxis": {
            "gridcolor": "white",
            "linecolor": "white",
            "ticks": ""
           },
           "bgcolor": "#E5ECF6",
           "radialaxis": {
            "gridcolor": "white",
            "linecolor": "white",
            "ticks": ""
           }
          },
          "scene": {
           "xaxis": {
            "backgroundcolor": "#E5ECF6",
            "gridcolor": "white",
            "gridwidth": 2,
            "linecolor": "white",
            "showbackground": true,
            "ticks": "",
            "zerolinecolor": "white"
           },
           "yaxis": {
            "backgroundcolor": "#E5ECF6",
            "gridcolor": "white",
            "gridwidth": 2,
            "linecolor": "white",
            "showbackground": true,
            "ticks": "",
            "zerolinecolor": "white"
           },
           "zaxis": {
            "backgroundcolor": "#E5ECF6",
            "gridcolor": "white",
            "gridwidth": 2,
            "linecolor": "white",
            "showbackground": true,
            "ticks": "",
            "zerolinecolor": "white"
           }
          },
          "shapedefaults": {
           "line": {
            "color": "#2a3f5f"
           }
          },
          "ternary": {
           "aaxis": {
            "gridcolor": "white",
            "linecolor": "white",
            "ticks": ""
           },
           "baxis": {
            "gridcolor": "white",
            "linecolor": "white",
            "ticks": ""
           },
           "bgcolor": "#E5ECF6",
           "caxis": {
            "gridcolor": "white",
            "linecolor": "white",
            "ticks": ""
           }
          },
          "title": {
           "x": 0.05
          },
          "xaxis": {
           "automargin": true,
           "gridcolor": "white",
           "linecolor": "white",
           "ticks": "",
           "title": {
            "standoff": 15
           },
           "zerolinecolor": "white",
           "zerolinewidth": 2
          },
          "yaxis": {
           "automargin": true,
           "gridcolor": "white",
           "linecolor": "white",
           "ticks": "",
           "title": {
            "standoff": 15
           },
           "zerolinecolor": "white",
           "zerolinewidth": 2
          }
         }
        },
        "width": 1000
       }
      }
     },
     "metadata": {},
     "output_type": "display_data"
    }
   ],
   "source": [
    "fig = go.Figure()\n",
    "\n",
    "fig.add_trace(go.Scattermapbox(\n",
    "            mode = \"markers+text\",\n",
    "            lon = jabee.loc[jabee.Hub_Flg == '0'].geometry.x, \n",
    "            lat = jabee.loc[jabee.Hub_Flg == '0'].geometry.y,\n",
    "            marker = {\n",
    "                'color': 'yellow',\n",
    "                'size': 10, \n",
    "                        # 'symbol': [\"circle\"]}, #https://labs.mapbox.com/maki-icons/\n",
    "            },\n",
    "            name = 'Destinations',\n",
    "            showlegend=False,\n",
    "            text = np.array(jabee.loc[jabee.Hub_Flg == '0'].index.astype(str)),\n",
    "            textposition = \"bottom right\"))\n",
    "\n",
    "for idx, route in enumerate(routes):\n",
    "    fig.add_trace(go.Scattermapbox(\n",
    "            mode = \"lines\",\n",
    "            lat = jabee.loc[route].geometry.y,\n",
    "            lon = jabee.loc[route].geometry.x,\n",
    "            marker=go.scattermapbox.Marker(\n",
    "                    size=14,\n",
    "                    color = colors[idx],\n",
    "                ),\n",
    "                name = f'Route {idx}'\n",
    "            # marker = {'size': 15, 'color': colors[idx]}\n",
    "            ))\n",
    "\n",
    "    for i in range(len(route)-1):\n",
    "        A = np.array(jabee.loc[route[i], ['Longitude', 'Latitude']])\n",
    "        B = np.array(jabee.loc[route[i+1], ['Longitude', 'Latitude']])\n",
    "        S, T = compute_arrow_coords(A, B)\n",
    "        fig.add_trace(go.Scattermapbox(lon = [S[0], T[0], B[0], S[0]], \n",
    "                                lat =[S[1], T[1], B[1], S[1]], \n",
    "                                mode='lines', \n",
    "                                fill='toself', \n",
    "                                fillcolor=colors[idx], \n",
    "                                line_color=colors[idx],\n",
    "                                showlegend=False\n",
    "                                ))\n",
    "\n",
    "    # destinations = route[1:-1]\n",
    "    # if len(destinations)>1:\n",
    "    #     fig.add_trace(go.Scattermapbox(\n",
    "    #                 mode = \"markers+text\",\n",
    "    #                 lon = jabee.loc[destinations].geometry.x, \n",
    "    #                 lat = jabee.loc[destinations].geometry.y,\n",
    "    #                 marker = {\n",
    "    #                     'color': colors[idx],\n",
    "    #                     'size': 10, \n",
    "    #                             # 'symbol': [\"circle\"]}, #https://labs.mapbox.com/maki-icons/\n",
    "    #                 },\n",
    "    #                 showlegend=False,\n",
    "    #                 text = np.array(jabee.loc[destinations].index.astype(str)),\n",
    "    #                 textposition = \"bottom right\"))\n",
    "\n",
    "\n",
    "\n",
    "fig.add_trace(go.Scattermapbox(\n",
    "                mode = \"markers+text+lines\",\n",
    "                lon = [jabee.iloc[data['depot']].geometry.x], \n",
    "                lat = [jabee.iloc[data['depot']].geometry.y],\n",
    "                marker = {\n",
    "                    'color': 'red',\n",
    "                    'size': 15, \n",
    "                    # 'symbol' : 'warehouse',\n",
    "                            # 'symbol': [\"circle\"]}, #https://labs.mapbox.com/maki-icons/\n",
    "                },\n",
    "                text = [\"Warehouse\"],\n",
    "                name = 'Warehouse',\n",
    "                textposition = \"bottom right\"))\n",
    "\n",
    "\n",
    "fig.update_layout(\n",
    "    height = 800, \n",
    "    width = 1000, \n",
    "    hovermode='closest',\n",
    "    mapbox=dict(\n",
    "        accesstoken=mapbox_token,\n",
    "        # bearing=0,\n",
    "        center=go.layout.mapbox.Center(\n",
    "            lat=jabee.geometry.y.mean(),\n",
    "            lon=jabee.geometry.x.mean(),\n",
    "        ),\n",
    "        # style = 'outdoors',\n",
    "        # pitch=0,\n",
    "        zoom=13\n",
    "    )\n",
    ")\n",
    "\n",
    "fig.show()"
   ]
  },
  {
   "cell_type": "code",
   "execution_count": 169,
   "id": "2e602195",
   "metadata": {},
   "outputs": [
    {
     "data": {
      "application/vnd.plotly.v1+json": {
       "config": {
        "plotlyServerURL": "https://plot.ly"
       },
       "data": [
        {
         "lat": [
          14.556161700000002,
          14.544866099999998,
          14.559043600000004,
          14.555619800000002,
          14.556076000000001,
          14.5598674,
          14.5745078,
          14.564934199999996,
          14.563068100000002,
          14.558807499999997,
          14.566752699999999,
          14.556639699999995,
          14.555462400000003,
          14.565685499999997,
          14.549455600000003,
          14.5729641,
          14.540946900000002,
          14.551870199999996,
          14.562946599999998,
          14.551239800000001,
          14.560359699999996,
          14.533541299999996,
          14.528526700000002,
          14.5408833,
          14.524794100000001,
          14.559379900000003,
          14.540867099999996,
          14.552159400000006,
          14.546747999999992,
          14.546640899999998,
          14.553389099999993,
          14.551445,
          14.5757154,
          14.560396600000002,
          14.549131399999998,
          14.573204700000002
         ],
         "lon": [
          121.04498279999999,
          121.01135829999994,
          121.02652140000004,
          121.0019444,
          121.021635,
          121.011811,
          121.01202619999997,
          121.01536699999998,
          121.037149,
          121.00582789999997,
          121.02359340000001,
          121.01770159999995,
          121.0349128,
          121.0193752,
          121.02941920000002,
          121.01973219999998,
          121.01912690000002,
          121.02358719999998,
          121.0357982,
          121.0253682,
          121.0172107,
          121.05112310000001,
          121.0572435,
          121.0560352,
          121.04543609999999,
          121.05761,
          121.05031829999999,
          121.0457543,
          121.05454990000001,
          121.05177509999997,
          121.00425109999999,
          121.02606500000002,
          121.0169656,
          121.02593960000002,
          121.05589470000001,
          121.0215297
         ],
         "marker": {
          "color": "yellow",
          "size": 10
         },
         "mode": "markers+text",
         "name": "Destinations",
         "showlegend": false,
         "text": [
          "0",
          "1",
          "2",
          "3",
          "5",
          "6",
          "7",
          "8",
          "9",
          "10",
          "11",
          "12",
          "13",
          "14",
          "15",
          "16",
          "17",
          "18",
          "19",
          "20",
          "21",
          "22",
          "23",
          "24",
          "25",
          "26",
          "27",
          "28",
          "29",
          "30",
          "31",
          "32",
          "33",
          "34",
          "35",
          "36"
         ],
         "textposition": "bottom right",
         "type": "scattermapbox"
        },
        {
         "lat": [
          14.5584008,
          14.556639699999995,
          14.551239800000001,
          14.540946900000002,
          14.544866099999998,
          14.553389099999993,
          14.555619800000002,
          14.558807499999997,
          14.564934199999996,
          14.565685499999997,
          14.573204700000002,
          14.5729641,
          14.5757154,
          14.566752699999999,
          14.5745078,
          14.5598674,
          14.560359699999996,
          14.5584008
         ],
         "lon": [
          121.02243190000003,
          121.01770159999995,
          121.0253682,
          121.01912690000002,
          121.01135829999994,
          121.00425109999999,
          121.0019444,
          121.00582789999997,
          121.01536699999998,
          121.0193752,
          121.0215297,
          121.01973219999998,
          121.0169656,
          121.02359340000001,
          121.01202619999997,
          121.011811,
          121.0172107,
          121.02243190000003
         ],
         "marker": {
          "color": "#636EFA",
          "size": 14
         },
         "mode": "lines",
         "name": "Route 0",
         "type": "scattermapbox"
        },
        {
         "fill": "toself",
         "fillcolor": "#636EFA",
         "lat": [
          14.557154166206502,
          14.5568230452065,
          14.5566397,
          14.557154166206502
         ],
         "line": {
          "color": "#636EFA"
         },
         "lon": [
          121.01857711933512,
          121.01870039633512,
          121.01770159999998,
          121.01857711933512
         ],
         "mode": "lines",
         "showlegend": false,
         "type": "scattermapbox"
        },
        {
         "fill": "toself",
         "fillcolor": "#636EFA",
         "lat": [
          14.551547310771081,
          14.552083972771083,
          14.5512398,
          14.551547310771081
         ],
         "line": {
          "color": "#636EFA"
         },
         "lon": [
          121.02436164233735,
          121.02473963533735,
          121.0253682,
          121.02436164233735
         ],
         "mode": "lines",
         "showlegend": false,
         "type": "scattermapbox"
        },
        {
         "fill": "toself",
         "fillcolor": "#636EFA",
         "lat": [
          14.54202042625739,
          14.54158353525739,
          14.540946900000002,
          14.54202042625739
         ],
         "line": {
          "color": "#636EFA"
         },
         "lon": [
          121.01928514333927,
          121.02000564633927,
          121.0191269,
          121.01928514333927
         ],
         "mode": "lines",
         "showlegend": false,
         "type": "scattermapbox"
        },
        {
         "fill": "toself",
         "fillcolor": "#636EFA",
         "lat": [
          14.54468758153786,
          14.544143779537857,
          14.5448661,
          14.54468758153786
         ],
         "line": {
          "color": "#636EFA"
         },
         "lon": [
          121.01238828906305,
          121.01211394506306,
          121.01135829999998,
          121.01238828906305
         ],
         "mode": "lines",
         "showlegend": false,
         "type": "scattermapbox"
        },
        {
         "fill": "toself",
         "fillcolor": "#636EFA",
         "lat": [
          14.552869839049581,
          14.552372335049583,
          14.5533891,
          14.552869839049581
         ],
         "line": {
          "color": "#636EFA"
         },
         "lon": [
          121.00518983931201,
          121.00459322931201,
          121.0042511,
          121.00518983931201
         ],
         "mode": "lines",
         "showlegend": false,
         "type": "scattermapbox"
        },
        {
         "fill": "toself",
         "fillcolor": "#636EFA",
         "lat": [
          14.555005369039554,
          14.554843900039552,
          14.5556198,
          14.555005369039554
         ],
         "line": {
          "color": "#636EFA"
         },
         "lon": [
          121.00274132426358,
          121.00258517526359,
          121.0019444,
          121.00274132426358
         ],
         "mode": "lines",
         "showlegend": false,
         "type": "scattermapbox"
        },
        {
         "fill": "toself",
         "fillcolor": "#636EFA",
         "lat": [
          14.558037113582646,
          14.558308958582646,
          14.5588075,
          14.558037113582646
         ],
         "line": {
          "color": "#636EFA"
         },
         "lon": [
          121.0051665170192,
          121.00494337801919,
          121.0058279,
          121.0051665170192
         ],
         "mode": "lines",
         "showlegend": false,
         "type": "scattermapbox"
        },
        {
         "fill": "toself",
         "fillcolor": "#636EFA",
         "lat": [
          14.564059922128383,
          14.564727659128383,
          14.5649342,
          14.564059922128383
         ],
         "line": {
          "color": "#636EFA"
         },
         "lon": [
          121.01474003227094,
          121.01431116327095,
          121.015367,
          121.01474003227094
         ],
         "mode": "lines",
         "showlegend": false,
         "type": "scattermapbox"
        },
        {
         "fill": "toself",
         "fillcolor": "#636EFA",
         "lat": [
          14.565360980726586,
          14.565641554726588,
          14.5656855,
          14.565360980726586
         ],
         "line": {
          "color": "#636EFA"
         },
         "lon": [
          121.01841861276569,
          121.01836602176567,
          121.0193752,
          121.01841861276569
         ],
         "mode": "lines",
         "showlegend": false,
         "type": "scattermapbox"
        },
        {
         "fill": "toself",
         "fillcolor": "#636EFA",
         "lat": [
          14.572167976761925,
          14.572318791761926,
          14.5732047,
          14.572167976761925
         ],
         "line": {
          "color": "#636EFA"
         },
         "lon": [
          121.0215174231813,
          121.02099107918129,
          121.0215297,
          121.0215174231813
         ],
         "mode": "lines",
         "showlegend": false,
         "type": "scattermapbox"
        },
        {
         "fill": "toself",
         "fillcolor": "#636EFA",
         "lat": [
          14.573159681863167,
          14.573033856863166,
          14.5729641,
          14.573159681863167
         ],
         "line": {
          "color": "#636EFA"
         },
         "lon": [
          121.02071493935034,
          121.02073178135035,
          121.0197322,
          121.02071493935034
         ],
         "mode": "lines",
         "showlegend": false,
         "type": "scattermapbox"
        },
        {
         "fill": "toself",
         "fillcolor": "#636EFA",
         "lat": [
          14.575107087590956,
          14.574913425590955,
          14.575715400000002,
          14.575107087590956
         ],
         "line": {
          "color": "#636EFA"
         },
         "lon": [
          121.01777096021685,
          121.01757836921685,
          121.0169656,
          121.01777096021685
         ],
         "mode": "lines",
         "showlegend": false,
         "type": "scattermapbox"
        },
        {
         "fill": "toself",
         "fillcolor": "#636EFA",
         "lat": [
          14.56732476608833,
          14.56778871208833,
          14.5667527,
          14.56732476608833
         ],
         "line": {
          "color": "#636EFA"
         },
         "lon": [
          121.0226851290588,
          121.02331251805879,
          121.0235934,
          121.0226851290588
         ],
         "mode": "lines",
         "showlegend": false,
         "type": "scattermapbox"
        },
        {
         "fill": "toself",
         "fillcolor": "#636EFA",
         "lat": [
          14.574355784576788,
          14.573546080576786,
          14.5745078,
          14.574355784576788
         ],
         "line": {
          "color": "#636EFA"
         },
         "lon": [
          121.01312822989235,
          121.01258537289235,
          121.0120262,
          121.01312822989235
         ],
         "mode": "lines",
         "showlegend": false,
         "type": "scattermapbox"
        },
        {
         "fill": "toself",
         "fillcolor": "#636EFA",
         "lat": [
          14.560874823986438,
          14.560859759986439,
          14.5598674,
          14.560874823986438
         ],
         "line": {
          "color": "#636EFA"
         },
         "lon": [
          121.01131328346423,
          121.01233811146423,
          121.011811,
          121.01131328346423
         ],
         "mode": "lines",
         "showlegend": false,
         "type": "scattermapbox"
        },
        {
         "fill": "toself",
         "fillcolor": "#636EFA",
         "lat": [
          14.56007991534489,
          14.56045789434489,
          14.560359699999998,
          14.56007991534489
         ],
         "line": {
          "color": "#636EFA"
         },
         "lon": [
          121.01623206091026,
          121.01619759991024,
          121.0172107,
          121.01623206091026
         ],
         "mode": "lines",
         "showlegend": false,
         "type": "scattermapbox"
        },
        {
         "fill": "toself",
         "fillcolor": "#636EFA",
         "lat": [
          14.55856933078978,
          14.55893481478978,
          14.5584008,
          14.55856933078978
         ],
         "line": {
          "color": "#636EFA"
         },
         "lon": [
          121.0214270653416,
          121.0215641883416,
          121.02243190000002,
          121.0214270653416
         ],
         "mode": "lines",
         "showlegend": false,
         "type": "scattermapbox"
        },
        {
         "lat": [
          14.5584008,
          14.549455600000003,
          14.533541299999996,
          14.528526700000002,
          14.5408833,
          14.549131399999998,
          14.546640899999998,
          14.546747999999992,
          14.559379900000003,
          14.556161700000002,
          14.5584008
         ],
         "lon": [
          121.02243190000003,
          121.02941920000002,
          121.05112310000001,
          121.0572435,
          121.0560352,
          121.05589470000001,
          121.05177509999997,
          121.05454990000001,
          121.05761,
          121.04498279999999,
          121.02243190000003
         ],
         "marker": {
          "color": "#EF553B",
          "size": 14
         },
         "mode": "lines",
         "name": "Route 1",
         "type": "scattermapbox"
        },
        {
         "fill": "toself",
         "fillcolor": "#EF553B",
         "lat": [
          14.54999911748927,
          14.55048822848927,
          14.549455599999998,
          14.54999911748927
         ],
         "line": {
          "color": "#EF553B"
         },
         "lon": [
          121.028490536191,
          121.02911670019101,
          121.0294192,
          121.028490536191
         ],
         "mode": "lines",
         "showlegend": false,
         "type": "scattermapbox"
        },
        {
         "fill": "toself",
         "fillcolor": "#EF553B",
         "lat": [
          14.533372981415214,
          14.534892254415213,
          14.5335413,
          14.533372981415214
         ],
         "line": {
          "color": "#EF553B"
         },
         "lon": [
          121.0497596609573,
          121.0508736619573,
          121.0511231,
          121.0497596609573
         ],
         "mode": "lines",
         "showlegend": false,
         "type": "scattermapbox"
        },
        {
         "fill": "toself",
         "fillcolor": "#EF553B",
         "lat": [
          14.528946253580674,
          14.529374681580673,
          14.5285267,
          14.528946253580674
         ],
         "line": {
          "color": "#EF553B"
         },
         "lon": [
          121.05629446546857,
          121.05664548746856,
          121.0572435,
          121.05629446546857
         ],
         "mode": "lines",
         "showlegend": false,
         "type": "scattermapbox"
        },
        {
         "fill": "toself",
         "fillcolor": "#EF553B",
         "lat": [
          14.539930337514772,
          14.539845756514772,
          14.5408833,
          14.539930337514772
         ],
         "line": {
          "color": "#EF553B"
         },
         "lon": [
          121.05656500260805,
          121.05570004060804,
          121.0560352,
          121.05656500260805
         ],
         "mode": "lines",
         "showlegend": false,
         "type": "scattermapbox"
        },
        {
         "fill": "toself",
         "fillcolor": "#EF553B",
         "lat": [
          14.548136462550865,
          14.548126627550864,
          14.549131400000002,
          14.548136462550865
         ],
         "line": {
          "color": "#EF553B"
         },
         "lon": [
          121.05620041525523,
          121.05562304825523,
          121.0558947,
          121.05620041525523
         ],
         "mode": "lines",
         "showlegend": false,
         "type": "scattermapbox"
        },
        {
         "fill": "toself",
         "fillcolor": "#EF553B",
         "lat": [
          14.547302441306798,
          14.547014069306798,
          14.546640900000002,
          14.547302441306798
         ],
         "line": {
          "color": "#EF553B"
         },
         "lon": [
          121.0525437031974,
          121.0527180381974,
          121.0517751,
          121.0525437031974
         ],
         "mode": "lines",
         "showlegend": false,
         "type": "scattermapbox"
        },
        {
         "fill": "toself",
         "fillcolor": "#EF553B",
         "lat": [
          14.546612313341894,
          14.546806549341893,
          14.546748,
          14.546612313341894
         ],
         "line": {
          "color": "#EF553B"
         },
         "lon": [
          121.0535543925475,
          121.05354689554748,
          121.0545499,
          121.0535543925475
         ],
         "mode": "lines",
         "showlegend": false,
         "type": "scattermapbox"
        },
        {
         "fill": "toself",
         "fillcolor": "#EF553B",
         "lat": [
          14.55830090802435,
          14.558515115024349,
          14.5593799,
          14.55830090802435
         ],
         "line": {
          "color": "#EF553B"
         },
         "lon": [
          121.05781667480679,
          121.0569324418068,
          121.05761,
          121.05781667480679
         ],
         "mode": "lines",
         "showlegend": false,
         "type": "scattermapbox"
        },
        {
         "fill": "toself",
         "fillcolor": "#EF553B",
         "lat": [
          14.556850619816732,
          14.555966715816734,
          14.5561617,
          14.556850619816732
         ],
         "line": {
          "color": "#EF553B"
         },
         "lon": [
          121.04583918668263,
          121.04606446068263,
          121.0449828,
          121.04583918668263
         ],
         "mode": "lines",
         "showlegend": false,
         "type": "scattermapbox"
        },
        {
         "fill": "toself",
         "fillcolor": "#EF553B",
         "lat": [
          14.559091276412461,
          14.557512713412462,
          14.5584008,
          14.559091276412461
         ],
         "line": {
          "color": "#EF553B"
         },
         "lon": [
          121.02350537530567,
          121.02334863830568,
          121.02243190000002,
          121.02350537530567
         ],
         "mode": "lines",
         "showlegend": false,
         "type": "scattermapbox"
        },
        {
         "lat": [
          14.5584008,
          14.556076000000001,
          14.551870199999996,
          14.551445,
          14.524794100000001,
          14.540867099999996,
          14.552159400000006,
          14.562946599999998,
          14.563068100000002,
          14.555462400000003,
          14.559043600000004,
          14.560396600000002,
          14.5584008
         ],
         "lon": [
          121.02243190000003,
          121.021635,
          121.02358719999998,
          121.02606500000002,
          121.04543609999999,
          121.05031829999999,
          121.0457543,
          121.0357982,
          121.037149,
          121.0349128,
          121.02652140000004,
          121.02593960000002,
          121.02243190000003
         ],
         "marker": {
          "color": "#00CC96",
          "size": 14
         },
         "mode": "lines",
         "name": "Route 2",
         "type": "scattermapbox"
        },
        {
         "fill": "toself",
         "fillcolor": "#00CC96",
         "lat": [
          14.557049859200783,
          14.556994076200782,
          14.556076,
          14.557049859200783
         ],
         "line": {
          "color": "#00CC96"
         },
         "lon": [
          121.02187789286579,
          121.02204062886578,
          121.021635,
          121.02187789286579
         ],
         "mode": "lines",
         "showlegend": false,
         "type": "scattermapbox"
        },
        {
         "fill": "toself",
         "fillcolor": "#00CC96",
         "lat": [
          14.552708922562218,
          14.552845576562216,
          14.5518702,
          14.552708922562218
         ],
         "line": {
          "color": "#00CC96"
         },
         "lon": [
          121.02301897313882,
          121.02331337913881,
          121.0235872,
          121.02301897313882
         ],
         "mode": "lines",
         "showlegend": false,
         "type": "scattermapbox"
        },
        {
         "fill": "toself",
         "fillcolor": "#00CC96",
         "lat": [
          14.551527408626631,
          14.551700854626633,
          14.551445,
          14.551527408626631
         ],
         "line": {
          "color": "#00CC96"
         },
         "lon": [
          121.02506452452758,
          121.02509428852758,
          121.026065,
          121.02506452452758
         ],
         "mode": "lines",
         "showlegend": false,
         "type": "scattermapbox"
        },
        {
         "fill": "toself",
         "fillcolor": "#00CC96",
         "lat": [
          14.52492501174731,
          14.52628098874731,
          14.5247941,
          14.52492501174731
         ],
         "line": {
          "color": "#00CC96"
         },
         "lon": [
          121.0439153725927,
          121.0457809355927,
          121.0454361,
          121.0439153725927
         ],
         "mode": "lines",
         "showlegend": false,
         "type": "scattermapbox"
        },
        {
         "fill": "toself",
         "fillcolor": "#00CC96",
         "lat": [
          14.539739390363158,
          14.540081144363159,
          14.5408671,
          14.539739390363158
         ],
         "line": {
          "color": "#00CC96"
         },
         "lon": [
          121.05059021552388,
          121.04946510552388,
          121.0503183,
          121.05059021552388
         ],
         "mode": "lines",
         "showlegend": false,
         "type": "scattermapbox"
        },
        {
         "fill": "toself",
         "fillcolor": "#00CC96",
         "lat": [
          14.55139200219734,
          14.55107252219734,
          14.5521594,
          14.55139200219734
         ],
         "line": {
          "color": "#00CC96"
         },
         "lon": [
          121.04652425105571,
          121.0457337900557,
          121.0457543,
          121.04652425105571
         ],
         "mode": "lines",
         "showlegend": false,
         "type": "scattermapbox"
        },
        {
         "fill": "toself",
         "fillcolor": "#00CC96",
         "lat": [
          14.56256021539664,
          14.56186328839664,
          14.562946599999998,
          14.56256021539664
         ],
         "line": {
          "color": "#00CC96"
         },
         "lon": [
          121.03685398371925,
          121.03609887971925,
          121.0357982,
          121.03685398371925
         ],
         "mode": "lines",
         "showlegend": false,
         "type": "scattermapbox"
        },
        {
         "fill": "toself",
         "fillcolor": "#00CC96",
         "lat": [
          14.562931236961505,
          14.563025792961506,
          14.5630681,
          14.562931236961505
         ],
         "line": {
          "color": "#00CC96"
         },
         "lon": [
          121.03615727332307,
          121.03614876832306,
          121.037149,
          121.03615727332307
         ],
         "mode": "lines",
         "showlegend": false,
         "type": "scattermapbox"
        },
        {
         "fill": "toself",
         "fillcolor": "#00CC96",
         "lat": [
          14.556500058810284,
          14.556343524810286,
          14.5554624,
          14.556500058810284
         ],
         "line": {
          "color": "#00CC96"
         },
         "lon": [
          121.03492867735895,
          121.03546107635896,
          121.0349128,
          121.03492867735895
         ],
         "mode": "lines",
         "showlegend": false,
         "type": "scattermapbox"
        },
        {
         "fill": "toself",
         "fillcolor": "#00CC96",
         "lat": [
          14.558944779707193,
          14.558357381707197,
          14.5590436,
          14.558944779707193
         ],
         "line": {
          "color": "#00CC96"
         },
         "lon": [
          121.02756648577129,
          121.02731580177128,
          121.02652140000002,
          121.02756648577129
         ],
         "mode": "lines",
         "showlegend": false,
         "type": "scattermapbox"
        },
        {
         "fill": "toself",
         "fillcolor": "#00CC96",
         "lat": [
          14.55949829627648,
          14.559457570276479,
          14.5603966,
          14.55949829627648
         ],
         "line": {
          "color": "#00CC96"
         },
         "lon": [
          121.02638198848099,
          121.02628727848098,
          121.0259396,
          121.02638198848099
         ],
         "mode": "lines",
         "showlegend": false,
         "type": "scattermapbox"
        },
        {
         "fill": "toself",
         "fillcolor": "#00CC96",
         "lat": [
          14.559018101172251,
          14.558772562172253,
          14.5584008,
          14.559018101172251
         ],
         "line": {
          "color": "#00CC96"
         },
         "lon": [
          121.02323120660857,
          121.02337091260857,
          121.02243190000002,
          121.02323120660857
         ],
         "mode": "lines",
         "showlegend": false,
         "type": "scattermapbox"
        },
        {
         "lat": [
          14.5584008
         ],
         "lon": [
          121.02243190000003
         ],
         "marker": {
          "color": "red",
          "size": 15
         },
         "mode": "markers+text+lines",
         "name": "Warehouse",
         "text": [
          "Warehouse"
         ],
         "textposition": "bottom right",
         "type": "scattermapbox"
        }
       ],
       "layout": {
        "height": 800,
        "hovermode": "closest",
        "mapbox": {
         "accesstoken": "pk.eyJ1IjoicmF2ZW5kaWNvIiwiYSI6ImNrOXNtMTQwNDE1NXEzZ3J0ZXBzbGFjajYifQ.reAoc-tEDpfezf6ZHJiyZQ",
         "center": {
          "lat": 14.554662137837838,
          "lon": 121.02965869459462
         },
         "zoom": 13
        },
        "template": {
         "data": {
          "bar": [
           {
            "error_x": {
             "color": "#2a3f5f"
            },
            "error_y": {
             "color": "#2a3f5f"
            },
            "marker": {
             "line": {
              "color": "#E5ECF6",
              "width": 0.5
             },
             "pattern": {
              "fillmode": "overlay",
              "size": 10,
              "solidity": 0.2
             }
            },
            "type": "bar"
           }
          ],
          "barpolar": [
           {
            "marker": {
             "line": {
              "color": "#E5ECF6",
              "width": 0.5
             },
             "pattern": {
              "fillmode": "overlay",
              "size": 10,
              "solidity": 0.2
             }
            },
            "type": "barpolar"
           }
          ],
          "carpet": [
           {
            "aaxis": {
             "endlinecolor": "#2a3f5f",
             "gridcolor": "white",
             "linecolor": "white",
             "minorgridcolor": "white",
             "startlinecolor": "#2a3f5f"
            },
            "baxis": {
             "endlinecolor": "#2a3f5f",
             "gridcolor": "white",
             "linecolor": "white",
             "minorgridcolor": "white",
             "startlinecolor": "#2a3f5f"
            },
            "type": "carpet"
           }
          ],
          "choropleth": [
           {
            "colorbar": {
             "outlinewidth": 0,
             "ticks": ""
            },
            "type": "choropleth"
           }
          ],
          "contour": [
           {
            "colorbar": {
             "outlinewidth": 0,
             "ticks": ""
            },
            "colorscale": [
             [
              0,
              "#0d0887"
             ],
             [
              0.1111111111111111,
              "#46039f"
             ],
             [
              0.2222222222222222,
              "#7201a8"
             ],
             [
              0.3333333333333333,
              "#9c179e"
             ],
             [
              0.4444444444444444,
              "#bd3786"
             ],
             [
              0.5555555555555556,
              "#d8576b"
             ],
             [
              0.6666666666666666,
              "#ed7953"
             ],
             [
              0.7777777777777778,
              "#fb9f3a"
             ],
             [
              0.8888888888888888,
              "#fdca26"
             ],
             [
              1,
              "#f0f921"
             ]
            ],
            "type": "contour"
           }
          ],
          "contourcarpet": [
           {
            "colorbar": {
             "outlinewidth": 0,
             "ticks": ""
            },
            "type": "contourcarpet"
           }
          ],
          "heatmap": [
           {
            "colorbar": {
             "outlinewidth": 0,
             "ticks": ""
            },
            "colorscale": [
             [
              0,
              "#0d0887"
             ],
             [
              0.1111111111111111,
              "#46039f"
             ],
             [
              0.2222222222222222,
              "#7201a8"
             ],
             [
              0.3333333333333333,
              "#9c179e"
             ],
             [
              0.4444444444444444,
              "#bd3786"
             ],
             [
              0.5555555555555556,
              "#d8576b"
             ],
             [
              0.6666666666666666,
              "#ed7953"
             ],
             [
              0.7777777777777778,
              "#fb9f3a"
             ],
             [
              0.8888888888888888,
              "#fdca26"
             ],
             [
              1,
              "#f0f921"
             ]
            ],
            "type": "heatmap"
           }
          ],
          "heatmapgl": [
           {
            "colorbar": {
             "outlinewidth": 0,
             "ticks": ""
            },
            "colorscale": [
             [
              0,
              "#0d0887"
             ],
             [
              0.1111111111111111,
              "#46039f"
             ],
             [
              0.2222222222222222,
              "#7201a8"
             ],
             [
              0.3333333333333333,
              "#9c179e"
             ],
             [
              0.4444444444444444,
              "#bd3786"
             ],
             [
              0.5555555555555556,
              "#d8576b"
             ],
             [
              0.6666666666666666,
              "#ed7953"
             ],
             [
              0.7777777777777778,
              "#fb9f3a"
             ],
             [
              0.8888888888888888,
              "#fdca26"
             ],
             [
              1,
              "#f0f921"
             ]
            ],
            "type": "heatmapgl"
           }
          ],
          "histogram": [
           {
            "marker": {
             "pattern": {
              "fillmode": "overlay",
              "size": 10,
              "solidity": 0.2
             }
            },
            "type": "histogram"
           }
          ],
          "histogram2d": [
           {
            "colorbar": {
             "outlinewidth": 0,
             "ticks": ""
            },
            "colorscale": [
             [
              0,
              "#0d0887"
             ],
             [
              0.1111111111111111,
              "#46039f"
             ],
             [
              0.2222222222222222,
              "#7201a8"
             ],
             [
              0.3333333333333333,
              "#9c179e"
             ],
             [
              0.4444444444444444,
              "#bd3786"
             ],
             [
              0.5555555555555556,
              "#d8576b"
             ],
             [
              0.6666666666666666,
              "#ed7953"
             ],
             [
              0.7777777777777778,
              "#fb9f3a"
             ],
             [
              0.8888888888888888,
              "#fdca26"
             ],
             [
              1,
              "#f0f921"
             ]
            ],
            "type": "histogram2d"
           }
          ],
          "histogram2dcontour": [
           {
            "colorbar": {
             "outlinewidth": 0,
             "ticks": ""
            },
            "colorscale": [
             [
              0,
              "#0d0887"
             ],
             [
              0.1111111111111111,
              "#46039f"
             ],
             [
              0.2222222222222222,
              "#7201a8"
             ],
             [
              0.3333333333333333,
              "#9c179e"
             ],
             [
              0.4444444444444444,
              "#bd3786"
             ],
             [
              0.5555555555555556,
              "#d8576b"
             ],
             [
              0.6666666666666666,
              "#ed7953"
             ],
             [
              0.7777777777777778,
              "#fb9f3a"
             ],
             [
              0.8888888888888888,
              "#fdca26"
             ],
             [
              1,
              "#f0f921"
             ]
            ],
            "type": "histogram2dcontour"
           }
          ],
          "mesh3d": [
           {
            "colorbar": {
             "outlinewidth": 0,
             "ticks": ""
            },
            "type": "mesh3d"
           }
          ],
          "parcoords": [
           {
            "line": {
             "colorbar": {
              "outlinewidth": 0,
              "ticks": ""
             }
            },
            "type": "parcoords"
           }
          ],
          "pie": [
           {
            "automargin": true,
            "type": "pie"
           }
          ],
          "scatter": [
           {
            "fillpattern": {
             "fillmode": "overlay",
             "size": 10,
             "solidity": 0.2
            },
            "type": "scatter"
           }
          ],
          "scatter3d": [
           {
            "line": {
             "colorbar": {
              "outlinewidth": 0,
              "ticks": ""
             }
            },
            "marker": {
             "colorbar": {
              "outlinewidth": 0,
              "ticks": ""
             }
            },
            "type": "scatter3d"
           }
          ],
          "scattercarpet": [
           {
            "marker": {
             "colorbar": {
              "outlinewidth": 0,
              "ticks": ""
             }
            },
            "type": "scattercarpet"
           }
          ],
          "scattergeo": [
           {
            "marker": {
             "colorbar": {
              "outlinewidth": 0,
              "ticks": ""
             }
            },
            "type": "scattergeo"
           }
          ],
          "scattergl": [
           {
            "marker": {
             "colorbar": {
              "outlinewidth": 0,
              "ticks": ""
             }
            },
            "type": "scattergl"
           }
          ],
          "scattermapbox": [
           {
            "marker": {
             "colorbar": {
              "outlinewidth": 0,
              "ticks": ""
             }
            },
            "type": "scattermapbox"
           }
          ],
          "scatterpolar": [
           {
            "marker": {
             "colorbar": {
              "outlinewidth": 0,
              "ticks": ""
             }
            },
            "type": "scatterpolar"
           }
          ],
          "scatterpolargl": [
           {
            "marker": {
             "colorbar": {
              "outlinewidth": 0,
              "ticks": ""
             }
            },
            "type": "scatterpolargl"
           }
          ],
          "scatterternary": [
           {
            "marker": {
             "colorbar": {
              "outlinewidth": 0,
              "ticks": ""
             }
            },
            "type": "scatterternary"
           }
          ],
          "surface": [
           {
            "colorbar": {
             "outlinewidth": 0,
             "ticks": ""
            },
            "colorscale": [
             [
              0,
              "#0d0887"
             ],
             [
              0.1111111111111111,
              "#46039f"
             ],
             [
              0.2222222222222222,
              "#7201a8"
             ],
             [
              0.3333333333333333,
              "#9c179e"
             ],
             [
              0.4444444444444444,
              "#bd3786"
             ],
             [
              0.5555555555555556,
              "#d8576b"
             ],
             [
              0.6666666666666666,
              "#ed7953"
             ],
             [
              0.7777777777777778,
              "#fb9f3a"
             ],
             [
              0.8888888888888888,
              "#fdca26"
             ],
             [
              1,
              "#f0f921"
             ]
            ],
            "type": "surface"
           }
          ],
          "table": [
           {
            "cells": {
             "fill": {
              "color": "#EBF0F8"
             },
             "line": {
              "color": "white"
             }
            },
            "header": {
             "fill": {
              "color": "#C8D4E3"
             },
             "line": {
              "color": "white"
             }
            },
            "type": "table"
           }
          ]
         },
         "layout": {
          "annotationdefaults": {
           "arrowcolor": "#2a3f5f",
           "arrowhead": 0,
           "arrowwidth": 1
          },
          "autotypenumbers": "strict",
          "coloraxis": {
           "colorbar": {
            "outlinewidth": 0,
            "ticks": ""
           }
          },
          "colorscale": {
           "diverging": [
            [
             0,
             "#8e0152"
            ],
            [
             0.1,
             "#c51b7d"
            ],
            [
             0.2,
             "#de77ae"
            ],
            [
             0.3,
             "#f1b6da"
            ],
            [
             0.4,
             "#fde0ef"
            ],
            [
             0.5,
             "#f7f7f7"
            ],
            [
             0.6,
             "#e6f5d0"
            ],
            [
             0.7,
             "#b8e186"
            ],
            [
             0.8,
             "#7fbc41"
            ],
            [
             0.9,
             "#4d9221"
            ],
            [
             1,
             "#276419"
            ]
           ],
           "sequential": [
            [
             0,
             "#0d0887"
            ],
            [
             0.1111111111111111,
             "#46039f"
            ],
            [
             0.2222222222222222,
             "#7201a8"
            ],
            [
             0.3333333333333333,
             "#9c179e"
            ],
            [
             0.4444444444444444,
             "#bd3786"
            ],
            [
             0.5555555555555556,
             "#d8576b"
            ],
            [
             0.6666666666666666,
             "#ed7953"
            ],
            [
             0.7777777777777778,
             "#fb9f3a"
            ],
            [
             0.8888888888888888,
             "#fdca26"
            ],
            [
             1,
             "#f0f921"
            ]
           ],
           "sequentialminus": [
            [
             0,
             "#0d0887"
            ],
            [
             0.1111111111111111,
             "#46039f"
            ],
            [
             0.2222222222222222,
             "#7201a8"
            ],
            [
             0.3333333333333333,
             "#9c179e"
            ],
            [
             0.4444444444444444,
             "#bd3786"
            ],
            [
             0.5555555555555556,
             "#d8576b"
            ],
            [
             0.6666666666666666,
             "#ed7953"
            ],
            [
             0.7777777777777778,
             "#fb9f3a"
            ],
            [
             0.8888888888888888,
             "#fdca26"
            ],
            [
             1,
             "#f0f921"
            ]
           ]
          },
          "colorway": [
           "#636efa",
           "#EF553B",
           "#00cc96",
           "#ab63fa",
           "#FFA15A",
           "#19d3f3",
           "#FF6692",
           "#B6E880",
           "#FF97FF",
           "#FECB52"
          ],
          "font": {
           "color": "#2a3f5f"
          },
          "geo": {
           "bgcolor": "white",
           "lakecolor": "white",
           "landcolor": "#E5ECF6",
           "showlakes": true,
           "showland": true,
           "subunitcolor": "white"
          },
          "hoverlabel": {
           "align": "left"
          },
          "hovermode": "closest",
          "mapbox": {
           "style": "light"
          },
          "paper_bgcolor": "white",
          "plot_bgcolor": "#E5ECF6",
          "polar": {
           "angularaxis": {
            "gridcolor": "white",
            "linecolor": "white",
            "ticks": ""
           },
           "bgcolor": "#E5ECF6",
           "radialaxis": {
            "gridcolor": "white",
            "linecolor": "white",
            "ticks": ""
           }
          },
          "scene": {
           "xaxis": {
            "backgroundcolor": "#E5ECF6",
            "gridcolor": "white",
            "gridwidth": 2,
            "linecolor": "white",
            "showbackground": true,
            "ticks": "",
            "zerolinecolor": "white"
           },
           "yaxis": {
            "backgroundcolor": "#E5ECF6",
            "gridcolor": "white",
            "gridwidth": 2,
            "linecolor": "white",
            "showbackground": true,
            "ticks": "",
            "zerolinecolor": "white"
           },
           "zaxis": {
            "backgroundcolor": "#E5ECF6",
            "gridcolor": "white",
            "gridwidth": 2,
            "linecolor": "white",
            "showbackground": true,
            "ticks": "",
            "zerolinecolor": "white"
           }
          },
          "shapedefaults": {
           "line": {
            "color": "#2a3f5f"
           }
          },
          "ternary": {
           "aaxis": {
            "gridcolor": "white",
            "linecolor": "white",
            "ticks": ""
           },
           "baxis": {
            "gridcolor": "white",
            "linecolor": "white",
            "ticks": ""
           },
           "bgcolor": "#E5ECF6",
           "caxis": {
            "gridcolor": "white",
            "linecolor": "white",
            "ticks": ""
           }
          },
          "title": {
           "x": 0.05
          },
          "xaxis": {
           "automargin": true,
           "gridcolor": "white",
           "linecolor": "white",
           "ticks": "",
           "title": {
            "standoff": 15
           },
           "zerolinecolor": "white",
           "zerolinewidth": 2
          },
          "yaxis": {
           "automargin": true,
           "gridcolor": "white",
           "linecolor": "white",
           "ticks": "",
           "title": {
            "standoff": 15
           },
           "zerolinecolor": "white",
           "zerolinewidth": 2
          }
         }
        },
        "width": 1000
       }
      }
     },
     "metadata": {},
     "output_type": "display_data"
    }
   ],
   "source": [
    "fig = go.Figure()\n",
    "\n",
    "fig.add_trace(go.Scattermapbox(\n",
    "            mode = \"markers+text\",\n",
    "            lon = jabee.loc[jabee.Hub_Flg == '0'].geometry.x, \n",
    "            lat = jabee.loc[jabee.Hub_Flg == '0'].geometry.y,\n",
    "            marker = {\n",
    "                'color': 'yellow',\n",
    "                'size': 10, \n",
    "                        # 'symbol': [\"circle\"]}, #https://labs.mapbox.com/maki-icons/\n",
    "            },\n",
    "            name = 'Destinations',\n",
    "            showlegend=False,\n",
    "            text = np.array(jabee.loc[jabee.Hub_Flg == '0'].index.astype(str)),\n",
    "            textposition = \"bottom right\"))\n",
    "\n",
    "for idx, route in enumerate(routes_t):\n",
    "    fig.add_trace(go.Scattermapbox(\n",
    "            mode = \"lines\",\n",
    "            lat = jabee.loc[route].geometry.y,\n",
    "            lon = jabee.loc[route].geometry.x,\n",
    "            marker=go.scattermapbox.Marker(\n",
    "                    size=14,\n",
    "                    color = colors[idx],\n",
    "                ),\n",
    "                name = f'Route {idx}'\n",
    "            # marker = {'size': 15, 'color': colors[idx]}\n",
    "            ))\n",
    "\n",
    "    for i in range(len(route)-1):\n",
    "        A = np.array(jabee.loc[route[i], ['Longitude', 'Latitude']])\n",
    "        B = np.array(jabee.loc[route[i+1], ['Longitude', 'Latitude']])\n",
    "        S, T = compute_arrow_coords(A, B)\n",
    "        fig.add_trace(go.Scattermapbox(lon = [S[0], T[0], B[0], S[0]], \n",
    "                                lat =[S[1], T[1], B[1], S[1]], \n",
    "                                mode='lines', \n",
    "                                fill='toself', \n",
    "                                fillcolor=colors[idx], \n",
    "                                line_color=colors[idx],\n",
    "                                showlegend=False\n",
    "                                ))\n",
    "\n",
    "    # destinations = route[1:-1]\n",
    "    # if len(destinations)>1:\n",
    "    #     fig.add_trace(go.Scattermapbox(\n",
    "    #                 mode = \"markers+text\",\n",
    "    #                 lon = jabee.loc[destinations].geometry.x, \n",
    "    #                 lat = jabee.loc[destinations].geometry.y,\n",
    "    #                 marker = {\n",
    "    #                     'color': colors[idx],\n",
    "    #                     'size': 10, \n",
    "    #                             # 'symbol': [\"circle\"]}, #https://labs.mapbox.com/maki-icons/\n",
    "    #                 },\n",
    "    #                 showlegend=False,\n",
    "    #                 text = np.array(jabee.loc[destinations].index.astype(str)),\n",
    "    #                 textposition = \"bottom right\"))\n",
    "\n",
    "\n",
    "\n",
    "fig.add_trace(go.Scattermapbox(\n",
    "                mode = \"markers+text+lines\",\n",
    "                lon = [jabee.iloc[data['depot']].geometry.x], \n",
    "                lat = [jabee.iloc[data['depot']].geometry.y],\n",
    "                marker = {\n",
    "                    'color': 'red',\n",
    "                    'size': 15, \n",
    "                    # 'symbol' : 'warehouse',\n",
    "                            # 'symbol': [\"circle\"]}, #https://labs.mapbox.com/maki-icons/\n",
    "                },\n",
    "                text = [\"Warehouse\"],\n",
    "                name = 'Warehouse',\n",
    "                textposition = \"bottom right\"))\n",
    "\n",
    "\n",
    "fig.update_layout(\n",
    "    height = 800, \n",
    "    width = 1000, \n",
    "    hovermode='closest',\n",
    "    mapbox=dict(\n",
    "        accesstoken=mapbox_token,\n",
    "        # bearing=0,\n",
    "        center=go.layout.mapbox.Center(\n",
    "            lat=jabee.geometry.y.mean(),\n",
    "            lon=jabee.geometry.x.mean(),\n",
    "        ),\n",
    "        # style = 'outdoors',\n",
    "        # pitch=0,\n",
    "        zoom=13\n",
    "    )\n",
    ")\n",
    "\n",
    "fig.show()"
   ]
  },
  {
   "cell_type": "code",
   "execution_count": 190,
   "id": "2e602195",
   "metadata": {},
   "outputs": [
    {
     "data": {
      "application/vnd.plotly.v1+json": {
       "config": {
        "plotlyServerURL": "https://plot.ly"
       },
       "data": [
        {
         "lat": [
          14.556161700000002,
          14.544866099999998,
          14.559043600000004,
          14.555619800000002,
          14.556076000000001,
          14.5598674,
          14.5745078,
          14.564934199999996,
          14.563068100000002,
          14.558807499999997,
          14.566752699999999,
          14.556639699999995,
          14.555462400000003,
          14.565685499999997,
          14.549455600000003,
          14.5729641,
          14.540946900000002,
          14.551870199999996,
          14.562946599999998,
          14.551239800000001,
          14.560359699999996,
          14.533541299999996,
          14.528526700000002,
          14.5408833,
          14.524794100000001,
          14.559379900000003,
          14.540867099999996,
          14.552159400000006,
          14.546747999999992,
          14.546640899999998,
          14.553389099999993,
          14.551445,
          14.5757154,
          14.560396600000002,
          14.549131399999998,
          14.573204700000002
         ],
         "lon": [
          121.04498279999999,
          121.01135829999994,
          121.02652140000004,
          121.0019444,
          121.021635,
          121.011811,
          121.01202619999997,
          121.01536699999998,
          121.037149,
          121.00582789999997,
          121.02359340000001,
          121.01770159999995,
          121.0349128,
          121.0193752,
          121.02941920000002,
          121.01973219999998,
          121.01912690000002,
          121.02358719999998,
          121.0357982,
          121.0253682,
          121.0172107,
          121.05112310000001,
          121.0572435,
          121.0560352,
          121.04543609999999,
          121.05761,
          121.05031829999999,
          121.0457543,
          121.05454990000001,
          121.05177509999997,
          121.00425109999999,
          121.02606500000002,
          121.0169656,
          121.02593960000002,
          121.05589470000001,
          121.0215297
         ],
         "marker": {
          "color": "yellow",
          "size": 10
         },
         "mode": "markers+text",
         "name": "Destinations",
         "showlegend": false,
         "text": [
          "0",
          "1",
          "2",
          "3",
          "5",
          "6",
          "7",
          "8",
          "9",
          "10",
          "11",
          "12",
          "13",
          "14",
          "15",
          "16",
          "17",
          "18",
          "19",
          "20",
          "21",
          "22",
          "23",
          "24",
          "25",
          "26",
          "27",
          "28",
          "29",
          "30",
          "31",
          "32",
          "33",
          "34",
          "35",
          "36"
         ],
         "textposition": "bottom right",
         "type": "scattermapbox"
        },
        {
         "lat": [
          14.5584008,
          14.559043600000004,
          14.556161700000002,
          14.559379900000003,
          14.564934199999996,
          14.565685499999997,
          14.573204700000002,
          14.5729641,
          14.5757154,
          14.5745078,
          14.566752699999999,
          14.562946599999998,
          14.563068100000002,
          14.555462400000003,
          14.560396600000002,
          14.5584008
         ],
         "lon": [
          121.02243190000003,
          121.02652140000004,
          121.04498279999999,
          121.05761,
          121.01536699999998,
          121.0193752,
          121.0215297,
          121.01973219999998,
          121.0169656,
          121.01202619999997,
          121.02359340000001,
          121.0357982,
          121.037149,
          121.0349128,
          121.02593960000002,
          121.02243190000003
         ],
         "marker": {
          "color": "#636EFA",
          "size": 14
         },
         "mode": "lines",
         "name": "Route 0",
         "type": "scattermapbox"
        },
        {
         "fill": "toself",
         "fillcolor": "#636EFA",
         "lat": [
          14.55874519093718,
          14.55903145593718,
          14.5590436,
          14.55874519093718
         ],
         "line": {
          "color": "#636EFA"
         },
         "lon": [
          121.02555602696135,
          121.02551103096134,
          121.02652140000002,
          121.02555602696135
         ],
         "mode": "lines",
         "showlegend": false,
         "type": "scattermapbox"
        },
        {
         "fill": "toself",
         "fillcolor": "#636EFA",
         "lat": [
          14.555669787147954,
          14.556962085147953,
          14.5561617,
          14.555669787147954
         ],
         "line": {
          "color": "#636EFA"
         },
         "lon": [
          121.04389389948709,
          121.0440956324871,
          121.0449828,
          121.04389389948709
         ],
         "mode": "lines",
         "showlegend": false,
         "type": "scattermapbox"
        },
        {
         "fill": "toself",
         "fillcolor": "#636EFA",
         "lat": [
          14.558690980183268,
          14.559574884183267,
          14.5593799,
          14.558690980183268
         ],
         "line": {
          "color": "#636EFA"
         },
         "lon": [
          121.05675361331737,
          121.05652833931737,
          121.05761,
          121.05675361331737
         ],
         "mode": "lines",
         "showlegend": false,
         "type": "scattermapbox"
        },
        {
         "fill": "toself",
         "fillcolor": "#636EFA",
         "lat": [
          14.56628234252961,
          14.56332533252961,
          14.5649342,
          14.56628234252961
         ],
         "line": {
          "color": "#636EFA"
         },
         "lon": [
          121.01655286690202,
          121.016164065902,
          121.015367,
          121.01655286690202
         ],
         "mode": "lines",
         "showlegend": false,
         "type": "scattermapbox"
        },
        {
         "fill": "toself",
         "fillcolor": "#636EFA",
         "lat": [
          14.565360980726586,
          14.565641554726588,
          14.5656855,
          14.565360980726586
         ],
         "line": {
          "color": "#636EFA"
         },
         "lon": [
          121.01841861276569,
          121.01836602176567,
          121.0193752,
          121.01841861276569
         ],
         "mode": "lines",
         "showlegend": false,
         "type": "scattermapbox"
        },
        {
         "fill": "toself",
         "fillcolor": "#636EFA",
         "lat": [
          14.572167976761925,
          14.572318791761926,
          14.5732047,
          14.572167976761925
         ],
         "line": {
          "color": "#636EFA"
         },
         "lon": [
          121.0215174231813,
          121.02099107918129,
          121.0215297,
          121.0215174231813
         ],
         "mode": "lines",
         "showlegend": false,
         "type": "scattermapbox"
        },
        {
         "fill": "toself",
         "fillcolor": "#636EFA",
         "lat": [
          14.573159681863167,
          14.573033856863166,
          14.5729641,
          14.573159681863167
         ],
         "line": {
          "color": "#636EFA"
         },
         "lon": [
          121.02071493935034,
          121.02073178135035,
          121.0197322,
          121.02071493935034
         ],
         "mode": "lines",
         "showlegend": false,
         "type": "scattermapbox"
        },
        {
         "fill": "toself",
         "fillcolor": "#636EFA",
         "lat": [
          14.575107087590956,
          14.574913425590955,
          14.575715400000002,
          14.575107087590956
         ],
         "line": {
          "color": "#636EFA"
         },
         "lon": [
          121.01777096021685,
          121.01757836921685,
          121.0169656,
          121.01777096021685
         ],
         "mode": "lines",
         "showlegend": false,
         "type": "scattermapbox"
        },
        {
         "fill": "toself",
         "fillcolor": "#636EFA",
         "lat": [
          14.574918167555388,
          14.574572409555387,
          14.5745078,
          14.574918167555388
         ],
         "line": {
          "color": "#636EFA"
         },
         "lon": [
          121.01295532433662,
          121.0130398563366,
          121.0120262,
          121.01295532433662
         ],
         "mode": "lines",
         "showlegend": false,
         "type": "scattermapbox"
        },
        {
         "fill": "toself",
         "fillcolor": "#636EFA",
         "lat": [
          14.566904715423211,
          14.567714419423213,
          14.5667527,
          14.566904715423211
         ],
         "line": {
          "color": "#636EFA"
         },
         "lon": [
          121.02249137010764,
          121.02303422710764,
          121.0235934,
          121.02249137010764
         ],
         "mode": "lines",
         "showlegend": false,
         "type": "scattermapbox"
        },
        {
         "fill": "toself",
         "fillcolor": "#636EFA",
         "lat": [
          14.562817143982137,
          14.563671479982137,
          14.562946599999998,
          14.562817143982137
         ],
         "line": {
          "color": "#636EFA"
         },
         "lon": [
          121.03471033076326,
          121.03497675776327,
          121.0357982,
          121.03471033076326
         ],
         "mode": "lines",
         "showlegend": false,
         "type": "scattermapbox"
        },
        {
         "fill": "toself",
         "fillcolor": "#636EFA",
         "lat": [
          14.562931236961505,
          14.563025792961506,
          14.5630681,
          14.562931236961505
         ],
         "line": {
          "color": "#636EFA"
         },
         "lon": [
          121.03615727332307,
          121.03614876832306,
          121.037149,
          121.03615727332307
         ],
         "mode": "lines",
         "showlegend": false,
         "type": "scattermapbox"
        },
        {
         "fill": "toself",
         "fillcolor": "#636EFA",
         "lat": [
          14.556500058810284,
          14.556343524810286,
          14.5554624,
          14.556500058810284
         ],
         "line": {
          "color": "#636EFA"
         },
         "lon": [
          121.03492867735895,
          121.03546107635896,
          121.0349128,
          121.03492867735895
         ],
         "mode": "lines",
         "showlegend": false,
         "type": "scattermapbox"
        },
        {
         "fill": "toself",
         "fillcolor": "#636EFA",
         "lat": [
          14.560228822724108,
          14.55960069872411,
          14.5603966,
          14.560228822724108
         ],
         "line": {
          "color": "#636EFA"
         },
         "lon": [
          121.02698855661461,
          121.02664316261462,
          121.0259396,
          121.02698855661461
         ],
         "mode": "lines",
         "showlegend": false,
         "type": "scattermapbox"
        },
        {
         "fill": "toself",
         "fillcolor": "#636EFA",
         "lat": [
          14.559018101172251,
          14.558772562172253,
          14.5584008,
          14.559018101172251
         ],
         "line": {
          "color": "#636EFA"
         },
         "lon": [
          121.02323120660857,
          121.02337091260857,
          121.02243190000002,
          121.02323120660857
         ],
         "mode": "lines",
         "showlegend": false,
         "type": "scattermapbox"
        },
        {
         "lat": [
          14.5584008,
          14.551445,
          14.551239800000001,
          14.551870199999996,
          14.540946900000002,
          14.540867099999996,
          14.544866099999998,
          14.553389099999993,
          14.555619800000002,
          14.558807499999997,
          14.5598674,
          14.556639699999995,
          14.560359699999996,
          14.5584008
         ],
         "lon": [
          121.02243190000003,
          121.02606500000002,
          121.0253682,
          121.02358719999998,
          121.01912690000002,
          121.05031829999999,
          121.01135829999994,
          121.00425109999999,
          121.0019444,
          121.00582789999997,
          121.011811,
          121.01770159999995,
          121.0172107,
          121.02243190000003
         ],
         "marker": {
          "color": "#EF553B",
          "size": 14
         },
         "mode": "lines",
         "name": "Route 1",
         "type": "scattermapbox"
        },
        {
         "fill": "toself",
         "fillcolor": "#EF553B",
         "lat": [
          14.552204217899934,
          14.552458534899934,
          14.551445,
          14.552204217899934
         ],
         "line": {
          "color": "#EF553B"
         },
         "lon": [
          121.02535858169068,
          121.02584548769067,
          121.026065,
          121.02535858169068
         ],
         "mode": "lines",
         "showlegend": false,
         "type": "scattermapbox"
        },
        {
         "fill": "toself",
         "fillcolor": "#EF553B",
         "lat": [
          14.551546682254921,
          14.551497906254921,
          14.5512398,
          14.551546682254921
         ],
         "line": {
          "color": "#EF553B"
         },
         "lon": [
          121.0263202869904,
          121.0263346509904,
          121.0253682,
          121.0263202869904
         ],
         "mode": "lines",
         "showlegend": false,
         "type": "scattermapbox"
        },
        {
         "fill": "toself",
         "fillcolor": "#EF553B",
         "lat": [
          14.551598862270199,
          14.551474192270197,
          14.5518702,
          14.551598862270199
         ],
         "line": {
          "color": "#EF553B"
         },
         "lon": [
          121.02455195297807,
          121.02450782497806,
          121.0235872,
          121.02455195297807
         ],
         "mode": "lines",
         "showlegend": false,
         "type": "scattermapbox"
        },
        {
         "fill": "toself",
         "fillcolor": "#EF553B",
         "lat": [
          14.54202880445578,
          14.541716583455782,
          14.540946900000002,
          14.54202880445578
         ],
         "line": {
          "color": "#EF553B"
         },
         "lon": [
          121.01912261300612,
          121.01988724400613,
          121.0191269,
          121.01912261300612
         ],
         "mode": "lines",
         "showlegend": false,
         "type": "scattermapbox"
        },
        {
         "fill": "toself",
         "fillcolor": "#EF553B",
         "lat": [
          14.539777959389134,
          14.541961357389134,
          14.5408671,
          14.539777959389134
         ],
         "line": {
          "color": "#EF553B"
         },
         "lon": [
          121.04931551027269,
          121.04932109627268,
          121.0503183,
          121.04931551027269
         ],
         "mode": "lines",
         "showlegend": false,
         "type": "scattermapbox"
        },
        {
         "fill": "toself",
         "fillcolor": "#EF553B",
         "lat": [
          14.54612759274109,
          14.543400392741088,
          14.5448661,
          14.54612759274109
         ],
         "line": {
          "color": "#EF553B"
         },
         "lon": [
          121.01249303839512,
          121.01221310839512,
          121.01135829999998,
          121.01249303839512
         ],
         "mode": "lines",
         "showlegend": false,
         "type": "scattermapbox"
        },
        {
         "fill": "toself",
         "fillcolor": "#EF553B",
         "lat": [
          14.552869839049581,
          14.552372335049583,
          14.5533891,
          14.552869839049581
         ],
         "line": {
          "color": "#EF553B"
         },
         "lon": [
          121.00518983931201,
          121.00459322931201,
          121.0042511,
          121.00518983931201
         ],
         "mode": "lines",
         "showlegend": false,
         "type": "scattermapbox"
        },
        {
         "fill": "toself",
         "fillcolor": "#EF553B",
         "lat": [
          14.555005369039554,
          14.554843900039552,
          14.5556198,
          14.555005369039554
         ],
         "line": {
          "color": "#EF553B"
         },
         "lon": [
          121.00274132426358,
          121.00258517526359,
          121.0019444,
          121.00274132426358
         ],
         "mode": "lines",
         "showlegend": false,
         "type": "scattermapbox"
        },
        {
         "fill": "toself",
         "fillcolor": "#EF553B",
         "lat": [
          14.558037113582646,
          14.558308958582646,
          14.5588075,
          14.558037113582646
         ],
         "line": {
          "color": "#EF553B"
         },
         "lon": [
          121.0051665170192,
          121.00494337801919,
          121.0058279,
          121.0051665170192
         ],
         "mode": "lines",
         "showlegend": false,
         "type": "scattermapbox"
        },
        {
         "fill": "toself",
         "fillcolor": "#EF553B",
         "lat": [
          14.5594835583965,
          14.5599023753965,
          14.5598674,
          14.5594835583965
         ],
         "line": {
          "color": "#EF553B"
         },
         "lon": [
          121.01086342747315,
          121.01078923447317,
          121.011811,
          121.01086342747315
         ],
         "mode": "lines",
         "showlegend": false,
         "type": "scattermapbox"
        },
        {
         "fill": "toself",
         "fillcolor": "#EF553B",
         "lat": [
          14.556914060671836,
          14.557326402671837,
          14.5566397,
          14.556914060671836
         ],
         "line": {
          "color": "#EF553B"
         },
         "lon": [
          121.0167116531272,
          121.01693759212719,
          121.01770159999998,
          121.0167116531272
         ],
         "mode": "lines",
         "showlegend": false,
         "type": "scattermapbox"
        },
        {
         "fill": "toself",
         "fillcolor": "#EF553B",
         "lat": [
          14.559385476439823,
          14.559351113439826,
          14.560359699999998,
          14.559385476439823
         ],
         "line": {
          "color": "#EF553B"
         },
         "lon": [
          121.017471728157,
          121.017211328157,
          121.0172107,
          121.017471728157
         ],
         "mode": "lines",
         "showlegend": false,
         "type": "scattermapbox"
        },
        {
         "fill": "toself",
         "fillcolor": "#EF553B",
         "lat": [
          14.55856933078978,
          14.55893481478978,
          14.5584008,
          14.55856933078978
         ],
         "line": {
          "color": "#EF553B"
         },
         "lon": [
          121.0214270653416,
          121.0215641883416,
          121.02243190000002,
          121.0214270653416
         ],
         "mode": "lines",
         "showlegend": false,
         "type": "scattermapbox"
        },
        {
         "lat": [
          14.5584008,
          14.556076000000001,
          14.549455600000003,
          14.524794100000001,
          14.533541299999996,
          14.528526700000002,
          14.5408833,
          14.549131399999998,
          14.546640899999998,
          14.546747999999992,
          14.552159400000006,
          14.5584008
         ],
         "lon": [
          121.02243190000003,
          121.021635,
          121.02941920000002,
          121.04543609999999,
          121.05112310000001,
          121.0572435,
          121.0560352,
          121.05589470000001,
          121.05177509999997,
          121.05454990000001,
          121.0457543,
          121.02243190000003
         ],
         "marker": {
          "color": "#00CC96",
          "size": 14
         },
         "mode": "lines",
         "name": "Route 2",
         "type": "scattermapbox"
        },
        {
         "fill": "toself",
         "fillcolor": "#00CC96",
         "lat": [
          14.557049859200783,
          14.556994076200782,
          14.556076,
          14.557049859200783
         ],
         "line": {
          "color": "#00CC96"
         },
         "lon": [
          121.02187789286579,
          121.02204062886578,
          121.021635,
          121.02187789286579
         ],
         "mode": "lines",
         "showlegend": false,
         "type": "scattermapbox"
        },
        {
         "fill": "toself",
         "fillcolor": "#00CC96",
         "lat": [
          14.549831018984465,
          14.550375912984466,
          14.549455599999998,
          14.549831018984465
         ],
         "line": {
          "color": "#00CC96"
         },
         "lon": [
          121.0284257316655,
          121.02888915966548,
          121.0294192,
          121.0284257316655
         ],
         "mode": "lines",
         "showlegend": false,
         "type": "scattermapbox"
        },
        {
         "fill": "toself",
         "fillcolor": "#00CC96",
         "lat": [
          14.525072155229333,
          14.526193338229332,
          14.5247941,
          14.525072155229333
         ],
         "line": {
          "color": "#00CC96"
         },
         "lon": [
          121.04402827175849,
          121.0457545767585,
          121.0454361,
          121.04402827175849
         ],
         "mode": "lines",
         "showlegend": false,
         "type": "scattermapbox"
        },
        {
         "fill": "toself",
         "fillcolor": "#00CC96",
         "lat": [
          14.532503869199335,
          14.532901959199336,
          14.5335413,
          14.532503869199335
         ],
         "line": {
          "color": "#00CC96"
         },
         "lon": [
          121.05088417471259,
          121.0502718707126,
          121.0511231,
          121.05088417471259
         ],
         "mode": "lines",
         "showlegend": false,
         "type": "scattermapbox"
        },
        {
         "fill": "toself",
         "fillcolor": "#00CC96",
         "lat": [
          14.528946253580674,
          14.529374681580673,
          14.5285267,
          14.528946253580674
         ],
         "line": {
          "color": "#00CC96"
         },
         "lon": [
          121.05629446546857,
          121.05664548746856,
          121.0572435,
          121.05629446546857
         ],
         "mode": "lines",
         "showlegend": false,
         "type": "scattermapbox"
        },
        {
         "fill": "toself",
         "fillcolor": "#00CC96",
         "lat": [
          14.539930337514772,
          14.539845756514772,
          14.5408833,
          14.539930337514772
         ],
         "line": {
          "color": "#00CC96"
         },
         "lon": [
          121.05656500260805,
          121.05570004060804,
          121.0560352,
          121.05656500260805
         ],
         "mode": "lines",
         "showlegend": false,
         "type": "scattermapbox"
        },
        {
         "fill": "toself",
         "fillcolor": "#00CC96",
         "lat": [
          14.548136462550865,
          14.548126627550864,
          14.549131400000002,
          14.548136462550865
         ],
         "line": {
          "color": "#00CC96"
         },
         "lon": [
          121.05620041525523,
          121.05562304825523,
          121.0558947,
          121.05620041525523
         ],
         "mode": "lines",
         "showlegend": false,
         "type": "scattermapbox"
        },
        {
         "fill": "toself",
         "fillcolor": "#00CC96",
         "lat": [
          14.547302441306798,
          14.547014069306798,
          14.546640900000002,
          14.547302441306798
         ],
         "line": {
          "color": "#00CC96"
         },
         "lon": [
          121.0525437031974,
          121.0527180381974,
          121.0517751,
          121.0525437031974
         ],
         "mode": "lines",
         "showlegend": false,
         "type": "scattermapbox"
        },
        {
         "fill": "toself",
         "fillcolor": "#00CC96",
         "lat": [
          14.546612313341894,
          14.546806549341893,
          14.546748,
          14.546612313341894
         ],
         "line": {
          "color": "#00CC96"
         },
         "lon": [
          121.0535543925475,
          121.05354689554748,
          121.0545499,
          121.0535543925475
         ],
         "mode": "lines",
         "showlegend": false,
         "type": "scattermapbox"
        },
        {
         "fill": "toself",
         "fillcolor": "#00CC96",
         "lat": [
          14.551943238263021,
          14.551327546263021,
          14.5521594,
          14.551943238263021
         ],
         "line": {
          "color": "#00CC96"
         },
         "lon": [
          121.04679541250323,
          121.04641661450322,
          121.0457543,
          121.04679541250323
         ],
         "mode": "lines",
         "showlegend": false,
         "type": "scattermapbox"
        },
        {
         "fill": "toself",
         "fillcolor": "#00CC96",
         "lat": [
          14.558958567104463,
          14.557325999104465,
          14.5584008,
          14.558958567104463
         ],
         "line": {
          "color": "#00CC96"
         },
         "lon": [
          121.0236163557364,
          121.02317945773639,
          121.02243190000002,
          121.0236163557364
         ],
         "mode": "lines",
         "showlegend": false,
         "type": "scattermapbox"
        },
        {
         "lat": [
          14.5584008
         ],
         "lon": [
          121.02243190000003
         ],
         "marker": {
          "color": "red",
          "size": 15
         },
         "mode": "markers+text+lines",
         "name": "Warehouse",
         "text": [
          "Warehouse"
         ],
         "textposition": "bottom right",
         "type": "scattermapbox"
        }
       ],
       "layout": {
        "height": 800,
        "hovermode": "closest",
        "mapbox": {
         "accesstoken": "pk.eyJ1IjoicmF2ZW5kaWNvIiwiYSI6ImNrOXNtMTQwNDE1NXEzZ3J0ZXBzbGFjajYifQ.reAoc-tEDpfezf6ZHJiyZQ",
         "center": {
          "lat": 14.554662137837838,
          "lon": 121.02965869459462
         },
         "zoom": 13
        },
        "template": {
         "data": {
          "bar": [
           {
            "error_x": {
             "color": "#2a3f5f"
            },
            "error_y": {
             "color": "#2a3f5f"
            },
            "marker": {
             "line": {
              "color": "#E5ECF6",
              "width": 0.5
             },
             "pattern": {
              "fillmode": "overlay",
              "size": 10,
              "solidity": 0.2
             }
            },
            "type": "bar"
           }
          ],
          "barpolar": [
           {
            "marker": {
             "line": {
              "color": "#E5ECF6",
              "width": 0.5
             },
             "pattern": {
              "fillmode": "overlay",
              "size": 10,
              "solidity": 0.2
             }
            },
            "type": "barpolar"
           }
          ],
          "carpet": [
           {
            "aaxis": {
             "endlinecolor": "#2a3f5f",
             "gridcolor": "white",
             "linecolor": "white",
             "minorgridcolor": "white",
             "startlinecolor": "#2a3f5f"
            },
            "baxis": {
             "endlinecolor": "#2a3f5f",
             "gridcolor": "white",
             "linecolor": "white",
             "minorgridcolor": "white",
             "startlinecolor": "#2a3f5f"
            },
            "type": "carpet"
           }
          ],
          "choropleth": [
           {
            "colorbar": {
             "outlinewidth": 0,
             "ticks": ""
            },
            "type": "choropleth"
           }
          ],
          "contour": [
           {
            "colorbar": {
             "outlinewidth": 0,
             "ticks": ""
            },
            "colorscale": [
             [
              0,
              "#0d0887"
             ],
             [
              0.1111111111111111,
              "#46039f"
             ],
             [
              0.2222222222222222,
              "#7201a8"
             ],
             [
              0.3333333333333333,
              "#9c179e"
             ],
             [
              0.4444444444444444,
              "#bd3786"
             ],
             [
              0.5555555555555556,
              "#d8576b"
             ],
             [
              0.6666666666666666,
              "#ed7953"
             ],
             [
              0.7777777777777778,
              "#fb9f3a"
             ],
             [
              0.8888888888888888,
              "#fdca26"
             ],
             [
              1,
              "#f0f921"
             ]
            ],
            "type": "contour"
           }
          ],
          "contourcarpet": [
           {
            "colorbar": {
             "outlinewidth": 0,
             "ticks": ""
            },
            "type": "contourcarpet"
           }
          ],
          "heatmap": [
           {
            "colorbar": {
             "outlinewidth": 0,
             "ticks": ""
            },
            "colorscale": [
             [
              0,
              "#0d0887"
             ],
             [
              0.1111111111111111,
              "#46039f"
             ],
             [
              0.2222222222222222,
              "#7201a8"
             ],
             [
              0.3333333333333333,
              "#9c179e"
             ],
             [
              0.4444444444444444,
              "#bd3786"
             ],
             [
              0.5555555555555556,
              "#d8576b"
             ],
             [
              0.6666666666666666,
              "#ed7953"
             ],
             [
              0.7777777777777778,
              "#fb9f3a"
             ],
             [
              0.8888888888888888,
              "#fdca26"
             ],
             [
              1,
              "#f0f921"
             ]
            ],
            "type": "heatmap"
           }
          ],
          "heatmapgl": [
           {
            "colorbar": {
             "outlinewidth": 0,
             "ticks": ""
            },
            "colorscale": [
             [
              0,
              "#0d0887"
             ],
             [
              0.1111111111111111,
              "#46039f"
             ],
             [
              0.2222222222222222,
              "#7201a8"
             ],
             [
              0.3333333333333333,
              "#9c179e"
             ],
             [
              0.4444444444444444,
              "#bd3786"
             ],
             [
              0.5555555555555556,
              "#d8576b"
             ],
             [
              0.6666666666666666,
              "#ed7953"
             ],
             [
              0.7777777777777778,
              "#fb9f3a"
             ],
             [
              0.8888888888888888,
              "#fdca26"
             ],
             [
              1,
              "#f0f921"
             ]
            ],
            "type": "heatmapgl"
           }
          ],
          "histogram": [
           {
            "marker": {
             "pattern": {
              "fillmode": "overlay",
              "size": 10,
              "solidity": 0.2
             }
            },
            "type": "histogram"
           }
          ],
          "histogram2d": [
           {
            "colorbar": {
             "outlinewidth": 0,
             "ticks": ""
            },
            "colorscale": [
             [
              0,
              "#0d0887"
             ],
             [
              0.1111111111111111,
              "#46039f"
             ],
             [
              0.2222222222222222,
              "#7201a8"
             ],
             [
              0.3333333333333333,
              "#9c179e"
             ],
             [
              0.4444444444444444,
              "#bd3786"
             ],
             [
              0.5555555555555556,
              "#d8576b"
             ],
             [
              0.6666666666666666,
              "#ed7953"
             ],
             [
              0.7777777777777778,
              "#fb9f3a"
             ],
             [
              0.8888888888888888,
              "#fdca26"
             ],
             [
              1,
              "#f0f921"
             ]
            ],
            "type": "histogram2d"
           }
          ],
          "histogram2dcontour": [
           {
            "colorbar": {
             "outlinewidth": 0,
             "ticks": ""
            },
            "colorscale": [
             [
              0,
              "#0d0887"
             ],
             [
              0.1111111111111111,
              "#46039f"
             ],
             [
              0.2222222222222222,
              "#7201a8"
             ],
             [
              0.3333333333333333,
              "#9c179e"
             ],
             [
              0.4444444444444444,
              "#bd3786"
             ],
             [
              0.5555555555555556,
              "#d8576b"
             ],
             [
              0.6666666666666666,
              "#ed7953"
             ],
             [
              0.7777777777777778,
              "#fb9f3a"
             ],
             [
              0.8888888888888888,
              "#fdca26"
             ],
             [
              1,
              "#f0f921"
             ]
            ],
            "type": "histogram2dcontour"
           }
          ],
          "mesh3d": [
           {
            "colorbar": {
             "outlinewidth": 0,
             "ticks": ""
            },
            "type": "mesh3d"
           }
          ],
          "parcoords": [
           {
            "line": {
             "colorbar": {
              "outlinewidth": 0,
              "ticks": ""
             }
            },
            "type": "parcoords"
           }
          ],
          "pie": [
           {
            "automargin": true,
            "type": "pie"
           }
          ],
          "scatter": [
           {
            "fillpattern": {
             "fillmode": "overlay",
             "size": 10,
             "solidity": 0.2
            },
            "type": "scatter"
           }
          ],
          "scatter3d": [
           {
            "line": {
             "colorbar": {
              "outlinewidth": 0,
              "ticks": ""
             }
            },
            "marker": {
             "colorbar": {
              "outlinewidth": 0,
              "ticks": ""
             }
            },
            "type": "scatter3d"
           }
          ],
          "scattercarpet": [
           {
            "marker": {
             "colorbar": {
              "outlinewidth": 0,
              "ticks": ""
             }
            },
            "type": "scattercarpet"
           }
          ],
          "scattergeo": [
           {
            "marker": {
             "colorbar": {
              "outlinewidth": 0,
              "ticks": ""
             }
            },
            "type": "scattergeo"
           }
          ],
          "scattergl": [
           {
            "marker": {
             "colorbar": {
              "outlinewidth": 0,
              "ticks": ""
             }
            },
            "type": "scattergl"
           }
          ],
          "scattermapbox": [
           {
            "marker": {
             "colorbar": {
              "outlinewidth": 0,
              "ticks": ""
             }
            },
            "type": "scattermapbox"
           }
          ],
          "scatterpolar": [
           {
            "marker": {
             "colorbar": {
              "outlinewidth": 0,
              "ticks": ""
             }
            },
            "type": "scatterpolar"
           }
          ],
          "scatterpolargl": [
           {
            "marker": {
             "colorbar": {
              "outlinewidth": 0,
              "ticks": ""
             }
            },
            "type": "scatterpolargl"
           }
          ],
          "scatterternary": [
           {
            "marker": {
             "colorbar": {
              "outlinewidth": 0,
              "ticks": ""
             }
            },
            "type": "scatterternary"
           }
          ],
          "surface": [
           {
            "colorbar": {
             "outlinewidth": 0,
             "ticks": ""
            },
            "colorscale": [
             [
              0,
              "#0d0887"
             ],
             [
              0.1111111111111111,
              "#46039f"
             ],
             [
              0.2222222222222222,
              "#7201a8"
             ],
             [
              0.3333333333333333,
              "#9c179e"
             ],
             [
              0.4444444444444444,
              "#bd3786"
             ],
             [
              0.5555555555555556,
              "#d8576b"
             ],
             [
              0.6666666666666666,
              "#ed7953"
             ],
             [
              0.7777777777777778,
              "#fb9f3a"
             ],
             [
              0.8888888888888888,
              "#fdca26"
             ],
             [
              1,
              "#f0f921"
             ]
            ],
            "type": "surface"
           }
          ],
          "table": [
           {
            "cells": {
             "fill": {
              "color": "#EBF0F8"
             },
             "line": {
              "color": "white"
             }
            },
            "header": {
             "fill": {
              "color": "#C8D4E3"
             },
             "line": {
              "color": "white"
             }
            },
            "type": "table"
           }
          ]
         },
         "layout": {
          "annotationdefaults": {
           "arrowcolor": "#2a3f5f",
           "arrowhead": 0,
           "arrowwidth": 1
          },
          "autotypenumbers": "strict",
          "coloraxis": {
           "colorbar": {
            "outlinewidth": 0,
            "ticks": ""
           }
          },
          "colorscale": {
           "diverging": [
            [
             0,
             "#8e0152"
            ],
            [
             0.1,
             "#c51b7d"
            ],
            [
             0.2,
             "#de77ae"
            ],
            [
             0.3,
             "#f1b6da"
            ],
            [
             0.4,
             "#fde0ef"
            ],
            [
             0.5,
             "#f7f7f7"
            ],
            [
             0.6,
             "#e6f5d0"
            ],
            [
             0.7,
             "#b8e186"
            ],
            [
             0.8,
             "#7fbc41"
            ],
            [
             0.9,
             "#4d9221"
            ],
            [
             1,
             "#276419"
            ]
           ],
           "sequential": [
            [
             0,
             "#0d0887"
            ],
            [
             0.1111111111111111,
             "#46039f"
            ],
            [
             0.2222222222222222,
             "#7201a8"
            ],
            [
             0.3333333333333333,
             "#9c179e"
            ],
            [
             0.4444444444444444,
             "#bd3786"
            ],
            [
             0.5555555555555556,
             "#d8576b"
            ],
            [
             0.6666666666666666,
             "#ed7953"
            ],
            [
             0.7777777777777778,
             "#fb9f3a"
            ],
            [
             0.8888888888888888,
             "#fdca26"
            ],
            [
             1,
             "#f0f921"
            ]
           ],
           "sequentialminus": [
            [
             0,
             "#0d0887"
            ],
            [
             0.1111111111111111,
             "#46039f"
            ],
            [
             0.2222222222222222,
             "#7201a8"
            ],
            [
             0.3333333333333333,
             "#9c179e"
            ],
            [
             0.4444444444444444,
             "#bd3786"
            ],
            [
             0.5555555555555556,
             "#d8576b"
            ],
            [
             0.6666666666666666,
             "#ed7953"
            ],
            [
             0.7777777777777778,
             "#fb9f3a"
            ],
            [
             0.8888888888888888,
             "#fdca26"
            ],
            [
             1,
             "#f0f921"
            ]
           ]
          },
          "colorway": [
           "#636efa",
           "#EF553B",
           "#00cc96",
           "#ab63fa",
           "#FFA15A",
           "#19d3f3",
           "#FF6692",
           "#B6E880",
           "#FF97FF",
           "#FECB52"
          ],
          "font": {
           "color": "#2a3f5f"
          },
          "geo": {
           "bgcolor": "white",
           "lakecolor": "white",
           "landcolor": "#E5ECF6",
           "showlakes": true,
           "showland": true,
           "subunitcolor": "white"
          },
          "hoverlabel": {
           "align": "left"
          },
          "hovermode": "closest",
          "mapbox": {
           "style": "light"
          },
          "paper_bgcolor": "white",
          "plot_bgcolor": "#E5ECF6",
          "polar": {
           "angularaxis": {
            "gridcolor": "white",
            "linecolor": "white",
            "ticks": ""
           },
           "bgcolor": "#E5ECF6",
           "radialaxis": {
            "gridcolor": "white",
            "linecolor": "white",
            "ticks": ""
           }
          },
          "scene": {
           "xaxis": {
            "backgroundcolor": "#E5ECF6",
            "gridcolor": "white",
            "gridwidth": 2,
            "linecolor": "white",
            "showbackground": true,
            "ticks": "",
            "zerolinecolor": "white"
           },
           "yaxis": {
            "backgroundcolor": "#E5ECF6",
            "gridcolor": "white",
            "gridwidth": 2,
            "linecolor": "white",
            "showbackground": true,
            "ticks": "",
            "zerolinecolor": "white"
           },
           "zaxis": {
            "backgroundcolor": "#E5ECF6",
            "gridcolor": "white",
            "gridwidth": 2,
            "linecolor": "white",
            "showbackground": true,
            "ticks": "",
            "zerolinecolor": "white"
           }
          },
          "shapedefaults": {
           "line": {
            "color": "#2a3f5f"
           }
          },
          "ternary": {
           "aaxis": {
            "gridcolor": "white",
            "linecolor": "white",
            "ticks": ""
           },
           "baxis": {
            "gridcolor": "white",
            "linecolor": "white",
            "ticks": ""
           },
           "bgcolor": "#E5ECF6",
           "caxis": {
            "gridcolor": "white",
            "linecolor": "white",
            "ticks": ""
           }
          },
          "title": {
           "x": 0.05
          },
          "xaxis": {
           "automargin": true,
           "gridcolor": "white",
           "linecolor": "white",
           "ticks": "",
           "title": {
            "standoff": 15
           },
           "zerolinecolor": "white",
           "zerolinewidth": 2
          },
          "yaxis": {
           "automargin": true,
           "gridcolor": "white",
           "linecolor": "white",
           "ticks": "",
           "title": {
            "standoff": 15
           },
           "zerolinecolor": "white",
           "zerolinewidth": 2
          }
         }
        },
        "width": 1000
       }
      }
     },
     "metadata": {},
     "output_type": "display_data"
    }
   ],
   "source": [
    "fig = go.Figure()\n",
    "\n",
    "fig.add_trace(go.Scattermapbox(\n",
    "            mode = \"markers+text\",\n",
    "            lon = jabee.loc[jabee.Hub_Flg == '0'].geometry.x, \n",
    "            lat = jabee.loc[jabee.Hub_Flg == '0'].geometry.y,\n",
    "            marker = {\n",
    "                'color': 'yellow',\n",
    "                'size': 10, \n",
    "                        # 'symbol': [\"circle\"]}, #https://labs.mapbox.com/maki-icons/\n",
    "            },\n",
    "            name = 'Destinations',\n",
    "            showlegend=False,\n",
    "            text = np.array(jabee.loc[jabee.Hub_Flg == '0'].index.astype(str)),\n",
    "            textposition = \"bottom right\"))\n",
    "\n",
    "for idx, route in enumerate(routes_time):\n",
    "    fig.add_trace(go.Scattermapbox(\n",
    "            mode = \"lines\",\n",
    "            lat = jabee.loc[route].geometry.y,\n",
    "            lon = jabee.loc[route].geometry.x,\n",
    "            marker=go.scattermapbox.Marker(\n",
    "                    size=14,\n",
    "                    color = colors[idx],\n",
    "                ),\n",
    "                name = f'Route {idx}'\n",
    "            # marker = {'size': 15, 'color': colors[idx]}\n",
    "            ))\n",
    "\n",
    "    for i in range(len(route)-1):\n",
    "        A = np.array(jabee.loc[route[i], ['Longitude', 'Latitude']])\n",
    "        B = np.array(jabee.loc[route[i+1], ['Longitude', 'Latitude']])\n",
    "        S, T = compute_arrow_coords(A, B)\n",
    "        fig.add_trace(go.Scattermapbox(lon = [S[0], T[0], B[0], S[0]], \n",
    "                                lat =[S[1], T[1], B[1], S[1]], \n",
    "                                mode='lines', \n",
    "                                fill='toself', \n",
    "                                fillcolor=colors[idx], \n",
    "                                line_color=colors[idx],\n",
    "                                showlegend=False\n",
    "                                ))\n",
    "\n",
    "    # destinations = route[1:-1]\n",
    "    # if len(destinations)>1:\n",
    "    #     fig.add_trace(go.Scattermapbox(\n",
    "    #                 mode = \"markers+text\",\n",
    "    #                 lon = jabee.loc[destinations].geometry.x, \n",
    "    #                 lat = jabee.loc[destinations].geometry.y,\n",
    "    #                 marker = {\n",
    "    #                     'color': colors[idx],\n",
    "    #                     'size': 10, \n",
    "    #                             # 'symbol': [\"circle\"]}, #https://labs.mapbox.com/maki-icons/\n",
    "    #                 },\n",
    "    #                 showlegend=False,\n",
    "    #                 text = np.array(jabee.loc[destinations].index.astype(str)),\n",
    "    #                 textposition = \"bottom right\"))\n",
    "\n",
    "\n",
    "\n",
    "fig.add_trace(go.Scattermapbox(\n",
    "                mode = \"markers+text+lines\",\n",
    "                lon = [jabee.iloc[data['depot']].geometry.x], \n",
    "                lat = [jabee.iloc[data['depot']].geometry.y],\n",
    "                marker = {\n",
    "                    'color': 'red',\n",
    "                    'size': 15, \n",
    "                    # 'symbol' : 'warehouse',\n",
    "                            # 'symbol': [\"circle\"]}, #https://labs.mapbox.com/maki-icons/\n",
    "                },\n",
    "                text = [\"Warehouse\"],\n",
    "                name = 'Warehouse',\n",
    "                textposition = \"bottom right\"))\n",
    "\n",
    "\n",
    "fig.update_layout(\n",
    "    height = 800, \n",
    "    width = 1000, \n",
    "    hovermode='closest',\n",
    "    mapbox=dict(\n",
    "        accesstoken=mapbox_token,\n",
    "        # bearing=0,\n",
    "        center=go.layout.mapbox.Center(\n",
    "            lat=jabee.geometry.y.mean(),\n",
    "            lon=jabee.geometry.x.mean(),\n",
    "        ),\n",
    "        # style = 'outdoors',\n",
    "        # pitch=0,\n",
    "        zoom=13\n",
    "    )\n",
    ")\n",
    "\n",
    "fig.show()"
   ]
  },
  {
   "attachments": {},
   "cell_type": "markdown",
   "id": "23732550",
   "metadata": {},
   "source": [
    "# VRP with capacity constraints\n",
    "\n",
    "Next, we describe an example of a VRP with capacity constraints. The example extends the previous VRP example and adds the following requirements. At each location there is a demand corresponding to the quantity of the item to be picked up. Also, each vehicle has a maximum capacity of 15. (We aren't specifying units for the demands or capacity.)\n",
    "\n",
    "The grid below shows the locations to visit in blue and the company location in black. The demands are shown at the lower right of each location. See Location coordinates in the VRP section for more details about how the locations are defined."
   ]
  },
  {
   "cell_type": "code",
   "execution_count": 7,
   "id": "5636ddc8",
   "metadata": {},
   "outputs": [],
   "source": [
    "data['demands'] = [0, 1, 1, 2, 4, 2, 4, 8, 8, 1, 2, 1, 2, 4, 4, 8, 8]\n",
    "data['vehicle_capacities'] = [15, 15, 15, 15]"
   ]
  },
  {
   "attachments": {},
   "cell_type": "markdown",
   "id": "bbec4b5a",
   "metadata": {},
   "source": [
    "## Add the demand callback\n",
    "\n",
    "Unlike the distance callback, which takes a pair of locations as inputs, the demand callback only depends on the location (from_node) of the delivery."
   ]
  },
  {
   "cell_type": "code",
   "execution_count": 8,
   "id": "e2023a7e",
   "metadata": {},
   "outputs": [
    {
     "data": {
      "text/plain": [
       "True"
      ]
     },
     "execution_count": 8,
     "metadata": {},
     "output_type": "execute_result"
    }
   ],
   "source": [
    "def demand_callback(from_index):\n",
    "    \"\"\"Returns the demand of the node.\"\"\"\n",
    "    # Convert from routing variable Index to demands NodeIndex.\n",
    "    from_node = manager.IndexToNode(from_index)\n",
    "    return data['demands'][from_node]\n",
    "\n",
    "demand_callback_index = routing.RegisterUnaryTransitCallback(\n",
    "    demand_callback)\n",
    "routing.AddDimensionWithVehicleCapacity(\n",
    "    demand_callback_index,\n",
    "    0,  # null capacity slack\n",
    "    data['vehicle_capacities'],  # vehicle maximum capacities\n",
    "    True,  # start cumul to zero\n",
    "    'Capacity')"
   ]
  },
  {
   "attachments": {},
   "cell_type": "markdown",
   "id": "49595590",
   "metadata": {},
   "source": [
    "## Add the solution printer"
   ]
  },
  {
   "cell_type": "code",
   "execution_count": 9,
   "id": "45b0beee",
   "metadata": {},
   "outputs": [],
   "source": [
    "def print_solution(data, manager, routing, solution):\n",
    "    \"\"\"Prints solution on console.\"\"\"\n",
    "    print(f'Objective: {solution.ObjectiveValue()}')\n",
    "    total_distance = 0\n",
    "    total_load = 0\n",
    "    for vehicle_id in range(data['num_vehicles']):\n",
    "        index = routing.Start(vehicle_id)\n",
    "        plan_output = 'Route for vehicle {}:\\n'.format(vehicle_id)\n",
    "        route_distance = 0\n",
    "        route_load = 0\n",
    "        while not routing.IsEnd(index):\n",
    "            node_index = manager.IndexToNode(index)\n",
    "            route_load += data['demands'][node_index]\n",
    "            plan_output += ' {0} Load({1}) -> '.format(node_index, route_load)\n",
    "            previous_index = index\n",
    "            index = solution.Value(routing.NextVar(index))\n",
    "            route_distance += routing.GetArcCostForVehicle(\n",
    "                previous_index, index, vehicle_id)\n",
    "        plan_output += ' {0} Load({1})\\n'.format(manager.IndexToNode(index),\n",
    "                                                 route_load)\n",
    "        plan_output += 'Distance of the route: {}m\\n'.format(route_distance)\n",
    "        plan_output += 'Load of the route: {}\\n'.format(route_load)\n",
    "        print(plan_output)\n",
    "        total_distance += route_distance\n",
    "        total_load += route_load\n",
    "    print('Total distance of all routes: {}m'.format(total_distance))\n",
    "    print('Total load of all routes: {}'.format(total_load))"
   ]
  },
  {
   "cell_type": "code",
   "execution_count": 10,
   "id": "663ed1db",
   "metadata": {},
   "outputs": [],
   "source": [
    "search_parameters = pywrapcp.DefaultRoutingSearchParameters()\n",
    "search_parameters.first_solution_strategy = (\n",
    "    routing_enums_pb2.FirstSolutionStrategy.PATH_CHEAPEST_ARC)\n",
    "search_parameters.local_search_metaheuristic = (\n",
    "    routing_enums_pb2.LocalSearchMetaheuristic.GUIDED_LOCAL_SEARCH)\n",
    "search_parameters.time_limit.FromSeconds(1)\n",
    "\n",
    "# Solve the problem.\n",
    "solution = routing.SolveWithParameters(search_parameters)"
   ]
  },
  {
   "cell_type": "code",
   "execution_count": 12,
   "id": "5798b7e9",
   "metadata": {},
   "outputs": [
    {
     "name": "stdout",
     "output_type": "stream",
     "text": [
      "Objective: 6208\n",
      "Route for vehicle 0:\n",
      " 0 Load(0) ->  4 Load(4) ->  3 Load(6) ->  1 Load(7) ->  7 Load(15) ->  0 Load(15)\n",
      "Distance of the route: 1552m\n",
      "Load of the route: 15\n",
      "\n",
      "Route for vehicle 1:\n",
      " 0 Load(0) ->  14 Load(4) ->  16 Load(12) ->  10 Load(14) ->  9 Load(15) ->  0 Load(15)\n",
      "Distance of the route: 1552m\n",
      "Load of the route: 15\n",
      "\n",
      "Route for vehicle 2:\n",
      " 0 Load(0) ->  12 Load(2) ->  11 Load(3) ->  15 Load(11) ->  13 Load(15) ->  0 Load(15)\n",
      "Distance of the route: 1552m\n",
      "Load of the route: 15\n",
      "\n",
      "Route for vehicle 3:\n",
      " 0 Load(0) ->  8 Load(8) ->  2 Load(9) ->  6 Load(13) ->  5 Load(15) ->  0 Load(15)\n",
      "Distance of the route: 1552m\n",
      "Load of the route: 15\n",
      "\n",
      "Total distance of all routes: 6208m\n",
      "Total load of all routes: 60\n"
     ]
    }
   ],
   "source": [
    "print_solution(data, manager, routing, solution)"
   ]
  },
  {
   "attachments": {},
   "cell_type": "markdown",
   "id": "195254e4",
   "metadata": {},
   "source": [
    "What happens if a problem has no solution ?\n",
    "A routing problem with constraints, such as a CVRP, might not have a feasible solution — for example, if the total quantity of the items being transported exceeds the total capacity of the vehicles. If you try to solve such a problem, the solver might run an exhaustive search which takes so long that eventually you have to give up and interrupt the program.\n",
    "\n",
    "Usually this won't be an issue. But here are a couple of ways to prevent your program from running a long time when a problem has no solution:\n",
    "\n",
    "Set a time limit in the program, which stops the search even if no solution has been found. However, keep in mind that if the problem has a solution that requires a lengthy search, the program might reach the time limit before finding the solution.\n",
    "Set penalties for dropping visits to locations. This allows the solver to return a \"solution\" that doesn't visit all locations in case the problem is infeasible. See Penalties and Dropping Visits.\n",
    "In general, it can be hard to tell if a given problem has a solution. Even for a CVRP in which total demand doesn't exceed total capacity, determining whether all the items will fit in the vehicles is a version of the multiple knapsack problem.\n",
    "\n"
   ]
  },
  {
   "attachments": {},
   "cell_type": "markdown",
   "id": "d7075fa8",
   "metadata": {},
   "source": [
    "# Setting start and end locations for routes\n",
    "\n",
    "So far, we have assumed that all vehicles start and end at a single location, the depot. You can also set possibly different start and end locations for each vehicle in the problem. To do so, pass two vectors, containing the indices of the start and end locations, as inputs to the RoutingModel method in the main function. Here's how to create the start and end vectors in the data section of the program:"
   ]
  },
  {
   "cell_type": "code",
   "execution_count": 14,
   "id": "fe38c8b8",
   "metadata": {},
   "outputs": [],
   "source": [
    "data['starts'] = [1, 2, 15, 16]\n",
    "data['ends'] = [0, 0, 0, 0]"
   ]
  },
  {
   "cell_type": "code",
   "execution_count": 15,
   "id": "3fad8e6c",
   "metadata": {},
   "outputs": [
    {
     "name": "stdout",
     "output_type": "stream",
     "text": [
      "Objective: 115794\n",
      "Route for vehicle 0:\n",
      " 1 ->  4 ->  3 ->  7 -> 0\n",
      "Distance of the route: 1004m\n",
      "\n",
      "Route for vehicle 1:\n",
      " 2 ->  6 ->  8 ->  5 -> 0\n",
      "Distance of the route: 936m\n",
      "\n",
      "Route for vehicle 2:\n",
      " 15 ->  11 ->  12 ->  13 -> 0\n",
      "Distance of the route: 936m\n",
      "\n",
      "Route for vehicle 3:\n",
      " 16 ->  14 ->  10 ->  9 -> 0\n",
      "Distance of the route: 1118m\n",
      "\n",
      "Maximum of the route distances: 1118m\n"
     ]
    }
   ],
   "source": [
    "\"\"\"Simple Vehicles Routing Problem.\"\"\"\n",
    "\n",
    "from ortools.constraint_solver import routing_enums_pb2\n",
    "from ortools.constraint_solver import pywrapcp\n",
    "\n",
    "\n",
    "def create_data_model():\n",
    "    \"\"\"Stores the data for the problem.\"\"\"\n",
    "    data = {}\n",
    "    data['distance_matrix'] = [\n",
    "        [\n",
    "            0, 548, 776, 696, 582, 274, 502, 194, 308, 194, 536, 502, 388, 354,\n",
    "            468, 776, 662\n",
    "        ],\n",
    "        [\n",
    "            548, 0, 684, 308, 194, 502, 730, 354, 696, 742, 1084, 594, 480, 674,\n",
    "            1016, 868, 1210\n",
    "        ],\n",
    "        [\n",
    "            776, 684, 0, 992, 878, 502, 274, 810, 468, 742, 400, 1278, 1164,\n",
    "            1130, 788, 1552, 754\n",
    "        ],\n",
    "        [\n",
    "            696, 308, 992, 0, 114, 650, 878, 502, 844, 890, 1232, 514, 628, 822,\n",
    "            1164, 560, 1358\n",
    "        ],\n",
    "        [\n",
    "            582, 194, 878, 114, 0, 536, 764, 388, 730, 776, 1118, 400, 514, 708,\n",
    "            1050, 674, 1244\n",
    "        ],\n",
    "        [\n",
    "            274, 502, 502, 650, 536, 0, 228, 308, 194, 240, 582, 776, 662, 628,\n",
    "            514, 1050, 708\n",
    "        ],\n",
    "        [\n",
    "            502, 730, 274, 878, 764, 228, 0, 536, 194, 468, 354, 1004, 890, 856,\n",
    "            514, 1278, 480\n",
    "        ],\n",
    "        [\n",
    "            194, 354, 810, 502, 388, 308, 536, 0, 342, 388, 730, 468, 354, 320,\n",
    "            662, 742, 856\n",
    "        ],\n",
    "        [\n",
    "            308, 696, 468, 844, 730, 194, 194, 342, 0, 274, 388, 810, 696, 662,\n",
    "            320, 1084, 514\n",
    "        ],\n",
    "        [\n",
    "            194, 742, 742, 890, 776, 240, 468, 388, 274, 0, 342, 536, 422, 388,\n",
    "            274, 810, 468\n",
    "        ],\n",
    "        [\n",
    "            536, 1084, 400, 1232, 1118, 582, 354, 730, 388, 342, 0, 878, 764,\n",
    "            730, 388, 1152, 354\n",
    "        ],\n",
    "        [\n",
    "            502, 594, 1278, 514, 400, 776, 1004, 468, 810, 536, 878, 0, 114,\n",
    "            308, 650, 274, 844\n",
    "        ],\n",
    "        [\n",
    "            388, 480, 1164, 628, 514, 662, 890, 354, 696, 422, 764, 114, 0, 194,\n",
    "            536, 388, 730\n",
    "        ],\n",
    "        [\n",
    "            354, 674, 1130, 822, 708, 628, 856, 320, 662, 388, 730, 308, 194, 0,\n",
    "            342, 422, 536\n",
    "        ],\n",
    "        [\n",
    "            468, 1016, 788, 1164, 1050, 514, 514, 662, 320, 274, 388, 650, 536,\n",
    "            342, 0, 764, 194\n",
    "        ],\n",
    "        [\n",
    "            776, 868, 1552, 560, 674, 1050, 1278, 742, 1084, 810, 1152, 274,\n",
    "            388, 422, 764, 0, 798\n",
    "        ],\n",
    "        [\n",
    "            662, 1210, 754, 1358, 1244, 708, 480, 856, 514, 468, 354, 844, 730,\n",
    "            536, 194, 798, 0\n",
    "        ],\n",
    "    ]\n",
    "    data['num_vehicles'] = 4\n",
    "    data['starts'] = [1, 2, 15, 16]\n",
    "    data['ends'] = [0, 0, 0, 0]\n",
    "    return data\n",
    "\n",
    "\n",
    "def print_solution(data, manager, routing, solution):\n",
    "    \"\"\"Prints solution on console.\"\"\"\n",
    "    print(f'Objective: {solution.ObjectiveValue()}')\n",
    "    max_route_distance = 0\n",
    "    for vehicle_id in range(data['num_vehicles']):\n",
    "        index = routing.Start(vehicle_id)\n",
    "        plan_output = 'Route for vehicle {}:\\n'.format(vehicle_id)\n",
    "        route_distance = 0\n",
    "        while not routing.IsEnd(index):\n",
    "            plan_output += ' {} -> '.format(manager.IndexToNode(index))\n",
    "            previous_index = index\n",
    "            index = solution.Value(routing.NextVar(index))\n",
    "            route_distance += routing.GetArcCostForVehicle(\n",
    "                previous_index, index, vehicle_id)\n",
    "        plan_output += '{}\\n'.format(manager.IndexToNode(index))\n",
    "        plan_output += 'Distance of the route: {}m\\n'.format(route_distance)\n",
    "        print(plan_output)\n",
    "        max_route_distance = max(route_distance, max_route_distance)\n",
    "    print('Maximum of the route distances: {}m'.format(max_route_distance))\n",
    "\n",
    "\n",
    "def main():\n",
    "    \"\"\"Entry point of the program.\"\"\"\n",
    "    # Instantiate the data problem.\n",
    "    data = create_data_model()\n",
    "\n",
    "    # Create the routing index manager.\n",
    "    manager = pywrapcp.RoutingIndexManager(len(data['distance_matrix']),\n",
    "                                           data['num_vehicles'], data['starts'],\n",
    "                                           data['ends'])\n",
    "\n",
    "    # Create Routing Model.\n",
    "    routing = pywrapcp.RoutingModel(manager)\n",
    "\n",
    "\n",
    "    # Create and register a transit callback.\n",
    "    def distance_callback(from_index, to_index):\n",
    "        \"\"\"Returns the distance between the two nodes.\"\"\"\n",
    "        # Convert from routing variable Index to distance matrix NodeIndex.\n",
    "        from_node = manager.IndexToNode(from_index)\n",
    "        to_node = manager.IndexToNode(to_index)\n",
    "        return data['distance_matrix'][from_node][to_node]\n",
    "\n",
    "    transit_callback_index = routing.RegisterTransitCallback(distance_callback)\n",
    "\n",
    "    # Define cost of each arc.\n",
    "    routing.SetArcCostEvaluatorOfAllVehicles(transit_callback_index)\n",
    "\n",
    "    # Add Distance constraint.\n",
    "    dimension_name = 'Distance'\n",
    "    routing.AddDimension(\n",
    "        transit_callback_index,\n",
    "        0,  # no slack\n",
    "        2000,  # vehicle maximum travel distance\n",
    "        True,  # start cumul to zero\n",
    "        dimension_name)\n",
    "    distance_dimension = routing.GetDimensionOrDie(dimension_name)\n",
    "    distance_dimension.SetGlobalSpanCostCoefficient(100)\n",
    "\n",
    "    # Setting first solution heuristic.\n",
    "    search_parameters = pywrapcp.DefaultRoutingSearchParameters()\n",
    "    search_parameters.first_solution_strategy = (\n",
    "        routing_enums_pb2.FirstSolutionStrategy.PATH_CHEAPEST_ARC)\n",
    "\n",
    "    # Solve the problem.\n",
    "    solution = routing.SolveWithParameters(search_parameters)\n",
    "\n",
    "    # Print solution on console.\n",
    "    if solution:\n",
    "        print_solution(data, manager, routing, solution)\n",
    "\n",
    "\n",
    "if __name__ == '__main__':\n",
    "    main()"
   ]
  },
  {
   "attachments": {},
   "cell_type": "markdown",
   "id": "ee1cc8f6",
   "metadata": {},
   "source": [
    "# VRP with various Pickups and Deliveries\n",
    "\n",
    "In this section we describe a VRP in which each vehicle picks up items at various locations and drops them off at others. The problem is to assign routes for the vehicles to pick up and deliver all the items, while minimizing the length of the longest route."
   ]
  },
  {
   "cell_type": "code",
   "execution_count": null,
   "id": "9b6822a5",
   "metadata": {},
   "outputs": [],
   "source": []
  },
  {
   "cell_type": "code",
   "execution_count": null,
   "id": "5d1d50f7",
   "metadata": {},
   "outputs": [],
   "source": []
  }
 ],
 "metadata": {
  "kernelspec": {
   "display_name": "or_env",
   "language": "python",
   "name": "python3"
  },
  "language_info": {
   "codemirror_mode": {
    "name": "ipython",
    "version": 3
   },
   "file_extension": ".py",
   "mimetype": "text/x-python",
   "name": "python",
   "nbconvert_exporter": "python",
   "pygments_lexer": "ipython3",
   "version": "3.8.15"
  },
  "vscode": {
   "interpreter": {
    "hash": "2ed57ed0e014f8c332b01f3501f743fdc02d8bab1f9052c09a150fb6a1d27f58"
   }
  }
 },
 "nbformat": 4,
 "nbformat_minor": 5
}
