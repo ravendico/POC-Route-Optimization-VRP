{
 "cells": [
  {
   "attachments": {},
   "cell_type": "markdown",
   "id": "827175f0",
   "metadata": {},
   "source": [
    "# Executive Summary\n",
    "\n",
    "This notebook aims to compile resources on route optimization. For aboitiz, this can be used in its delivery logistics such as in Basco and Republic Cement.\n",
    "\n",
    "https://developers.google.com/optimization/routing\n",
    "\n",
    "A more general version of the TSP is the vehicle routing problem (VRP), in which there are multiple vehicles. In most cases, VRPs have constraints: for example, vehicles might have capacities for the maximum weight or volume of items they can carry, or drivers might be required to visit locations during specified time windows requested by customers.\n",
    "\n",
    "OR-Tools can solve many types of VRPs, including the following:\n",
    "\n",
    "- Traveling Salesperson Problem, the classic routing problem in which there is just one vehicle.\n",
    "- Vehicle routing problem, a generalisation of the TSP with multiple vehicles.\n",
    "- VRP with capacity constraints, in which vehicles have maximum capacities for the items they can carry.\n",
    "- VRP with time windows, where the vehicles must visit the locations in specified time intervals.\n",
    "- VRP with resource constraints, such as space or personnel to load and unload vehicles at the depot (the starting point for the routes).\n",
    "- VRP with dropped visits, where the vehicles aren't required to visit all locations, but must pay a penalty for each visit that is dropped.\n",
    "\n",
    "Resources:\n",
    "https://developers.google.com/optimization/routing/vrptw"
   ]
  },
  {
   "attachments": {},
   "cell_type": "markdown",
   "id": "d416a5e1",
   "metadata": {},
   "source": [
    "# Loading Libraries"
   ]
  },
  {
   "cell_type": "code",
   "execution_count": 2,
   "id": "1ea4ae4c",
   "metadata": {},
   "outputs": [],
   "source": [
    "import os\n",
    "from ortools.constraint_solver import pywrapcp\n",
    "from ortools.constraint_solver import routing_enums_pb2\n",
    "import pandas as pd\n",
    "\n",
    "import plotly\n",
    "import plotly.express as px\n",
    "import plotly.graph_objects as go\n",
    "\n",
    "import geopandas as gpd\n",
    "import numpy as np\n",
    "\n",
    "#import token\n",
    "from mapbox_token import *"
   ]
  },
  {
   "attachments": {},
   "cell_type": "markdown",
   "id": "ff9ef899",
   "metadata": {},
   "source": [
    "# Traveling Salesman Problem"
   ]
  },
  {
   "attachments": {},
   "cell_type": "markdown",
   "id": "99e58b28",
   "metadata": {},
   "source": [
    "The data also includes:\n",
    "\n",
    "- The number of vehicles in the problem, which is 1 because this is a TSP. (For a vehicle routing problem (VRP), the number of vehicles can be greater than 1.)\n",
    "- The depot: the start and end location for the route. In this case, the depot is 0, which corresponds to New York.\n"
   ]
  },
  {
   "attachments": {},
   "cell_type": "markdown",
   "id": "9db3dbaa",
   "metadata": {},
   "source": [
    "## Read data"
   ]
  },
  {
   "cell_type": "code",
   "execution_count": 3,
   "id": "df86edfe",
   "metadata": {},
   "outputs": [
    {
     "data": {
      "text/plain": [
       "['ESTABLISHMENTS_752020.csv']"
      ]
     },
     "execution_count": 3,
     "metadata": {},
     "output_type": "execute_result"
    }
   ],
   "source": [
    "os.chdir('data')\n",
    "os.listdir()"
   ]
  },
  {
   "cell_type": "code",
   "execution_count": 193,
   "id": "a7127d3a",
   "metadata": {},
   "outputs": [],
   "source": [
    "df = pd.read_csv('ESTABLISHMENTS_752020.csv')"
   ]
  },
  {
   "cell_type": "code",
   "execution_count": 5,
   "id": "d4433b7a",
   "metadata": {},
   "outputs": [
    {
     "data": {
      "text/plain": [
       "BDO                           3015\n",
       "711                           2709\n",
       "BPI                           2374\n",
       "BanKo                         2247\n",
       "RCB                           1912\n",
       "MBT                           1767\n",
       "LBP                           1360\n",
       "PNB                           1206\n",
       "MERCURY DRUG                  1189\n",
       "Cebuana Lhuillier Pawnshop    1179\n",
       "JFC                           1079\n",
       "SECB                          1069\n",
       "CHIB                           931\n",
       "EW                             908\n",
       "Western Union                  896\n",
       "Lbc                            863\n",
       "Cebuana Lhuillier              757\n",
       "Chooks To Go                   724\n",
       "UBP                            713\n",
       "Shell Gasoline Station         497\n",
       "Name: Company, dtype: int64"
      ]
     },
     "execution_count": 5,
     "metadata": {},
     "output_type": "execute_result"
    }
   ],
   "source": [
    "df.Company.value_counts().head(20)"
   ]
  },
  {
   "cell_type": "code",
   "execution_count": 252,
   "id": "bce94ff6",
   "metadata": {},
   "outputs": [
    {
     "data": {
      "text/plain": [
       "(37, 9)"
      ]
     },
     "execution_count": 252,
     "metadata": {},
     "output_type": "execute_result"
    }
   ],
   "source": [
    "#filter to one restautant and city first\n",
    "jabee = df[(df.Company == 'JFC') & (df.MUNICIPALITY == 'Makati City')].copy()\n",
    "jabee = gpd.GeoDataFrame(jabee, geometry=gpd.points_from_xy(jabee.Longitude, jabee.Latitude))\n",
    "jabee.drop_duplicates(inplace=True)\n",
    "jabee.reset_index(inplace=True, drop = True)\n",
    "jabee.shape"
   ]
  },
  {
   "cell_type": "code",
   "execution_count": 253,
   "id": "91304843",
   "metadata": {},
   "outputs": [],
   "source": [
    "jabee = jabee.set_crs('epsg:4326')\n",
    "jabee = jabee.to_crs('epsg:3857')"
   ]
  },
  {
   "cell_type": "code",
   "execution_count": 254,
   "id": "807fbd73",
   "metadata": {},
   "outputs": [
    {
     "data": {
      "text/html": [
       "<div>\n",
       "<style scoped>\n",
       "    .dataframe tbody tr th:only-of-type {\n",
       "        vertical-align: middle;\n",
       "    }\n",
       "\n",
       "    .dataframe tbody tr th {\n",
       "        vertical-align: top;\n",
       "    }\n",
       "\n",
       "    .dataframe thead th {\n",
       "        text-align: right;\n",
       "    }\n",
       "</style>\n",
       "<table border=\"1\" class=\"dataframe\">\n",
       "  <thead>\n",
       "    <tr style=\"text-align: right;\">\n",
       "      <th></th>\n",
       "      <th>0</th>\n",
       "      <th>1</th>\n",
       "      <th>2</th>\n",
       "      <th>3</th>\n",
       "      <th>4</th>\n",
       "      <th>5</th>\n",
       "      <th>6</th>\n",
       "      <th>7</th>\n",
       "      <th>8</th>\n",
       "      <th>9</th>\n",
       "      <th>...</th>\n",
       "      <th>27</th>\n",
       "      <th>28</th>\n",
       "      <th>29</th>\n",
       "      <th>30</th>\n",
       "      <th>31</th>\n",
       "      <th>32</th>\n",
       "      <th>33</th>\n",
       "      <th>34</th>\n",
       "      <th>35</th>\n",
       "      <th>36</th>\n",
       "    </tr>\n",
       "  </thead>\n",
       "  <tbody>\n",
       "    <tr>\n",
       "      <th>0</th>\n",
       "      <td>0.000000</td>\n",
       "      <td>3.962088</td>\n",
       "      <td>2.081671</td>\n",
       "      <td>4.791418</td>\n",
       "      <td>2.523529</td>\n",
       "      <td>2.599084</td>\n",
       "      <td>3.717182</td>\n",
       "      <td>4.232250</td>\n",
       "      <td>3.447751</td>\n",
       "      <td>1.179590</td>\n",
       "      <td>...</td>\n",
       "      <td>1.856559</td>\n",
       "      <td>0.468248</td>\n",
       "      <td>1.518678</td>\n",
       "      <td>1.330669</td>\n",
       "      <td>4.545431</td>\n",
       "      <td>2.174665</td>\n",
       "      <td>3.845161</td>\n",
       "      <td>2.175114</td>\n",
       "      <td>1.459201</td>\n",
       "      <td>3.264757</td>\n",
       "    </tr>\n",
       "    <tr>\n",
       "      <th>1</th>\n",
       "      <td>3.962088</td>\n",
       "      <td>0.000000</td>\n",
       "      <td>2.346877</td>\n",
       "      <td>1.621043</td>\n",
       "      <td>1.985598</td>\n",
       "      <td>1.723614</td>\n",
       "      <td>1.726023</td>\n",
       "      <td>3.409991</td>\n",
       "      <td>2.350786</td>\n",
       "      <td>3.553176</td>\n",
       "      <td>...</td>\n",
       "      <td>4.361323</td>\n",
       "      <td>3.919742</td>\n",
       "      <td>4.812936</td>\n",
       "      <td>4.503805</td>\n",
       "      <td>1.259666</td>\n",
       "      <td>1.803527</td>\n",
       "      <td>3.602568</td>\n",
       "      <td>2.413516</td>\n",
       "      <td>4.981978</td>\n",
       "      <td>3.450372</td>\n",
       "    </tr>\n",
       "    <tr>\n",
       "      <th>2</th>\n",
       "      <td>2.081671</td>\n",
       "      <td>2.346877</td>\n",
       "      <td>0.000000</td>\n",
       "      <td>2.764092</td>\n",
       "      <td>0.461205</td>\n",
       "      <td>0.642165</td>\n",
       "      <td>1.640293</td>\n",
       "      <td>2.401513</td>\n",
       "      <td>1.414508</td>\n",
       "      <td>1.270386</td>\n",
       "      <td>...</td>\n",
       "      <td>3.374531</td>\n",
       "      <td>2.282706</td>\n",
       "      <td>3.425616</td>\n",
       "      <td>3.152412</td>\n",
       "      <td>2.562998</td>\n",
       "      <td>0.875396</td>\n",
       "      <td>2.192833</td>\n",
       "      <td>0.168552</td>\n",
       "      <td>3.462851</td>\n",
       "      <td>1.720937</td>\n",
       "    </tr>\n",
       "    <tr>\n",
       "      <th>3</th>\n",
       "      <td>4.791418</td>\n",
       "      <td>1.621043</td>\n",
       "      <td>2.764092</td>\n",
       "      <td>0.000000</td>\n",
       "      <td>2.302977</td>\n",
       "      <td>2.192575</td>\n",
       "      <td>1.202089</td>\n",
       "      <td>2.445191</td>\n",
       "      <td>1.838550</td>\n",
       "      <td>4.011494</td>\n",
       "      <td>...</td>\n",
       "      <td>5.645922</td>\n",
       "      <td>4.893107</td>\n",
       "      <td>5.944243</td>\n",
       "      <td>5.642428</td>\n",
       "      <td>0.362982</td>\n",
       "      <td>2.727684</td>\n",
       "      <td>2.852768</td>\n",
       "      <td>2.727047</td>\n",
       "      <td>6.051903</td>\n",
       "      <td>2.973892</td>\n",
       "    </tr>\n",
       "    <tr>\n",
       "      <th>4</th>\n",
       "      <td>2.523529</td>\n",
       "      <td>1.985598</td>\n",
       "      <td>0.461205</td>\n",
       "      <td>2.302977</td>\n",
       "      <td>0.000000</td>\n",
       "      <td>0.281711</td>\n",
       "      <td>1.194285</td>\n",
       "      <td>2.184905</td>\n",
       "      <td>1.087737</td>\n",
       "      <td>1.724002</td>\n",
       "      <td>...</td>\n",
       "      <td>3.701756</td>\n",
       "      <td>2.693646</td>\n",
       "      <td>3.818282</td>\n",
       "      <td>3.535403</td>\n",
       "      <td>2.104357</td>\n",
       "      <td>0.896410</td>\n",
       "      <td>2.082362</td>\n",
       "      <td>0.452947</td>\n",
       "      <td>3.874609</td>\n",
       "      <td>1.705647</td>\n",
       "    </tr>\n",
       "    <tr>\n",
       "      <th>5</th>\n",
       "      <td>2.599084</td>\n",
       "      <td>1.723614</td>\n",
       "      <td>0.642165</td>\n",
       "      <td>2.192575</td>\n",
       "      <td>0.281711</td>\n",
       "      <td>0.000000</td>\n",
       "      <td>1.177333</td>\n",
       "      <td>2.374517</td>\n",
       "      <td>1.234841</td>\n",
       "      <td>1.905065</td>\n",
       "      <td>...</td>\n",
       "      <td>3.640711</td>\n",
       "      <td>2.722471</td>\n",
       "      <td>3.817893</td>\n",
       "      <td>3.526290</td>\n",
       "      <td>1.959685</td>\n",
       "      <td>0.725856</td>\n",
       "      <td>2.317885</td>\n",
       "      <td>0.690326</td>\n",
       "      <td>3.896508</td>\n",
       "      <td>1.970102</td>\n",
       "    </tr>\n",
       "    <tr>\n",
       "      <th>6</th>\n",
       "      <td>3.717182</td>\n",
       "      <td>1.726023</td>\n",
       "      <td>1.640293</td>\n",
       "      <td>1.202089</td>\n",
       "      <td>1.194285</td>\n",
       "      <td>1.177333</td>\n",
       "      <td>0.000000</td>\n",
       "      <td>1.684064</td>\n",
       "      <td>0.704487</td>\n",
       "      <td>2.844534</td>\n",
       "      <td>...</td>\n",
       "      <td>4.811455</td>\n",
       "      <td>3.881152</td>\n",
       "      <td>4.991202</td>\n",
       "      <td>4.701664</td>\n",
       "      <td>1.123998</td>\n",
       "      <td>1.859055</td>\n",
       "      <td>1.910976</td>\n",
       "      <td>1.573966</td>\n",
       "      <td>5.060330</td>\n",
       "      <td>1.877140</td>\n",
       "    </tr>\n",
       "    <tr>\n",
       "      <th>7</th>\n",
       "      <td>4.232250</td>\n",
       "      <td>3.409991</td>\n",
       "      <td>2.401513</td>\n",
       "      <td>2.445191</td>\n",
       "      <td>2.184905</td>\n",
       "      <td>2.374517</td>\n",
       "      <td>1.684064</td>\n",
       "      <td>0.000000</td>\n",
       "      <td>1.162245</td>\n",
       "      <td>3.090718</td>\n",
       "      <td>...</td>\n",
       "      <td>5.756739</td>\n",
       "      <td>4.550157</td>\n",
       "      <td>5.709793</td>\n",
       "      <td>5.463658</td>\n",
       "      <td>2.578571</td>\n",
       "      <td>3.078701</td>\n",
       "      <td>0.567124</td>\n",
       "      <td>2.243458</td>\n",
       "      <td>5.689136</td>\n",
       "      <td>1.068489</td>\n",
       "    </tr>\n",
       "    <tr>\n",
       "      <th>8</th>\n",
       "      <td>3.447751</td>\n",
       "      <td>2.350786</td>\n",
       "      <td>1.414508</td>\n",
       "      <td>1.838550</td>\n",
       "      <td>1.087737</td>\n",
       "      <td>1.234841</td>\n",
       "      <td>0.704487</td>\n",
       "      <td>1.162245</td>\n",
       "      <td>0.000000</td>\n",
       "      <td>2.434242</td>\n",
       "      <td>...</td>\n",
       "      <td>4.774886</td>\n",
       "      <td>3.688004</td>\n",
       "      <td>4.837388</td>\n",
       "      <td>4.566484</td>\n",
       "      <td>1.815032</td>\n",
       "      <td>1.955798</td>\n",
       "      <td>1.252742</td>\n",
       "      <td>1.287458</td>\n",
       "      <td>4.863863</td>\n",
       "      <td>1.172827</td>\n",
       "    </tr>\n",
       "    <tr>\n",
       "      <th>9</th>\n",
       "      <td>1.179590</td>\n",
       "      <td>3.553176</td>\n",
       "      <td>1.270386</td>\n",
       "      <td>4.011494</td>\n",
       "      <td>1.724002</td>\n",
       "      <td>1.905065</td>\n",
       "      <td>2.844534</td>\n",
       "      <td>3.090718</td>\n",
       "      <td>2.434242</td>\n",
       "      <td>0.000000</td>\n",
       "      <td>...</td>\n",
       "      <td>2.944243</td>\n",
       "      <td>1.578525</td>\n",
       "      <td>2.697270</td>\n",
       "      <td>2.494071</td>\n",
       "      <td>3.827632</td>\n",
       "      <td>1.819186</td>\n",
       "      <td>2.676601</td>\n",
       "      <td>1.285097</td>\n",
       "      <td>2.631308</td>\n",
       "      <td>2.093437</td>\n",
       "    </tr>\n",
       "    <tr>\n",
       "      <th>10</th>\n",
       "      <td>4.369313</td>\n",
       "      <td>1.717515</td>\n",
       "      <td>2.303750</td>\n",
       "      <td>0.566836</td>\n",
       "      <td>1.848941</td>\n",
       "      <td>1.787462</td>\n",
       "      <td>0.677099</td>\n",
       "      <td>1.933128</td>\n",
       "      <td>1.274420</td>\n",
       "      <td>3.520916</td>\n",
       "      <td>...</td>\n",
       "      <td>5.365248</td>\n",
       "      <td>4.509874</td>\n",
       "      <td>5.598237</td>\n",
       "      <td>5.302767</td>\n",
       "      <td>0.647425</td>\n",
       "      <td>2.406667</td>\n",
       "      <td>2.306306</td>\n",
       "      <td>2.246272</td>\n",
       "      <td>5.683427</td>\n",
       "      <td>2.407749</td>\n",
       "    </tr>\n",
       "    <tr>\n",
       "      <th>11</th>\n",
       "      <td>2.674552</td>\n",
       "      <td>2.862053</td>\n",
       "      <td>0.944671</td>\n",
       "      <td>2.728993</td>\n",
       "      <td>0.969252</td>\n",
       "      <td>1.247171</td>\n",
       "      <td>1.532138</td>\n",
       "      <td>1.566425</td>\n",
       "      <td>0.939340</td>\n",
       "      <td>1.567381</td>\n",
       "      <td>...</td>\n",
       "      <td>4.208773</td>\n",
       "      <td>2.983769</td>\n",
       "      <td>4.143535</td>\n",
       "      <td>3.897720</td>\n",
       "      <td>2.645468</td>\n",
       "      <td>1.781949</td>\n",
       "      <td>1.267702</td>\n",
       "      <td>0.776301</td>\n",
       "      <td>4.127576</td>\n",
       "      <td>0.776844</td>\n",
       "    </tr>\n",
       "    <tr>\n",
       "      <th>12</th>\n",
       "      <td>3.037427</td>\n",
       "      <td>1.527124</td>\n",
       "      <td>1.020001</td>\n",
       "      <td>1.758001</td>\n",
       "      <td>0.564186</td>\n",
       "      <td>0.442638</td>\n",
       "      <td>0.753526</td>\n",
       "      <td>2.150037</td>\n",
       "      <td>0.988746</td>\n",
       "      <td>2.287645</td>\n",
       "      <td>...</td>\n",
       "      <td>4.058782</td>\n",
       "      <td>3.165039</td>\n",
       "      <td>4.256768</td>\n",
       "      <td>3.963530</td>\n",
       "      <td>1.543270</td>\n",
       "      <td>1.106217</td>\n",
       "      <td>2.195547</td>\n",
       "      <td>1.013747</td>\n",
       "      <td>4.338443</td>\n",
       "      <td>1.952311</td>\n",
       "    </tr>\n",
       "    <tr>\n",
       "      <th>13</th>\n",
       "      <td>1.123869</td>\n",
       "      <td>2.891437</td>\n",
       "      <td>1.020900</td>\n",
       "      <td>3.670070</td>\n",
       "      <td>1.429878</td>\n",
       "      <td>1.479762</td>\n",
       "      <td>2.621109</td>\n",
       "      <td>3.359953</td>\n",
       "      <td>2.433307</td>\n",
       "      <td>0.909483</td>\n",
       "      <td>...</td>\n",
       "      <td>2.399700</td>\n",
       "      <td>1.265244</td>\n",
       "      <td>2.404792</td>\n",
       "      <td>2.133734</td>\n",
       "      <td>3.421564</td>\n",
       "      <td>1.087922</td>\n",
       "      <td>3.068827</td>\n",
       "      <td>1.148840</td>\n",
       "      <td>2.446555</td>\n",
       "      <td>2.526600</td>\n",
       "    </tr>\n",
       "    <tr>\n",
       "      <th>14</th>\n",
       "      <td>3.053832</td>\n",
       "      <td>2.555357</td>\n",
       "      <td>1.102907</td>\n",
       "      <td>2.259503</td>\n",
       "      <td>0.904304</td>\n",
       "      <td>1.133491</td>\n",
       "      <td>1.075556</td>\n",
       "      <td>1.303433</td>\n",
       "      <td>0.454481</td>\n",
       "      <td>2.001341</td>\n",
       "      <td>...</td>\n",
       "      <td>4.473523</td>\n",
       "      <td>3.323130</td>\n",
       "      <td>4.480619</td>\n",
       "      <td>4.219736</td>\n",
       "      <td>2.198777</td>\n",
       "      <td>1.799190</td>\n",
       "      <td>1.184400</td>\n",
       "      <td>0.950800</td>\n",
       "      <td>4.489078</td>\n",
       "      <td>0.897484</td>\n",
       "    </tr>\n",
       "    <tr>\n",
       "      <th>15</th>\n",
       "      <td>1.896448</td>\n",
       "      <td>2.078660</td>\n",
       "      <td>1.148932</td>\n",
       "      <td>3.139570</td>\n",
       "      <td>1.289733</td>\n",
       "      <td>1.153526</td>\n",
       "      <td>2.296966</td>\n",
       "      <td>3.471458</td>\n",
       "      <td>2.369845</td>\n",
       "      <td>1.786475</td>\n",
       "      <td>...</td>\n",
       "      <td>2.527468</td>\n",
       "      <td>1.844811</td>\n",
       "      <td>2.814814</td>\n",
       "      <td>2.509612</td>\n",
       "      <td>2.837988</td>\n",
       "      <td>0.437912</td>\n",
       "      <td>3.323231</td>\n",
       "      <td>1.316599</td>\n",
       "      <td>2.947475</td>\n",
       "      <td>2.869197</td>\n",
       "    </tr>\n",
       "    <tr>\n",
       "      <th>16</th>\n",
       "      <td>3.411124</td>\n",
       "      <td>3.363383</td>\n",
       "      <td>1.770497</td>\n",
       "      <td>2.810762</td>\n",
       "      <td>1.701761</td>\n",
       "      <td>1.953909</td>\n",
       "      <td>1.745449</td>\n",
       "      <td>0.876011</td>\n",
       "      <td>1.043615</td>\n",
       "      <td>2.248240</td>\n",
       "      <td>...</td>\n",
       "      <td>5.021974</td>\n",
       "      <td>3.757253</td>\n",
       "      <td>4.910592</td>\n",
       "      <td>4.678601</td>\n",
       "      <td>2.835277</td>\n",
       "      <td>2.573445</td>\n",
       "      <td>0.441581</td>\n",
       "      <td>1.602147</td>\n",
       "      <td>4.870210</td>\n",
       "      <td>0.202001</td>\n",
       "    </tr>\n",
       "    <tr>\n",
       "      <th>17</th>\n",
       "      <td>3.368420</td>\n",
       "      <td>0.975206</td>\n",
       "      <td>2.238133</td>\n",
       "      <td>2.550728</td>\n",
       "      <td>2.040772</td>\n",
       "      <td>1.762213</td>\n",
       "      <td>2.323419</td>\n",
       "      <td>3.940009</td>\n",
       "      <td>2.790336</td>\n",
       "      <td>3.239987</td>\n",
       "      <td>...</td>\n",
       "      <td>3.472223</td>\n",
       "      <td>3.232492</td>\n",
       "      <td>3.999309</td>\n",
       "      <td>3.692904</td>\n",
       "      <td>2.188560</td>\n",
       "      <td>1.433247</td>\n",
       "      <td>4.006036</td>\n",
       "      <td>2.361941</td>\n",
       "      <td>4.199809</td>\n",
       "      <td>3.719652</td>\n",
       "    </tr>\n",
       "    <tr>\n",
       "      <th>18</th>\n",
       "      <td>2.432350</td>\n",
       "      <td>1.581785</td>\n",
       "      <td>0.887325</td>\n",
       "      <td>2.447556</td>\n",
       "      <td>0.762019</td>\n",
       "      <td>0.530284</td>\n",
       "      <td>1.601400</td>\n",
       "      <td>2.904362</td>\n",
       "      <td>1.759238</td>\n",
       "      <td>1.984398</td>\n",
       "      <td>...</td>\n",
       "      <td>3.233580</td>\n",
       "      <td>2.467854</td>\n",
       "      <td>3.496731</td>\n",
       "      <td>3.194977</td>\n",
       "      <td>2.159562</td>\n",
       "      <td>0.280129</td>\n",
       "      <td>2.839888</td>\n",
       "      <td>1.014994</td>\n",
       "      <td>3.610222</td>\n",
       "      <td>2.464443</td>\n",
       "    </tr>\n",
       "    <tr>\n",
       "      <th>19</th>\n",
       "      <td>1.286196</td>\n",
       "      <td>3.424314</td>\n",
       "      <td>1.126035</td>\n",
       "      <td>3.861652</td>\n",
       "      <td>1.577113</td>\n",
       "      <td>1.763582</td>\n",
       "      <td>2.693626</td>\n",
       "      <td>2.961596</td>\n",
       "      <td>2.285851</td>\n",
       "      <td>0.151018</td>\n",
       "      <td>...</td>\n",
       "      <td>3.010133</td>\n",
       "      <td>1.663603</td>\n",
       "      <td>2.797886</td>\n",
       "      <td>2.584580</td>\n",
       "      <td>3.679823</td>\n",
       "      <td>1.709915</td>\n",
       "      <td>2.559678</td>\n",
       "      <td>1.135968</td>\n",
       "      <td>2.743969</td>\n",
       "      <td>1.978627</td>\n",
       "    </tr>\n",
       "    <tr>\n",
       "      <th>20</th>\n",
       "      <td>2.255670</td>\n",
       "      <td>1.723250</td>\n",
       "      <td>0.906654</td>\n",
       "      <td>2.655738</td>\n",
       "      <td>0.886083</td>\n",
       "      <td>0.694316</td>\n",
       "      <td>1.806162</td>\n",
       "      <td>3.060675</td>\n",
       "      <td>1.928781</td>\n",
       "      <td>1.889583</td>\n",
       "      <td>...</td>\n",
       "      <td>3.022779</td>\n",
       "      <td>2.271833</td>\n",
       "      <td>3.289311</td>\n",
       "      <td>2.986805</td>\n",
       "      <td>2.363705</td>\n",
       "      <td>0.081078</td>\n",
       "      <td>2.966393</td>\n",
       "      <td>1.055052</td>\n",
       "      <td>3.406835</td>\n",
       "      <td>2.562160</td>\n",
       "    </tr>\n",
       "    <tr>\n",
       "      <th>21</th>\n",
       "      <td>3.129051</td>\n",
       "      <td>1.897269</td>\n",
       "      <td>1.047457</td>\n",
       "      <td>1.784732</td>\n",
       "      <td>0.623360</td>\n",
       "      <td>0.696634</td>\n",
       "      <td>0.603753</td>\n",
       "      <td>1.726587</td>\n",
       "      <td>0.564748</td>\n",
       "      <td>2.241274</td>\n",
       "      <td>...</td>\n",
       "      <td>4.313789</td>\n",
       "      <td>3.314473</td>\n",
       "      <td>4.441609</td>\n",
       "      <td>4.158626</td>\n",
       "      <td>1.650448</td>\n",
       "      <td>1.422229</td>\n",
       "      <td>1.766383</td>\n",
       "      <td>0.971706</td>\n",
       "      <td>4.495744</td>\n",
       "      <td>1.553653</td>\n",
       "    </tr>\n",
       "    <tr>\n",
       "      <th>22</th>\n",
       "      <td>2.689766</td>\n",
       "      <td>4.614212</td>\n",
       "      <td>4.012755</td>\n",
       "      <td>6.034725</td>\n",
       "      <td>4.286577</td>\n",
       "      <td>4.182332</td>\n",
       "      <td>5.321457</td>\n",
       "      <td>6.414112</td>\n",
       "      <td>5.373856</td>\n",
       "      <td>3.735137</td>\n",
       "      <td>...</td>\n",
       "      <td>0.847226</td>\n",
       "      <td>2.223006</td>\n",
       "      <td>1.565981</td>\n",
       "      <td>1.508238</td>\n",
       "      <td>5.695200</td>\n",
       "      <td>3.467064</td>\n",
       "      <td>6.163210</td>\n",
       "      <td>4.171109</td>\n",
       "      <td>1.869943</td>\n",
       "      <td>5.626850</td>\n",
       "    </tr>\n",
       "    <tr>\n",
       "      <th>23</th>\n",
       "      <td>3.458810</td>\n",
       "      <td>5.442576</td>\n",
       "      <td>4.900345</td>\n",
       "      <td>6.899491</td>\n",
       "      <td>5.178898</td>\n",
       "      <td>5.074509</td>\n",
       "      <td>6.210456</td>\n",
       "      <td>7.300832</td>\n",
       "      <td>6.266011</td>\n",
       "      <td>4.558969</td>\n",
       "      <td>...</td>\n",
       "      <td>1.615016</td>\n",
       "      <td>3.003725</td>\n",
       "      <td>2.116821</td>\n",
       "      <td>2.170281</td>\n",
       "      <td>6.555499</td>\n",
       "      <td>4.358098</td>\n",
       "      <td>7.039703</td>\n",
       "      <td>5.057377</td>\n",
       "      <td>2.374336</td>\n",
       "      <td>6.496793</td>\n",
       "    </tr>\n",
       "    <tr>\n",
       "      <th>24</th>\n",
       "      <td>2.145051</td>\n",
       "      <td>4.994457</td>\n",
       "      <td>3.893124</td>\n",
       "      <td>6.255328</td>\n",
       "      <td>4.248725</td>\n",
       "      <td>4.209198</td>\n",
       "      <td>5.385443</td>\n",
       "      <td>6.241488</td>\n",
       "      <td>5.305319</td>\n",
       "      <td>3.306055</td>\n",
       "      <td>...</td>\n",
       "      <td>0.636405</td>\n",
       "      <td>1.729608</td>\n",
       "      <td>0.694439</td>\n",
       "      <td>0.814457</td>\n",
       "      <td>5.941291</td>\n",
       "      <td>3.550503</td>\n",
       "      <td>5.913087</td>\n",
       "      <td>4.032420</td>\n",
       "      <td>0.948704</td>\n",
       "      <td>5.345363</td>\n",
       "    </tr>\n",
       "    <tr>\n",
       "      <th>25</th>\n",
       "      <td>3.607720</td>\n",
       "      <td>4.440606</td>\n",
       "      <td>4.466290</td>\n",
       "      <td>6.000600</td>\n",
       "      <td>4.636287</td>\n",
       "      <td>4.467894</td>\n",
       "      <td>5.502789</td>\n",
       "      <td>6.820675</td>\n",
       "      <td>5.702166</td>\n",
       "      <td>4.497325</td>\n",
       "      <td>...</td>\n",
       "      <td>1.926624</td>\n",
       "      <td>3.147262</td>\n",
       "      <td>2.720930</td>\n",
       "      <td>2.609610</td>\n",
       "      <td>5.642125</td>\n",
       "      <td>3.747478</td>\n",
       "      <td>6.658946</td>\n",
       "      <td>4.634087</td>\n",
       "      <td>3.031311</td>\n",
       "      <td>6.170913</td>\n",
       "    </tr>\n",
       "    <tr>\n",
       "      <th>26</th>\n",
       "      <td>1.453568</td>\n",
       "      <td>5.412538</td>\n",
       "      <td>3.460983</td>\n",
       "      <td>6.211738</td>\n",
       "      <td>3.917627</td>\n",
       "      <td>4.022706</td>\n",
       "      <td>5.098630</td>\n",
       "      <td>5.364387</td>\n",
       "      <td>4.745663</td>\n",
       "      <td>2.316872</td>\n",
       "      <td>...</td>\n",
       "      <td>2.278601</td>\n",
       "      <td>1.559301</td>\n",
       "      <td>1.492192</td>\n",
       "      <td>1.602634</td>\n",
       "      <td>5.979714</td>\n",
       "      <td>3.628220</td>\n",
       "      <td>4.899117</td>\n",
       "      <td>3.527471</td>\n",
       "      <td>1.194048</td>\n",
       "      <td>4.319739</td>\n",
       "    </tr>\n",
       "    <tr>\n",
       "      <th>27</th>\n",
       "      <td>1.856559</td>\n",
       "      <td>4.361323</td>\n",
       "      <td>3.374531</td>\n",
       "      <td>5.645922</td>\n",
       "      <td>3.701756</td>\n",
       "      <td>3.640711</td>\n",
       "      <td>4.811455</td>\n",
       "      <td>5.756739</td>\n",
       "      <td>4.774886</td>\n",
       "      <td>2.944243</td>\n",
       "      <td>...</td>\n",
       "      <td>0.000000</td>\n",
       "      <td>1.394527</td>\n",
       "      <td>0.824209</td>\n",
       "      <td>0.683530</td>\n",
       "      <td>5.326549</td>\n",
       "      <td>2.961283</td>\n",
       "      <td>5.463409</td>\n",
       "      <td>3.522726</td>\n",
       "      <td>1.135200</td>\n",
       "      <td>4.909455</td>\n",
       "    </tr>\n",
       "    <tr>\n",
       "      <th>28</th>\n",
       "      <td>0.468248</td>\n",
       "      <td>3.919742</td>\n",
       "      <td>2.282706</td>\n",
       "      <td>4.893107</td>\n",
       "      <td>2.693646</td>\n",
       "      <td>2.722471</td>\n",
       "      <td>3.881152</td>\n",
       "      <td>4.550157</td>\n",
       "      <td>3.688004</td>\n",
       "      <td>1.578525</td>\n",
       "      <td>...</td>\n",
       "      <td>1.394527</td>\n",
       "      <td>0.000000</td>\n",
       "      <td>1.160173</td>\n",
       "      <td>0.923048</td>\n",
       "      <td>4.622279</td>\n",
       "      <td>2.193342</td>\n",
       "      <td>4.196508</td>\n",
       "      <td>2.400604</td>\n",
       "      <td>1.181321</td>\n",
       "      <td>3.623662</td>\n",
       "    </tr>\n",
       "    <tr>\n",
       "      <th>29</th>\n",
       "      <td>1.518678</td>\n",
       "      <td>4.812936</td>\n",
       "      <td>3.425616</td>\n",
       "      <td>5.944243</td>\n",
       "      <td>3.818282</td>\n",
       "      <td>3.817893</td>\n",
       "      <td>4.991202</td>\n",
       "      <td>5.709793</td>\n",
       "      <td>4.837388</td>\n",
       "      <td>2.697270</td>\n",
       "      <td>...</td>\n",
       "      <td>0.824209</td>\n",
       "      <td>1.160173</td>\n",
       "      <td>0.000000</td>\n",
       "      <td>0.309135</td>\n",
       "      <td>5.651089</td>\n",
       "      <td>3.216608</td>\n",
       "      <td>5.348329</td>\n",
       "      <td>3.550706</td>\n",
       "      <td>0.312323</td>\n",
       "      <td>4.771844</td>\n",
       "    </tr>\n",
       "    <tr>\n",
       "      <th>30</th>\n",
       "      <td>1.330669</td>\n",
       "      <td>4.503805</td>\n",
       "      <td>3.152412</td>\n",
       "      <td>5.642428</td>\n",
       "      <td>3.535403</td>\n",
       "      <td>3.526290</td>\n",
       "      <td>4.701664</td>\n",
       "      <td>5.463658</td>\n",
       "      <td>4.566484</td>\n",
       "      <td>2.494071</td>\n",
       "      <td>...</td>\n",
       "      <td>0.683530</td>\n",
       "      <td>0.923048</td>\n",
       "      <td>0.309135</td>\n",
       "      <td>0.000000</td>\n",
       "      <td>5.346971</td>\n",
       "      <td>2.914877</td>\n",
       "      <td>5.118355</td>\n",
       "      <td>3.282407</td>\n",
       "      <td>0.540690</td>\n",
       "      <td>4.546448</td>\n",
       "    </tr>\n",
       "    <tr>\n",
       "      <th>31</th>\n",
       "      <td>4.545431</td>\n",
       "      <td>1.259666</td>\n",
       "      <td>2.562998</td>\n",
       "      <td>0.362982</td>\n",
       "      <td>2.104357</td>\n",
       "      <td>1.959685</td>\n",
       "      <td>1.123998</td>\n",
       "      <td>2.578571</td>\n",
       "      <td>1.815032</td>\n",
       "      <td>3.827632</td>\n",
       "      <td>...</td>\n",
       "      <td>5.326549</td>\n",
       "      <td>4.622279</td>\n",
       "      <td>5.651089</td>\n",
       "      <td>5.346971</td>\n",
       "      <td>0.000000</td>\n",
       "      <td>2.438584</td>\n",
       "      <td>2.932105</td>\n",
       "      <td>2.545318</td>\n",
       "      <td>5.769756</td>\n",
       "      <td>2.982262</td>\n",
       "    </tr>\n",
       "    <tr>\n",
       "      <th>32</th>\n",
       "      <td>2.174665</td>\n",
       "      <td>1.803527</td>\n",
       "      <td>0.875396</td>\n",
       "      <td>2.727684</td>\n",
       "      <td>0.896410</td>\n",
       "      <td>0.725856</td>\n",
       "      <td>1.859055</td>\n",
       "      <td>3.078701</td>\n",
       "      <td>1.955798</td>\n",
       "      <td>1.819186</td>\n",
       "      <td>...</td>\n",
       "      <td>2.961283</td>\n",
       "      <td>2.193342</td>\n",
       "      <td>3.216608</td>\n",
       "      <td>2.914877</td>\n",
       "      <td>2.438584</td>\n",
       "      <td>0.000000</td>\n",
       "      <td>2.969562</td>\n",
       "      <td>1.029627</td>\n",
       "      <td>3.331271</td>\n",
       "      <td>2.553094</td>\n",
       "    </tr>\n",
       "    <tr>\n",
       "      <th>33</th>\n",
       "      <td>3.845161</td>\n",
       "      <td>3.602568</td>\n",
       "      <td>2.192833</td>\n",
       "      <td>2.852768</td>\n",
       "      <td>2.082362</td>\n",
       "      <td>2.317885</td>\n",
       "      <td>1.910976</td>\n",
       "      <td>0.567124</td>\n",
       "      <td>1.252742</td>\n",
       "      <td>2.676601</td>\n",
       "      <td>...</td>\n",
       "      <td>5.463409</td>\n",
       "      <td>4.196508</td>\n",
       "      <td>5.348329</td>\n",
       "      <td>5.118355</td>\n",
       "      <td>2.932105</td>\n",
       "      <td>2.969562</td>\n",
       "      <td>0.000000</td>\n",
       "      <td>2.025427</td>\n",
       "      <td>5.303619</td>\n",
       "      <td>0.584409</td>\n",
       "    </tr>\n",
       "    <tr>\n",
       "      <th>34</th>\n",
       "      <td>2.175114</td>\n",
       "      <td>2.413516</td>\n",
       "      <td>0.168552</td>\n",
       "      <td>2.727047</td>\n",
       "      <td>0.452947</td>\n",
       "      <td>0.690326</td>\n",
       "      <td>1.573966</td>\n",
       "      <td>2.243458</td>\n",
       "      <td>1.287458</td>\n",
       "      <td>1.285097</td>\n",
       "      <td>...</td>\n",
       "      <td>3.522726</td>\n",
       "      <td>2.400604</td>\n",
       "      <td>3.550706</td>\n",
       "      <td>3.282407</td>\n",
       "      <td>2.545318</td>\n",
       "      <td>1.029627</td>\n",
       "      <td>2.025427</td>\n",
       "      <td>0.000000</td>\n",
       "      <td>3.577441</td>\n",
       "      <td>1.552787</td>\n",
       "    </tr>\n",
       "    <tr>\n",
       "      <th>35</th>\n",
       "      <td>1.459201</td>\n",
       "      <td>4.981978</td>\n",
       "      <td>3.462851</td>\n",
       "      <td>6.051903</td>\n",
       "      <td>3.874609</td>\n",
       "      <td>3.896508</td>\n",
       "      <td>5.060330</td>\n",
       "      <td>5.689136</td>\n",
       "      <td>4.863863</td>\n",
       "      <td>2.631308</td>\n",
       "      <td>...</td>\n",
       "      <td>1.135200</td>\n",
       "      <td>1.181321</td>\n",
       "      <td>0.312323</td>\n",
       "      <td>0.540690</td>\n",
       "      <td>5.769756</td>\n",
       "      <td>3.331271</td>\n",
       "      <td>5.303619</td>\n",
       "      <td>3.577441</td>\n",
       "      <td>0.000000</td>\n",
       "      <td>4.722334</td>\n",
       "    </tr>\n",
       "    <tr>\n",
       "      <th>36</th>\n",
       "      <td>3.264757</td>\n",
       "      <td>3.450372</td>\n",
       "      <td>1.720937</td>\n",
       "      <td>2.973892</td>\n",
       "      <td>1.705647</td>\n",
       "      <td>1.970102</td>\n",
       "      <td>1.877140</td>\n",
       "      <td>1.068489</td>\n",
       "      <td>1.172827</td>\n",
       "      <td>2.093437</td>\n",
       "      <td>...</td>\n",
       "      <td>4.909455</td>\n",
       "      <td>3.623662</td>\n",
       "      <td>4.771844</td>\n",
       "      <td>4.546448</td>\n",
       "      <td>2.982262</td>\n",
       "      <td>2.553094</td>\n",
       "      <td>0.584409</td>\n",
       "      <td>1.552787</td>\n",
       "      <td>4.722334</td>\n",
       "      <td>0.000000</td>\n",
       "    </tr>\n",
       "  </tbody>\n",
       "</table>\n",
       "<p>37 rows × 37 columns</p>\n",
       "</div>"
      ],
      "text/plain": [
       "          0         1         2         3         4         5         6   \\\n",
       "0   0.000000  3.962088  2.081671  4.791418  2.523529  2.599084  3.717182   \n",
       "1   3.962088  0.000000  2.346877  1.621043  1.985598  1.723614  1.726023   \n",
       "2   2.081671  2.346877  0.000000  2.764092  0.461205  0.642165  1.640293   \n",
       "3   4.791418  1.621043  2.764092  0.000000  2.302977  2.192575  1.202089   \n",
       "4   2.523529  1.985598  0.461205  2.302977  0.000000  0.281711  1.194285   \n",
       "5   2.599084  1.723614  0.642165  2.192575  0.281711  0.000000  1.177333   \n",
       "6   3.717182  1.726023  1.640293  1.202089  1.194285  1.177333  0.000000   \n",
       "7   4.232250  3.409991  2.401513  2.445191  2.184905  2.374517  1.684064   \n",
       "8   3.447751  2.350786  1.414508  1.838550  1.087737  1.234841  0.704487   \n",
       "9   1.179590  3.553176  1.270386  4.011494  1.724002  1.905065  2.844534   \n",
       "10  4.369313  1.717515  2.303750  0.566836  1.848941  1.787462  0.677099   \n",
       "11  2.674552  2.862053  0.944671  2.728993  0.969252  1.247171  1.532138   \n",
       "12  3.037427  1.527124  1.020001  1.758001  0.564186  0.442638  0.753526   \n",
       "13  1.123869  2.891437  1.020900  3.670070  1.429878  1.479762  2.621109   \n",
       "14  3.053832  2.555357  1.102907  2.259503  0.904304  1.133491  1.075556   \n",
       "15  1.896448  2.078660  1.148932  3.139570  1.289733  1.153526  2.296966   \n",
       "16  3.411124  3.363383  1.770497  2.810762  1.701761  1.953909  1.745449   \n",
       "17  3.368420  0.975206  2.238133  2.550728  2.040772  1.762213  2.323419   \n",
       "18  2.432350  1.581785  0.887325  2.447556  0.762019  0.530284  1.601400   \n",
       "19  1.286196  3.424314  1.126035  3.861652  1.577113  1.763582  2.693626   \n",
       "20  2.255670  1.723250  0.906654  2.655738  0.886083  0.694316  1.806162   \n",
       "21  3.129051  1.897269  1.047457  1.784732  0.623360  0.696634  0.603753   \n",
       "22  2.689766  4.614212  4.012755  6.034725  4.286577  4.182332  5.321457   \n",
       "23  3.458810  5.442576  4.900345  6.899491  5.178898  5.074509  6.210456   \n",
       "24  2.145051  4.994457  3.893124  6.255328  4.248725  4.209198  5.385443   \n",
       "25  3.607720  4.440606  4.466290  6.000600  4.636287  4.467894  5.502789   \n",
       "26  1.453568  5.412538  3.460983  6.211738  3.917627  4.022706  5.098630   \n",
       "27  1.856559  4.361323  3.374531  5.645922  3.701756  3.640711  4.811455   \n",
       "28  0.468248  3.919742  2.282706  4.893107  2.693646  2.722471  3.881152   \n",
       "29  1.518678  4.812936  3.425616  5.944243  3.818282  3.817893  4.991202   \n",
       "30  1.330669  4.503805  3.152412  5.642428  3.535403  3.526290  4.701664   \n",
       "31  4.545431  1.259666  2.562998  0.362982  2.104357  1.959685  1.123998   \n",
       "32  2.174665  1.803527  0.875396  2.727684  0.896410  0.725856  1.859055   \n",
       "33  3.845161  3.602568  2.192833  2.852768  2.082362  2.317885  1.910976   \n",
       "34  2.175114  2.413516  0.168552  2.727047  0.452947  0.690326  1.573966   \n",
       "35  1.459201  4.981978  3.462851  6.051903  3.874609  3.896508  5.060330   \n",
       "36  3.264757  3.450372  1.720937  2.973892  1.705647  1.970102  1.877140   \n",
       "\n",
       "          7         8         9   ...        27        28        29        30  \\\n",
       "0   4.232250  3.447751  1.179590  ...  1.856559  0.468248  1.518678  1.330669   \n",
       "1   3.409991  2.350786  3.553176  ...  4.361323  3.919742  4.812936  4.503805   \n",
       "2   2.401513  1.414508  1.270386  ...  3.374531  2.282706  3.425616  3.152412   \n",
       "3   2.445191  1.838550  4.011494  ...  5.645922  4.893107  5.944243  5.642428   \n",
       "4   2.184905  1.087737  1.724002  ...  3.701756  2.693646  3.818282  3.535403   \n",
       "5   2.374517  1.234841  1.905065  ...  3.640711  2.722471  3.817893  3.526290   \n",
       "6   1.684064  0.704487  2.844534  ...  4.811455  3.881152  4.991202  4.701664   \n",
       "7   0.000000  1.162245  3.090718  ...  5.756739  4.550157  5.709793  5.463658   \n",
       "8   1.162245  0.000000  2.434242  ...  4.774886  3.688004  4.837388  4.566484   \n",
       "9   3.090718  2.434242  0.000000  ...  2.944243  1.578525  2.697270  2.494071   \n",
       "10  1.933128  1.274420  3.520916  ...  5.365248  4.509874  5.598237  5.302767   \n",
       "11  1.566425  0.939340  1.567381  ...  4.208773  2.983769  4.143535  3.897720   \n",
       "12  2.150037  0.988746  2.287645  ...  4.058782  3.165039  4.256768  3.963530   \n",
       "13  3.359953  2.433307  0.909483  ...  2.399700  1.265244  2.404792  2.133734   \n",
       "14  1.303433  0.454481  2.001341  ...  4.473523  3.323130  4.480619  4.219736   \n",
       "15  3.471458  2.369845  1.786475  ...  2.527468  1.844811  2.814814  2.509612   \n",
       "16  0.876011  1.043615  2.248240  ...  5.021974  3.757253  4.910592  4.678601   \n",
       "17  3.940009  2.790336  3.239987  ...  3.472223  3.232492  3.999309  3.692904   \n",
       "18  2.904362  1.759238  1.984398  ...  3.233580  2.467854  3.496731  3.194977   \n",
       "19  2.961596  2.285851  0.151018  ...  3.010133  1.663603  2.797886  2.584580   \n",
       "20  3.060675  1.928781  1.889583  ...  3.022779  2.271833  3.289311  2.986805   \n",
       "21  1.726587  0.564748  2.241274  ...  4.313789  3.314473  4.441609  4.158626   \n",
       "22  6.414112  5.373856  3.735137  ...  0.847226  2.223006  1.565981  1.508238   \n",
       "23  7.300832  6.266011  4.558969  ...  1.615016  3.003725  2.116821  2.170281   \n",
       "24  6.241488  5.305319  3.306055  ...  0.636405  1.729608  0.694439  0.814457   \n",
       "25  6.820675  5.702166  4.497325  ...  1.926624  3.147262  2.720930  2.609610   \n",
       "26  5.364387  4.745663  2.316872  ...  2.278601  1.559301  1.492192  1.602634   \n",
       "27  5.756739  4.774886  2.944243  ...  0.000000  1.394527  0.824209  0.683530   \n",
       "28  4.550157  3.688004  1.578525  ...  1.394527  0.000000  1.160173  0.923048   \n",
       "29  5.709793  4.837388  2.697270  ...  0.824209  1.160173  0.000000  0.309135   \n",
       "30  5.463658  4.566484  2.494071  ...  0.683530  0.923048  0.309135  0.000000   \n",
       "31  2.578571  1.815032  3.827632  ...  5.326549  4.622279  5.651089  5.346971   \n",
       "32  3.078701  1.955798  1.819186  ...  2.961283  2.193342  3.216608  2.914877   \n",
       "33  0.567124  1.252742  2.676601  ...  5.463409  4.196508  5.348329  5.118355   \n",
       "34  2.243458  1.287458  1.285097  ...  3.522726  2.400604  3.550706  3.282407   \n",
       "35  5.689136  4.863863  2.631308  ...  1.135200  1.181321  0.312323  0.540690   \n",
       "36  1.068489  1.172827  2.093437  ...  4.909455  3.623662  4.771844  4.546448   \n",
       "\n",
       "          31        32        33        34        35        36  \n",
       "0   4.545431  2.174665  3.845161  2.175114  1.459201  3.264757  \n",
       "1   1.259666  1.803527  3.602568  2.413516  4.981978  3.450372  \n",
       "2   2.562998  0.875396  2.192833  0.168552  3.462851  1.720937  \n",
       "3   0.362982  2.727684  2.852768  2.727047  6.051903  2.973892  \n",
       "4   2.104357  0.896410  2.082362  0.452947  3.874609  1.705647  \n",
       "5   1.959685  0.725856  2.317885  0.690326  3.896508  1.970102  \n",
       "6   1.123998  1.859055  1.910976  1.573966  5.060330  1.877140  \n",
       "7   2.578571  3.078701  0.567124  2.243458  5.689136  1.068489  \n",
       "8   1.815032  1.955798  1.252742  1.287458  4.863863  1.172827  \n",
       "9   3.827632  1.819186  2.676601  1.285097  2.631308  2.093437  \n",
       "10  0.647425  2.406667  2.306306  2.246272  5.683427  2.407749  \n",
       "11  2.645468  1.781949  1.267702  0.776301  4.127576  0.776844  \n",
       "12  1.543270  1.106217  2.195547  1.013747  4.338443  1.952311  \n",
       "13  3.421564  1.087922  3.068827  1.148840  2.446555  2.526600  \n",
       "14  2.198777  1.799190  1.184400  0.950800  4.489078  0.897484  \n",
       "15  2.837988  0.437912  3.323231  1.316599  2.947475  2.869197  \n",
       "16  2.835277  2.573445  0.441581  1.602147  4.870210  0.202001  \n",
       "17  2.188560  1.433247  4.006036  2.361941  4.199809  3.719652  \n",
       "18  2.159562  0.280129  2.839888  1.014994  3.610222  2.464443  \n",
       "19  3.679823  1.709915  2.559678  1.135968  2.743969  1.978627  \n",
       "20  2.363705  0.081078  2.966393  1.055052  3.406835  2.562160  \n",
       "21  1.650448  1.422229  1.766383  0.971706  4.495744  1.553653  \n",
       "22  5.695200  3.467064  6.163210  4.171109  1.869943  5.626850  \n",
       "23  6.555499  4.358098  7.039703  5.057377  2.374336  6.496793  \n",
       "24  5.941291  3.550503  5.913087  4.032420  0.948704  5.345363  \n",
       "25  5.642125  3.747478  6.658946  4.634087  3.031311  6.170913  \n",
       "26  5.979714  3.628220  4.899117  3.527471  1.194048  4.319739  \n",
       "27  5.326549  2.961283  5.463409  3.522726  1.135200  4.909455  \n",
       "28  4.622279  2.193342  4.196508  2.400604  1.181321  3.623662  \n",
       "29  5.651089  3.216608  5.348329  3.550706  0.312323  4.771844  \n",
       "30  5.346971  2.914877  5.118355  3.282407  0.540690  4.546448  \n",
       "31  0.000000  2.438584  2.932105  2.545318  5.769756  2.982262  \n",
       "32  2.438584  0.000000  2.969562  1.029627  3.331271  2.553094  \n",
       "33  2.932105  2.969562  0.000000  2.025427  5.303619  0.584409  \n",
       "34  2.545318  1.029627  2.025427  0.000000  3.577441  1.552787  \n",
       "35  5.769756  3.331271  5.303619  3.577441  0.000000  4.722334  \n",
       "36  2.982262  2.553094  0.584409  1.552787  4.722334  0.000000  \n",
       "\n",
       "[37 rows x 37 columns]"
      ]
     },
     "execution_count": 254,
     "metadata": {},
     "output_type": "execute_result"
    }
   ],
   "source": [
    "dist = jabee.geometry.apply(lambda g: jabee.distance(g))/1000 #in km\n",
    "dist"
   ]
  },
  {
   "cell_type": "code",
   "execution_count": 255,
   "id": "b2c7c44d",
   "metadata": {},
   "outputs": [],
   "source": [
    "#creates data for the problem\n",
    "def create_data_model(dist_matrix, num_vehicles, depot_index):\n",
    "    \"\"\"Stores the data for the problem.\"\"\"\n",
    "    data = {}\n",
    "    data['distance_matrix'] = dist_matrix  # yapf: disable\n",
    "    data['num_vehicles'] = num_vehicles\n",
    "    data['depot'] = depot_index\n",
    "    return data"
   ]
  },
  {
   "cell_type": "code",
   "execution_count": 256,
   "id": "4815ec54",
   "metadata": {},
   "outputs": [],
   "source": [
    "data = create_data_model(np.array(dist), 3, 4)"
   ]
  },
  {
   "attachments": {},
   "cell_type": "markdown",
   "id": "d305f75d",
   "metadata": {},
   "source": [
    "# Vehicle Routing Problem\n",
    "\n",
    "In the Vehicle Routing Problem (VRP), the goal is to find optimal routes for multiple vehicles visiting a set of locations. (When there's only one vehicle, it reduces to the Traveling Salesperson Problem.)\n",
    "\n",
    "But what do we mean by \"optimal routes\" for a VRP? One answer is the routes with the least total distance. However, if there are no other constraints, the optimal solution is to assign just one vehicle to visit all locations, and find the shortest route for that vehicle. This is essentially the same problem as the TSP.\n",
    "\n",
    "A better way to define optimal routes is to minimize the length of the longest single route among all vehicles. This is the right definition if the goal is to complete all deliveries as soon as possible. The VRP example below finds optimal routes defined this way.\n",
    "\n",
    "In later sections, we'll describe other ways of generalizing the TSP by adding constraints on the vehicles, including:\n",
    "\n",
    "Capacity constraints: the vehicles need to pick up items at each location they visit, but have a maximum carrying capacity.\n",
    "Time windows: each location must be visited within a specific time window."
   ]
  },
  {
   "attachments": {},
   "cell_type": "markdown",
   "id": "9db3dbaa",
   "metadata": {},
   "source": [
    "## Create data\n",
    "\n",
    "[(456, 320), # location 0 - the depot\n",
    "(228, 0),    # location 1\n",
    "(912, 0),    # location 2\n",
    "(0, 80),     # location 3\n",
    "(114, 80),   # location 4\n",
    "(570, 160),  # location 5\n",
    "(798, 160),  # location 6\n",
    "(342, 240),  # location 7\n",
    "(684, 240),  # location 8\n",
    "(570, 400),  # location 9\n",
    "(912, 400),  # location 10\n",
    "(114, 480),  # location 11\n",
    "(228, 480),  # location 12\n",
    "(342, 560),  # location 13\n",
    "(684, 560),  # location 14\n",
    "(0, 640),    # location 15\n",
    "(798, 640)]  # location 16"
   ]
  },
  {
   "cell_type": "code",
   "execution_count": 257,
   "id": "843c4d0e",
   "metadata": {},
   "outputs": [],
   "source": [
    "# Create the routing index manager.\n",
    "manager = pywrapcp.RoutingIndexManager(len(data['distance_matrix']),\n",
    "                                        data['num_vehicles'], data['depot'])\n",
    "\n",
    "# Create Routing Model.\n",
    "routing = pywrapcp.RoutingModel(manager)"
   ]
  },
  {
   "attachments": {},
   "cell_type": "markdown",
   "id": "6b655feb",
   "metadata": {},
   "source": [
    "## Create the distance callback\n",
    "\n",
    "To use the routing solver, you need to create a distance (or transit) callback: a function that takes any pair of locations and returns the distance between them. The easiest way to do this is using the distance matrix.\n",
    "\n",
    "The following function creates the callback and registers it with the solver as transit_callback_index."
   ]
  },
  {
   "cell_type": "code",
   "execution_count": 258,
   "id": "ab9e4c0b",
   "metadata": {},
   "outputs": [],
   "source": [
    "def distance_callback(from_index, to_index):\n",
    "    \"\"\"Returns the distance between the two nodes.\"\"\"\n",
    "    # Convert from routing variable Index to distance matrix NodeIndex.\n",
    "    from_node = manager.IndexToNode(from_index)\n",
    "    to_node = manager.IndexToNode(to_index)\n",
    "    return data['distance_matrix'][from_node][to_node]\n",
    "\n",
    "transit_callback_index = routing.RegisterTransitCallback(distance_callback)"
   ]
  },
  {
   "cell_type": "code",
   "execution_count": 259,
   "id": "06390747",
   "metadata": {},
   "outputs": [
    {
     "data": {
      "text/plain": [
       "1.985598337318096"
      ]
     },
     "execution_count": 259,
     "metadata": {},
     "output_type": "execute_result"
    }
   ],
   "source": [
    "data['distance_matrix'][1][4]"
   ]
  },
  {
   "attachments": {},
   "cell_type": "markdown",
   "id": "db0014da",
   "metadata": {},
   "source": [
    "## Set the cost of travel\n",
    "\n",
    "In this example, the arc cost evaluator is the transit_callback_index, which is the solver's internal reference to the distance callback. This means that the cost of travel between any two locations is just the distance between them. However, in general the costs can involve other factors as well.\n",
    "\n",
    "You can also define multiple arc cost evaluators that depend on which vehicle is traveling between locations, using the method routing.SetArcCostEvaluatorOfVehicle(). For example, if the vehicles have different speeds, you could define the cost of travel between locations to be the distance divided by the vehicle's speed — in other words, the travel time.\n",
    "\n"
   ]
  },
  {
   "cell_type": "code",
   "execution_count": 260,
   "id": "8beca82f",
   "metadata": {},
   "outputs": [],
   "source": [
    "routing.SetArcCostEvaluatorOfAllVehicles(transit_callback_index)"
   ]
  },
  {
   "attachments": {},
   "cell_type": "markdown",
   "id": "0765be17",
   "metadata": {},
   "source": [
    "## Add a distance dimension\n",
    "\n",
    "To solve this VRP, you need to create a distance dimension, which computes the cumulative distance traveled by each vehicle along its route. You can then set a cost proportional to the maximum of the total distances along each route. Routing programs use dimensions to keep track of quantities that accumulate over a vehicle's route. See Dimensions for more details.\n",
    "\n",
    "The following code creates the distance dimension, using the solver's AddDimension method. The argument transit_callback_index is the index for the distance_callback."
   ]
  },
  {
   "cell_type": "code",
   "execution_count": 261,
   "id": "44d298fa",
   "metadata": {},
   "outputs": [],
   "source": [
    "dimension_name = 'Distance'\n",
    "routing.AddDimension(\n",
    "    transit_callback_index,\n",
    "    0,  # no slack\n",
    "    3000,  # vehicle maximum travel distance\n",
    "    True,  # start cumul to zero\n",
    "    dimension_name)\n",
    "distance_dimension = routing.GetDimensionOrDie(dimension_name)\n",
    "distance_dimension.SetGlobalSpanCostCoefficient(100)"
   ]
  },
  {
   "attachments": {},
   "cell_type": "markdown",
   "id": "002e2455",
   "metadata": {},
   "source": [
    "## Add solution printer"
   ]
  },
  {
   "cell_type": "code",
   "execution_count": 262,
   "id": "a04a84f1",
   "metadata": {},
   "outputs": [],
   "source": [
    "def print_solution(data, manager, routing, solution):\n",
    "    \"\"\"Prints solution on console.\"\"\"\n",
    "    print(f'Objective: {solution.ObjectiveValue()}')\n",
    "    max_route_distance = 0\n",
    "    for vehicle_id in range(data['num_vehicles']):\n",
    "        index = routing.Start(vehicle_id)\n",
    "        plan_output = 'Route for vehicle {}:\\n'.format(vehicle_id)\n",
    "        route_distance = 0\n",
    "        while not routing.IsEnd(index):\n",
    "            plan_output += ' {} -> '.format(manager.IndexToNode(index))\n",
    "            previous_index = index\n",
    "            index = solution.Value(routing.NextVar(index))\n",
    "            route_distance += routing.GetArcCostForVehicle(\n",
    "                previous_index, index, vehicle_id)\n",
    "        plan_output += '{}\\n'.format(manager.IndexToNode(index))\n",
    "        plan_output += 'Distance of the route: {}m\\n'.format(route_distance)\n",
    "        print(plan_output)\n",
    "        max_route_distance = max(route_distance, max_route_distance)\n",
    "    print('Maximum of the route distances: {}m'.format(max_route_distance))"
   ]
  },
  {
   "attachments": {},
   "cell_type": "markdown",
   "id": "03afd270",
   "metadata": {},
   "source": [
    "## Solve and print solution"
   ]
  },
  {
   "cell_type": "code",
   "execution_count": 263,
   "id": "7ed6fe45",
   "metadata": {},
   "outputs": [],
   "source": [
    "# Setting first solution heuristic.\n",
    "search_parameters = pywrapcp.DefaultRoutingSearchParameters()\n",
    "search_parameters.first_solution_strategy = (\n",
    "routing_enums_pb2.FirstSolutionStrategy.PATH_CHEAPEST_ARC)\n",
    "search_parameters.time_limit.seconds = 300 #stop after 5 minutes\n",
    "\n",
    "# Solve the problem.\n",
    "solution = routing.SolveWithParameters(search_parameters)"
   ]
  },
  {
   "cell_type": "code",
   "execution_count": 264,
   "id": "3c923863",
   "metadata": {},
   "outputs": [
    {
     "name": "stdout",
     "output_type": "stream",
     "text": [
      "Objective: 613\n",
      "Route for vehicle 0:\n",
      " 4 ->  32 ->  15 ->  13 ->  19 ->  9 ->  28 ->  30 ->  35 ->  29 ->  24 ->  27 ->  22 ->  23 ->  25 ->  20 -> 4\n",
      "Distance of the route: 5m\n",
      "\n",
      "Route for vehicle 1:\n",
      " 4 ->  18 ->  0 ->  26 -> 4\n",
      "Distance of the route: 6m\n",
      "\n",
      "Route for vehicle 2:\n",
      " 4 ->  34 ->  14 ->  36 ->  33 ->  7 ->  16 ->  11 ->  8 ->  12 ->  17 ->  1 ->  3 ->  31 ->  10 ->  6 ->  21 ->  5 ->  2 -> 4\n",
      "Distance of the route: 2m\n",
      "\n",
      "Maximum of the route distances: 6m\n"
     ]
    }
   ],
   "source": [
    "print_solution(data, manager, routing, solution)"
   ]
  },
  {
   "attachments": {},
   "cell_type": "markdown",
   "id": "6f01d935",
   "metadata": {},
   "source": [
    "## Save routes to a list or array\n",
    "\n",
    "As an alternative to printing the solution directly, you can save the route (or routes, for a VRP) to a list or array. This has the advantage of making the routes available in case you want to do something with them later. For example, you could run the program several times with different parameters and save the routes in the returned solutions to a file for comparison.\n",
    "\n",
    "The following functions save the routes in the solution to any VRP (possibly with multiple vehicles) as a list (Python) or an array (C++)."
   ]
  },
  {
   "cell_type": "code",
   "execution_count": 265,
   "id": "d75df30b",
   "metadata": {},
   "outputs": [],
   "source": [
    "def get_routes(solution, routing, manager):\n",
    "  \"\"\"Get vehicle routes from a solution and store them in an array.\"\"\"\n",
    "  # Get vehicle routes and store them in a two dimensional array whose\n",
    "  # i,j entry is the jth location visited by vehicle i along its route.\n",
    "  routes = []\n",
    "  for route_nbr in range(routing.vehicles()):\n",
    "    index = routing.Start(route_nbr)\n",
    "    route = [manager.IndexToNode(index)]\n",
    "    while not routing.IsEnd(index):\n",
    "      index = solution.Value(routing.NextVar(index))\n",
    "      route.append(manager.IndexToNode(index))\n",
    "    routes.append(route)\n",
    "  return routes"
   ]
  },
  {
   "cell_type": "code",
   "execution_count": 266,
   "id": "ca2f4eda",
   "metadata": {},
   "outputs": [
    {
     "name": "stdout",
     "output_type": "stream",
     "text": [
      "Route 0 [4, 32, 15, 13, 19, 9, 28, 30, 35, 29, 24, 27, 22, 23, 25, 20, 4]\n",
      "Route 1 [4, 18, 0, 26, 4]\n",
      "Route 2 [4, 34, 14, 36, 33, 7, 16, 11, 8, 12, 17, 1, 3, 31, 10, 6, 21, 5, 2, 4]\n"
     ]
    }
   ],
   "source": [
    "routes = get_routes(solution, routing, manager)\n",
    "# Display the routes.\n",
    "for i, route in enumerate(routes):\n",
    "  print('Route', i, route)"
   ]
  },
  {
   "attachments": {},
   "cell_type": "markdown",
   "id": "8fc5dbad",
   "metadata": {},
   "source": [
    "# Plot results"
   ]
  },
  {
   "cell_type": "code",
   "execution_count": 267,
   "id": "e8c2a55e",
   "metadata": {},
   "outputs": [],
   "source": [
    "jabee = jabee.to_crs('epsg:4326')\n",
    "jabee['Hub_Flg'] = '0'\n",
    "jabee.loc[data['depot'], 'Hub_Flg'] = '1'"
   ]
  },
  {
   "cell_type": "code",
   "execution_count": 268,
   "id": "2a5fed82",
   "metadata": {},
   "outputs": [],
   "source": [
    "colors = px.colors.qualitative.Plotly"
   ]
  },
  {
   "cell_type": "code",
   "execution_count": 269,
   "id": "88dcd19d",
   "metadata": {},
   "outputs": [],
   "source": [
    "def compute_arrow_coords(A, B):\n",
    "    \n",
    "    #Workaround to get the arrow at the end of an edge AB\n",
    "    #A - coords of point 1, B - coords of point B\n",
    "    l = 0.001  # the arrow length\n",
    "    widh =0.035  #2*widh is the width of the arrow base as triangle\n",
    "\n",
    "    # A = np.array([locations['lon'][5], locations['lat'][5]])\n",
    "    # B = np.array([locations['lon'][0], locations['lat'][0]])\n",
    "    v = B-A\n",
    "    w = v/np.linalg.norm(v)     \n",
    "    u  =np.array([-v[1], v[0]])  #u orthogonal on  w\n",
    "            \n",
    "    P = B-l*w\n",
    "    S = P - widh*u\n",
    "    T = P + widh*u\n",
    "\n",
    "    return S, T"
   ]
  },
  {
   "cell_type": "code",
   "execution_count": 278,
   "id": "247aba61",
   "metadata": {},
   "outputs": [
    {
     "data": {
      "application/vnd.plotly.v1+json": {
       "config": {
        "plotlyServerURL": "https://plot.ly"
       },
       "data": [
        {
         "lat": [
          14.556161700000002,
          14.544866099999998,
          14.559043600000004,
          14.555619800000002,
          14.556076000000001,
          14.5598674,
          14.5745078,
          14.564934199999996,
          14.563068100000002,
          14.558807499999997,
          14.566752699999999,
          14.556639699999995,
          14.555462400000003,
          14.565685499999997,
          14.549455600000003,
          14.5729641,
          14.540946900000002,
          14.551870199999996,
          14.562946599999998,
          14.551239800000001,
          14.560359699999996,
          14.533541299999996,
          14.528526700000002,
          14.5408833,
          14.524794100000001,
          14.559379900000003,
          14.540867099999996,
          14.552159400000006,
          14.546747999999992,
          14.546640899999998,
          14.553389099999993,
          14.551445,
          14.5757154,
          14.560396600000002,
          14.549131399999998,
          14.573204700000002
         ],
         "lon": [
          121.04498279999999,
          121.01135829999994,
          121.02652140000004,
          121.0019444,
          121.021635,
          121.011811,
          121.01202619999997,
          121.01536699999998,
          121.037149,
          121.00582789999997,
          121.02359340000001,
          121.01770159999995,
          121.0349128,
          121.0193752,
          121.02941920000002,
          121.01973219999998,
          121.01912690000002,
          121.02358719999998,
          121.0357982,
          121.0253682,
          121.0172107,
          121.05112310000001,
          121.0572435,
          121.0560352,
          121.04543609999999,
          121.05761,
          121.05031829999999,
          121.0457543,
          121.05454990000001,
          121.05177509999997,
          121.00425109999999,
          121.02606500000002,
          121.0169656,
          121.02593960000002,
          121.05589470000001,
          121.0215297
         ],
         "marker": {
          "color": "yellow",
          "size": 10
         },
         "mode": "markers+text",
         "name": "Destinations",
         "showlegend": false,
         "text": [
          "0",
          "1",
          "2",
          "3",
          "5",
          "6",
          "7",
          "8",
          "9",
          "10",
          "11",
          "12",
          "13",
          "14",
          "15",
          "16",
          "17",
          "18",
          "19",
          "20",
          "21",
          "22",
          "23",
          "24",
          "25",
          "26",
          "27",
          "28",
          "29",
          "30",
          "31",
          "32",
          "33",
          "34",
          "35",
          "36"
         ],
         "textposition": "bottom right",
         "type": "scattermapbox"
        },
        {
         "lat": [
          14.5584008,
          14.551445,
          14.549455600000003,
          14.555462400000003,
          14.562946599999998,
          14.563068100000002,
          14.552159400000006,
          14.546640899999998,
          14.549131399999998,
          14.546747999999992,
          14.5408833,
          14.540867099999996,
          14.533541299999996,
          14.528526700000002,
          14.524794100000001,
          14.551239800000001,
          14.5584008
         ],
         "lon": [
          121.02243190000003,
          121.02606500000002,
          121.02941920000002,
          121.0349128,
          121.0357982,
          121.037149,
          121.0457543,
          121.05177509999997,
          121.05589470000001,
          121.05454990000001,
          121.0560352,
          121.05031829999999,
          121.05112310000001,
          121.0572435,
          121.04543609999999,
          121.0253682,
          121.02243190000003
         ],
         "marker": {
          "color": "#636EFA",
          "size": 14
         },
         "mode": "lines",
         "name": "Route 0",
         "type": "scattermapbox"
        },
        {
         "fill": "toself",
         "fillcolor": "#636EFA",
         "lat": [
          14.552204217899934,
          14.552458534899934,
          14.551445,
          14.552204217899934
         ],
         "line": {
          "color": "#636EFA"
         },
         "lon": [
          121.02535858169068,
          121.02584548769067,
          121.026065,
          121.02535858169068
         ],
         "mode": "lines",
         "showlegend": false,
         "type": "scattermapbox"
        },
        {
         "fill": "toself",
         "fillcolor": "#636EFA",
         "lat": [
          14.54984833289921,
          14.55008312689921,
          14.549455599999998,
          14.54984833289921
         ],
         "line": {
          "color": "#636EFA"
         },
         "lon": [
          121.02848947362999,
          121.02862873162998,
          121.0294192,
          121.02848947362999
         ],
         "mode": "lines",
         "showlegend": false,
         "type": "scattermapbox"
        },
        {
         "fill": "toself",
         "fillcolor": "#636EFA",
         "lat": [
          14.554532197277094,
          14.554916749277094,
          14.5554624,
          14.554532197277094
         ],
         "line": {
          "color": "#636EFA"
         },
         "lon": [
          121.03444815715746,
          121.03402768115747,
          121.0349128,
          121.03444815715746
         ],
         "mode": "lines",
         "showlegend": false,
         "type": "scattermapbox"
        },
        {
         "fill": "toself",
         "fillcolor": "#636EFA",
         "lat": [
          14.561922536141147,
          14.561984514141148,
          14.562946599999998,
          14.561922536141147
         ],
         "line": {
          "color": "#636EFA"
         },
         "lon": [
          121.03594266370452,
          121.03541876970452,
          121.0357982,
          121.03594266370452
         ],
         "mode": "lines",
         "showlegend": false,
         "type": "scattermapbox"
        },
        {
         "fill": "toself",
         "fillcolor": "#636EFA",
         "lat": [
          14.562931236961505,
          14.563025792961506,
          14.5630681,
          14.562931236961505
         ],
         "line": {
          "color": "#636EFA"
         },
         "lon": [
          121.03615727332307,
          121.03614876832306,
          121.037149,
          121.03615727332307
         ],
         "mode": "lines",
         "showlegend": false,
         "type": "scattermapbox"
        },
        {
         "fill": "toself",
         "fillcolor": "#636EFA",
         "lat": [
          14.55264333633617,
          14.553245707336169,
          14.5521594,
          14.55264333633617
         ],
         "line": {
          "color": "#636EFA"
         },
         "lon": [
          121.0447531541544,
          121.0455167631544,
          121.0457543,
          121.0447531541544
         ],
         "mode": "lines",
         "showlegend": false,
         "type": "scattermapbox"
        },
        {
         "fill": "toself",
         "fillcolor": "#636EFA",
         "lat": [
          14.547105858925255,
          14.547527314925256,
          14.546640900000002,
          14.547105858925255
         ],
         "line": {
          "color": "#636EFA"
         },
         "lon": [
          121.05084476380026,
          121.05123105880025,
          121.0517751,
          121.05084476380026
         ],
         "mode": "lines",
         "showlegend": false,
         "type": "scattermapbox"
        },
        {
         "fill": "toself",
         "fillcolor": "#636EFA",
         "lat": [
          14.548469858693206,
          14.548758230693206,
          14.549131400000002,
          14.548469858693206
         ],
         "line": {
          "color": "#636EFA"
         },
         "lon": [
          121.0551260968026,
          121.0549517618026,
          121.0558947,
          121.0551260968026
         ],
         "mode": "lines",
         "showlegend": false,
         "type": "scattermapbox"
        },
        {
         "fill": "toself",
         "fillcolor": "#636EFA",
         "lat": [
          14.547665996745051,
          14.54757186074505,
          14.546748,
          14.547665996745051
         ],
         "line": {
          "color": "#636EFA"
         },
         "lon": [
          121.05495789032128,
          121.05512472832129,
          121.0545499,
          121.05495789032128
         ],
         "mode": "lines",
         "showlegend": false,
         "type": "scattermapbox"
        },
        {
         "fill": "toself",
         "fillcolor": "#636EFA",
         "lat": [
          14.541800708619084,
          14.541904679619085,
          14.5408833,
          14.541800708619084
         ],
         "line": {
          "color": "#636EFA"
         },
         "lon": [
          121.05558442574075,
          121.05599495474074,
          121.0560352,
          121.05558442574075
         ],
         "mode": "lines",
         "showlegend": false,
         "type": "scattermapbox"
        },
        {
         "fill": "toself",
         "fillcolor": "#636EFA",
         "lat": [
          14.541070025192203,
          14.540669842192203,
          14.5408671,
          14.541070025192203
         ],
         "line": {
          "color": "#636EFA"
         },
         "lon": [
          121.05131772898508,
          121.05131886298508,
          121.0503183,
          121.05131772898508
         ],
         "mode": "lines",
         "showlegend": false,
         "type": "scattermapbox"
        },
        {
         "fill": "toself",
         "fillcolor": "#636EFA",
         "lat": [
          14.534507151653774,
          14.534563487653774,
          14.5335413,
          14.534507151653774
         ],
         "line": {
          "color": "#636EFA"
         },
         "lon": [
          121.05075749568174,
          121.05127030168173,
          121.0511231,
          121.05075749568174
         ],
         "mode": "lines",
         "showlegend": false,
         "type": "scattermapbox"
        },
        {
         "fill": "toself",
         "fillcolor": "#636EFA",
         "lat": [
          14.528946253580674,
          14.529374681580673,
          14.5285267,
          14.528946253580674
         ],
         "line": {
          "color": "#636EFA"
         },
         "lon": [
          121.05629446546857,
          121.05664548746856,
          121.0572435,
          121.05629446546857
         ],
         "mode": "lines",
         "showlegend": false,
         "type": "scattermapbox"
        },
        {
         "fill": "toself",
         "fillcolor": "#636EFA",
         "lat": [
          14.525508780212977,
          14.524682262212977,
          14.5247941,
          14.525508780212977
         ],
         "line": {
          "color": "#636EFA"
         },
         "lon": [
          121.04625895008668,
          121.04652023208668,
          121.0454361,
          121.04625895008668
         ],
         "mode": "lines",
         "showlegend": false,
         "type": "scattermapbox"
        },
        {
         "fill": "toself",
         "fillcolor": "#636EFA",
         "lat": [
          14.551145567110375,
          14.549740814110375,
          14.5512398,
          14.551145567110375
         ],
         "line": {
          "color": "#636EFA"
         },
         "lon": [
          121.0268982939006,
          121.02504709490061,
          121.0253682,
          121.0268982939006
         ],
         "mode": "lines",
         "showlegend": false,
         "type": "scattermapbox"
        },
        {
         "fill": "toself",
         "fillcolor": "#636EFA",
         "lat": [
          14.557578331747049,
          14.55737279074705,
          14.5584008,
          14.557578331747049
         ],
         "line": {
          "color": "#636EFA"
         },
         "lon": [
          121.02306192035824,
          121.02256065035824,
          121.02243190000002,
          121.02306192035824
         ],
         "mode": "lines",
         "showlegend": false,
         "type": "scattermapbox"
        },
        {
         "lat": [
          14.5584008,
          14.551870199999996,
          14.556161700000002,
          14.559379900000003,
          14.5584008
         ],
         "lon": [
          121.02243190000003,
          121.02358719999998,
          121.04498279999999,
          121.05761,
          121.02243190000003
         ],
         "marker": {
          "color": "#EF553B",
          "size": 14
         },
         "mode": "lines",
         "name": "Route 1",
         "type": "scattermapbox"
        },
        {
         "fill": "toself",
         "fillcolor": "#EF553B",
         "lat": [
          14.552814474653713,
          14.552895345653711,
          14.5518702,
          14.552814474653713
         ],
         "line": {
          "color": "#EF553B"
         },
         "lon": [
          121.02318442821591,
          121.0236415702159,
          121.0235872,
          121.02318442821591
         ],
         "mode": "lines",
         "showlegend": false,
         "type": "scattermapbox"
        },
        {
         "fill": "toself",
         "fillcolor": "#EF553B",
         "lat": [
          14.555216192391415,
          14.556713884391415,
          14.5561617,
          14.555216192391415
         ],
         "line": {
          "color": "#EF553B"
         },
         "lon": [
          121.04415253107679,
          121.0438521260768,
          121.0449828,
          121.04415253107679
         ],
         "mode": "lines",
         "showlegend": false,
         "type": "scattermapbox"
        },
        {
         "fill": "toself",
         "fillcolor": "#EF553B",
         "lat": [
          14.558690980183268,
          14.559574884183267,
          14.5593799,
          14.558690980183268
         ],
         "line": {
          "color": "#EF553B"
         },
         "lon": [
          121.05675361331737,
          121.05652833931737,
          121.05761,
          121.05675361331737
         ],
         "mode": "lines",
         "showlegend": false,
         "type": "scattermapbox"
        },
        {
         "fill": "toself",
         "fillcolor": "#EF553B",
         "lat": [
          14.559659855383128,
          14.55719738838313,
          14.5584008,
          14.559659855383128
         ],
         "line": {
          "color": "#EF553B"
         },
         "lon": [
          121.02339724439649,
          121.0234657813965,
          121.02243190000002,
          121.02339724439649
         ],
         "mode": "lines",
         "showlegend": false,
         "type": "scattermapbox"
        },
        {
         "lat": [
          14.5584008,
          14.560396600000002,
          14.565685499999997,
          14.573204700000002,
          14.5757154,
          14.5745078,
          14.5729641,
          14.566752699999999,
          14.564934199999996,
          14.556639699999995,
          14.540946900000002,
          14.544866099999998,
          14.555619800000002,
          14.553389099999993,
          14.558807499999997,
          14.5598674,
          14.560359699999996,
          14.556076000000001,
          14.559043600000004,
          14.5584008
         ],
         "lon": [
          121.02243190000003,
          121.02593960000002,
          121.0193752,
          121.0215297,
          121.0169656,
          121.01202619999997,
          121.01973219999998,
          121.02359340000001,
          121.01536699999998,
          121.01770159999995,
          121.01912690000002,
          121.01135829999994,
          121.0019444,
          121.00425109999999,
          121.00582789999997,
          121.011811,
          121.0172107,
          121.021635,
          121.02652140000004,
          121.02243190000003
         ],
         "marker": {
          "color": "#00CC96",
          "size": 14
         },
         "mode": "lines",
         "name": "Route 2",
         "type": "scattermapbox"
        },
        {
         "fill": "toself",
         "fillcolor": "#00CC96",
         "lat": [
          14.559779298827749,
          14.560024837827747,
          14.5603966,
          14.559779298827749
         ],
         "line": {
          "color": "#00CC96"
         },
         "lon": [
          121.02514029339144,
          121.02500058739145,
          121.0259396,
          121.02514029339144
         ],
         "mode": "lines",
         "showlegend": false,
         "type": "scattermapbox"
        },
        {
         "fill": "toself",
         "fillcolor": "#00CC96",
         "lat": [
          14.565287858918142,
          14.564828350918143,
          14.5656855,
          14.565287858918142
         ],
         "line": {
          "color": "#00CC96"
         },
         "lon": [
          121.02033901260522,
          121.01996878960522,
          121.0193752,
          121.02033901260522
         ],
         "mode": "lines",
         "showlegend": false,
         "type": "scattermapbox"
        },
        {
         "fill": "toself",
         "fillcolor": "#00CC96",
         "lat": [
          14.572167976761925,
          14.572318791761926,
          14.5732047,
          14.572167976761925
         ],
         "line": {
          "color": "#00CC96"
         },
         "lon": [
          121.0215174231813,
          121.02099107918129,
          121.0215297,
          121.0215174231813
         ],
         "mode": "lines",
         "showlegend": false,
         "type": "scattermapbox"
        },
        {
         "fill": "toself",
         "fillcolor": "#00CC96",
         "lat": [
          14.575393159164184,
          14.575073672164185,
          14.575715400000002,
          14.575393159164184
         ],
         "line": {
          "color": "#00CC96"
         },
         "lon": [
          121.01792965433316,
          121.01775390533317,
          121.0169656,
          121.01792965433316
         ],
         "mode": "lines",
         "showlegend": false,
         "type": "scattermapbox"
        },
        {
         "fill": "toself",
         "fillcolor": "#00CC96",
         "lat": [
          14.574918167555388,
          14.574572409555387,
          14.5745078,
          14.574918167555388
         ],
         "line": {
          "color": "#00CC96"
         },
         "lon": [
          121.01295532433662,
          121.0130398563366,
          121.0120262,
          121.01295532433662
         ],
         "mode": "lines",
         "showlegend": false,
         "type": "scattermapbox"
        },
        {
         "fill": "toself",
         "fillcolor": "#00CC96",
         "lat": [
          14.57289081199348,
          14.573430231993482,
          14.5729641,
          14.57289081199348
         ],
         "line": {
          "color": "#00CC96"
         },
         "lon": [
          121.01869765104558,
          121.0188057100456,
          121.0197322,
          121.01869765104558
         ],
         "mode": "lines",
         "showlegend": false,
         "type": "scattermapbox"
        },
        {
         "fill": "toself",
         "fillcolor": "#00CC96",
         "lat": [
          14.56746683968011,
          14.567737123680109,
          14.5667527,
          14.56746683968011
         ],
         "line": {
          "color": "#00CC96"
         },
         "lon": [
          121.02284806101494,
          121.02328285901493,
          121.0235934,
          121.02284806101494
         ],
         "mode": "lines",
         "showlegend": false,
         "type": "scattermapbox"
        },
        {
         "fill": "toself",
         "fillcolor": "#00CC96",
         "lat": [
          14.565437969736543,
          14.564862121736542,
          14.5649342,
          14.565437969736543
         ],
         "line": {
          "color": "#00CC96"
         },
         "lon": [
          121.01627977997708,
          121.01640707497708,
          121.015367,
          121.01627977997708
         ],
         "mode": "lines",
         "showlegend": false,
         "type": "scattermapbox"
        },
        {
         "fill": "toself",
         "fillcolor": "#00CC96",
         "lat": [
          14.5575205863271,
          14.5576840083271,
          14.5566397,
          14.5575205863271
         ],
         "line": {
          "color": "#00CC96"
         },
         "lon": [
          121.01714035637124,
          121.01772097137123,
          121.01770159999998,
          121.01714035637124
         ],
         "mode": "lines",
         "showlegend": false,
         "type": "scattermapbox"
        },
        {
         "fill": "toself",
         "fillcolor": "#00CC96",
         "lat": [
          14.54189291524566,
          14.541992686245662,
          14.540946900000002,
          14.54189291524566
         ],
         "line": {
          "color": "#00CC96"
         },
         "lon": [
          121.01848719922339,
          121.01958569522338,
          121.0191269,
          121.01848719922339
         ],
         "mode": "lines",
         "showlegend": false,
         "type": "scattermapbox"
        },
        {
         "fill": "toself",
         "fillcolor": "#00CC96",
         "lat": [
          14.54468758153786,
          14.544143779537857,
          14.5448661,
          14.54468758153786
         ],
         "line": {
          "color": "#00CC96"
         },
         "lon": [
          121.01238828906305,
          121.01211394506306,
          121.01135829999998,
          121.01238828906305
         ],
         "mode": "lines",
         "showlegend": false,
         "type": "scattermapbox"
        },
        {
         "fill": "toself",
         "fillcolor": "#00CC96",
         "lat": [
          14.555196862828216,
          14.554537889828216,
          14.5556198,
          14.555196862828216
         ],
         "line": {
          "color": "#00CC96"
         },
         "lon": [
          121.00297945895021,
          121.00222669995021,
          121.0019444,
          121.00297945895021
         ],
         "mode": "lines",
         "showlegend": false,
         "type": "scattermapbox"
        },
        {
         "fill": "toself",
         "fillcolor": "#00CC96",
         "lat": [
          14.554003530960447,
          14.554164999960449,
          14.5533891,
          14.554003530960447
         ],
         "line": {
          "color": "#00CC96"
         },
         "lon": [
          121.00345417573642,
          121.00361032473641,
          121.0042511,
          121.00345417573642
         ],
         "mode": "lines",
         "showlegend": false,
         "type": "scattermapbox"
        },
        {
         "fill": "toself",
         "fillcolor": "#00CC96",
         "lat": [
          14.557792142286354,
          14.557902518286353,
          14.5588075,
          14.557792142286354
         ],
         "line": {
          "color": "#00CC96"
         },
         "lon": [
          121.00573812653276,
          121.00535883853276,
          121.0058279,
          121.00573812653276
         ],
         "mode": "lines",
         "showlegend": false,
         "type": "scattermapbox"
        },
        {
         "fill": "toself",
         "fillcolor": "#00CC96",
         "lat": [
          14.5594835583965,
          14.5599023753965,
          14.5598674,
          14.5594835583965
         ],
         "line": {
          "color": "#00CC96"
         },
         "lon": [
          121.01086342747315,
          121.01078923447317,
          121.011811,
          121.01086342747315
         ],
         "mode": "lines",
         "showlegend": false,
         "type": "scattermapbox"
        },
        {
         "fill": "toself",
         "fillcolor": "#00CC96",
         "lat": [
          14.56007991534489,
          14.56045789434489,
          14.560359699999998,
          14.56007991534489
         ],
         "line": {
          "color": "#00CC96"
         },
         "lon": [
          121.01623206091026,
          121.01619759991024,
          121.0172107,
          121.01623206091026
         ],
         "mode": "lines",
         "showlegend": false,
         "type": "scattermapbox"
        },
        {
         "fill": "toself",
         "fillcolor": "#00CC96",
         "lat": [
          14.55661674861985,
          14.55692644961985,
          14.556076,
          14.55661674861985
         ],
         "line": {
          "color": "#00CC96"
         },
         "lon": [
          121.02076664036112,
          121.02106649936111,
          121.021635,
          121.02076664036112
         ],
         "mode": "lines",
         "showlegend": false,
         "type": "scattermapbox"
        },
        {
         "fill": "toself",
         "fillcolor": "#00CC96",
         "lat": [
          14.558353488321908,
          14.558695536321908,
          14.5590436,
          14.558353488321908
         ],
         "line": {
          "color": "#00CC96"
         },
         "lon": [
          121.02577054500318,
          121.02556281300318,
          121.02652140000002,
          121.02577054500318
         ],
         "mode": "lines",
         "showlegend": false,
         "type": "scattermapbox"
        },
        {
         "fill": "toself",
         "fillcolor": "#00CC96",
         "lat": [
          14.55869920906282,
          14.55841294406282,
          14.5584008,
          14.55869920906282
         ],
         "line": {
          "color": "#00CC96"
         },
         "lon": [
          121.02339727303868,
          121.0234422690387,
          121.02243190000002,
          121.02339727303868
         ],
         "mode": "lines",
         "showlegend": false,
         "type": "scattermapbox"
        },
        {
         "lat": [
          14.5584008
         ],
         "lon": [
          121.02243190000003
         ],
         "marker": {
          "color": "red",
          "size": 15,
          "symbol": "warehouse"
         },
         "mode": "markers+text+lines",
         "name": "Warehouse",
         "text": [
          "Warehouse"
         ],
         "textposition": "bottom right",
         "type": "scattermapbox"
        }
       ],
       "layout": {
        "height": 800,
        "hovermode": "closest",
        "mapbox": {
         "accesstoken": "pk.eyJ1IjoicmF2ZW5kaWNvIiwiYSI6ImNrOXNtMTQwNDE1NXEzZ3J0ZXBzbGFjajYifQ.reAoc-tEDpfezf6ZHJiyZQ",
         "center": {
          "lat": 14.554662137837838,
          "lon": 121.02965869459462
         },
         "zoom": 13
        },
        "template": {
         "data": {
          "bar": [
           {
            "error_x": {
             "color": "#2a3f5f"
            },
            "error_y": {
             "color": "#2a3f5f"
            },
            "marker": {
             "line": {
              "color": "#E5ECF6",
              "width": 0.5
             },
             "pattern": {
              "fillmode": "overlay",
              "size": 10,
              "solidity": 0.2
             }
            },
            "type": "bar"
           }
          ],
          "barpolar": [
           {
            "marker": {
             "line": {
              "color": "#E5ECF6",
              "width": 0.5
             },
             "pattern": {
              "fillmode": "overlay",
              "size": 10,
              "solidity": 0.2
             }
            },
            "type": "barpolar"
           }
          ],
          "carpet": [
           {
            "aaxis": {
             "endlinecolor": "#2a3f5f",
             "gridcolor": "white",
             "linecolor": "white",
             "minorgridcolor": "white",
             "startlinecolor": "#2a3f5f"
            },
            "baxis": {
             "endlinecolor": "#2a3f5f",
             "gridcolor": "white",
             "linecolor": "white",
             "minorgridcolor": "white",
             "startlinecolor": "#2a3f5f"
            },
            "type": "carpet"
           }
          ],
          "choropleth": [
           {
            "colorbar": {
             "outlinewidth": 0,
             "ticks": ""
            },
            "type": "choropleth"
           }
          ],
          "contour": [
           {
            "colorbar": {
             "outlinewidth": 0,
             "ticks": ""
            },
            "colorscale": [
             [
              0,
              "#0d0887"
             ],
             [
              0.1111111111111111,
              "#46039f"
             ],
             [
              0.2222222222222222,
              "#7201a8"
             ],
             [
              0.3333333333333333,
              "#9c179e"
             ],
             [
              0.4444444444444444,
              "#bd3786"
             ],
             [
              0.5555555555555556,
              "#d8576b"
             ],
             [
              0.6666666666666666,
              "#ed7953"
             ],
             [
              0.7777777777777778,
              "#fb9f3a"
             ],
             [
              0.8888888888888888,
              "#fdca26"
             ],
             [
              1,
              "#f0f921"
             ]
            ],
            "type": "contour"
           }
          ],
          "contourcarpet": [
           {
            "colorbar": {
             "outlinewidth": 0,
             "ticks": ""
            },
            "type": "contourcarpet"
           }
          ],
          "heatmap": [
           {
            "colorbar": {
             "outlinewidth": 0,
             "ticks": ""
            },
            "colorscale": [
             [
              0,
              "#0d0887"
             ],
             [
              0.1111111111111111,
              "#46039f"
             ],
             [
              0.2222222222222222,
              "#7201a8"
             ],
             [
              0.3333333333333333,
              "#9c179e"
             ],
             [
              0.4444444444444444,
              "#bd3786"
             ],
             [
              0.5555555555555556,
              "#d8576b"
             ],
             [
              0.6666666666666666,
              "#ed7953"
             ],
             [
              0.7777777777777778,
              "#fb9f3a"
             ],
             [
              0.8888888888888888,
              "#fdca26"
             ],
             [
              1,
              "#f0f921"
             ]
            ],
            "type": "heatmap"
           }
          ],
          "heatmapgl": [
           {
            "colorbar": {
             "outlinewidth": 0,
             "ticks": ""
            },
            "colorscale": [
             [
              0,
              "#0d0887"
             ],
             [
              0.1111111111111111,
              "#46039f"
             ],
             [
              0.2222222222222222,
              "#7201a8"
             ],
             [
              0.3333333333333333,
              "#9c179e"
             ],
             [
              0.4444444444444444,
              "#bd3786"
             ],
             [
              0.5555555555555556,
              "#d8576b"
             ],
             [
              0.6666666666666666,
              "#ed7953"
             ],
             [
              0.7777777777777778,
              "#fb9f3a"
             ],
             [
              0.8888888888888888,
              "#fdca26"
             ],
             [
              1,
              "#f0f921"
             ]
            ],
            "type": "heatmapgl"
           }
          ],
          "histogram": [
           {
            "marker": {
             "pattern": {
              "fillmode": "overlay",
              "size": 10,
              "solidity": 0.2
             }
            },
            "type": "histogram"
           }
          ],
          "histogram2d": [
           {
            "colorbar": {
             "outlinewidth": 0,
             "ticks": ""
            },
            "colorscale": [
             [
              0,
              "#0d0887"
             ],
             [
              0.1111111111111111,
              "#46039f"
             ],
             [
              0.2222222222222222,
              "#7201a8"
             ],
             [
              0.3333333333333333,
              "#9c179e"
             ],
             [
              0.4444444444444444,
              "#bd3786"
             ],
             [
              0.5555555555555556,
              "#d8576b"
             ],
             [
              0.6666666666666666,
              "#ed7953"
             ],
             [
              0.7777777777777778,
              "#fb9f3a"
             ],
             [
              0.8888888888888888,
              "#fdca26"
             ],
             [
              1,
              "#f0f921"
             ]
            ],
            "type": "histogram2d"
           }
          ],
          "histogram2dcontour": [
           {
            "colorbar": {
             "outlinewidth": 0,
             "ticks": ""
            },
            "colorscale": [
             [
              0,
              "#0d0887"
             ],
             [
              0.1111111111111111,
              "#46039f"
             ],
             [
              0.2222222222222222,
              "#7201a8"
             ],
             [
              0.3333333333333333,
              "#9c179e"
             ],
             [
              0.4444444444444444,
              "#bd3786"
             ],
             [
              0.5555555555555556,
              "#d8576b"
             ],
             [
              0.6666666666666666,
              "#ed7953"
             ],
             [
              0.7777777777777778,
              "#fb9f3a"
             ],
             [
              0.8888888888888888,
              "#fdca26"
             ],
             [
              1,
              "#f0f921"
             ]
            ],
            "type": "histogram2dcontour"
           }
          ],
          "mesh3d": [
           {
            "colorbar": {
             "outlinewidth": 0,
             "ticks": ""
            },
            "type": "mesh3d"
           }
          ],
          "parcoords": [
           {
            "line": {
             "colorbar": {
              "outlinewidth": 0,
              "ticks": ""
             }
            },
            "type": "parcoords"
           }
          ],
          "pie": [
           {
            "automargin": true,
            "type": "pie"
           }
          ],
          "scatter": [
           {
            "fillpattern": {
             "fillmode": "overlay",
             "size": 10,
             "solidity": 0.2
            },
            "type": "scatter"
           }
          ],
          "scatter3d": [
           {
            "line": {
             "colorbar": {
              "outlinewidth": 0,
              "ticks": ""
             }
            },
            "marker": {
             "colorbar": {
              "outlinewidth": 0,
              "ticks": ""
             }
            },
            "type": "scatter3d"
           }
          ],
          "scattercarpet": [
           {
            "marker": {
             "colorbar": {
              "outlinewidth": 0,
              "ticks": ""
             }
            },
            "type": "scattercarpet"
           }
          ],
          "scattergeo": [
           {
            "marker": {
             "colorbar": {
              "outlinewidth": 0,
              "ticks": ""
             }
            },
            "type": "scattergeo"
           }
          ],
          "scattergl": [
           {
            "marker": {
             "colorbar": {
              "outlinewidth": 0,
              "ticks": ""
             }
            },
            "type": "scattergl"
           }
          ],
          "scattermapbox": [
           {
            "marker": {
             "colorbar": {
              "outlinewidth": 0,
              "ticks": ""
             }
            },
            "type": "scattermapbox"
           }
          ],
          "scatterpolar": [
           {
            "marker": {
             "colorbar": {
              "outlinewidth": 0,
              "ticks": ""
             }
            },
            "type": "scatterpolar"
           }
          ],
          "scatterpolargl": [
           {
            "marker": {
             "colorbar": {
              "outlinewidth": 0,
              "ticks": ""
             }
            },
            "type": "scatterpolargl"
           }
          ],
          "scatterternary": [
           {
            "marker": {
             "colorbar": {
              "outlinewidth": 0,
              "ticks": ""
             }
            },
            "type": "scatterternary"
           }
          ],
          "surface": [
           {
            "colorbar": {
             "outlinewidth": 0,
             "ticks": ""
            },
            "colorscale": [
             [
              0,
              "#0d0887"
             ],
             [
              0.1111111111111111,
              "#46039f"
             ],
             [
              0.2222222222222222,
              "#7201a8"
             ],
             [
              0.3333333333333333,
              "#9c179e"
             ],
             [
              0.4444444444444444,
              "#bd3786"
             ],
             [
              0.5555555555555556,
              "#d8576b"
             ],
             [
              0.6666666666666666,
              "#ed7953"
             ],
             [
              0.7777777777777778,
              "#fb9f3a"
             ],
             [
              0.8888888888888888,
              "#fdca26"
             ],
             [
              1,
              "#f0f921"
             ]
            ],
            "type": "surface"
           }
          ],
          "table": [
           {
            "cells": {
             "fill": {
              "color": "#EBF0F8"
             },
             "line": {
              "color": "white"
             }
            },
            "header": {
             "fill": {
              "color": "#C8D4E3"
             },
             "line": {
              "color": "white"
             }
            },
            "type": "table"
           }
          ]
         },
         "layout": {
          "annotationdefaults": {
           "arrowcolor": "#2a3f5f",
           "arrowhead": 0,
           "arrowwidth": 1
          },
          "autotypenumbers": "strict",
          "coloraxis": {
           "colorbar": {
            "outlinewidth": 0,
            "ticks": ""
           }
          },
          "colorscale": {
           "diverging": [
            [
             0,
             "#8e0152"
            ],
            [
             0.1,
             "#c51b7d"
            ],
            [
             0.2,
             "#de77ae"
            ],
            [
             0.3,
             "#f1b6da"
            ],
            [
             0.4,
             "#fde0ef"
            ],
            [
             0.5,
             "#f7f7f7"
            ],
            [
             0.6,
             "#e6f5d0"
            ],
            [
             0.7,
             "#b8e186"
            ],
            [
             0.8,
             "#7fbc41"
            ],
            [
             0.9,
             "#4d9221"
            ],
            [
             1,
             "#276419"
            ]
           ],
           "sequential": [
            [
             0,
             "#0d0887"
            ],
            [
             0.1111111111111111,
             "#46039f"
            ],
            [
             0.2222222222222222,
             "#7201a8"
            ],
            [
             0.3333333333333333,
             "#9c179e"
            ],
            [
             0.4444444444444444,
             "#bd3786"
            ],
            [
             0.5555555555555556,
             "#d8576b"
            ],
            [
             0.6666666666666666,
             "#ed7953"
            ],
            [
             0.7777777777777778,
             "#fb9f3a"
            ],
            [
             0.8888888888888888,
             "#fdca26"
            ],
            [
             1,
             "#f0f921"
            ]
           ],
           "sequentialminus": [
            [
             0,
             "#0d0887"
            ],
            [
             0.1111111111111111,
             "#46039f"
            ],
            [
             0.2222222222222222,
             "#7201a8"
            ],
            [
             0.3333333333333333,
             "#9c179e"
            ],
            [
             0.4444444444444444,
             "#bd3786"
            ],
            [
             0.5555555555555556,
             "#d8576b"
            ],
            [
             0.6666666666666666,
             "#ed7953"
            ],
            [
             0.7777777777777778,
             "#fb9f3a"
            ],
            [
             0.8888888888888888,
             "#fdca26"
            ],
            [
             1,
             "#f0f921"
            ]
           ]
          },
          "colorway": [
           "#636efa",
           "#EF553B",
           "#00cc96",
           "#ab63fa",
           "#FFA15A",
           "#19d3f3",
           "#FF6692",
           "#B6E880",
           "#FF97FF",
           "#FECB52"
          ],
          "font": {
           "color": "#2a3f5f"
          },
          "geo": {
           "bgcolor": "white",
           "lakecolor": "white",
           "landcolor": "#E5ECF6",
           "showlakes": true,
           "showland": true,
           "subunitcolor": "white"
          },
          "hoverlabel": {
           "align": "left"
          },
          "hovermode": "closest",
          "mapbox": {
           "style": "light"
          },
          "paper_bgcolor": "white",
          "plot_bgcolor": "#E5ECF6",
          "polar": {
           "angularaxis": {
            "gridcolor": "white",
            "linecolor": "white",
            "ticks": ""
           },
           "bgcolor": "#E5ECF6",
           "radialaxis": {
            "gridcolor": "white",
            "linecolor": "white",
            "ticks": ""
           }
          },
          "scene": {
           "xaxis": {
            "backgroundcolor": "#E5ECF6",
            "gridcolor": "white",
            "gridwidth": 2,
            "linecolor": "white",
            "showbackground": true,
            "ticks": "",
            "zerolinecolor": "white"
           },
           "yaxis": {
            "backgroundcolor": "#E5ECF6",
            "gridcolor": "white",
            "gridwidth": 2,
            "linecolor": "white",
            "showbackground": true,
            "ticks": "",
            "zerolinecolor": "white"
           },
           "zaxis": {
            "backgroundcolor": "#E5ECF6",
            "gridcolor": "white",
            "gridwidth": 2,
            "linecolor": "white",
            "showbackground": true,
            "ticks": "",
            "zerolinecolor": "white"
           }
          },
          "shapedefaults": {
           "line": {
            "color": "#2a3f5f"
           }
          },
          "ternary": {
           "aaxis": {
            "gridcolor": "white",
            "linecolor": "white",
            "ticks": ""
           },
           "baxis": {
            "gridcolor": "white",
            "linecolor": "white",
            "ticks": ""
           },
           "bgcolor": "#E5ECF6",
           "caxis": {
            "gridcolor": "white",
            "linecolor": "white",
            "ticks": ""
           }
          },
          "title": {
           "x": 0.05
          },
          "xaxis": {
           "automargin": true,
           "gridcolor": "white",
           "linecolor": "white",
           "ticks": "",
           "title": {
            "standoff": 15
           },
           "zerolinecolor": "white",
           "zerolinewidth": 2
          },
          "yaxis": {
           "automargin": true,
           "gridcolor": "white",
           "linecolor": "white",
           "ticks": "",
           "title": {
            "standoff": 15
           },
           "zerolinecolor": "white",
           "zerolinewidth": 2
          }
         }
        },
        "width": 1000
       }
      }
     },
     "metadata": {},
     "output_type": "display_data"
    }
   ],
   "source": [
    "fig = go.Figure()\n",
    "\n",
    "fig.add_trace(go.Scattermapbox(\n",
    "            mode = \"markers+text\",\n",
    "            lon = jabee.loc[jabee.Hub_Flg == '0'].geometry.x, \n",
    "            lat = jabee.loc[jabee.Hub_Flg == '0'].geometry.y,\n",
    "            marker = {\n",
    "                'color': 'yellow',\n",
    "                'size': 10, \n",
    "                        # 'symbol': [\"circle\"]}, #https://labs.mapbox.com/maki-icons/\n",
    "            },\n",
    "            name = 'Destinations',\n",
    "            showlegend=False,\n",
    "            text = np.array(jabee.loc[jabee.Hub_Flg == '0'].index.astype(str)),\n",
    "            textposition = \"bottom right\"))\n",
    "\n",
    "for idx, route in enumerate(routes):\n",
    "    fig.add_trace(go.Scattermapbox(\n",
    "            mode = \"lines\",\n",
    "            lat = jabee.loc[route].geometry.y,\n",
    "            lon = jabee.loc[route].geometry.x,\n",
    "            marker=go.scattermapbox.Marker(\n",
    "                    size=14,\n",
    "                    color = colors[idx],\n",
    "                ),\n",
    "                name = f'Route {idx}'\n",
    "            # marker = {'size': 15, 'color': colors[idx]}\n",
    "            ))\n",
    "\n",
    "    for i in range(len(route)-1):\n",
    "        A = np.array(jabee.loc[route[i], ['Longitude', 'Latitude']])\n",
    "        B = np.array(jabee.loc[route[i+1], ['Longitude', 'Latitude']])\n",
    "        S, T = compute_arrow_coords(A, B)\n",
    "        fig.add_trace(go.Scattermapbox(lon = [S[0], T[0], B[0], S[0]], \n",
    "                                lat =[S[1], T[1], B[1], S[1]], \n",
    "                                mode='lines', \n",
    "                                fill='toself', \n",
    "                                fillcolor=colors[idx], \n",
    "                                line_color=colors[idx],\n",
    "                                showlegend=False\n",
    "                                ))\n",
    "\n",
    "    # destinations = route[1:-1]\n",
    "    # if len(destinations)>1:\n",
    "    #     fig.add_trace(go.Scattermapbox(\n",
    "    #                 mode = \"markers+text\",\n",
    "    #                 lon = jabee.loc[destinations].geometry.x, \n",
    "    #                 lat = jabee.loc[destinations].geometry.y,\n",
    "    #                 marker = {\n",
    "    #                     'color': colors[idx],\n",
    "    #                     'size': 10, \n",
    "    #                             # 'symbol': [\"circle\"]}, #https://labs.mapbox.com/maki-icons/\n",
    "    #                 },\n",
    "    #                 showlegend=False,\n",
    "    #                 text = np.array(jabee.loc[destinations].index.astype(str)),\n",
    "    #                 textposition = \"bottom right\"))\n",
    "\n",
    "\n",
    "\n",
    "fig.add_trace(go.Scattermapbox(\n",
    "                mode = \"markers+text+lines\",\n",
    "                lon = [jabee.iloc[data['depot']].geometry.x], \n",
    "                lat = [jabee.iloc[data['depot']].geometry.y],\n",
    "                marker = {\n",
    "                    'color': 'red',\n",
    "                    'size': 15, \n",
    "                    # 'symbol' : 'warehouse',\n",
    "                            # 'symbol': [\"circle\"]}, #https://labs.mapbox.com/maki-icons/\n",
    "                },\n",
    "                text = [\"Warehouse\"],\n",
    "                name = 'Warehouse',\n",
    "                textposition = \"bottom right\"))\n",
    "\n",
    "\n",
    "fig.update_layout(\n",
    "    height = 800, \n",
    "    width = 1000, \n",
    "    hovermode='closest',\n",
    "    mapbox=dict(\n",
    "        accesstoken=mapbox_token,\n",
    "        # bearing=0,\n",
    "        center=go.layout.mapbox.Center(\n",
    "            lat=jabee.geometry.y.mean(),\n",
    "            lon=jabee.geometry.x.mean(),\n",
    "        ),\n",
    "        # style = 'outdoors',\n",
    "        # pitch=0,\n",
    "        zoom=13\n",
    "    )\n",
    ")\n",
    "\n",
    "fig.show()"
   ]
  },
  {
   "cell_type": "code",
   "execution_count": 187,
   "id": "2e602195",
   "metadata": {},
   "outputs": [
    {
     "data": {
      "text/html": [
       "<div>\n",
       "<style scoped>\n",
       "    .dataframe tbody tr th:only-of-type {\n",
       "        vertical-align: middle;\n",
       "    }\n",
       "\n",
       "    .dataframe tbody tr th {\n",
       "        vertical-align: top;\n",
       "    }\n",
       "\n",
       "    .dataframe thead th {\n",
       "        text-align: right;\n",
       "    }\n",
       "</style>\n",
       "<table border=\"1\" class=\"dataframe\">\n",
       "  <thead>\n",
       "    <tr style=\"text-align: right;\">\n",
       "      <th></th>\n",
       "      <th>index</th>\n",
       "      <th>Company</th>\n",
       "      <th>Industry</th>\n",
       "      <th>Latitude</th>\n",
       "      <th>Longitude</th>\n",
       "      <th>Main Industry</th>\n",
       "      <th>geometry</th>\n",
       "      <th>REGION</th>\n",
       "      <th>PROVINCE</th>\n",
       "      <th>MUNICIPALITY</th>\n",
       "      <th>Hub_Flg</th>\n",
       "      <th>color</th>\n",
       "    </tr>\n",
       "  </thead>\n",
       "  <tbody>\n",
       "    <tr>\n",
       "      <th>0</th>\n",
       "      <td>21622</td>\n",
       "      <td>JFC</td>\n",
       "      <td>Fastfood</td>\n",
       "      <td>14.573169</td>\n",
       "      <td>121.046993</td>\n",
       "      <td>Food and Beverage</td>\n",
       "      <td>POINT (121.04699 14.57317)</td>\n",
       "      <td>Metropolitan Manila</td>\n",
       "      <td>Metropolitan Manila</td>\n",
       "      <td>Mandaluyong</td>\n",
       "      <td>0</td>\n",
       "      <td>#636EFA</td>\n",
       "    </tr>\n",
       "    <tr>\n",
       "      <th>1</th>\n",
       "      <td>21623</td>\n",
       "      <td>JFC</td>\n",
       "      <td>Fastfood</td>\n",
       "      <td>14.577854</td>\n",
       "      <td>121.034733</td>\n",
       "      <td>Food and Beverage</td>\n",
       "      <td>POINT (121.03473 14.57785)</td>\n",
       "      <td>Metropolitan Manila</td>\n",
       "      <td>Metropolitan Manila</td>\n",
       "      <td>Mandaluyong</td>\n",
       "      <td>0</td>\n",
       "      <td>#636EFA</td>\n",
       "    </tr>\n",
       "    <tr>\n",
       "      <th>2</th>\n",
       "      <td>21624</td>\n",
       "      <td>JFC</td>\n",
       "      <td>Fastfood</td>\n",
       "      <td>14.583228</td>\n",
       "      <td>121.054787</td>\n",
       "      <td>Food and Beverage</td>\n",
       "      <td>POINT (121.05479 14.58323)</td>\n",
       "      <td>Metropolitan Manila</td>\n",
       "      <td>Metropolitan Manila</td>\n",
       "      <td>Mandaluyong</td>\n",
       "      <td>0</td>\n",
       "      <td>#636EFA</td>\n",
       "    </tr>\n",
       "    <tr>\n",
       "      <th>3</th>\n",
       "      <td>21625</td>\n",
       "      <td>JFC</td>\n",
       "      <td>Fastfood</td>\n",
       "      <td>14.586229</td>\n",
       "      <td>121.025755</td>\n",
       "      <td>Food and Beverage</td>\n",
       "      <td>POINT (121.02576 14.58623)</td>\n",
       "      <td>Metropolitan Manila</td>\n",
       "      <td>Metropolitan Manila</td>\n",
       "      <td>Mandaluyong</td>\n",
       "      <td>0</td>\n",
       "      <td>#636EFA</td>\n",
       "    </tr>\n",
       "    <tr>\n",
       "      <th>4</th>\n",
       "      <td>21626</td>\n",
       "      <td>JFC</td>\n",
       "      <td>Fastfood</td>\n",
       "      <td>14.575531</td>\n",
       "      <td>121.041804</td>\n",
       "      <td>Food and Beverage</td>\n",
       "      <td>POINT (121.04180 14.57553)</td>\n",
       "      <td>Metropolitan Manila</td>\n",
       "      <td>Metropolitan Manila</td>\n",
       "      <td>Mandaluyong</td>\n",
       "      <td>1</td>\n",
       "      <td>#EF553B</td>\n",
       "    </tr>\n",
       "    <tr>\n",
       "      <th>5</th>\n",
       "      <td>21627</td>\n",
       "      <td>JFC</td>\n",
       "      <td>Fastfood</td>\n",
       "      <td>14.573792</td>\n",
       "      <td>121.048933</td>\n",
       "      <td>Food and Beverage</td>\n",
       "      <td>POINT (121.04893 14.57379)</td>\n",
       "      <td>Metropolitan Manila</td>\n",
       "      <td>Metropolitan Manila</td>\n",
       "      <td>Mandaluyong</td>\n",
       "      <td>0</td>\n",
       "      <td>#636EFA</td>\n",
       "    </tr>\n",
       "    <tr>\n",
       "      <th>6</th>\n",
       "      <td>21630</td>\n",
       "      <td>JFC</td>\n",
       "      <td>Fastfood</td>\n",
       "      <td>14.585119</td>\n",
       "      <td>121.057040</td>\n",
       "      <td>Food and Beverage</td>\n",
       "      <td>POINT (121.05704 14.58512)</td>\n",
       "      <td>Metropolitan Manila</td>\n",
       "      <td>Metropolitan Manila</td>\n",
       "      <td>Mandaluyong</td>\n",
       "      <td>0</td>\n",
       "      <td>#636EFA</td>\n",
       "    </tr>\n",
       "    <tr>\n",
       "      <th>7</th>\n",
       "      <td>21631</td>\n",
       "      <td>JFC</td>\n",
       "      <td>Fastfood</td>\n",
       "      <td>14.591901</td>\n",
       "      <td>121.025342</td>\n",
       "      <td>Food and Beverage</td>\n",
       "      <td>POINT (121.02534 14.59190)</td>\n",
       "      <td>Metropolitan Manila</td>\n",
       "      <td>Metropolitan Manila</td>\n",
       "      <td>Mandaluyong</td>\n",
       "      <td>0</td>\n",
       "      <td>#636EFA</td>\n",
       "    </tr>\n",
       "    <tr>\n",
       "      <th>8</th>\n",
       "      <td>21632</td>\n",
       "      <td>JFC</td>\n",
       "      <td>Fastfood</td>\n",
       "      <td>14.585268</td>\n",
       "      <td>121.057195</td>\n",
       "      <td>Food and Beverage</td>\n",
       "      <td>POINT (121.05719 14.58527)</td>\n",
       "      <td>Metropolitan Manila</td>\n",
       "      <td>Metropolitan Manila</td>\n",
       "      <td>Mandaluyong</td>\n",
       "      <td>0</td>\n",
       "      <td>#636EFA</td>\n",
       "    </tr>\n",
       "    <tr>\n",
       "      <th>9</th>\n",
       "      <td>21633</td>\n",
       "      <td>JFC</td>\n",
       "      <td>Fastfood</td>\n",
       "      <td>14.587163</td>\n",
       "      <td>121.035348</td>\n",
       "      <td>Food and Beverage</td>\n",
       "      <td>POINT (121.03535 14.58716)</td>\n",
       "      <td>Metropolitan Manila</td>\n",
       "      <td>Metropolitan Manila</td>\n",
       "      <td>Mandaluyong</td>\n",
       "      <td>0</td>\n",
       "      <td>#636EFA</td>\n",
       "    </tr>\n",
       "    <tr>\n",
       "      <th>10</th>\n",
       "      <td>21711</td>\n",
       "      <td>JFC</td>\n",
       "      <td>Fastfood</td>\n",
       "      <td>14.583490</td>\n",
       "      <td>121.051049</td>\n",
       "      <td>Food and Beverage</td>\n",
       "      <td>POINT (121.05105 14.58349)</td>\n",
       "      <td>Metropolitan Manila</td>\n",
       "      <td>Metropolitan Manila</td>\n",
       "      <td>Mandaluyong</td>\n",
       "      <td>0</td>\n",
       "      <td>#636EFA</td>\n",
       "    </tr>\n",
       "    <tr>\n",
       "      <th>11</th>\n",
       "      <td>21815</td>\n",
       "      <td>JFC</td>\n",
       "      <td>Fastfood</td>\n",
       "      <td>14.573169</td>\n",
       "      <td>121.046993</td>\n",
       "      <td>Food and Beverage</td>\n",
       "      <td>POINT (121.04699 14.57317)</td>\n",
       "      <td>Metropolitan Manila</td>\n",
       "      <td>Metropolitan Manila</td>\n",
       "      <td>Mandaluyong</td>\n",
       "      <td>0</td>\n",
       "      <td>#636EFA</td>\n",
       "    </tr>\n",
       "    <tr>\n",
       "      <th>12</th>\n",
       "      <td>21816</td>\n",
       "      <td>JFC</td>\n",
       "      <td>Fastfood</td>\n",
       "      <td>14.577854</td>\n",
       "      <td>121.034733</td>\n",
       "      <td>Food and Beverage</td>\n",
       "      <td>POINT (121.03473 14.57785)</td>\n",
       "      <td>Metropolitan Manila</td>\n",
       "      <td>Metropolitan Manila</td>\n",
       "      <td>Mandaluyong</td>\n",
       "      <td>0</td>\n",
       "      <td>#636EFA</td>\n",
       "    </tr>\n",
       "    <tr>\n",
       "      <th>13</th>\n",
       "      <td>21817</td>\n",
       "      <td>JFC</td>\n",
       "      <td>Fastfood</td>\n",
       "      <td>14.583228</td>\n",
       "      <td>121.054787</td>\n",
       "      <td>Food and Beverage</td>\n",
       "      <td>POINT (121.05479 14.58323)</td>\n",
       "      <td>Metropolitan Manila</td>\n",
       "      <td>Metropolitan Manila</td>\n",
       "      <td>Mandaluyong</td>\n",
       "      <td>0</td>\n",
       "      <td>#636EFA</td>\n",
       "    </tr>\n",
       "    <tr>\n",
       "      <th>14</th>\n",
       "      <td>21818</td>\n",
       "      <td>JFC</td>\n",
       "      <td>Fastfood</td>\n",
       "      <td>14.586229</td>\n",
       "      <td>121.025755</td>\n",
       "      <td>Food and Beverage</td>\n",
       "      <td>POINT (121.02576 14.58623)</td>\n",
       "      <td>Metropolitan Manila</td>\n",
       "      <td>Metropolitan Manila</td>\n",
       "      <td>Mandaluyong</td>\n",
       "      <td>0</td>\n",
       "      <td>#636EFA</td>\n",
       "    </tr>\n",
       "    <tr>\n",
       "      <th>15</th>\n",
       "      <td>21819</td>\n",
       "      <td>JFC</td>\n",
       "      <td>Fastfood</td>\n",
       "      <td>14.575531</td>\n",
       "      <td>121.041804</td>\n",
       "      <td>Food and Beverage</td>\n",
       "      <td>POINT (121.04180 14.57553)</td>\n",
       "      <td>Metropolitan Manila</td>\n",
       "      <td>Metropolitan Manila</td>\n",
       "      <td>Mandaluyong</td>\n",
       "      <td>0</td>\n",
       "      <td>#636EFA</td>\n",
       "    </tr>\n",
       "    <tr>\n",
       "      <th>16</th>\n",
       "      <td>21820</td>\n",
       "      <td>JFC</td>\n",
       "      <td>Fastfood</td>\n",
       "      <td>14.573792</td>\n",
       "      <td>121.048933</td>\n",
       "      <td>Food and Beverage</td>\n",
       "      <td>POINT (121.04893 14.57379)</td>\n",
       "      <td>Metropolitan Manila</td>\n",
       "      <td>Metropolitan Manila</td>\n",
       "      <td>Mandaluyong</td>\n",
       "      <td>0</td>\n",
       "      <td>#636EFA</td>\n",
       "    </tr>\n",
       "    <tr>\n",
       "      <th>17</th>\n",
       "      <td>21823</td>\n",
       "      <td>JFC</td>\n",
       "      <td>Fastfood</td>\n",
       "      <td>14.585119</td>\n",
       "      <td>121.057040</td>\n",
       "      <td>Food and Beverage</td>\n",
       "      <td>POINT (121.05704 14.58512)</td>\n",
       "      <td>Metropolitan Manila</td>\n",
       "      <td>Metropolitan Manila</td>\n",
       "      <td>Mandaluyong</td>\n",
       "      <td>0</td>\n",
       "      <td>#636EFA</td>\n",
       "    </tr>\n",
       "    <tr>\n",
       "      <th>18</th>\n",
       "      <td>21824</td>\n",
       "      <td>JFC</td>\n",
       "      <td>Fastfood</td>\n",
       "      <td>14.591901</td>\n",
       "      <td>121.025342</td>\n",
       "      <td>Food and Beverage</td>\n",
       "      <td>POINT (121.02534 14.59190)</td>\n",
       "      <td>Metropolitan Manila</td>\n",
       "      <td>Metropolitan Manila</td>\n",
       "      <td>Mandaluyong</td>\n",
       "      <td>0</td>\n",
       "      <td>#636EFA</td>\n",
       "    </tr>\n",
       "    <tr>\n",
       "      <th>19</th>\n",
       "      <td>21825</td>\n",
       "      <td>JFC</td>\n",
       "      <td>Fastfood</td>\n",
       "      <td>14.585268</td>\n",
       "      <td>121.057195</td>\n",
       "      <td>Food and Beverage</td>\n",
       "      <td>POINT (121.05719 14.58527)</td>\n",
       "      <td>Metropolitan Manila</td>\n",
       "      <td>Metropolitan Manila</td>\n",
       "      <td>Mandaluyong</td>\n",
       "      <td>0</td>\n",
       "      <td>#636EFA</td>\n",
       "    </tr>\n",
       "    <tr>\n",
       "      <th>20</th>\n",
       "      <td>21826</td>\n",
       "      <td>JFC</td>\n",
       "      <td>Fastfood</td>\n",
       "      <td>14.587163</td>\n",
       "      <td>121.035348</td>\n",
       "      <td>Food and Beverage</td>\n",
       "      <td>POINT (121.03535 14.58716)</td>\n",
       "      <td>Metropolitan Manila</td>\n",
       "      <td>Metropolitan Manila</td>\n",
       "      <td>Mandaluyong</td>\n",
       "      <td>0</td>\n",
       "      <td>#636EFA</td>\n",
       "    </tr>\n",
       "    <tr>\n",
       "      <th>21</th>\n",
       "      <td>21904</td>\n",
       "      <td>JFC</td>\n",
       "      <td>Fastfood</td>\n",
       "      <td>14.583490</td>\n",
       "      <td>121.051049</td>\n",
       "      <td>Food and Beverage</td>\n",
       "      <td>POINT (121.05105 14.58349)</td>\n",
       "      <td>Metropolitan Manila</td>\n",
       "      <td>Metropolitan Manila</td>\n",
       "      <td>Mandaluyong</td>\n",
       "      <td>0</td>\n",
       "      <td>#636EFA</td>\n",
       "    </tr>\n",
       "  </tbody>\n",
       "</table>\n",
       "</div>"
      ],
      "text/plain": [
       "    index Company  Industry   Latitude   Longitude      Main Industry  \\\n",
       "0   21622     JFC  Fastfood  14.573169  121.046993  Food and Beverage   \n",
       "1   21623     JFC  Fastfood  14.577854  121.034733  Food and Beverage   \n",
       "2   21624     JFC  Fastfood  14.583228  121.054787  Food and Beverage   \n",
       "3   21625     JFC  Fastfood  14.586229  121.025755  Food and Beverage   \n",
       "4   21626     JFC  Fastfood  14.575531  121.041804  Food and Beverage   \n",
       "5   21627     JFC  Fastfood  14.573792  121.048933  Food and Beverage   \n",
       "6   21630     JFC  Fastfood  14.585119  121.057040  Food and Beverage   \n",
       "7   21631     JFC  Fastfood  14.591901  121.025342  Food and Beverage   \n",
       "8   21632     JFC  Fastfood  14.585268  121.057195  Food and Beverage   \n",
       "9   21633     JFC  Fastfood  14.587163  121.035348  Food and Beverage   \n",
       "10  21711     JFC  Fastfood  14.583490  121.051049  Food and Beverage   \n",
       "11  21815     JFC  Fastfood  14.573169  121.046993  Food and Beverage   \n",
       "12  21816     JFC  Fastfood  14.577854  121.034733  Food and Beverage   \n",
       "13  21817     JFC  Fastfood  14.583228  121.054787  Food and Beverage   \n",
       "14  21818     JFC  Fastfood  14.586229  121.025755  Food and Beverage   \n",
       "15  21819     JFC  Fastfood  14.575531  121.041804  Food and Beverage   \n",
       "16  21820     JFC  Fastfood  14.573792  121.048933  Food and Beverage   \n",
       "17  21823     JFC  Fastfood  14.585119  121.057040  Food and Beverage   \n",
       "18  21824     JFC  Fastfood  14.591901  121.025342  Food and Beverage   \n",
       "19  21825     JFC  Fastfood  14.585268  121.057195  Food and Beverage   \n",
       "20  21826     JFC  Fastfood  14.587163  121.035348  Food and Beverage   \n",
       "21  21904     JFC  Fastfood  14.583490  121.051049  Food and Beverage   \n",
       "\n",
       "                      geometry               REGION             PROVINCE  \\\n",
       "0   POINT (121.04699 14.57317)  Metropolitan Manila  Metropolitan Manila   \n",
       "1   POINT (121.03473 14.57785)  Metropolitan Manila  Metropolitan Manila   \n",
       "2   POINT (121.05479 14.58323)  Metropolitan Manila  Metropolitan Manila   \n",
       "3   POINT (121.02576 14.58623)  Metropolitan Manila  Metropolitan Manila   \n",
       "4   POINT (121.04180 14.57553)  Metropolitan Manila  Metropolitan Manila   \n",
       "5   POINT (121.04893 14.57379)  Metropolitan Manila  Metropolitan Manila   \n",
       "6   POINT (121.05704 14.58512)  Metropolitan Manila  Metropolitan Manila   \n",
       "7   POINT (121.02534 14.59190)  Metropolitan Manila  Metropolitan Manila   \n",
       "8   POINT (121.05719 14.58527)  Metropolitan Manila  Metropolitan Manila   \n",
       "9   POINT (121.03535 14.58716)  Metropolitan Manila  Metropolitan Manila   \n",
       "10  POINT (121.05105 14.58349)  Metropolitan Manila  Metropolitan Manila   \n",
       "11  POINT (121.04699 14.57317)  Metropolitan Manila  Metropolitan Manila   \n",
       "12  POINT (121.03473 14.57785)  Metropolitan Manila  Metropolitan Manila   \n",
       "13  POINT (121.05479 14.58323)  Metropolitan Manila  Metropolitan Manila   \n",
       "14  POINT (121.02576 14.58623)  Metropolitan Manila  Metropolitan Manila   \n",
       "15  POINT (121.04180 14.57553)  Metropolitan Manila  Metropolitan Manila   \n",
       "16  POINT (121.04893 14.57379)  Metropolitan Manila  Metropolitan Manila   \n",
       "17  POINT (121.05704 14.58512)  Metropolitan Manila  Metropolitan Manila   \n",
       "18  POINT (121.02534 14.59190)  Metropolitan Manila  Metropolitan Manila   \n",
       "19  POINT (121.05719 14.58527)  Metropolitan Manila  Metropolitan Manila   \n",
       "20  POINT (121.03535 14.58716)  Metropolitan Manila  Metropolitan Manila   \n",
       "21  POINT (121.05105 14.58349)  Metropolitan Manila  Metropolitan Manila   \n",
       "\n",
       "   MUNICIPALITY Hub_Flg    color  \n",
       "0   Mandaluyong       0  #636EFA  \n",
       "1   Mandaluyong       0  #636EFA  \n",
       "2   Mandaluyong       0  #636EFA  \n",
       "3   Mandaluyong       0  #636EFA  \n",
       "4   Mandaluyong       1  #EF553B  \n",
       "5   Mandaluyong       0  #636EFA  \n",
       "6   Mandaluyong       0  #636EFA  \n",
       "7   Mandaluyong       0  #636EFA  \n",
       "8   Mandaluyong       0  #636EFA  \n",
       "9   Mandaluyong       0  #636EFA  \n",
       "10  Mandaluyong       0  #636EFA  \n",
       "11  Mandaluyong       0  #636EFA  \n",
       "12  Mandaluyong       0  #636EFA  \n",
       "13  Mandaluyong       0  #636EFA  \n",
       "14  Mandaluyong       0  #636EFA  \n",
       "15  Mandaluyong       0  #636EFA  \n",
       "16  Mandaluyong       0  #636EFA  \n",
       "17  Mandaluyong       0  #636EFA  \n",
       "18  Mandaluyong       0  #636EFA  \n",
       "19  Mandaluyong       0  #636EFA  \n",
       "20  Mandaluyong       0  #636EFA  \n",
       "21  Mandaluyong       0  #636EFA  "
      ]
     },
     "execution_count": 187,
     "metadata": {},
     "output_type": "execute_result"
    }
   ],
   "source": [
    "jabee"
   ]
  },
  {
   "cell_type": "code",
   "execution_count": 99,
   "id": "0df43e83",
   "metadata": {},
   "outputs": [
    {
     "data": {
      "text/plain": [
       "(array([122.06243259674207, 14.185637080053766], dtype=object),\n",
       " array([122.06210466074208, 14.184778887053767], dtype=object))"
      ]
     },
     "execution_count": 99,
     "metadata": {},
     "output_type": "execute_result"
    }
   ],
   "source": [
    "compute_arrow_coords(np.array(jabee.iloc[0][['Longitude', 'Latitude']]), \n",
    "                        np.array(jabee.iloc[1][['Longitude', 'Latitude']]))"
   ]
  },
  {
   "cell_type": "code",
   "execution_count": 91,
   "id": "5583201c",
   "metadata": {},
   "outputs": [
    {
     "data": {
      "application/vnd.plotly.v1+json": {
       "config": {
        "plotlyServerURL": "https://plot.ly"
       },
       "data": [
        {
         "lat": [
          26.1223084,
          34.5793131,
          40.6096698,
          38.0193657,
          32.7026116,
          33.2155935,
          41.6372578,
          35.5120966,
          43.0904764,
          41.7693747
         ],
         "locationmode": "USA-states",
         "lon": [
          -80.1433786,
          -118.1171108,
          -111.9391031,
          -122.1341321,
          -103.1360403,
          -86.79777856,
          -85.4216948,
          -79.217799,
          -83.2333705,
          -111.8046654
         ],
         "marker": {
          "color": "black",
          "line": {
           "color": "black",
           "width": 0.5
          },
          "size": 10,
          "sizemode": "area"
         },
         "mode": "markers+text",
         "name": "Candidate Facility",
         "text": [
          "Fort Lauderdale ",
          "Palmdale ",
          "West Jordan ",
          "Martinez ",
          "Hobbs ",
          "Alabaster ",
          "LaGrange ",
          "Glenwood village",
          "Lapeer ",
          "North Logan "
         ],
         "textfont": {
          "color": "black",
          "family": "Times New Roman",
          "size": 14
         },
         "textposition": "top center",
         "type": "scattergeo"
        },
        {
         "lat": [
          33.2155935,
          26.1223084
         ],
         "line": {
          "color": "blue",
          "width": 1.5
         },
         "lon": [
          -86.79777856,
          -80.1433786
         ],
         "mode": "lines",
         "type": "scattergeo"
        },
        {
         "fillcolor": "blue",
         "lat": [
          26.69164443238424,
          27.157452429584243,
          26.1223084,
          26.69164443238424
         ],
         "line": {
          "color": "blue"
         },
         "lon": [
          -81.14424635067562,
          -80.64771639367561,
          -80.1433786,
          -81.14424635067562
         ],
         "mode": "lines",
         "type": "scattergeo"
        },
        {
         "lat": [
          29.66895095
         ],
         "lon": [
          -83.47057858
         ],
         "mode": "text",
         "text": "               Your text",
         "type": "scattergeo"
        }
       ],
       "layout": {
        "geo": {
         "landcolor": "rgb(217, 217, 217)",
         "scope": "usa"
        },
        "height": 750,
        "showlegend": false,
        "template": {
         "data": {
          "bar": [
           {
            "error_x": {
             "color": "#2a3f5f"
            },
            "error_y": {
             "color": "#2a3f5f"
            },
            "marker": {
             "line": {
              "color": "#E5ECF6",
              "width": 0.5
             },
             "pattern": {
              "fillmode": "overlay",
              "size": 10,
              "solidity": 0.2
             }
            },
            "type": "bar"
           }
          ],
          "barpolar": [
           {
            "marker": {
             "line": {
              "color": "#E5ECF6",
              "width": 0.5
             },
             "pattern": {
              "fillmode": "overlay",
              "size": 10,
              "solidity": 0.2
             }
            },
            "type": "barpolar"
           }
          ],
          "carpet": [
           {
            "aaxis": {
             "endlinecolor": "#2a3f5f",
             "gridcolor": "white",
             "linecolor": "white",
             "minorgridcolor": "white",
             "startlinecolor": "#2a3f5f"
            },
            "baxis": {
             "endlinecolor": "#2a3f5f",
             "gridcolor": "white",
             "linecolor": "white",
             "minorgridcolor": "white",
             "startlinecolor": "#2a3f5f"
            },
            "type": "carpet"
           }
          ],
          "choropleth": [
           {
            "colorbar": {
             "outlinewidth": 0,
             "ticks": ""
            },
            "type": "choropleth"
           }
          ],
          "contour": [
           {
            "colorbar": {
             "outlinewidth": 0,
             "ticks": ""
            },
            "colorscale": [
             [
              0,
              "#0d0887"
             ],
             [
              0.1111111111111111,
              "#46039f"
             ],
             [
              0.2222222222222222,
              "#7201a8"
             ],
             [
              0.3333333333333333,
              "#9c179e"
             ],
             [
              0.4444444444444444,
              "#bd3786"
             ],
             [
              0.5555555555555556,
              "#d8576b"
             ],
             [
              0.6666666666666666,
              "#ed7953"
             ],
             [
              0.7777777777777778,
              "#fb9f3a"
             ],
             [
              0.8888888888888888,
              "#fdca26"
             ],
             [
              1,
              "#f0f921"
             ]
            ],
            "type": "contour"
           }
          ],
          "contourcarpet": [
           {
            "colorbar": {
             "outlinewidth": 0,
             "ticks": ""
            },
            "type": "contourcarpet"
           }
          ],
          "heatmap": [
           {
            "colorbar": {
             "outlinewidth": 0,
             "ticks": ""
            },
            "colorscale": [
             [
              0,
              "#0d0887"
             ],
             [
              0.1111111111111111,
              "#46039f"
             ],
             [
              0.2222222222222222,
              "#7201a8"
             ],
             [
              0.3333333333333333,
              "#9c179e"
             ],
             [
              0.4444444444444444,
              "#bd3786"
             ],
             [
              0.5555555555555556,
              "#d8576b"
             ],
             [
              0.6666666666666666,
              "#ed7953"
             ],
             [
              0.7777777777777778,
              "#fb9f3a"
             ],
             [
              0.8888888888888888,
              "#fdca26"
             ],
             [
              1,
              "#f0f921"
             ]
            ],
            "type": "heatmap"
           }
          ],
          "heatmapgl": [
           {
            "colorbar": {
             "outlinewidth": 0,
             "ticks": ""
            },
            "colorscale": [
             [
              0,
              "#0d0887"
             ],
             [
              0.1111111111111111,
              "#46039f"
             ],
             [
              0.2222222222222222,
              "#7201a8"
             ],
             [
              0.3333333333333333,
              "#9c179e"
             ],
             [
              0.4444444444444444,
              "#bd3786"
             ],
             [
              0.5555555555555556,
              "#d8576b"
             ],
             [
              0.6666666666666666,
              "#ed7953"
             ],
             [
              0.7777777777777778,
              "#fb9f3a"
             ],
             [
              0.8888888888888888,
              "#fdca26"
             ],
             [
              1,
              "#f0f921"
             ]
            ],
            "type": "heatmapgl"
           }
          ],
          "histogram": [
           {
            "marker": {
             "pattern": {
              "fillmode": "overlay",
              "size": 10,
              "solidity": 0.2
             }
            },
            "type": "histogram"
           }
          ],
          "histogram2d": [
           {
            "colorbar": {
             "outlinewidth": 0,
             "ticks": ""
            },
            "colorscale": [
             [
              0,
              "#0d0887"
             ],
             [
              0.1111111111111111,
              "#46039f"
             ],
             [
              0.2222222222222222,
              "#7201a8"
             ],
             [
              0.3333333333333333,
              "#9c179e"
             ],
             [
              0.4444444444444444,
              "#bd3786"
             ],
             [
              0.5555555555555556,
              "#d8576b"
             ],
             [
              0.6666666666666666,
              "#ed7953"
             ],
             [
              0.7777777777777778,
              "#fb9f3a"
             ],
             [
              0.8888888888888888,
              "#fdca26"
             ],
             [
              1,
              "#f0f921"
             ]
            ],
            "type": "histogram2d"
           }
          ],
          "histogram2dcontour": [
           {
            "colorbar": {
             "outlinewidth": 0,
             "ticks": ""
            },
            "colorscale": [
             [
              0,
              "#0d0887"
             ],
             [
              0.1111111111111111,
              "#46039f"
             ],
             [
              0.2222222222222222,
              "#7201a8"
             ],
             [
              0.3333333333333333,
              "#9c179e"
             ],
             [
              0.4444444444444444,
              "#bd3786"
             ],
             [
              0.5555555555555556,
              "#d8576b"
             ],
             [
              0.6666666666666666,
              "#ed7953"
             ],
             [
              0.7777777777777778,
              "#fb9f3a"
             ],
             [
              0.8888888888888888,
              "#fdca26"
             ],
             [
              1,
              "#f0f921"
             ]
            ],
            "type": "histogram2dcontour"
           }
          ],
          "mesh3d": [
           {
            "colorbar": {
             "outlinewidth": 0,
             "ticks": ""
            },
            "type": "mesh3d"
           }
          ],
          "parcoords": [
           {
            "line": {
             "colorbar": {
              "outlinewidth": 0,
              "ticks": ""
             }
            },
            "type": "parcoords"
           }
          ],
          "pie": [
           {
            "automargin": true,
            "type": "pie"
           }
          ],
          "scatter": [
           {
            "fillpattern": {
             "fillmode": "overlay",
             "size": 10,
             "solidity": 0.2
            },
            "type": "scatter"
           }
          ],
          "scatter3d": [
           {
            "line": {
             "colorbar": {
              "outlinewidth": 0,
              "ticks": ""
             }
            },
            "marker": {
             "colorbar": {
              "outlinewidth": 0,
              "ticks": ""
             }
            },
            "type": "scatter3d"
           }
          ],
          "scattercarpet": [
           {
            "marker": {
             "colorbar": {
              "outlinewidth": 0,
              "ticks": ""
             }
            },
            "type": "scattercarpet"
           }
          ],
          "scattergeo": [
           {
            "marker": {
             "colorbar": {
              "outlinewidth": 0,
              "ticks": ""
             }
            },
            "type": "scattergeo"
           }
          ],
          "scattergl": [
           {
            "marker": {
             "colorbar": {
              "outlinewidth": 0,
              "ticks": ""
             }
            },
            "type": "scattergl"
           }
          ],
          "scattermapbox": [
           {
            "marker": {
             "colorbar": {
              "outlinewidth": 0,
              "ticks": ""
             }
            },
            "type": "scattermapbox"
           }
          ],
          "scatterpolar": [
           {
            "marker": {
             "colorbar": {
              "outlinewidth": 0,
              "ticks": ""
             }
            },
            "type": "scatterpolar"
           }
          ],
          "scatterpolargl": [
           {
            "marker": {
             "colorbar": {
              "outlinewidth": 0,
              "ticks": ""
             }
            },
            "type": "scatterpolargl"
           }
          ],
          "scatterternary": [
           {
            "marker": {
             "colorbar": {
              "outlinewidth": 0,
              "ticks": ""
             }
            },
            "type": "scatterternary"
           }
          ],
          "surface": [
           {
            "colorbar": {
             "outlinewidth": 0,
             "ticks": ""
            },
            "colorscale": [
             [
              0,
              "#0d0887"
             ],
             [
              0.1111111111111111,
              "#46039f"
             ],
             [
              0.2222222222222222,
              "#7201a8"
             ],
             [
              0.3333333333333333,
              "#9c179e"
             ],
             [
              0.4444444444444444,
              "#bd3786"
             ],
             [
              0.5555555555555556,
              "#d8576b"
             ],
             [
              0.6666666666666666,
              "#ed7953"
             ],
             [
              0.7777777777777778,
              "#fb9f3a"
             ],
             [
              0.8888888888888888,
              "#fdca26"
             ],
             [
              1,
              "#f0f921"
             ]
            ],
            "type": "surface"
           }
          ],
          "table": [
           {
            "cells": {
             "fill": {
              "color": "#EBF0F8"
             },
             "line": {
              "color": "white"
             }
            },
            "header": {
             "fill": {
              "color": "#C8D4E3"
             },
             "line": {
              "color": "white"
             }
            },
            "type": "table"
           }
          ]
         },
         "layout": {
          "annotationdefaults": {
           "arrowcolor": "#2a3f5f",
           "arrowhead": 0,
           "arrowwidth": 1
          },
          "autotypenumbers": "strict",
          "coloraxis": {
           "colorbar": {
            "outlinewidth": 0,
            "ticks": ""
           }
          },
          "colorscale": {
           "diverging": [
            [
             0,
             "#8e0152"
            ],
            [
             0.1,
             "#c51b7d"
            ],
            [
             0.2,
             "#de77ae"
            ],
            [
             0.3,
             "#f1b6da"
            ],
            [
             0.4,
             "#fde0ef"
            ],
            [
             0.5,
             "#f7f7f7"
            ],
            [
             0.6,
             "#e6f5d0"
            ],
            [
             0.7,
             "#b8e186"
            ],
            [
             0.8,
             "#7fbc41"
            ],
            [
             0.9,
             "#4d9221"
            ],
            [
             1,
             "#276419"
            ]
           ],
           "sequential": [
            [
             0,
             "#0d0887"
            ],
            [
             0.1111111111111111,
             "#46039f"
            ],
            [
             0.2222222222222222,
             "#7201a8"
            ],
            [
             0.3333333333333333,
             "#9c179e"
            ],
            [
             0.4444444444444444,
             "#bd3786"
            ],
            [
             0.5555555555555556,
             "#d8576b"
            ],
            [
             0.6666666666666666,
             "#ed7953"
            ],
            [
             0.7777777777777778,
             "#fb9f3a"
            ],
            [
             0.8888888888888888,
             "#fdca26"
            ],
            [
             1,
             "#f0f921"
            ]
           ],
           "sequentialminus": [
            [
             0,
             "#0d0887"
            ],
            [
             0.1111111111111111,
             "#46039f"
            ],
            [
             0.2222222222222222,
             "#7201a8"
            ],
            [
             0.3333333333333333,
             "#9c179e"
            ],
            [
             0.4444444444444444,
             "#bd3786"
            ],
            [
             0.5555555555555556,
             "#d8576b"
            ],
            [
             0.6666666666666666,
             "#ed7953"
            ],
            [
             0.7777777777777778,
             "#fb9f3a"
            ],
            [
             0.8888888888888888,
             "#fdca26"
            ],
            [
             1,
             "#f0f921"
            ]
           ]
          },
          "colorway": [
           "#636efa",
           "#EF553B",
           "#00cc96",
           "#ab63fa",
           "#FFA15A",
           "#19d3f3",
           "#FF6692",
           "#B6E880",
           "#FF97FF",
           "#FECB52"
          ],
          "font": {
           "color": "#2a3f5f"
          },
          "geo": {
           "bgcolor": "white",
           "lakecolor": "white",
           "landcolor": "#E5ECF6",
           "showlakes": true,
           "showland": true,
           "subunitcolor": "white"
          },
          "hoverlabel": {
           "align": "left"
          },
          "hovermode": "closest",
          "mapbox": {
           "style": "light"
          },
          "paper_bgcolor": "white",
          "plot_bgcolor": "#E5ECF6",
          "polar": {
           "angularaxis": {
            "gridcolor": "white",
            "linecolor": "white",
            "ticks": ""
           },
           "bgcolor": "#E5ECF6",
           "radialaxis": {
            "gridcolor": "white",
            "linecolor": "white",
            "ticks": ""
           }
          },
          "scene": {
           "xaxis": {
            "backgroundcolor": "#E5ECF6",
            "gridcolor": "white",
            "gridwidth": 2,
            "linecolor": "white",
            "showbackground": true,
            "ticks": "",
            "zerolinecolor": "white"
           },
           "yaxis": {
            "backgroundcolor": "#E5ECF6",
            "gridcolor": "white",
            "gridwidth": 2,
            "linecolor": "white",
            "showbackground": true,
            "ticks": "",
            "zerolinecolor": "white"
           },
           "zaxis": {
            "backgroundcolor": "#E5ECF6",
            "gridcolor": "white",
            "gridwidth": 2,
            "linecolor": "white",
            "showbackground": true,
            "ticks": "",
            "zerolinecolor": "white"
           }
          },
          "shapedefaults": {
           "line": {
            "color": "#2a3f5f"
           }
          },
          "ternary": {
           "aaxis": {
            "gridcolor": "white",
            "linecolor": "white",
            "ticks": ""
           },
           "baxis": {
            "gridcolor": "white",
            "linecolor": "white",
            "ticks": ""
           },
           "bgcolor": "#E5ECF6",
           "caxis": {
            "gridcolor": "white",
            "linecolor": "white",
            "ticks": ""
           }
          },
          "title": {
           "x": 0.05
          },
          "xaxis": {
           "automargin": true,
           "gridcolor": "white",
           "linecolor": "white",
           "ticks": "",
           "title": {
            "standoff": 15
           },
           "zerolinecolor": "white",
           "zerolinewidth": 2
          },
          "yaxis": {
           "automargin": true,
           "gridcolor": "white",
           "linecolor": "white",
           "ticks": "",
           "title": {
            "standoff": 15
           },
           "zerolinecolor": "white",
           "zerolinewidth": 2
          }
         }
        },
        "width": 900
       }
      }
     },
     "metadata": {},
     "output_type": "display_data"
    }
   ],
   "source": [
    "import numpy as np\n",
    "import pandas as pd\n",
    "import plotly.graph_objects as go\n",
    "\n",
    "np.random.seed(1)\n",
    "I_list = list(np.random.randint(0,3229,10))\n",
    "skiplist = set(range(1, 3229)) - set(I_list)\n",
    "locations = pd.read_csv('https://raw.githubusercontent.com/plotly/datasets/master/2014_us_cities.csv', skiprows=skiplist)\n",
    "\n",
    "scale = 5000\n",
    "fig = go.Figure()\n",
    "fig.add_trace(go.Scattergeo(\n",
    "        locationmode = 'USA-states',\n",
    "        lon = locations['lon'],\n",
    "        lat = locations['lat'],\n",
    "        text = locations['name'],\n",
    "        textfont = {\"color\": 'black',\n",
    "                    \"family\":'Times New Roman',\n",
    "                    \"size\":14},\n",
    "        textposition=\"top center\",\n",
    "        name = \"Candidate Facility\",\n",
    "        mode =\"markers+text\",\n",
    "        marker = dict(\n",
    "            size = 10,\n",
    "            color = \"black\",\n",
    "            line_color='black',\n",
    "            line_width=0.5,\n",
    "            sizemode = 'area')))\n",
    "\n",
    "fig.add_trace(go.Scattergeo(\n",
    "    lat = [locations['lat'][5], locations['lat'][0]], \n",
    "    lon = [locations['lon'][5], locations['lon'][0]],\n",
    "    mode = 'lines',\n",
    "    line = dict(width = 1.5, color = 'blue'),\n",
    "))\n",
    "\n",
    "#Workaround to get the arrow at the end of an edge AB\n",
    "\n",
    "l = 1.1  # the arrow length\n",
    "widh =0.035  #2*widh is the width of the arrow base as triangle\n",
    "\n",
    "A = np.array([locations['lon'][5], locations['lat'][5]])\n",
    "B = np.array([locations['lon'][0], locations['lat'][0]])\n",
    "v = B-A\n",
    "w = v/np.linalg.norm(v)     \n",
    "u  =np.array([-v[1], v[0]])  #u orthogonal on  w\n",
    "         \n",
    "P = B-l*w\n",
    "S = P - widh*u\n",
    "T = P + widh*u\n",
    "\n",
    "fig.add_trace(go.Scattergeo(lon = [S[0], T[0], B[0], S[0]], \n",
    "                            lat =[S[1], T[1], B[1], S[1]], \n",
    "                            mode='lines', \n",
    "                            # fill='toself', \n",
    "                            fillcolor='blue', \n",
    "                            line_color='blue'))\n",
    "#------Display your text at the middle of the segment AB\n",
    "fig.add_trace(go.Scattergeo(lon =[0.5*(A+B)[0]], lat = [0.5*(A+B)[1]], mode='text', text='               Your text'))\n",
    "\n",
    "fig.update_layout(width=900, height=750,\n",
    "        showlegend = False,\n",
    "        geo = dict(\n",
    "            scope = 'usa',\n",
    "            landcolor = 'rgb(217, 217, 217)'))\n",
    "fig.show()"
   ]
  },
  {
   "attachments": {},
   "cell_type": "markdown",
   "id": "23732550",
   "metadata": {},
   "source": [
    "# VRP with capacity constraints\n",
    "\n",
    "Next, we describe an example of a VRP with capacity constraints. The example extends the previous VRP example and adds the following requirements. At each location there is a demand corresponding to the quantity of the item to be picked up. Also, each vehicle has a maximum capacity of 15. (We aren't specifying units for the demands or capacity.)\n",
    "\n",
    "The grid below shows the locations to visit in blue and the company location in black. The demands are shown at the lower right of each location. See Location coordinates in the VRP section for more details about how the locations are defined."
   ]
  },
  {
   "cell_type": "code",
   "execution_count": 7,
   "id": "5636ddc8",
   "metadata": {},
   "outputs": [],
   "source": [
    "data['demands'] = [0, 1, 1, 2, 4, 2, 4, 8, 8, 1, 2, 1, 2, 4, 4, 8, 8]\n",
    "data['vehicle_capacities'] = [15, 15, 15, 15]"
   ]
  },
  {
   "attachments": {},
   "cell_type": "markdown",
   "id": "bbec4b5a",
   "metadata": {},
   "source": [
    "## Add the demand callback\n",
    "\n",
    "Unlike the distance callback, which takes a pair of locations as inputs, the demand callback only depends on the location (from_node) of the delivery."
   ]
  },
  {
   "cell_type": "code",
   "execution_count": 8,
   "id": "e2023a7e",
   "metadata": {},
   "outputs": [
    {
     "data": {
      "text/plain": [
       "True"
      ]
     },
     "execution_count": 8,
     "metadata": {},
     "output_type": "execute_result"
    }
   ],
   "source": [
    "def demand_callback(from_index):\n",
    "    \"\"\"Returns the demand of the node.\"\"\"\n",
    "    # Convert from routing variable Index to demands NodeIndex.\n",
    "    from_node = manager.IndexToNode(from_index)\n",
    "    return data['demands'][from_node]\n",
    "\n",
    "demand_callback_index = routing.RegisterUnaryTransitCallback(\n",
    "    demand_callback)\n",
    "routing.AddDimensionWithVehicleCapacity(\n",
    "    demand_callback_index,\n",
    "    0,  # null capacity slack\n",
    "    data['vehicle_capacities'],  # vehicle maximum capacities\n",
    "    True,  # start cumul to zero\n",
    "    'Capacity')"
   ]
  },
  {
   "attachments": {},
   "cell_type": "markdown",
   "id": "49595590",
   "metadata": {},
   "source": [
    "## Add the solution printer"
   ]
  },
  {
   "cell_type": "code",
   "execution_count": 9,
   "id": "45b0beee",
   "metadata": {},
   "outputs": [],
   "source": [
    "def print_solution(data, manager, routing, solution):\n",
    "    \"\"\"Prints solution on console.\"\"\"\n",
    "    print(f'Objective: {solution.ObjectiveValue()}')\n",
    "    total_distance = 0\n",
    "    total_load = 0\n",
    "    for vehicle_id in range(data['num_vehicles']):\n",
    "        index = routing.Start(vehicle_id)\n",
    "        plan_output = 'Route for vehicle {}:\\n'.format(vehicle_id)\n",
    "        route_distance = 0\n",
    "        route_load = 0\n",
    "        while not routing.IsEnd(index):\n",
    "            node_index = manager.IndexToNode(index)\n",
    "            route_load += data['demands'][node_index]\n",
    "            plan_output += ' {0} Load({1}) -> '.format(node_index, route_load)\n",
    "            previous_index = index\n",
    "            index = solution.Value(routing.NextVar(index))\n",
    "            route_distance += routing.GetArcCostForVehicle(\n",
    "                previous_index, index, vehicle_id)\n",
    "        plan_output += ' {0} Load({1})\\n'.format(manager.IndexToNode(index),\n",
    "                                                 route_load)\n",
    "        plan_output += 'Distance of the route: {}m\\n'.format(route_distance)\n",
    "        plan_output += 'Load of the route: {}\\n'.format(route_load)\n",
    "        print(plan_output)\n",
    "        total_distance += route_distance\n",
    "        total_load += route_load\n",
    "    print('Total distance of all routes: {}m'.format(total_distance))\n",
    "    print('Total load of all routes: {}'.format(total_load))"
   ]
  },
  {
   "cell_type": "code",
   "execution_count": 10,
   "id": "663ed1db",
   "metadata": {},
   "outputs": [],
   "source": [
    "search_parameters = pywrapcp.DefaultRoutingSearchParameters()\n",
    "search_parameters.first_solution_strategy = (\n",
    "    routing_enums_pb2.FirstSolutionStrategy.PATH_CHEAPEST_ARC)\n",
    "search_parameters.local_search_metaheuristic = (\n",
    "    routing_enums_pb2.LocalSearchMetaheuristic.GUIDED_LOCAL_SEARCH)\n",
    "search_parameters.time_limit.FromSeconds(1)\n",
    "\n",
    "# Solve the problem.\n",
    "solution = routing.SolveWithParameters(search_parameters)"
   ]
  },
  {
   "cell_type": "code",
   "execution_count": 12,
   "id": "5798b7e9",
   "metadata": {},
   "outputs": [
    {
     "name": "stdout",
     "output_type": "stream",
     "text": [
      "Objective: 6208\n",
      "Route for vehicle 0:\n",
      " 0 Load(0) ->  4 Load(4) ->  3 Load(6) ->  1 Load(7) ->  7 Load(15) ->  0 Load(15)\n",
      "Distance of the route: 1552m\n",
      "Load of the route: 15\n",
      "\n",
      "Route for vehicle 1:\n",
      " 0 Load(0) ->  14 Load(4) ->  16 Load(12) ->  10 Load(14) ->  9 Load(15) ->  0 Load(15)\n",
      "Distance of the route: 1552m\n",
      "Load of the route: 15\n",
      "\n",
      "Route for vehicle 2:\n",
      " 0 Load(0) ->  12 Load(2) ->  11 Load(3) ->  15 Load(11) ->  13 Load(15) ->  0 Load(15)\n",
      "Distance of the route: 1552m\n",
      "Load of the route: 15\n",
      "\n",
      "Route for vehicle 3:\n",
      " 0 Load(0) ->  8 Load(8) ->  2 Load(9) ->  6 Load(13) ->  5 Load(15) ->  0 Load(15)\n",
      "Distance of the route: 1552m\n",
      "Load of the route: 15\n",
      "\n",
      "Total distance of all routes: 6208m\n",
      "Total load of all routes: 60\n"
     ]
    }
   ],
   "source": [
    "print_solution(data, manager, routing, solution)"
   ]
  },
  {
   "attachments": {},
   "cell_type": "markdown",
   "id": "195254e4",
   "metadata": {},
   "source": [
    "What happens if a problem has no solution ?\n",
    "A routing problem with constraints, such as a CVRP, might not have a feasible solution — for example, if the total quantity of the items being transported exceeds the total capacity of the vehicles. If you try to solve such a problem, the solver might run an exhaustive search which takes so long that eventually you have to give up and interrupt the program.\n",
    "\n",
    "Usually this won't be an issue. But here are a couple of ways to prevent your program from running a long time when a problem has no solution:\n",
    "\n",
    "Set a time limit in the program, which stops the search even if no solution has been found. However, keep in mind that if the problem has a solution that requires a lengthy search, the program might reach the time limit before finding the solution.\n",
    "Set penalties for dropping visits to locations. This allows the solver to return a \"solution\" that doesn't visit all locations in case the problem is infeasible. See Penalties and Dropping Visits.\n",
    "In general, it can be hard to tell if a given problem has a solution. Even for a CVRP in which total demand doesn't exceed total capacity, determining whether all the items will fit in the vehicles is a version of the multiple knapsack problem.\n",
    "\n"
   ]
  },
  {
   "attachments": {},
   "cell_type": "markdown",
   "id": "d7075fa8",
   "metadata": {},
   "source": [
    "# Setting start and end locations for routes\n",
    "\n",
    "So far, we have assumed that all vehicles start and end at a single location, the depot. You can also set possibly different start and end locations for each vehicle in the problem. To do so, pass two vectors, containing the indices of the start and end locations, as inputs to the RoutingModel method in the main function. Here's how to create the start and end vectors in the data section of the program:"
   ]
  },
  {
   "cell_type": "code",
   "execution_count": 14,
   "id": "fe38c8b8",
   "metadata": {},
   "outputs": [],
   "source": [
    "data['starts'] = [1, 2, 15, 16]\n",
    "data['ends'] = [0, 0, 0, 0]"
   ]
  },
  {
   "cell_type": "code",
   "execution_count": 15,
   "id": "3fad8e6c",
   "metadata": {},
   "outputs": [
    {
     "name": "stdout",
     "output_type": "stream",
     "text": [
      "Objective: 115794\n",
      "Route for vehicle 0:\n",
      " 1 ->  4 ->  3 ->  7 -> 0\n",
      "Distance of the route: 1004m\n",
      "\n",
      "Route for vehicle 1:\n",
      " 2 ->  6 ->  8 ->  5 -> 0\n",
      "Distance of the route: 936m\n",
      "\n",
      "Route for vehicle 2:\n",
      " 15 ->  11 ->  12 ->  13 -> 0\n",
      "Distance of the route: 936m\n",
      "\n",
      "Route for vehicle 3:\n",
      " 16 ->  14 ->  10 ->  9 -> 0\n",
      "Distance of the route: 1118m\n",
      "\n",
      "Maximum of the route distances: 1118m\n"
     ]
    }
   ],
   "source": [
    "\"\"\"Simple Vehicles Routing Problem.\"\"\"\n",
    "\n",
    "from ortools.constraint_solver import routing_enums_pb2\n",
    "from ortools.constraint_solver import pywrapcp\n",
    "\n",
    "\n",
    "def create_data_model():\n",
    "    \"\"\"Stores the data for the problem.\"\"\"\n",
    "    data = {}\n",
    "    data['distance_matrix'] = [\n",
    "        [\n",
    "            0, 548, 776, 696, 582, 274, 502, 194, 308, 194, 536, 502, 388, 354,\n",
    "            468, 776, 662\n",
    "        ],\n",
    "        [\n",
    "            548, 0, 684, 308, 194, 502, 730, 354, 696, 742, 1084, 594, 480, 674,\n",
    "            1016, 868, 1210\n",
    "        ],\n",
    "        [\n",
    "            776, 684, 0, 992, 878, 502, 274, 810, 468, 742, 400, 1278, 1164,\n",
    "            1130, 788, 1552, 754\n",
    "        ],\n",
    "        [\n",
    "            696, 308, 992, 0, 114, 650, 878, 502, 844, 890, 1232, 514, 628, 822,\n",
    "            1164, 560, 1358\n",
    "        ],\n",
    "        [\n",
    "            582, 194, 878, 114, 0, 536, 764, 388, 730, 776, 1118, 400, 514, 708,\n",
    "            1050, 674, 1244\n",
    "        ],\n",
    "        [\n",
    "            274, 502, 502, 650, 536, 0, 228, 308, 194, 240, 582, 776, 662, 628,\n",
    "            514, 1050, 708\n",
    "        ],\n",
    "        [\n",
    "            502, 730, 274, 878, 764, 228, 0, 536, 194, 468, 354, 1004, 890, 856,\n",
    "            514, 1278, 480\n",
    "        ],\n",
    "        [\n",
    "            194, 354, 810, 502, 388, 308, 536, 0, 342, 388, 730, 468, 354, 320,\n",
    "            662, 742, 856\n",
    "        ],\n",
    "        [\n",
    "            308, 696, 468, 844, 730, 194, 194, 342, 0, 274, 388, 810, 696, 662,\n",
    "            320, 1084, 514\n",
    "        ],\n",
    "        [\n",
    "            194, 742, 742, 890, 776, 240, 468, 388, 274, 0, 342, 536, 422, 388,\n",
    "            274, 810, 468\n",
    "        ],\n",
    "        [\n",
    "            536, 1084, 400, 1232, 1118, 582, 354, 730, 388, 342, 0, 878, 764,\n",
    "            730, 388, 1152, 354\n",
    "        ],\n",
    "        [\n",
    "            502, 594, 1278, 514, 400, 776, 1004, 468, 810, 536, 878, 0, 114,\n",
    "            308, 650, 274, 844\n",
    "        ],\n",
    "        [\n",
    "            388, 480, 1164, 628, 514, 662, 890, 354, 696, 422, 764, 114, 0, 194,\n",
    "            536, 388, 730\n",
    "        ],\n",
    "        [\n",
    "            354, 674, 1130, 822, 708, 628, 856, 320, 662, 388, 730, 308, 194, 0,\n",
    "            342, 422, 536\n",
    "        ],\n",
    "        [\n",
    "            468, 1016, 788, 1164, 1050, 514, 514, 662, 320, 274, 388, 650, 536,\n",
    "            342, 0, 764, 194\n",
    "        ],\n",
    "        [\n",
    "            776, 868, 1552, 560, 674, 1050, 1278, 742, 1084, 810, 1152, 274,\n",
    "            388, 422, 764, 0, 798\n",
    "        ],\n",
    "        [\n",
    "            662, 1210, 754, 1358, 1244, 708, 480, 856, 514, 468, 354, 844, 730,\n",
    "            536, 194, 798, 0\n",
    "        ],\n",
    "    ]\n",
    "    data['num_vehicles'] = 4\n",
    "    data['starts'] = [1, 2, 15, 16]\n",
    "    data['ends'] = [0, 0, 0, 0]\n",
    "    return data\n",
    "\n",
    "\n",
    "def print_solution(data, manager, routing, solution):\n",
    "    \"\"\"Prints solution on console.\"\"\"\n",
    "    print(f'Objective: {solution.ObjectiveValue()}')\n",
    "    max_route_distance = 0\n",
    "    for vehicle_id in range(data['num_vehicles']):\n",
    "        index = routing.Start(vehicle_id)\n",
    "        plan_output = 'Route for vehicle {}:\\n'.format(vehicle_id)\n",
    "        route_distance = 0\n",
    "        while not routing.IsEnd(index):\n",
    "            plan_output += ' {} -> '.format(manager.IndexToNode(index))\n",
    "            previous_index = index\n",
    "            index = solution.Value(routing.NextVar(index))\n",
    "            route_distance += routing.GetArcCostForVehicle(\n",
    "                previous_index, index, vehicle_id)\n",
    "        plan_output += '{}\\n'.format(manager.IndexToNode(index))\n",
    "        plan_output += 'Distance of the route: {}m\\n'.format(route_distance)\n",
    "        print(plan_output)\n",
    "        max_route_distance = max(route_distance, max_route_distance)\n",
    "    print('Maximum of the route distances: {}m'.format(max_route_distance))\n",
    "\n",
    "\n",
    "def main():\n",
    "    \"\"\"Entry point of the program.\"\"\"\n",
    "    # Instantiate the data problem.\n",
    "    data = create_data_model()\n",
    "\n",
    "    # Create the routing index manager.\n",
    "    manager = pywrapcp.RoutingIndexManager(len(data['distance_matrix']),\n",
    "                                           data['num_vehicles'], data['starts'],\n",
    "                                           data['ends'])\n",
    "\n",
    "    # Create Routing Model.\n",
    "    routing = pywrapcp.RoutingModel(manager)\n",
    "\n",
    "\n",
    "    # Create and register a transit callback.\n",
    "    def distance_callback(from_index, to_index):\n",
    "        \"\"\"Returns the distance between the two nodes.\"\"\"\n",
    "        # Convert from routing variable Index to distance matrix NodeIndex.\n",
    "        from_node = manager.IndexToNode(from_index)\n",
    "        to_node = manager.IndexToNode(to_index)\n",
    "        return data['distance_matrix'][from_node][to_node]\n",
    "\n",
    "    transit_callback_index = routing.RegisterTransitCallback(distance_callback)\n",
    "\n",
    "    # Define cost of each arc.\n",
    "    routing.SetArcCostEvaluatorOfAllVehicles(transit_callback_index)\n",
    "\n",
    "    # Add Distance constraint.\n",
    "    dimension_name = 'Distance'\n",
    "    routing.AddDimension(\n",
    "        transit_callback_index,\n",
    "        0,  # no slack\n",
    "        2000,  # vehicle maximum travel distance\n",
    "        True,  # start cumul to zero\n",
    "        dimension_name)\n",
    "    distance_dimension = routing.GetDimensionOrDie(dimension_name)\n",
    "    distance_dimension.SetGlobalSpanCostCoefficient(100)\n",
    "\n",
    "    # Setting first solution heuristic.\n",
    "    search_parameters = pywrapcp.DefaultRoutingSearchParameters()\n",
    "    search_parameters.first_solution_strategy = (\n",
    "        routing_enums_pb2.FirstSolutionStrategy.PATH_CHEAPEST_ARC)\n",
    "\n",
    "    # Solve the problem.\n",
    "    solution = routing.SolveWithParameters(search_parameters)\n",
    "\n",
    "    # Print solution on console.\n",
    "    if solution:\n",
    "        print_solution(data, manager, routing, solution)\n",
    "\n",
    "\n",
    "if __name__ == '__main__':\n",
    "    main()"
   ]
  },
  {
   "attachments": {},
   "cell_type": "markdown",
   "id": "ee1cc8f6",
   "metadata": {},
   "source": [
    "# VRP with various Pickups and Deliveries\n",
    "\n",
    "In this section we describe a VRP in which each vehicle picks up items at various locations and drops them off at others. The problem is to assign routes for the vehicles to pick up and deliver all the items, while minimizing the length of the longest route."
   ]
  },
  {
   "cell_type": "code",
   "execution_count": null,
   "id": "9b6822a5",
   "metadata": {},
   "outputs": [],
   "source": []
  },
  {
   "cell_type": "code",
   "execution_count": null,
   "id": "5d1d50f7",
   "metadata": {},
   "outputs": [],
   "source": []
  }
 ],
 "metadata": {
  "kernelspec": {
   "display_name": "or_env",
   "language": "python",
   "name": "python3"
  },
  "language_info": {
   "codemirror_mode": {
    "name": "ipython",
    "version": 3
   },
   "file_extension": ".py",
   "mimetype": "text/x-python",
   "name": "python",
   "nbconvert_exporter": "python",
   "pygments_lexer": "ipython3",
   "version": "3.8.15"
  },
  "vscode": {
   "interpreter": {
    "hash": "2ed57ed0e014f8c332b01f3501f743fdc02d8bab1f9052c09a150fb6a1d27f58"
   }
  }
 },
 "nbformat": 4,
 "nbformat_minor": 5
}
