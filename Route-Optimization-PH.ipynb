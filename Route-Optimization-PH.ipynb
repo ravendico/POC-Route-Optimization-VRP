{
 "cells": [
  {
   "attachments": {},
   "cell_type": "markdown",
   "id": "827175f0",
   "metadata": {},
   "source": [
    "# Executive Summary\n",
    "\n",
    "This notebook aims to compile resources on route optimization. For aboitiz, this can be used in its delivery logistics such as in Basco and Republic Cement.\n",
    "\n",
    "https://developers.google.com/optimization/routing\n",
    "\n",
    "A more general version of the TSP is the vehicle routing problem (VRP), in which there are multiple vehicles. In most cases, VRPs have constraints: for example, vehicles might have capacities for the maximum weight or volume of items they can carry, or drivers might be required to visit locations during specified time windows requested by customers.\n",
    "\n",
    "OR-Tools can solve many types of VRPs, including the following:\n",
    "\n",
    "- Traveling Salesperson Problem, the classic routing problem in which there is just one vehicle.\n",
    "- Vehicle routing problem, a generalisation of the TSP with multiple vehicles.\n",
    "- VRP with capacity constraints, in which vehicles have maximum capacities for the items they can carry.\n",
    "- VRP with time windows, where the vehicles must visit the locations in specified time intervals.\n",
    "- VRP with resource constraints, such as space or personnel to load and unload vehicles at the depot (the starting point for the routes).\n",
    "- VRP with dropped visits, where the vehicles aren't required to visit all locations, but must pay a penalty for each visit that is dropped.\n",
    "\n",
    "Resources:\n",
    "https://developers.google.com/optimization/routing/vrptw"
   ]
  },
  {
   "attachments": {},
   "cell_type": "markdown",
   "id": "d416a5e1",
   "metadata": {},
   "source": [
    "# Loading Libraries"
   ]
  },
  {
   "cell_type": "code",
   "execution_count": 2,
   "id": "1ea4ae4c",
   "metadata": {},
   "outputs": [],
   "source": [
    "import os\n",
    "from ortools.constraint_solver import pywrapcp\n",
    "from ortools.constraint_solver import routing_enums_pb2\n",
    "import pandas as pd\n",
    "\n",
    "import plotly\n",
    "import plotly.express as px\n",
    "import plotly.graph_objects as go\n",
    "\n",
    "import geopandas as gpd\n",
    "import numpy as np\n",
    "\n",
    "#import token\n",
    "from mapbox_token import *"
   ]
  },
  {
   "attachments": {},
   "cell_type": "markdown",
   "id": "ff9ef899",
   "metadata": {},
   "source": [
    "# Traveling Salesman Problem"
   ]
  },
  {
   "attachments": {},
   "cell_type": "markdown",
   "id": "99e58b28",
   "metadata": {},
   "source": [
    "The data also includes:\n",
    "\n",
    "- The number of vehicles in the problem, which is 1 because this is a TSP. (For a vehicle routing problem (VRP), the number of vehicles can be greater than 1.)\n",
    "- The depot: the start and end location for the route. In this case, the depot is 0, which corresponds to New York.\n"
   ]
  },
  {
   "attachments": {},
   "cell_type": "markdown",
   "id": "9db3dbaa",
   "metadata": {},
   "source": [
    "## Read data"
   ]
  },
  {
   "cell_type": "code",
   "execution_count": 3,
   "id": "df86edfe",
   "metadata": {},
   "outputs": [
    {
     "data": {
      "text/plain": [
       "['ESTABLISHMENTS_752020.csv']"
      ]
     },
     "execution_count": 3,
     "metadata": {},
     "output_type": "execute_result"
    }
   ],
   "source": [
    "os.chdir('data')\n",
    "os.listdir()"
   ]
  },
  {
   "cell_type": "code",
   "execution_count": 4,
   "id": "a7127d3a",
   "metadata": {},
   "outputs": [],
   "source": [
    "df = pd.read_csv('ESTABLISHMENTS_752020.csv')"
   ]
  },
  {
   "cell_type": "code",
   "execution_count": 5,
   "id": "d4433b7a",
   "metadata": {},
   "outputs": [
    {
     "data": {
      "text/plain": [
       "BDO                           3015\n",
       "711                           2709\n",
       "BPI                           2374\n",
       "BanKo                         2247\n",
       "RCB                           1912\n",
       "MBT                           1767\n",
       "LBP                           1360\n",
       "PNB                           1206\n",
       "MERCURY DRUG                  1189\n",
       "Cebuana Lhuillier Pawnshop    1179\n",
       "JFC                           1079\n",
       "SECB                          1069\n",
       "CHIB                           931\n",
       "EW                             908\n",
       "Western Union                  896\n",
       "Lbc                            863\n",
       "Cebuana Lhuillier              757\n",
       "Chooks To Go                   724\n",
       "UBP                            713\n",
       "Shell Gasoline Station         497\n",
       "Name: Company, dtype: int64"
      ]
     },
     "execution_count": 5,
     "metadata": {},
     "output_type": "execute_result"
    }
   ],
   "source": [
    "df.Company.value_counts().head(20)"
   ]
  },
  {
   "cell_type": "code",
   "execution_count": 6,
   "id": "bce94ff6",
   "metadata": {},
   "outputs": [],
   "source": [
    "#filter to one restautant and city first\n",
    "jabee = df[(df.Company == 'JFC') & (df.MUNICIPALITY == 'Mandaluyong')].copy()\n",
    "jabee = gpd.GeoDataFrame(jabee, geometry=gpd.points_from_xy(jabee.Longitude, jabee.Latitude))\n",
    "jabee.reset_index(inplace=True)"
   ]
  },
  {
   "cell_type": "code",
   "execution_count": 7,
   "id": "91304843",
   "metadata": {},
   "outputs": [],
   "source": [
    "jabee = jabee.set_crs('epsg:4326')\n",
    "jabee = jabee.to_crs('epsg:3857')"
   ]
  },
  {
   "cell_type": "code",
   "execution_count": 8,
   "id": "807fbd73",
   "metadata": {},
   "outputs": [
    {
     "data": {
      "text/html": [
       "<div>\n",
       "<style scoped>\n",
       "    .dataframe tbody tr th:only-of-type {\n",
       "        vertical-align: middle;\n",
       "    }\n",
       "\n",
       "    .dataframe tbody tr th {\n",
       "        vertical-align: top;\n",
       "    }\n",
       "\n",
       "    .dataframe thead th {\n",
       "        text-align: right;\n",
       "    }\n",
       "</style>\n",
       "<table border=\"1\" class=\"dataframe\">\n",
       "  <thead>\n",
       "    <tr style=\"text-align: right;\">\n",
       "      <th></th>\n",
       "      <th>0</th>\n",
       "      <th>1</th>\n",
       "      <th>2</th>\n",
       "      <th>3</th>\n",
       "      <th>4</th>\n",
       "      <th>5</th>\n",
       "      <th>6</th>\n",
       "      <th>7</th>\n",
       "      <th>8</th>\n",
       "      <th>9</th>\n",
       "      <th>...</th>\n",
       "      <th>12</th>\n",
       "      <th>13</th>\n",
       "      <th>14</th>\n",
       "      <th>15</th>\n",
       "      <th>16</th>\n",
       "      <th>17</th>\n",
       "      <th>18</th>\n",
       "      <th>19</th>\n",
       "      <th>20</th>\n",
       "      <th>21</th>\n",
       "    </tr>\n",
       "  </thead>\n",
       "  <tbody>\n",
       "    <tr>\n",
       "      <th>0</th>\n",
       "      <td>0.000000</td>\n",
       "      <td>1.467292</td>\n",
       "      <td>1.446216</td>\n",
       "      <td>2.801033</td>\n",
       "      <td>0.638357</td>\n",
       "      <td>0.227502</td>\n",
       "      <td>1.772084</td>\n",
       "      <td>3.232857</td>\n",
       "      <td>1.796228</td>\n",
       "      <td>2.066745</td>\n",
       "      <td>...</td>\n",
       "      <td>1.467292</td>\n",
       "      <td>1.446216</td>\n",
       "      <td>2.801033</td>\n",
       "      <td>0.638357</td>\n",
       "      <td>0.227502</td>\n",
       "      <td>1.772084</td>\n",
       "      <td>3.232857</td>\n",
       "      <td>1.796228</td>\n",
       "      <td>2.066745</td>\n",
       "      <td>1.270094</td>\n",
       "    </tr>\n",
       "    <tr>\n",
       "      <th>1</th>\n",
       "      <td>1.467292</td>\n",
       "      <td>0.000000</td>\n",
       "      <td>2.316423</td>\n",
       "      <td>1.388082</td>\n",
       "      <td>0.831212</td>\n",
       "      <td>1.648293</td>\n",
       "      <td>2.620063</td>\n",
       "      <td>1.924472</td>\n",
       "      <td>2.641841</td>\n",
       "      <td>1.072974</td>\n",
       "      <td>...</td>\n",
       "      <td>0.000000</td>\n",
       "      <td>2.316423</td>\n",
       "      <td>1.388082</td>\n",
       "      <td>0.831212</td>\n",
       "      <td>1.648293</td>\n",
       "      <td>2.620063</td>\n",
       "      <td>1.924472</td>\n",
       "      <td>2.641841</td>\n",
       "      <td>1.072974</td>\n",
       "      <td>1.928486</td>\n",
       "    </tr>\n",
       "    <tr>\n",
       "      <th>2</th>\n",
       "      <td>1.446216</td>\n",
       "      <td>2.316423</td>\n",
       "      <td>0.000000</td>\n",
       "      <td>3.250192</td>\n",
       "      <td>1.694945</td>\n",
       "      <td>1.266021</td>\n",
       "      <td>0.331978</td>\n",
       "      <td>3.426276</td>\n",
       "      <td>0.356196</td>\n",
       "      <td>2.210810</td>\n",
       "      <td>...</td>\n",
       "      <td>2.316423</td>\n",
       "      <td>0.000000</td>\n",
       "      <td>3.250192</td>\n",
       "      <td>1.694945</td>\n",
       "      <td>1.266021</td>\n",
       "      <td>0.331978</td>\n",
       "      <td>3.426276</td>\n",
       "      <td>0.356196</td>\n",
       "      <td>2.210810</td>\n",
       "      <td>0.417244</td>\n",
       "    </tr>\n",
       "    <tr>\n",
       "      <th>3</th>\n",
       "      <td>2.801033</td>\n",
       "      <td>1.388082</td>\n",
       "      <td>3.250192</td>\n",
       "      <td>0.000000</td>\n",
       "      <td>2.169268</td>\n",
       "      <td>2.950130</td>\n",
       "      <td>3.484957</td>\n",
       "      <td>0.654073</td>\n",
       "      <td>3.501550</td>\n",
       "      <td>1.073228</td>\n",
       "      <td>...</td>\n",
       "      <td>1.388082</td>\n",
       "      <td>3.250192</td>\n",
       "      <td>0.000000</td>\n",
       "      <td>2.169268</td>\n",
       "      <td>2.950130</td>\n",
       "      <td>3.484957</td>\n",
       "      <td>0.654073</td>\n",
       "      <td>3.501550</td>\n",
       "      <td>1.073228</td>\n",
       "      <td>2.833227</td>\n",
       "    </tr>\n",
       "    <tr>\n",
       "      <th>4</th>\n",
       "      <td>0.638357</td>\n",
       "      <td>0.831212</td>\n",
       "      <td>1.694945</td>\n",
       "      <td>2.169268</td>\n",
       "      <td>0.000000</td>\n",
       "      <td>0.818413</td>\n",
       "      <td>2.023159</td>\n",
       "      <td>2.627480</td>\n",
       "      <td>2.046917</td>\n",
       "      <td>1.518779</td>\n",
       "      <td>...</td>\n",
       "      <td>0.831212</td>\n",
       "      <td>1.694945</td>\n",
       "      <td>2.169268</td>\n",
       "      <td>0.000000</td>\n",
       "      <td>0.818413</td>\n",
       "      <td>2.023159</td>\n",
       "      <td>2.627480</td>\n",
       "      <td>2.046917</td>\n",
       "      <td>1.518779</td>\n",
       "      <td>1.377417</td>\n",
       "    </tr>\n",
       "    <tr>\n",
       "      <th>5</th>\n",
       "      <td>0.227502</td>\n",
       "      <td>1.648293</td>\n",
       "      <td>1.266021</td>\n",
       "      <td>2.950130</td>\n",
       "      <td>0.818413</td>\n",
       "      <td>0.000000</td>\n",
       "      <td>1.584953</td>\n",
       "      <td>3.351900</td>\n",
       "      <td>1.608835</td>\n",
       "      <td>2.156936</td>\n",
       "      <td>...</td>\n",
       "      <td>1.648293</td>\n",
       "      <td>1.266021</td>\n",
       "      <td>2.950130</td>\n",
       "      <td>0.818413</td>\n",
       "      <td>0.000000</td>\n",
       "      <td>1.584953</td>\n",
       "      <td>3.351900</td>\n",
       "      <td>1.608835</td>\n",
       "      <td>2.156936</td>\n",
       "      <td>1.140093</td>\n",
       "    </tr>\n",
       "    <tr>\n",
       "      <th>6</th>\n",
       "      <td>1.772084</td>\n",
       "      <td>2.620063</td>\n",
       "      <td>0.331978</td>\n",
       "      <td>3.484957</td>\n",
       "      <td>2.023159</td>\n",
       "      <td>1.584953</td>\n",
       "      <td>0.000000</td>\n",
       "      <td>3.613835</td>\n",
       "      <td>0.024273</td>\n",
       "      <td>2.426205</td>\n",
       "      <td>...</td>\n",
       "      <td>2.620063</td>\n",
       "      <td>0.331978</td>\n",
       "      <td>3.484957</td>\n",
       "      <td>2.023159</td>\n",
       "      <td>1.584953</td>\n",
       "      <td>0.000000</td>\n",
       "      <td>3.613835</td>\n",
       "      <td>0.024273</td>\n",
       "      <td>2.426205</td>\n",
       "      <td>0.692787</td>\n",
       "    </tr>\n",
       "    <tr>\n",
       "      <th>7</th>\n",
       "      <td>3.232857</td>\n",
       "      <td>1.924472</td>\n",
       "      <td>3.426276</td>\n",
       "      <td>0.654073</td>\n",
       "      <td>2.627480</td>\n",
       "      <td>3.351900</td>\n",
       "      <td>3.613835</td>\n",
       "      <td>0.000000</td>\n",
       "      <td>3.626976</td>\n",
       "      <td>1.240024</td>\n",
       "      <td>...</td>\n",
       "      <td>1.924472</td>\n",
       "      <td>3.426276</td>\n",
       "      <td>0.654073</td>\n",
       "      <td>2.627480</td>\n",
       "      <td>3.351900</td>\n",
       "      <td>3.613835</td>\n",
       "      <td>0.000000</td>\n",
       "      <td>3.626976</td>\n",
       "      <td>1.240024</td>\n",
       "      <td>3.020797</td>\n",
       "    </tr>\n",
       "    <tr>\n",
       "      <th>8</th>\n",
       "      <td>1.796228</td>\n",
       "      <td>2.641841</td>\n",
       "      <td>0.356196</td>\n",
       "      <td>3.501550</td>\n",
       "      <td>2.046917</td>\n",
       "      <td>1.608835</td>\n",
       "      <td>0.024273</td>\n",
       "      <td>3.626976</td>\n",
       "      <td>0.000000</td>\n",
       "      <td>2.441723</td>\n",
       "      <td>...</td>\n",
       "      <td>2.641841</td>\n",
       "      <td>0.356196</td>\n",
       "      <td>3.501550</td>\n",
       "      <td>2.046917</td>\n",
       "      <td>1.608835</td>\n",
       "      <td>0.024273</td>\n",
       "      <td>3.626976</td>\n",
       "      <td>0.000000</td>\n",
       "      <td>2.441723</td>\n",
       "      <td>0.714068</td>\n",
       "    </tr>\n",
       "    <tr>\n",
       "      <th>9</th>\n",
       "      <td>2.066745</td>\n",
       "      <td>1.072974</td>\n",
       "      <td>2.210810</td>\n",
       "      <td>1.073228</td>\n",
       "      <td>1.518779</td>\n",
       "      <td>2.156936</td>\n",
       "      <td>2.426205</td>\n",
       "      <td>1.240024</td>\n",
       "      <td>2.441723</td>\n",
       "      <td>0.000000</td>\n",
       "      <td>...</td>\n",
       "      <td>1.072974</td>\n",
       "      <td>2.210810</td>\n",
       "      <td>1.073228</td>\n",
       "      <td>1.518779</td>\n",
       "      <td>2.156936</td>\n",
       "      <td>2.426205</td>\n",
       "      <td>1.240024</td>\n",
       "      <td>2.441723</td>\n",
       "      <td>0.000000</td>\n",
       "      <td>1.798168</td>\n",
       "    </tr>\n",
       "    <tr>\n",
       "      <th>10</th>\n",
       "      <td>1.270094</td>\n",
       "      <td>1.928486</td>\n",
       "      <td>0.417244</td>\n",
       "      <td>2.833227</td>\n",
       "      <td>1.377417</td>\n",
       "      <td>1.140093</td>\n",
       "      <td>0.692787</td>\n",
       "      <td>3.020797</td>\n",
       "      <td>0.714068</td>\n",
       "      <td>1.798168</td>\n",
       "      <td>...</td>\n",
       "      <td>1.928486</td>\n",
       "      <td>0.417244</td>\n",
       "      <td>2.833227</td>\n",
       "      <td>1.377417</td>\n",
       "      <td>1.140093</td>\n",
       "      <td>0.692787</td>\n",
       "      <td>3.020797</td>\n",
       "      <td>0.714068</td>\n",
       "      <td>1.798168</td>\n",
       "      <td>0.000000</td>\n",
       "    </tr>\n",
       "    <tr>\n",
       "      <th>11</th>\n",
       "      <td>0.000000</td>\n",
       "      <td>1.467292</td>\n",
       "      <td>1.446216</td>\n",
       "      <td>2.801033</td>\n",
       "      <td>0.638357</td>\n",
       "      <td>0.227502</td>\n",
       "      <td>1.772084</td>\n",
       "      <td>3.232857</td>\n",
       "      <td>1.796228</td>\n",
       "      <td>2.066745</td>\n",
       "      <td>...</td>\n",
       "      <td>1.467292</td>\n",
       "      <td>1.446216</td>\n",
       "      <td>2.801033</td>\n",
       "      <td>0.638357</td>\n",
       "      <td>0.227502</td>\n",
       "      <td>1.772084</td>\n",
       "      <td>3.232857</td>\n",
       "      <td>1.796228</td>\n",
       "      <td>2.066745</td>\n",
       "      <td>1.270094</td>\n",
       "    </tr>\n",
       "    <tr>\n",
       "      <th>12</th>\n",
       "      <td>1.467292</td>\n",
       "      <td>0.000000</td>\n",
       "      <td>2.316423</td>\n",
       "      <td>1.388082</td>\n",
       "      <td>0.831212</td>\n",
       "      <td>1.648293</td>\n",
       "      <td>2.620063</td>\n",
       "      <td>1.924472</td>\n",
       "      <td>2.641841</td>\n",
       "      <td>1.072974</td>\n",
       "      <td>...</td>\n",
       "      <td>0.000000</td>\n",
       "      <td>2.316423</td>\n",
       "      <td>1.388082</td>\n",
       "      <td>0.831212</td>\n",
       "      <td>1.648293</td>\n",
       "      <td>2.620063</td>\n",
       "      <td>1.924472</td>\n",
       "      <td>2.641841</td>\n",
       "      <td>1.072974</td>\n",
       "      <td>1.928486</td>\n",
       "    </tr>\n",
       "    <tr>\n",
       "      <th>13</th>\n",
       "      <td>1.446216</td>\n",
       "      <td>2.316423</td>\n",
       "      <td>0.000000</td>\n",
       "      <td>3.250192</td>\n",
       "      <td>1.694945</td>\n",
       "      <td>1.266021</td>\n",
       "      <td>0.331978</td>\n",
       "      <td>3.426276</td>\n",
       "      <td>0.356196</td>\n",
       "      <td>2.210810</td>\n",
       "      <td>...</td>\n",
       "      <td>2.316423</td>\n",
       "      <td>0.000000</td>\n",
       "      <td>3.250192</td>\n",
       "      <td>1.694945</td>\n",
       "      <td>1.266021</td>\n",
       "      <td>0.331978</td>\n",
       "      <td>3.426276</td>\n",
       "      <td>0.356196</td>\n",
       "      <td>2.210810</td>\n",
       "      <td>0.417244</td>\n",
       "    </tr>\n",
       "    <tr>\n",
       "      <th>14</th>\n",
       "      <td>2.801033</td>\n",
       "      <td>1.388082</td>\n",
       "      <td>3.250192</td>\n",
       "      <td>0.000000</td>\n",
       "      <td>2.169268</td>\n",
       "      <td>2.950130</td>\n",
       "      <td>3.484957</td>\n",
       "      <td>0.654073</td>\n",
       "      <td>3.501550</td>\n",
       "      <td>1.073228</td>\n",
       "      <td>...</td>\n",
       "      <td>1.388082</td>\n",
       "      <td>3.250192</td>\n",
       "      <td>0.000000</td>\n",
       "      <td>2.169268</td>\n",
       "      <td>2.950130</td>\n",
       "      <td>3.484957</td>\n",
       "      <td>0.654073</td>\n",
       "      <td>3.501550</td>\n",
       "      <td>1.073228</td>\n",
       "      <td>2.833227</td>\n",
       "    </tr>\n",
       "    <tr>\n",
       "      <th>15</th>\n",
       "      <td>0.638357</td>\n",
       "      <td>0.831212</td>\n",
       "      <td>1.694945</td>\n",
       "      <td>2.169268</td>\n",
       "      <td>0.000000</td>\n",
       "      <td>0.818413</td>\n",
       "      <td>2.023159</td>\n",
       "      <td>2.627480</td>\n",
       "      <td>2.046917</td>\n",
       "      <td>1.518779</td>\n",
       "      <td>...</td>\n",
       "      <td>0.831212</td>\n",
       "      <td>1.694945</td>\n",
       "      <td>2.169268</td>\n",
       "      <td>0.000000</td>\n",
       "      <td>0.818413</td>\n",
       "      <td>2.023159</td>\n",
       "      <td>2.627480</td>\n",
       "      <td>2.046917</td>\n",
       "      <td>1.518779</td>\n",
       "      <td>1.377417</td>\n",
       "    </tr>\n",
       "    <tr>\n",
       "      <th>16</th>\n",
       "      <td>0.227502</td>\n",
       "      <td>1.648293</td>\n",
       "      <td>1.266021</td>\n",
       "      <td>2.950130</td>\n",
       "      <td>0.818413</td>\n",
       "      <td>0.000000</td>\n",
       "      <td>1.584953</td>\n",
       "      <td>3.351900</td>\n",
       "      <td>1.608835</td>\n",
       "      <td>2.156936</td>\n",
       "      <td>...</td>\n",
       "      <td>1.648293</td>\n",
       "      <td>1.266021</td>\n",
       "      <td>2.950130</td>\n",
       "      <td>0.818413</td>\n",
       "      <td>0.000000</td>\n",
       "      <td>1.584953</td>\n",
       "      <td>3.351900</td>\n",
       "      <td>1.608835</td>\n",
       "      <td>2.156936</td>\n",
       "      <td>1.140093</td>\n",
       "    </tr>\n",
       "    <tr>\n",
       "      <th>17</th>\n",
       "      <td>1.772084</td>\n",
       "      <td>2.620063</td>\n",
       "      <td>0.331978</td>\n",
       "      <td>3.484957</td>\n",
       "      <td>2.023159</td>\n",
       "      <td>1.584953</td>\n",
       "      <td>0.000000</td>\n",
       "      <td>3.613835</td>\n",
       "      <td>0.024273</td>\n",
       "      <td>2.426205</td>\n",
       "      <td>...</td>\n",
       "      <td>2.620063</td>\n",
       "      <td>0.331978</td>\n",
       "      <td>3.484957</td>\n",
       "      <td>2.023159</td>\n",
       "      <td>1.584953</td>\n",
       "      <td>0.000000</td>\n",
       "      <td>3.613835</td>\n",
       "      <td>0.024273</td>\n",
       "      <td>2.426205</td>\n",
       "      <td>0.692787</td>\n",
       "    </tr>\n",
       "    <tr>\n",
       "      <th>18</th>\n",
       "      <td>3.232857</td>\n",
       "      <td>1.924472</td>\n",
       "      <td>3.426276</td>\n",
       "      <td>0.654073</td>\n",
       "      <td>2.627480</td>\n",
       "      <td>3.351900</td>\n",
       "      <td>3.613835</td>\n",
       "      <td>0.000000</td>\n",
       "      <td>3.626976</td>\n",
       "      <td>1.240024</td>\n",
       "      <td>...</td>\n",
       "      <td>1.924472</td>\n",
       "      <td>3.426276</td>\n",
       "      <td>0.654073</td>\n",
       "      <td>2.627480</td>\n",
       "      <td>3.351900</td>\n",
       "      <td>3.613835</td>\n",
       "      <td>0.000000</td>\n",
       "      <td>3.626976</td>\n",
       "      <td>1.240024</td>\n",
       "      <td>3.020797</td>\n",
       "    </tr>\n",
       "    <tr>\n",
       "      <th>19</th>\n",
       "      <td>1.796228</td>\n",
       "      <td>2.641841</td>\n",
       "      <td>0.356196</td>\n",
       "      <td>3.501550</td>\n",
       "      <td>2.046917</td>\n",
       "      <td>1.608835</td>\n",
       "      <td>0.024273</td>\n",
       "      <td>3.626976</td>\n",
       "      <td>0.000000</td>\n",
       "      <td>2.441723</td>\n",
       "      <td>...</td>\n",
       "      <td>2.641841</td>\n",
       "      <td>0.356196</td>\n",
       "      <td>3.501550</td>\n",
       "      <td>2.046917</td>\n",
       "      <td>1.608835</td>\n",
       "      <td>0.024273</td>\n",
       "      <td>3.626976</td>\n",
       "      <td>0.000000</td>\n",
       "      <td>2.441723</td>\n",
       "      <td>0.714068</td>\n",
       "    </tr>\n",
       "    <tr>\n",
       "      <th>20</th>\n",
       "      <td>2.066745</td>\n",
       "      <td>1.072974</td>\n",
       "      <td>2.210810</td>\n",
       "      <td>1.073228</td>\n",
       "      <td>1.518779</td>\n",
       "      <td>2.156936</td>\n",
       "      <td>2.426205</td>\n",
       "      <td>1.240024</td>\n",
       "      <td>2.441723</td>\n",
       "      <td>0.000000</td>\n",
       "      <td>...</td>\n",
       "      <td>1.072974</td>\n",
       "      <td>2.210810</td>\n",
       "      <td>1.073228</td>\n",
       "      <td>1.518779</td>\n",
       "      <td>2.156936</td>\n",
       "      <td>2.426205</td>\n",
       "      <td>1.240024</td>\n",
       "      <td>2.441723</td>\n",
       "      <td>0.000000</td>\n",
       "      <td>1.798168</td>\n",
       "    </tr>\n",
       "    <tr>\n",
       "      <th>21</th>\n",
       "      <td>1.270094</td>\n",
       "      <td>1.928486</td>\n",
       "      <td>0.417244</td>\n",
       "      <td>2.833227</td>\n",
       "      <td>1.377417</td>\n",
       "      <td>1.140093</td>\n",
       "      <td>0.692787</td>\n",
       "      <td>3.020797</td>\n",
       "      <td>0.714068</td>\n",
       "      <td>1.798168</td>\n",
       "      <td>...</td>\n",
       "      <td>1.928486</td>\n",
       "      <td>0.417244</td>\n",
       "      <td>2.833227</td>\n",
       "      <td>1.377417</td>\n",
       "      <td>1.140093</td>\n",
       "      <td>0.692787</td>\n",
       "      <td>3.020797</td>\n",
       "      <td>0.714068</td>\n",
       "      <td>1.798168</td>\n",
       "      <td>0.000000</td>\n",
       "    </tr>\n",
       "  </tbody>\n",
       "</table>\n",
       "<p>22 rows × 22 columns</p>\n",
       "</div>"
      ],
      "text/plain": [
       "          0         1         2         3         4         5         6   \\\n",
       "0   0.000000  1.467292  1.446216  2.801033  0.638357  0.227502  1.772084   \n",
       "1   1.467292  0.000000  2.316423  1.388082  0.831212  1.648293  2.620063   \n",
       "2   1.446216  2.316423  0.000000  3.250192  1.694945  1.266021  0.331978   \n",
       "3   2.801033  1.388082  3.250192  0.000000  2.169268  2.950130  3.484957   \n",
       "4   0.638357  0.831212  1.694945  2.169268  0.000000  0.818413  2.023159   \n",
       "5   0.227502  1.648293  1.266021  2.950130  0.818413  0.000000  1.584953   \n",
       "6   1.772084  2.620063  0.331978  3.484957  2.023159  1.584953  0.000000   \n",
       "7   3.232857  1.924472  3.426276  0.654073  2.627480  3.351900  3.613835   \n",
       "8   1.796228  2.641841  0.356196  3.501550  2.046917  1.608835  0.024273   \n",
       "9   2.066745  1.072974  2.210810  1.073228  1.518779  2.156936  2.426205   \n",
       "10  1.270094  1.928486  0.417244  2.833227  1.377417  1.140093  0.692787   \n",
       "11  0.000000  1.467292  1.446216  2.801033  0.638357  0.227502  1.772084   \n",
       "12  1.467292  0.000000  2.316423  1.388082  0.831212  1.648293  2.620063   \n",
       "13  1.446216  2.316423  0.000000  3.250192  1.694945  1.266021  0.331978   \n",
       "14  2.801033  1.388082  3.250192  0.000000  2.169268  2.950130  3.484957   \n",
       "15  0.638357  0.831212  1.694945  2.169268  0.000000  0.818413  2.023159   \n",
       "16  0.227502  1.648293  1.266021  2.950130  0.818413  0.000000  1.584953   \n",
       "17  1.772084  2.620063  0.331978  3.484957  2.023159  1.584953  0.000000   \n",
       "18  3.232857  1.924472  3.426276  0.654073  2.627480  3.351900  3.613835   \n",
       "19  1.796228  2.641841  0.356196  3.501550  2.046917  1.608835  0.024273   \n",
       "20  2.066745  1.072974  2.210810  1.073228  1.518779  2.156936  2.426205   \n",
       "21  1.270094  1.928486  0.417244  2.833227  1.377417  1.140093  0.692787   \n",
       "\n",
       "          7         8         9   ...        12        13        14        15  \\\n",
       "0   3.232857  1.796228  2.066745  ...  1.467292  1.446216  2.801033  0.638357   \n",
       "1   1.924472  2.641841  1.072974  ...  0.000000  2.316423  1.388082  0.831212   \n",
       "2   3.426276  0.356196  2.210810  ...  2.316423  0.000000  3.250192  1.694945   \n",
       "3   0.654073  3.501550  1.073228  ...  1.388082  3.250192  0.000000  2.169268   \n",
       "4   2.627480  2.046917  1.518779  ...  0.831212  1.694945  2.169268  0.000000   \n",
       "5   3.351900  1.608835  2.156936  ...  1.648293  1.266021  2.950130  0.818413   \n",
       "6   3.613835  0.024273  2.426205  ...  2.620063  0.331978  3.484957  2.023159   \n",
       "7   0.000000  3.626976  1.240024  ...  1.924472  3.426276  0.654073  2.627480   \n",
       "8   3.626976  0.000000  2.441723  ...  2.641841  0.356196  3.501550  2.046917   \n",
       "9   1.240024  2.441723  0.000000  ...  1.072974  2.210810  1.073228  1.518779   \n",
       "10  3.020797  0.714068  1.798168  ...  1.928486  0.417244  2.833227  1.377417   \n",
       "11  3.232857  1.796228  2.066745  ...  1.467292  1.446216  2.801033  0.638357   \n",
       "12  1.924472  2.641841  1.072974  ...  0.000000  2.316423  1.388082  0.831212   \n",
       "13  3.426276  0.356196  2.210810  ...  2.316423  0.000000  3.250192  1.694945   \n",
       "14  0.654073  3.501550  1.073228  ...  1.388082  3.250192  0.000000  2.169268   \n",
       "15  2.627480  2.046917  1.518779  ...  0.831212  1.694945  2.169268  0.000000   \n",
       "16  3.351900  1.608835  2.156936  ...  1.648293  1.266021  2.950130  0.818413   \n",
       "17  3.613835  0.024273  2.426205  ...  2.620063  0.331978  3.484957  2.023159   \n",
       "18  0.000000  3.626976  1.240024  ...  1.924472  3.426276  0.654073  2.627480   \n",
       "19  3.626976  0.000000  2.441723  ...  2.641841  0.356196  3.501550  2.046917   \n",
       "20  1.240024  2.441723  0.000000  ...  1.072974  2.210810  1.073228  1.518779   \n",
       "21  3.020797  0.714068  1.798168  ...  1.928486  0.417244  2.833227  1.377417   \n",
       "\n",
       "          16        17        18        19        20        21  \n",
       "0   0.227502  1.772084  3.232857  1.796228  2.066745  1.270094  \n",
       "1   1.648293  2.620063  1.924472  2.641841  1.072974  1.928486  \n",
       "2   1.266021  0.331978  3.426276  0.356196  2.210810  0.417244  \n",
       "3   2.950130  3.484957  0.654073  3.501550  1.073228  2.833227  \n",
       "4   0.818413  2.023159  2.627480  2.046917  1.518779  1.377417  \n",
       "5   0.000000  1.584953  3.351900  1.608835  2.156936  1.140093  \n",
       "6   1.584953  0.000000  3.613835  0.024273  2.426205  0.692787  \n",
       "7   3.351900  3.613835  0.000000  3.626976  1.240024  3.020797  \n",
       "8   1.608835  0.024273  3.626976  0.000000  2.441723  0.714068  \n",
       "9   2.156936  2.426205  1.240024  2.441723  0.000000  1.798168  \n",
       "10  1.140093  0.692787  3.020797  0.714068  1.798168  0.000000  \n",
       "11  0.227502  1.772084  3.232857  1.796228  2.066745  1.270094  \n",
       "12  1.648293  2.620063  1.924472  2.641841  1.072974  1.928486  \n",
       "13  1.266021  0.331978  3.426276  0.356196  2.210810  0.417244  \n",
       "14  2.950130  3.484957  0.654073  3.501550  1.073228  2.833227  \n",
       "15  0.818413  2.023159  2.627480  2.046917  1.518779  1.377417  \n",
       "16  0.000000  1.584953  3.351900  1.608835  2.156936  1.140093  \n",
       "17  1.584953  0.000000  3.613835  0.024273  2.426205  0.692787  \n",
       "18  3.351900  3.613835  0.000000  3.626976  1.240024  3.020797  \n",
       "19  1.608835  0.024273  3.626976  0.000000  2.441723  0.714068  \n",
       "20  2.156936  2.426205  1.240024  2.441723  0.000000  1.798168  \n",
       "21  1.140093  0.692787  3.020797  0.714068  1.798168  0.000000  \n",
       "\n",
       "[22 rows x 22 columns]"
      ]
     },
     "execution_count": 8,
     "metadata": {},
     "output_type": "execute_result"
    }
   ],
   "source": [
    "dist = jabee.geometry.apply(lambda g: jabee.distance(g))/1000 #in km\n",
    "dist"
   ]
  },
  {
   "cell_type": "code",
   "execution_count": 9,
   "id": "b2c7c44d",
   "metadata": {},
   "outputs": [],
   "source": [
    "#creates data for the problem\n",
    "def create_data_model(dist_matrix, num_vehicles, depot_index):\n",
    "    \"\"\"Stores the data for the problem.\"\"\"\n",
    "    data = {}\n",
    "    data['distance_matrix'] = dist_matrix  # yapf: disable\n",
    "    data['num_vehicles'] = num_vehicles\n",
    "    data['depot'] = depot_index\n",
    "    return data"
   ]
  },
  {
   "cell_type": "code",
   "execution_count": 10,
   "id": "4815ec54",
   "metadata": {},
   "outputs": [],
   "source": [
    "data = create_data_model(np.array(dist), 3, 4)"
   ]
  },
  {
   "attachments": {},
   "cell_type": "markdown",
   "id": "d305f75d",
   "metadata": {},
   "source": [
    "# Vehicle Routing Problem\n",
    "\n",
    "In the Vehicle Routing Problem (VRP), the goal is to find optimal routes for multiple vehicles visiting a set of locations. (When there's only one vehicle, it reduces to the Traveling Salesperson Problem.)\n",
    "\n",
    "But what do we mean by \"optimal routes\" for a VRP? One answer is the routes with the least total distance. However, if there are no other constraints, the optimal solution is to assign just one vehicle to visit all locations, and find the shortest route for that vehicle. This is essentially the same problem as the TSP.\n",
    "\n",
    "A better way to define optimal routes is to minimize the length of the longest single route among all vehicles. This is the right definition if the goal is to complete all deliveries as soon as possible. The VRP example below finds optimal routes defined this way.\n",
    "\n",
    "In later sections, we'll describe other ways of generalizing the TSP by adding constraints on the vehicles, including:\n",
    "\n",
    "Capacity constraints: the vehicles need to pick up items at each location they visit, but have a maximum carrying capacity.\n",
    "Time windows: each location must be visited within a specific time window."
   ]
  },
  {
   "attachments": {},
   "cell_type": "markdown",
   "id": "9db3dbaa",
   "metadata": {},
   "source": [
    "## Create data\n",
    "\n",
    "[(456, 320), # location 0 - the depot\n",
    "(228, 0),    # location 1\n",
    "(912, 0),    # location 2\n",
    "(0, 80),     # location 3\n",
    "(114, 80),   # location 4\n",
    "(570, 160),  # location 5\n",
    "(798, 160),  # location 6\n",
    "(342, 240),  # location 7\n",
    "(684, 240),  # location 8\n",
    "(570, 400),  # location 9\n",
    "(912, 400),  # location 10\n",
    "(114, 480),  # location 11\n",
    "(228, 480),  # location 12\n",
    "(342, 560),  # location 13\n",
    "(684, 560),  # location 14\n",
    "(0, 640),    # location 15\n",
    "(798, 640)]  # location 16"
   ]
  },
  {
   "cell_type": "code",
   "execution_count": 11,
   "id": "843c4d0e",
   "metadata": {},
   "outputs": [],
   "source": [
    "# Create the routing index manager.\n",
    "manager = pywrapcp.RoutingIndexManager(len(data['distance_matrix']),\n",
    "                                        data['num_vehicles'], data['depot'])\n",
    "\n",
    "# Create Routing Model.\n",
    "routing = pywrapcp.RoutingModel(manager)"
   ]
  },
  {
   "attachments": {},
   "cell_type": "markdown",
   "id": "6b655feb",
   "metadata": {},
   "source": [
    "## Create the distance callback\n",
    "\n",
    "To use the routing solver, you need to create a distance (or transit) callback: a function that takes any pair of locations and returns the distance between them. The easiest way to do this is using the distance matrix.\n",
    "\n",
    "The following function creates the callback and registers it with the solver as transit_callback_index."
   ]
  },
  {
   "cell_type": "code",
   "execution_count": 12,
   "id": "ab9e4c0b",
   "metadata": {},
   "outputs": [],
   "source": [
    "def distance_callback(from_index, to_index):\n",
    "    \"\"\"Returns the distance between the two nodes.\"\"\"\n",
    "    # Convert from routing variable Index to distance matrix NodeIndex.\n",
    "    from_node = manager.IndexToNode(from_index)\n",
    "    to_node = manager.IndexToNode(to_index)\n",
    "    return data['distance_matrix'][from_node][to_node]\n",
    "\n",
    "transit_callback_index = routing.RegisterTransitCallback(distance_callback)"
   ]
  },
  {
   "cell_type": "code",
   "execution_count": 13,
   "id": "06390747",
   "metadata": {},
   "outputs": [
    {
     "data": {
      "text/plain": [
       "0.8312117970442651"
      ]
     },
     "execution_count": 13,
     "metadata": {},
     "output_type": "execute_result"
    }
   ],
   "source": [
    "data['distance_matrix'][1][4]"
   ]
  },
  {
   "attachments": {},
   "cell_type": "markdown",
   "id": "db0014da",
   "metadata": {},
   "source": [
    "## Set the cost of travel\n",
    "\n",
    "In this example, the arc cost evaluator is the transit_callback_index, which is the solver's internal reference to the distance callback. This means that the cost of travel between any two locations is just the distance between them. However, in general the costs can involve other factors as well.\n",
    "\n",
    "You can also define multiple arc cost evaluators that depend on which vehicle is traveling between locations, using the method routing.SetArcCostEvaluatorOfVehicle(). For example, if the vehicles have different speeds, you could define the cost of travel between locations to be the distance divided by the vehicle's speed — in other words, the travel time.\n",
    "\n"
   ]
  },
  {
   "cell_type": "code",
   "execution_count": 14,
   "id": "8beca82f",
   "metadata": {},
   "outputs": [],
   "source": [
    "routing.SetArcCostEvaluatorOfAllVehicles(transit_callback_index)"
   ]
  },
  {
   "attachments": {},
   "cell_type": "markdown",
   "id": "0765be17",
   "metadata": {},
   "source": [
    "## Add a distance dimension\n",
    "\n",
    "To solve this VRP, you need to create a distance dimension, which computes the cumulative distance traveled by each vehicle along its route. You can then set a cost proportional to the maximum of the total distances along each route. Routing programs use dimensions to keep track of quantities that accumulate over a vehicle's route. See Dimensions for more details.\n",
    "\n",
    "The following code creates the distance dimension, using the solver's AddDimension method. The argument transit_callback_index is the index for the distance_callback."
   ]
  },
  {
   "cell_type": "code",
   "execution_count": 15,
   "id": "44d298fa",
   "metadata": {},
   "outputs": [],
   "source": [
    "dimension_name = 'Distance'\n",
    "routing.AddDimension(\n",
    "    transit_callback_index,\n",
    "    0,  # no slack\n",
    "    3000,  # vehicle maximum travel distance\n",
    "    True,  # start cumul to zero\n",
    "    dimension_name)\n",
    "distance_dimension = routing.GetDimensionOrDie(dimension_name)\n",
    "distance_dimension.SetGlobalSpanCostCoefficient(100)"
   ]
  },
  {
   "attachments": {},
   "cell_type": "markdown",
   "id": "002e2455",
   "metadata": {},
   "source": [
    "## Add solution printer"
   ]
  },
  {
   "cell_type": "code",
   "execution_count": 16,
   "id": "a04a84f1",
   "metadata": {},
   "outputs": [],
   "source": [
    "def print_solution(data, manager, routing, solution):\n",
    "    \"\"\"Prints solution on console.\"\"\"\n",
    "    print(f'Objective: {solution.ObjectiveValue()}')\n",
    "    max_route_distance = 0\n",
    "    for vehicle_id in range(data['num_vehicles']):\n",
    "        index = routing.Start(vehicle_id)\n",
    "        plan_output = 'Route for vehicle {}:\\n'.format(vehicle_id)\n",
    "        route_distance = 0\n",
    "        while not routing.IsEnd(index):\n",
    "            plan_output += ' {} -> '.format(manager.IndexToNode(index))\n",
    "            previous_index = index\n",
    "            index = solution.Value(routing.NextVar(index))\n",
    "            route_distance += routing.GetArcCostForVehicle(\n",
    "                previous_index, index, vehicle_id)\n",
    "        plan_output += '{}\\n'.format(manager.IndexToNode(index))\n",
    "        plan_output += 'Distance of the route: {}m\\n'.format(route_distance)\n",
    "        print(plan_output)\n",
    "        max_route_distance = max(route_distance, max_route_distance)\n",
    "    print('Maximum of the route distances: {}m'.format(max_route_distance))"
   ]
  },
  {
   "attachments": {},
   "cell_type": "markdown",
   "id": "03afd270",
   "metadata": {},
   "source": [
    "## Solve and print solution"
   ]
  },
  {
   "cell_type": "code",
   "execution_count": 17,
   "id": "7ed6fe45",
   "metadata": {},
   "outputs": [],
   "source": [
    "# Setting first solution heuristic.\n",
    "search_parameters = pywrapcp.DefaultRoutingSearchParameters()\n",
    "search_parameters.first_solution_strategy = (\n",
    "routing_enums_pb2.FirstSolutionStrategy.PATH_CHEAPEST_ARC)\n",
    "search_parameters.time_limit.seconds = 150\n",
    "\n",
    "# Solve the problem.\n",
    "solution = routing.SolveWithParameters(search_parameters)"
   ]
  },
  {
   "cell_type": "code",
   "execution_count": 18,
   "id": "3c923863",
   "metadata": {},
   "outputs": [
    {
     "name": "stdout",
     "output_type": "stream",
     "text": [
      "Objective: 305\n",
      "Route for vehicle 0:\n",
      " 4 ->  1 ->  21 ->  19 ->  17 ->  13 ->  10 ->  8 ->  6 ->  2 -> 4\n",
      "Distance of the route: 2m\n",
      "\n",
      "Route for vehicle 1:\n",
      " 4 ->  11 ->  5 ->  0 -> 4\n",
      "Distance of the route: 0m\n",
      "\n",
      "Route for vehicle 2:\n",
      " 4 ->  16 ->  15 ->  20 ->  9 ->  18 ->  14 ->  7 ->  3 ->  12 -> 4\n",
      "Distance of the route: 3m\n",
      "\n",
      "Maximum of the route distances: 3m\n"
     ]
    }
   ],
   "source": [
    "print_solution(data, manager, routing, solution)"
   ]
  },
  {
   "attachments": {},
   "cell_type": "markdown",
   "id": "6f01d935",
   "metadata": {},
   "source": [
    "## Save routes to a list or array\n",
    "\n",
    "As an alternative to printing the solution directly, you can save the route (or routes, for a VRP) to a list or array. This has the advantage of making the routes available in case you want to do something with them later. For example, you could run the program several times with different parameters and save the routes in the returned solutions to a file for comparison.\n",
    "\n",
    "The following functions save the routes in the solution to any VRP (possibly with multiple vehicles) as a list (Python) or an array (C++)."
   ]
  },
  {
   "cell_type": "code",
   "execution_count": 19,
   "id": "d75df30b",
   "metadata": {},
   "outputs": [],
   "source": [
    "def get_routes(solution, routing, manager):\n",
    "  \"\"\"Get vehicle routes from a solution and store them in an array.\"\"\"\n",
    "  # Get vehicle routes and store them in a two dimensional array whose\n",
    "  # i,j entry is the jth location visited by vehicle i along its route.\n",
    "  routes = []\n",
    "  for route_nbr in range(routing.vehicles()):\n",
    "    index = routing.Start(route_nbr)\n",
    "    route = [manager.IndexToNode(index)]\n",
    "    while not routing.IsEnd(index):\n",
    "      index = solution.Value(routing.NextVar(index))\n",
    "      route.append(manager.IndexToNode(index))\n",
    "    routes.append(route)\n",
    "  return routes"
   ]
  },
  {
   "cell_type": "code",
   "execution_count": 20,
   "id": "ca2f4eda",
   "metadata": {},
   "outputs": [
    {
     "name": "stdout",
     "output_type": "stream",
     "text": [
      "Route 0 [4, 1, 21, 19, 17, 13, 10, 8, 6, 2, 4]\n",
      "Route 1 [4, 11, 5, 0, 4]\n",
      "Route 2 [4, 16, 15, 20, 9, 18, 14, 7, 3, 12, 4]\n"
     ]
    }
   ],
   "source": [
    "routes = get_routes(solution, routing, manager)\n",
    "# Display the routes.\n",
    "for i, route in enumerate(routes):\n",
    "  print('Route', i, route)"
   ]
  },
  {
   "cell_type": "code",
   "execution_count": 21,
   "id": "1c86d231",
   "metadata": {},
   "outputs": [
    {
     "data": {
      "text/plain": [
       "[[4, 1, 21, 19, 17, 13, 10, 8, 6, 2, 4],\n",
       " [4, 11, 5, 0, 4],\n",
       " [4, 16, 15, 20, 9, 18, 14, 7, 3, 12, 4]]"
      ]
     },
     "execution_count": 21,
     "metadata": {},
     "output_type": "execute_result"
    }
   ],
   "source": [
    "routes"
   ]
  },
  {
   "attachments": {},
   "cell_type": "markdown",
   "id": "8fc5dbad",
   "metadata": {},
   "source": [
    "# Plot results"
   ]
  },
  {
   "cell_type": "code",
   "execution_count": 26,
   "id": "e8c2a55e",
   "metadata": {},
   "outputs": [],
   "source": [
    "jabee = jabee.to_crs('epsg:4326')"
   ]
  },
  {
   "cell_type": "code",
   "execution_count": 37,
   "id": "3486f7df",
   "metadata": {},
   "outputs": [],
   "source": [
    "jabee['Hub_Flg'] = '0'\n",
    "jabee.loc[4, 'Hub_Flg'] = '1'"
   ]
  },
  {
   "cell_type": "code",
   "execution_count": 40,
   "id": "1cdf5550",
   "metadata": {},
   "outputs": [
    {
     "ename": "TypeError",
     "evalue": "scatter_mapbox() got an unexpected keyword argument 'marker_size'",
     "output_type": "error",
     "traceback": [
      "\u001b[0;31m---------------------------------------------------------------------------\u001b[0m",
      "\u001b[0;31mTypeError\u001b[0m                                 Traceback (most recent call last)",
      "Cell \u001b[0;32mIn[40], line 3\u001b[0m\n\u001b[1;32m      1\u001b[0m px\u001b[39m.\u001b[39mset_mapbox_access_token(mapbox_token)\n\u001b[0;32m----> 3\u001b[0m fig \u001b[39m=\u001b[39m px\u001b[39m.\u001b[39;49mscatter_mapbox(jabee,\n\u001b[1;32m      4\u001b[0m                         lat\u001b[39m=\u001b[39;49mjabee\u001b[39m.\u001b[39;49mgeometry\u001b[39m.\u001b[39;49my,\n\u001b[1;32m      5\u001b[0m                         lon\u001b[39m=\u001b[39;49mjabee\u001b[39m.\u001b[39;49mgeometry\u001b[39m.\u001b[39;49mx,\n\u001b[1;32m      6\u001b[0m                         hover_name\u001b[39m=\u001b[39;49m\u001b[39m\"\u001b[39;49m\u001b[39mCompany\u001b[39;49m\u001b[39m\"\u001b[39;49m,\n\u001b[1;32m      7\u001b[0m                         color \u001b[39m=\u001b[39;49m \u001b[39m\"\u001b[39;49m\u001b[39mHub_Flg\u001b[39;49m\u001b[39m\"\u001b[39;49m,\n\u001b[1;32m      8\u001b[0m                         zoom\u001b[39m=\u001b[39;49m\u001b[39m13\u001b[39;49m,\n\u001b[1;32m      9\u001b[0m                         marker_size \u001b[39m=\u001b[39;49m \u001b[39m10\u001b[39;49m)\n\u001b[1;32m     10\u001b[0m fig\u001b[39m.\u001b[39mshow()\n",
      "\u001b[0;31mTypeError\u001b[0m: scatter_mapbox() got an unexpected keyword argument 'marker_size'"
     ]
    }
   ],
   "source": [
    "px.set_mapbox_access_token(mapbox_token)\n",
    "\n",
    "fig = px.scatter_mapbox(jabee,\n",
    "                        lat=jabee.geometry.y,\n",
    "                        lon=jabee.geometry.x,\n",
    "                        hover_name=\"Company\",\n",
    "                        color = \"Hub_Flg\",\n",
    "                        zoom=13,\n",
    "                        marker_size = 10)\n",
    "fig.show()"
   ]
  },
  {
   "cell_type": "code",
   "execution_count": 47,
   "id": "a919aa0d",
   "metadata": {},
   "outputs": [
    {
     "data": {
      "text/plain": [
       "14.582067554545459"
      ]
     },
     "execution_count": 47,
     "metadata": {},
     "output_type": "execute_result"
    }
   ],
   "source": [
    "jabee.geometry.y.mean()"
   ]
  },
  {
   "cell_type": "code",
   "execution_count": 65,
   "id": "4cec4ec0",
   "metadata": {},
   "outputs": [
    {
     "data": {
      "text/plain": [
       "0     #636EFA\n",
       "1     #636EFA\n",
       "2     #636EFA\n",
       "3     #636EFA\n",
       "4     #EF553B\n",
       "5     #636EFA\n",
       "6     #636EFA\n",
       "7     #636EFA\n",
       "8     #636EFA\n",
       "9     #636EFA\n",
       "10    #636EFA\n",
       "11    #636EFA\n",
       "12    #636EFA\n",
       "13    #636EFA\n",
       "14    #636EFA\n",
       "15    #636EFA\n",
       "16    #636EFA\n",
       "17    #636EFA\n",
       "18    #636EFA\n",
       "19    #636EFA\n",
       "20    #636EFA\n",
       "21    #636EFA\n",
       "Name: color, dtype: object"
      ]
     },
     "execution_count": 65,
     "metadata": {},
     "output_type": "execute_result"
    }
   ],
   "source": [
    "jabee['color'] = jabee.Hub_Flg.map(dict(zip(['0', '1'], px.colors.qualitative.Plotly)))\n",
    "jabee['color']"
   ]
  },
  {
   "cell_type": "code",
   "execution_count": 69,
   "id": "b172318b",
   "metadata": {},
   "outputs": [
    {
     "data": {
      "application/vnd.plotly.v1+json": {
       "config": {
        "plotlyServerURL": "https://plot.ly"
       },
       "data": [
        {
         "lat": [
          14.573168999999996,
          14.577853800000005,
          14.583228200000002,
          14.586228599999998,
          14.575530800000005,
          14.5737919,
          14.585119099999996,
          14.591900699999993,
          14.5852681,
          14.587163000000006,
          14.5834899,
          14.573168999999996,
          14.577853800000005,
          14.583228200000002,
          14.586228599999998,
          14.575530800000005,
          14.5737919,
          14.585119099999996,
          14.591900699999993,
          14.5852681,
          14.587163000000006,
          14.5834899
         ],
         "lon": [
          121.046993,
          121.03473309999997,
          121.05478720000002,
          121.0257553,
          121.04180369999999,
          121.0489327,
          121.05704019999997,
          121.02534190000002,
          121.05719460000002,
          121.03534779999998,
          121.0510488,
          121.046993,
          121.03473309999997,
          121.05478720000002,
          121.0257553,
          121.04180369999999,
          121.0489327,
          121.05704019999997,
          121.02534190000002,
          121.05719460000002,
          121.03534779999998,
          121.0510488
         ],
         "marker": {
          "color": "green",
          "size": 14
         },
         "mode": "markers",
         "name": "Spoke",
         "type": "scattermapbox"
        },
        {
         "lat": [
          14.575530800000005
         ],
         "lon": [
          121.04180369999999
         ],
         "marker": {
          "color": [
           "#EF553B"
          ],
          "size": 14
         },
         "mode": "markers",
         "name": "Hub",
         "type": "scattermapbox"
        }
       ],
       "layout": {
        "hovermode": "closest",
        "mapbox": {
         "accesstoken": "pk.eyJ1IjoicmF2ZW5kaWNvIiwiYSI6ImNrOXNtMTQwNDE1NXEzZ3J0ZXBzbGFjajYifQ.reAoc-tEDpfezf6ZHJiyZQ",
         "center": {
          "lat": 14.582067554545459,
          "lon": 121.04354348181818
         },
         "zoom": 12
        },
        "template": {
         "data": {
          "bar": [
           {
            "error_x": {
             "color": "#2a3f5f"
            },
            "error_y": {
             "color": "#2a3f5f"
            },
            "marker": {
             "line": {
              "color": "#E5ECF6",
              "width": 0.5
             },
             "pattern": {
              "fillmode": "overlay",
              "size": 10,
              "solidity": 0.2
             }
            },
            "type": "bar"
           }
          ],
          "barpolar": [
           {
            "marker": {
             "line": {
              "color": "#E5ECF6",
              "width": 0.5
             },
             "pattern": {
              "fillmode": "overlay",
              "size": 10,
              "solidity": 0.2
             }
            },
            "type": "barpolar"
           }
          ],
          "carpet": [
           {
            "aaxis": {
             "endlinecolor": "#2a3f5f",
             "gridcolor": "white",
             "linecolor": "white",
             "minorgridcolor": "white",
             "startlinecolor": "#2a3f5f"
            },
            "baxis": {
             "endlinecolor": "#2a3f5f",
             "gridcolor": "white",
             "linecolor": "white",
             "minorgridcolor": "white",
             "startlinecolor": "#2a3f5f"
            },
            "type": "carpet"
           }
          ],
          "choropleth": [
           {
            "colorbar": {
             "outlinewidth": 0,
             "ticks": ""
            },
            "type": "choropleth"
           }
          ],
          "contour": [
           {
            "colorbar": {
             "outlinewidth": 0,
             "ticks": ""
            },
            "colorscale": [
             [
              0,
              "#0d0887"
             ],
             [
              0.1111111111111111,
              "#46039f"
             ],
             [
              0.2222222222222222,
              "#7201a8"
             ],
             [
              0.3333333333333333,
              "#9c179e"
             ],
             [
              0.4444444444444444,
              "#bd3786"
             ],
             [
              0.5555555555555556,
              "#d8576b"
             ],
             [
              0.6666666666666666,
              "#ed7953"
             ],
             [
              0.7777777777777778,
              "#fb9f3a"
             ],
             [
              0.8888888888888888,
              "#fdca26"
             ],
             [
              1,
              "#f0f921"
             ]
            ],
            "type": "contour"
           }
          ],
          "contourcarpet": [
           {
            "colorbar": {
             "outlinewidth": 0,
             "ticks": ""
            },
            "type": "contourcarpet"
           }
          ],
          "heatmap": [
           {
            "colorbar": {
             "outlinewidth": 0,
             "ticks": ""
            },
            "colorscale": [
             [
              0,
              "#0d0887"
             ],
             [
              0.1111111111111111,
              "#46039f"
             ],
             [
              0.2222222222222222,
              "#7201a8"
             ],
             [
              0.3333333333333333,
              "#9c179e"
             ],
             [
              0.4444444444444444,
              "#bd3786"
             ],
             [
              0.5555555555555556,
              "#d8576b"
             ],
             [
              0.6666666666666666,
              "#ed7953"
             ],
             [
              0.7777777777777778,
              "#fb9f3a"
             ],
             [
              0.8888888888888888,
              "#fdca26"
             ],
             [
              1,
              "#f0f921"
             ]
            ],
            "type": "heatmap"
           }
          ],
          "heatmapgl": [
           {
            "colorbar": {
             "outlinewidth": 0,
             "ticks": ""
            },
            "colorscale": [
             [
              0,
              "#0d0887"
             ],
             [
              0.1111111111111111,
              "#46039f"
             ],
             [
              0.2222222222222222,
              "#7201a8"
             ],
             [
              0.3333333333333333,
              "#9c179e"
             ],
             [
              0.4444444444444444,
              "#bd3786"
             ],
             [
              0.5555555555555556,
              "#d8576b"
             ],
             [
              0.6666666666666666,
              "#ed7953"
             ],
             [
              0.7777777777777778,
              "#fb9f3a"
             ],
             [
              0.8888888888888888,
              "#fdca26"
             ],
             [
              1,
              "#f0f921"
             ]
            ],
            "type": "heatmapgl"
           }
          ],
          "histogram": [
           {
            "marker": {
             "pattern": {
              "fillmode": "overlay",
              "size": 10,
              "solidity": 0.2
             }
            },
            "type": "histogram"
           }
          ],
          "histogram2d": [
           {
            "colorbar": {
             "outlinewidth": 0,
             "ticks": ""
            },
            "colorscale": [
             [
              0,
              "#0d0887"
             ],
             [
              0.1111111111111111,
              "#46039f"
             ],
             [
              0.2222222222222222,
              "#7201a8"
             ],
             [
              0.3333333333333333,
              "#9c179e"
             ],
             [
              0.4444444444444444,
              "#bd3786"
             ],
             [
              0.5555555555555556,
              "#d8576b"
             ],
             [
              0.6666666666666666,
              "#ed7953"
             ],
             [
              0.7777777777777778,
              "#fb9f3a"
             ],
             [
              0.8888888888888888,
              "#fdca26"
             ],
             [
              1,
              "#f0f921"
             ]
            ],
            "type": "histogram2d"
           }
          ],
          "histogram2dcontour": [
           {
            "colorbar": {
             "outlinewidth": 0,
             "ticks": ""
            },
            "colorscale": [
             [
              0,
              "#0d0887"
             ],
             [
              0.1111111111111111,
              "#46039f"
             ],
             [
              0.2222222222222222,
              "#7201a8"
             ],
             [
              0.3333333333333333,
              "#9c179e"
             ],
             [
              0.4444444444444444,
              "#bd3786"
             ],
             [
              0.5555555555555556,
              "#d8576b"
             ],
             [
              0.6666666666666666,
              "#ed7953"
             ],
             [
              0.7777777777777778,
              "#fb9f3a"
             ],
             [
              0.8888888888888888,
              "#fdca26"
             ],
             [
              1,
              "#f0f921"
             ]
            ],
            "type": "histogram2dcontour"
           }
          ],
          "mesh3d": [
           {
            "colorbar": {
             "outlinewidth": 0,
             "ticks": ""
            },
            "type": "mesh3d"
           }
          ],
          "parcoords": [
           {
            "line": {
             "colorbar": {
              "outlinewidth": 0,
              "ticks": ""
             }
            },
            "type": "parcoords"
           }
          ],
          "pie": [
           {
            "automargin": true,
            "type": "pie"
           }
          ],
          "scatter": [
           {
            "fillpattern": {
             "fillmode": "overlay",
             "size": 10,
             "solidity": 0.2
            },
            "type": "scatter"
           }
          ],
          "scatter3d": [
           {
            "line": {
             "colorbar": {
              "outlinewidth": 0,
              "ticks": ""
             }
            },
            "marker": {
             "colorbar": {
              "outlinewidth": 0,
              "ticks": ""
             }
            },
            "type": "scatter3d"
           }
          ],
          "scattercarpet": [
           {
            "marker": {
             "colorbar": {
              "outlinewidth": 0,
              "ticks": ""
             }
            },
            "type": "scattercarpet"
           }
          ],
          "scattergeo": [
           {
            "marker": {
             "colorbar": {
              "outlinewidth": 0,
              "ticks": ""
             }
            },
            "type": "scattergeo"
           }
          ],
          "scattergl": [
           {
            "marker": {
             "colorbar": {
              "outlinewidth": 0,
              "ticks": ""
             }
            },
            "type": "scattergl"
           }
          ],
          "scattermapbox": [
           {
            "marker": {
             "colorbar": {
              "outlinewidth": 0,
              "ticks": ""
             }
            },
            "type": "scattermapbox"
           }
          ],
          "scatterpolar": [
           {
            "marker": {
             "colorbar": {
              "outlinewidth": 0,
              "ticks": ""
             }
            },
            "type": "scatterpolar"
           }
          ],
          "scatterpolargl": [
           {
            "marker": {
             "colorbar": {
              "outlinewidth": 0,
              "ticks": ""
             }
            },
            "type": "scatterpolargl"
           }
          ],
          "scatterternary": [
           {
            "marker": {
             "colorbar": {
              "outlinewidth": 0,
              "ticks": ""
             }
            },
            "type": "scatterternary"
           }
          ],
          "surface": [
           {
            "colorbar": {
             "outlinewidth": 0,
             "ticks": ""
            },
            "colorscale": [
             [
              0,
              "#0d0887"
             ],
             [
              0.1111111111111111,
              "#46039f"
             ],
             [
              0.2222222222222222,
              "#7201a8"
             ],
             [
              0.3333333333333333,
              "#9c179e"
             ],
             [
              0.4444444444444444,
              "#bd3786"
             ],
             [
              0.5555555555555556,
              "#d8576b"
             ],
             [
              0.6666666666666666,
              "#ed7953"
             ],
             [
              0.7777777777777778,
              "#fb9f3a"
             ],
             [
              0.8888888888888888,
              "#fdca26"
             ],
             [
              1,
              "#f0f921"
             ]
            ],
            "type": "surface"
           }
          ],
          "table": [
           {
            "cells": {
             "fill": {
              "color": "#EBF0F8"
             },
             "line": {
              "color": "white"
             }
            },
            "header": {
             "fill": {
              "color": "#C8D4E3"
             },
             "line": {
              "color": "white"
             }
            },
            "type": "table"
           }
          ]
         },
         "layout": {
          "annotationdefaults": {
           "arrowcolor": "#2a3f5f",
           "arrowhead": 0,
           "arrowwidth": 1
          },
          "autotypenumbers": "strict",
          "coloraxis": {
           "colorbar": {
            "outlinewidth": 0,
            "ticks": ""
           }
          },
          "colorscale": {
           "diverging": [
            [
             0,
             "#8e0152"
            ],
            [
             0.1,
             "#c51b7d"
            ],
            [
             0.2,
             "#de77ae"
            ],
            [
             0.3,
             "#f1b6da"
            ],
            [
             0.4,
             "#fde0ef"
            ],
            [
             0.5,
             "#f7f7f7"
            ],
            [
             0.6,
             "#e6f5d0"
            ],
            [
             0.7,
             "#b8e186"
            ],
            [
             0.8,
             "#7fbc41"
            ],
            [
             0.9,
             "#4d9221"
            ],
            [
             1,
             "#276419"
            ]
           ],
           "sequential": [
            [
             0,
             "#0d0887"
            ],
            [
             0.1111111111111111,
             "#46039f"
            ],
            [
             0.2222222222222222,
             "#7201a8"
            ],
            [
             0.3333333333333333,
             "#9c179e"
            ],
            [
             0.4444444444444444,
             "#bd3786"
            ],
            [
             0.5555555555555556,
             "#d8576b"
            ],
            [
             0.6666666666666666,
             "#ed7953"
            ],
            [
             0.7777777777777778,
             "#fb9f3a"
            ],
            [
             0.8888888888888888,
             "#fdca26"
            ],
            [
             1,
             "#f0f921"
            ]
           ],
           "sequentialminus": [
            [
             0,
             "#0d0887"
            ],
            [
             0.1111111111111111,
             "#46039f"
            ],
            [
             0.2222222222222222,
             "#7201a8"
            ],
            [
             0.3333333333333333,
             "#9c179e"
            ],
            [
             0.4444444444444444,
             "#bd3786"
            ],
            [
             0.5555555555555556,
             "#d8576b"
            ],
            [
             0.6666666666666666,
             "#ed7953"
            ],
            [
             0.7777777777777778,
             "#fb9f3a"
            ],
            [
             0.8888888888888888,
             "#fdca26"
            ],
            [
             1,
             "#f0f921"
            ]
           ]
          },
          "colorway": [
           "#636efa",
           "#EF553B",
           "#00cc96",
           "#ab63fa",
           "#FFA15A",
           "#19d3f3",
           "#FF6692",
           "#B6E880",
           "#FF97FF",
           "#FECB52"
          ],
          "font": {
           "color": "#2a3f5f"
          },
          "geo": {
           "bgcolor": "white",
           "lakecolor": "white",
           "landcolor": "#E5ECF6",
           "showlakes": true,
           "showland": true,
           "subunitcolor": "white"
          },
          "hoverlabel": {
           "align": "left"
          },
          "hovermode": "closest",
          "mapbox": {
           "style": "light"
          },
          "paper_bgcolor": "white",
          "plot_bgcolor": "#E5ECF6",
          "polar": {
           "angularaxis": {
            "gridcolor": "white",
            "linecolor": "white",
            "ticks": ""
           },
           "bgcolor": "#E5ECF6",
           "radialaxis": {
            "gridcolor": "white",
            "linecolor": "white",
            "ticks": ""
           }
          },
          "scene": {
           "xaxis": {
            "backgroundcolor": "#E5ECF6",
            "gridcolor": "white",
            "gridwidth": 2,
            "linecolor": "white",
            "showbackground": true,
            "ticks": "",
            "zerolinecolor": "white"
           },
           "yaxis": {
            "backgroundcolor": "#E5ECF6",
            "gridcolor": "white",
            "gridwidth": 2,
            "linecolor": "white",
            "showbackground": true,
            "ticks": "",
            "zerolinecolor": "white"
           },
           "zaxis": {
            "backgroundcolor": "#E5ECF6",
            "gridcolor": "white",
            "gridwidth": 2,
            "linecolor": "white",
            "showbackground": true,
            "ticks": "",
            "zerolinecolor": "white"
           }
          },
          "shapedefaults": {
           "line": {
            "color": "#2a3f5f"
           }
          },
          "ternary": {
           "aaxis": {
            "gridcolor": "white",
            "linecolor": "white",
            "ticks": ""
           },
           "baxis": {
            "gridcolor": "white",
            "linecolor": "white",
            "ticks": ""
           },
           "bgcolor": "#E5ECF6",
           "caxis": {
            "gridcolor": "white",
            "linecolor": "white",
            "ticks": ""
           }
          },
          "title": {
           "x": 0.05
          },
          "xaxis": {
           "automargin": true,
           "gridcolor": "white",
           "linecolor": "white",
           "ticks": "",
           "title": {
            "standoff": 15
           },
           "zerolinecolor": "white",
           "zerolinewidth": 2
          },
          "yaxis": {
           "automargin": true,
           "gridcolor": "white",
           "linecolor": "white",
           "ticks": "",
           "title": {
            "standoff": 15
           },
           "zerolinecolor": "white",
           "zerolinewidth": 2
          }
         }
        }
       }
      }
     },
     "metadata": {},
     "output_type": "display_data"
    }
   ],
   "source": [
    "fig = go.Figure(go.Scattermapbox(\n",
    "        lat=jabee.geometry.y,\n",
    "        lon=jabee.geometry.x,\n",
    "        mode='markers',\n",
    "        marker=go.scattermapbox.Marker(\n",
    "            size=14,\n",
    "            color = 'green',#jabee['color'] ,\n",
    "        ),\n",
    "        name = 'Spoke'\n",
    "    ))\n",
    "\n",
    "\n",
    "fig.add_trace(go.Scattermapbox(\n",
    "        lat=jabee.loc[jabee.Hub_Flg == '1'].geometry.y,\n",
    "        lon=jabee.loc[jabee.Hub_Flg == '1'].geometry.x,\n",
    "        mode='markers',\n",
    "        marker=go.scattermapbox.Marker(\n",
    "            size=14,\n",
    "            color = jabee.loc[jabee.Hub_Flg == '1']['color'] ,\n",
    "        ),\n",
    "        name = 'Hub'\n",
    "    ))\n",
    "\n",
    "fig.update_layout(\n",
    "    hovermode='closest',\n",
    "    mapbox=dict(\n",
    "        accesstoken=mapbox_token,\n",
    "        # bearing=0,\n",
    "        center=go.layout.mapbox.Center(\n",
    "            lat=jabee.geometry.y.mean(),\n",
    "            lon=jabee.geometry.x.mean(),\n",
    "        ),\n",
    "        # pitch=0,\n",
    "        zoom=12\n",
    "    )\n",
    ")\n",
    "\n",
    "fig.show()"
   ]
  },
  {
   "cell_type": "code",
   "execution_count": 75,
   "id": "2a5fed82",
   "metadata": {},
   "outputs": [],
   "source": [
    "colors = px.colors.qualitative.Plotly"
   ]
  },
  {
   "cell_type": "code",
   "execution_count": 84,
   "id": "a0295bf3",
   "metadata": {},
   "outputs": [
    {
     "data": {
      "text/plain": [
       "4     14.575531\n",
       "1     14.577854\n",
       "21    14.583490\n",
       "19    14.585268\n",
       "17    14.585119\n",
       "13    14.583228\n",
       "10    14.583490\n",
       "8     14.585268\n",
       "6     14.585119\n",
       "2     14.583228\n",
       "4     14.575531\n",
       "dtype: float64"
      ]
     },
     "execution_count": 84,
     "metadata": {},
     "output_type": "execute_result"
    }
   ],
   "source": [
    "jabee.loc[routes[0]].geometry.y"
   ]
  },
  {
   "cell_type": "code",
   "execution_count": 86,
   "id": "10475aa3",
   "metadata": {},
   "outputs": [
    {
     "data": {
      "application/vnd.plotly.v1+json": {
       "config": {
        "plotlyServerURL": "https://plot.ly"
       },
       "data": [
        {
         "lat": [
          14.575530800000005,
          14.577853800000005,
          14.5834899,
          14.5852681,
          14.585119099999996,
          14.583228200000002,
          14.5834899,
          14.5852681,
          14.585119099999996,
          14.583228200000002,
          14.575530800000005
         ],
         "lon": [
          121.04180369999999,
          121.03473309999997,
          121.0510488,
          121.05719460000002,
          121.05704019999997,
          121.05478720000002,
          121.0510488,
          121.05719460000002,
          121.05704019999997,
          121.05478720000002,
          121.04180369999999
         ],
         "marker": {
          "color": "#636EFA",
          "size": 14
         },
         "mode": "markers+lines",
         "name": "Route 0",
         "type": "scattermapbox"
        },
        {
         "lat": [
          14.575530800000005,
          14.573168999999996,
          14.5737919,
          14.573168999999996,
          14.575530800000005
         ],
         "lon": [
          121.04180369999999,
          121.046993,
          121.0489327,
          121.046993,
          121.04180369999999
         ],
         "marker": {
          "color": "#EF553B",
          "size": 14
         },
         "mode": "markers+lines",
         "name": "Route 1",
         "type": "scattermapbox"
        },
        {
         "lat": [
          14.575530800000005,
          14.5737919,
          14.575530800000005,
          14.587163000000006,
          14.587163000000006,
          14.591900699999993,
          14.586228599999998,
          14.591900699999993,
          14.586228599999998,
          14.577853800000005,
          14.575530800000005
         ],
         "lon": [
          121.04180369999999,
          121.0489327,
          121.04180369999999,
          121.03534779999998,
          121.03534779999998,
          121.02534190000002,
          121.0257553,
          121.02534190000002,
          121.0257553,
          121.03473309999997,
          121.04180369999999
         ],
         "marker": {
          "color": "#00CC96",
          "size": 14
         },
         "mode": "markers+lines",
         "name": "Route 2",
         "type": "scattermapbox"
        }
       ],
       "layout": {
        "hovermode": "closest",
        "mapbox": {
         "accesstoken": "pk.eyJ1IjoicmF2ZW5kaWNvIiwiYSI6ImNrOXNtMTQwNDE1NXEzZ3J0ZXBzbGFjajYifQ.reAoc-tEDpfezf6ZHJiyZQ",
         "center": {
          "lat": 14.582067554545459,
          "lon": 121.04354348181818
         },
         "zoom": 12
        },
        "template": {
         "data": {
          "bar": [
           {
            "error_x": {
             "color": "#2a3f5f"
            },
            "error_y": {
             "color": "#2a3f5f"
            },
            "marker": {
             "line": {
              "color": "#E5ECF6",
              "width": 0.5
             },
             "pattern": {
              "fillmode": "overlay",
              "size": 10,
              "solidity": 0.2
             }
            },
            "type": "bar"
           }
          ],
          "barpolar": [
           {
            "marker": {
             "line": {
              "color": "#E5ECF6",
              "width": 0.5
             },
             "pattern": {
              "fillmode": "overlay",
              "size": 10,
              "solidity": 0.2
             }
            },
            "type": "barpolar"
           }
          ],
          "carpet": [
           {
            "aaxis": {
             "endlinecolor": "#2a3f5f",
             "gridcolor": "white",
             "linecolor": "white",
             "minorgridcolor": "white",
             "startlinecolor": "#2a3f5f"
            },
            "baxis": {
             "endlinecolor": "#2a3f5f",
             "gridcolor": "white",
             "linecolor": "white",
             "minorgridcolor": "white",
             "startlinecolor": "#2a3f5f"
            },
            "type": "carpet"
           }
          ],
          "choropleth": [
           {
            "colorbar": {
             "outlinewidth": 0,
             "ticks": ""
            },
            "type": "choropleth"
           }
          ],
          "contour": [
           {
            "colorbar": {
             "outlinewidth": 0,
             "ticks": ""
            },
            "colorscale": [
             [
              0,
              "#0d0887"
             ],
             [
              0.1111111111111111,
              "#46039f"
             ],
             [
              0.2222222222222222,
              "#7201a8"
             ],
             [
              0.3333333333333333,
              "#9c179e"
             ],
             [
              0.4444444444444444,
              "#bd3786"
             ],
             [
              0.5555555555555556,
              "#d8576b"
             ],
             [
              0.6666666666666666,
              "#ed7953"
             ],
             [
              0.7777777777777778,
              "#fb9f3a"
             ],
             [
              0.8888888888888888,
              "#fdca26"
             ],
             [
              1,
              "#f0f921"
             ]
            ],
            "type": "contour"
           }
          ],
          "contourcarpet": [
           {
            "colorbar": {
             "outlinewidth": 0,
             "ticks": ""
            },
            "type": "contourcarpet"
           }
          ],
          "heatmap": [
           {
            "colorbar": {
             "outlinewidth": 0,
             "ticks": ""
            },
            "colorscale": [
             [
              0,
              "#0d0887"
             ],
             [
              0.1111111111111111,
              "#46039f"
             ],
             [
              0.2222222222222222,
              "#7201a8"
             ],
             [
              0.3333333333333333,
              "#9c179e"
             ],
             [
              0.4444444444444444,
              "#bd3786"
             ],
             [
              0.5555555555555556,
              "#d8576b"
             ],
             [
              0.6666666666666666,
              "#ed7953"
             ],
             [
              0.7777777777777778,
              "#fb9f3a"
             ],
             [
              0.8888888888888888,
              "#fdca26"
             ],
             [
              1,
              "#f0f921"
             ]
            ],
            "type": "heatmap"
           }
          ],
          "heatmapgl": [
           {
            "colorbar": {
             "outlinewidth": 0,
             "ticks": ""
            },
            "colorscale": [
             [
              0,
              "#0d0887"
             ],
             [
              0.1111111111111111,
              "#46039f"
             ],
             [
              0.2222222222222222,
              "#7201a8"
             ],
             [
              0.3333333333333333,
              "#9c179e"
             ],
             [
              0.4444444444444444,
              "#bd3786"
             ],
             [
              0.5555555555555556,
              "#d8576b"
             ],
             [
              0.6666666666666666,
              "#ed7953"
             ],
             [
              0.7777777777777778,
              "#fb9f3a"
             ],
             [
              0.8888888888888888,
              "#fdca26"
             ],
             [
              1,
              "#f0f921"
             ]
            ],
            "type": "heatmapgl"
           }
          ],
          "histogram": [
           {
            "marker": {
             "pattern": {
              "fillmode": "overlay",
              "size": 10,
              "solidity": 0.2
             }
            },
            "type": "histogram"
           }
          ],
          "histogram2d": [
           {
            "colorbar": {
             "outlinewidth": 0,
             "ticks": ""
            },
            "colorscale": [
             [
              0,
              "#0d0887"
             ],
             [
              0.1111111111111111,
              "#46039f"
             ],
             [
              0.2222222222222222,
              "#7201a8"
             ],
             [
              0.3333333333333333,
              "#9c179e"
             ],
             [
              0.4444444444444444,
              "#bd3786"
             ],
             [
              0.5555555555555556,
              "#d8576b"
             ],
             [
              0.6666666666666666,
              "#ed7953"
             ],
             [
              0.7777777777777778,
              "#fb9f3a"
             ],
             [
              0.8888888888888888,
              "#fdca26"
             ],
             [
              1,
              "#f0f921"
             ]
            ],
            "type": "histogram2d"
           }
          ],
          "histogram2dcontour": [
           {
            "colorbar": {
             "outlinewidth": 0,
             "ticks": ""
            },
            "colorscale": [
             [
              0,
              "#0d0887"
             ],
             [
              0.1111111111111111,
              "#46039f"
             ],
             [
              0.2222222222222222,
              "#7201a8"
             ],
             [
              0.3333333333333333,
              "#9c179e"
             ],
             [
              0.4444444444444444,
              "#bd3786"
             ],
             [
              0.5555555555555556,
              "#d8576b"
             ],
             [
              0.6666666666666666,
              "#ed7953"
             ],
             [
              0.7777777777777778,
              "#fb9f3a"
             ],
             [
              0.8888888888888888,
              "#fdca26"
             ],
             [
              1,
              "#f0f921"
             ]
            ],
            "type": "histogram2dcontour"
           }
          ],
          "mesh3d": [
           {
            "colorbar": {
             "outlinewidth": 0,
             "ticks": ""
            },
            "type": "mesh3d"
           }
          ],
          "parcoords": [
           {
            "line": {
             "colorbar": {
              "outlinewidth": 0,
              "ticks": ""
             }
            },
            "type": "parcoords"
           }
          ],
          "pie": [
           {
            "automargin": true,
            "type": "pie"
           }
          ],
          "scatter": [
           {
            "fillpattern": {
             "fillmode": "overlay",
             "size": 10,
             "solidity": 0.2
            },
            "type": "scatter"
           }
          ],
          "scatter3d": [
           {
            "line": {
             "colorbar": {
              "outlinewidth": 0,
              "ticks": ""
             }
            },
            "marker": {
             "colorbar": {
              "outlinewidth": 0,
              "ticks": ""
             }
            },
            "type": "scatter3d"
           }
          ],
          "scattercarpet": [
           {
            "marker": {
             "colorbar": {
              "outlinewidth": 0,
              "ticks": ""
             }
            },
            "type": "scattercarpet"
           }
          ],
          "scattergeo": [
           {
            "marker": {
             "colorbar": {
              "outlinewidth": 0,
              "ticks": ""
             }
            },
            "type": "scattergeo"
           }
          ],
          "scattergl": [
           {
            "marker": {
             "colorbar": {
              "outlinewidth": 0,
              "ticks": ""
             }
            },
            "type": "scattergl"
           }
          ],
          "scattermapbox": [
           {
            "marker": {
             "colorbar": {
              "outlinewidth": 0,
              "ticks": ""
             }
            },
            "type": "scattermapbox"
           }
          ],
          "scatterpolar": [
           {
            "marker": {
             "colorbar": {
              "outlinewidth": 0,
              "ticks": ""
             }
            },
            "type": "scatterpolar"
           }
          ],
          "scatterpolargl": [
           {
            "marker": {
             "colorbar": {
              "outlinewidth": 0,
              "ticks": ""
             }
            },
            "type": "scatterpolargl"
           }
          ],
          "scatterternary": [
           {
            "marker": {
             "colorbar": {
              "outlinewidth": 0,
              "ticks": ""
             }
            },
            "type": "scatterternary"
           }
          ],
          "surface": [
           {
            "colorbar": {
             "outlinewidth": 0,
             "ticks": ""
            },
            "colorscale": [
             [
              0,
              "#0d0887"
             ],
             [
              0.1111111111111111,
              "#46039f"
             ],
             [
              0.2222222222222222,
              "#7201a8"
             ],
             [
              0.3333333333333333,
              "#9c179e"
             ],
             [
              0.4444444444444444,
              "#bd3786"
             ],
             [
              0.5555555555555556,
              "#d8576b"
             ],
             [
              0.6666666666666666,
              "#ed7953"
             ],
             [
              0.7777777777777778,
              "#fb9f3a"
             ],
             [
              0.8888888888888888,
              "#fdca26"
             ],
             [
              1,
              "#f0f921"
             ]
            ],
            "type": "surface"
           }
          ],
          "table": [
           {
            "cells": {
             "fill": {
              "color": "#EBF0F8"
             },
             "line": {
              "color": "white"
             }
            },
            "header": {
             "fill": {
              "color": "#C8D4E3"
             },
             "line": {
              "color": "white"
             }
            },
            "type": "table"
           }
          ]
         },
         "layout": {
          "annotationdefaults": {
           "arrowcolor": "#2a3f5f",
           "arrowhead": 0,
           "arrowwidth": 1
          },
          "autotypenumbers": "strict",
          "coloraxis": {
           "colorbar": {
            "outlinewidth": 0,
            "ticks": ""
           }
          },
          "colorscale": {
           "diverging": [
            [
             0,
             "#8e0152"
            ],
            [
             0.1,
             "#c51b7d"
            ],
            [
             0.2,
             "#de77ae"
            ],
            [
             0.3,
             "#f1b6da"
            ],
            [
             0.4,
             "#fde0ef"
            ],
            [
             0.5,
             "#f7f7f7"
            ],
            [
             0.6,
             "#e6f5d0"
            ],
            [
             0.7,
             "#b8e186"
            ],
            [
             0.8,
             "#7fbc41"
            ],
            [
             0.9,
             "#4d9221"
            ],
            [
             1,
             "#276419"
            ]
           ],
           "sequential": [
            [
             0,
             "#0d0887"
            ],
            [
             0.1111111111111111,
             "#46039f"
            ],
            [
             0.2222222222222222,
             "#7201a8"
            ],
            [
             0.3333333333333333,
             "#9c179e"
            ],
            [
             0.4444444444444444,
             "#bd3786"
            ],
            [
             0.5555555555555556,
             "#d8576b"
            ],
            [
             0.6666666666666666,
             "#ed7953"
            ],
            [
             0.7777777777777778,
             "#fb9f3a"
            ],
            [
             0.8888888888888888,
             "#fdca26"
            ],
            [
             1,
             "#f0f921"
            ]
           ],
           "sequentialminus": [
            [
             0,
             "#0d0887"
            ],
            [
             0.1111111111111111,
             "#46039f"
            ],
            [
             0.2222222222222222,
             "#7201a8"
            ],
            [
             0.3333333333333333,
             "#9c179e"
            ],
            [
             0.4444444444444444,
             "#bd3786"
            ],
            [
             0.5555555555555556,
             "#d8576b"
            ],
            [
             0.6666666666666666,
             "#ed7953"
            ],
            [
             0.7777777777777778,
             "#fb9f3a"
            ],
            [
             0.8888888888888888,
             "#fdca26"
            ],
            [
             1,
             "#f0f921"
            ]
           ]
          },
          "colorway": [
           "#636efa",
           "#EF553B",
           "#00cc96",
           "#ab63fa",
           "#FFA15A",
           "#19d3f3",
           "#FF6692",
           "#B6E880",
           "#FF97FF",
           "#FECB52"
          ],
          "font": {
           "color": "#2a3f5f"
          },
          "geo": {
           "bgcolor": "white",
           "lakecolor": "white",
           "landcolor": "#E5ECF6",
           "showlakes": true,
           "showland": true,
           "subunitcolor": "white"
          },
          "hoverlabel": {
           "align": "left"
          },
          "hovermode": "closest",
          "mapbox": {
           "style": "light"
          },
          "paper_bgcolor": "white",
          "plot_bgcolor": "#E5ECF6",
          "polar": {
           "angularaxis": {
            "gridcolor": "white",
            "linecolor": "white",
            "ticks": ""
           },
           "bgcolor": "#E5ECF6",
           "radialaxis": {
            "gridcolor": "white",
            "linecolor": "white",
            "ticks": ""
           }
          },
          "scene": {
           "xaxis": {
            "backgroundcolor": "#E5ECF6",
            "gridcolor": "white",
            "gridwidth": 2,
            "linecolor": "white",
            "showbackground": true,
            "ticks": "",
            "zerolinecolor": "white"
           },
           "yaxis": {
            "backgroundcolor": "#E5ECF6",
            "gridcolor": "white",
            "gridwidth": 2,
            "linecolor": "white",
            "showbackground": true,
            "ticks": "",
            "zerolinecolor": "white"
           },
           "zaxis": {
            "backgroundcolor": "#E5ECF6",
            "gridcolor": "white",
            "gridwidth": 2,
            "linecolor": "white",
            "showbackground": true,
            "ticks": "",
            "zerolinecolor": "white"
           }
          },
          "shapedefaults": {
           "line": {
            "color": "#2a3f5f"
           }
          },
          "ternary": {
           "aaxis": {
            "gridcolor": "white",
            "linecolor": "white",
            "ticks": ""
           },
           "baxis": {
            "gridcolor": "white",
            "linecolor": "white",
            "ticks": ""
           },
           "bgcolor": "#E5ECF6",
           "caxis": {
            "gridcolor": "white",
            "linecolor": "white",
            "ticks": ""
           }
          },
          "title": {
           "x": 0.05
          },
          "xaxis": {
           "automargin": true,
           "gridcolor": "white",
           "linecolor": "white",
           "ticks": "",
           "title": {
            "standoff": 15
           },
           "zerolinecolor": "white",
           "zerolinewidth": 2
          },
          "yaxis": {
           "automargin": true,
           "gridcolor": "white",
           "linecolor": "white",
           "ticks": "",
           "title": {
            "standoff": 15
           },
           "zerolinecolor": "white",
           "zerolinewidth": 2
          }
         }
        }
       }
      }
     },
     "metadata": {},
     "output_type": "display_data"
    }
   ],
   "source": [
    "fig = go.Figure()\n",
    "\n",
    "for idx, route in enumerate(routes):\n",
    "    fig.add_trace(go.Scattermapbox(\n",
    "            mode = \"markers+lines\",\n",
    "            lat = jabee.loc[route].geometry.y,\n",
    "            lon = jabee.loc[route].geometry.x,\n",
    "            marker=go.scattermapbox.Marker(\n",
    "                    size=14,\n",
    "                    color = colors[idx],\n",
    "                ),\n",
    "                name = f'Route {idx}'\n",
    "            # marker = {'size': 15, 'color': colors[idx]}\n",
    "            ))\n",
    "\n",
    "fig.update_layout(\n",
    "    hovermode='closest',\n",
    "    mapbox=dict(\n",
    "        accesstoken=mapbox_token,\n",
    "        # bearing=0,\n",
    "        center=go.layout.mapbox.Center(\n",
    "            lat=jabee.geometry.y.mean(),\n",
    "            lon=jabee.geometry.x.mean(),\n",
    "        ),\n",
    "        # pitch=0,\n",
    "        zoom=12\n",
    "    )\n",
    ")\n",
    "\n",
    "fig.show()"
   ]
  },
  {
   "cell_type": "code",
   "execution_count": 111,
   "id": "88dcd19d",
   "metadata": {},
   "outputs": [],
   "source": [
    "def compute_arrow_coords(A, B):\n",
    "    \n",
    "    #Workaround to get the arrow at the end of an edge AB\n",
    "    #A - coords of point 1, B - coords of point B\n",
    "    l = 0.1  # the arrow length\n",
    "    widh =0.035  #2*widh is the width of the arrow base as triangle\n",
    "\n",
    "    # A = np.array([locations['lon'][5], locations['lat'][5]])\n",
    "    # B = np.array([locations['lon'][0], locations['lat'][0]])\n",
    "    v = B-A\n",
    "    w = v/np.linalg.norm(v)     \n",
    "    u  =np.array([-v[1], v[0]])  #u orthogonal on  w\n",
    "            \n",
    "    P = B-l*w\n",
    "    S = P - widh*u\n",
    "    T = P + widh*u\n",
    "\n",
    "    return S, T"
   ]
  },
  {
   "cell_type": "code",
   "execution_count": 108,
   "id": "e497fa70",
   "metadata": {},
   "outputs": [
    {
     "data": {
      "text/plain": [
       "(array([121.9877439187512, 15.136955222010615], dtype=object),\n",
       " array([121.9882827367512, 15.136046377010613], dtype=object))"
      ]
     },
     "execution_count": 108,
     "metadata": {},
     "output_type": "execute_result"
    }
   ],
   "source": [
    "S, T"
   ]
  },
  {
   "cell_type": "code",
   "execution_count": 114,
   "id": "b40828ee",
   "metadata": {},
   "outputs": [
    {
     "data": {
      "text/plain": [
       "(array([121.0547872, 14.5832282], dtype=object),\n",
       " array([121.0418037, 14.575530800000005], dtype=object))"
      ]
     },
     "execution_count": 114,
     "metadata": {},
     "output_type": "execute_result"
    }
   ],
   "source": [
    "A, B"
   ]
  },
  {
   "cell_type": "code",
   "execution_count": 112,
   "id": "247aba61",
   "metadata": {},
   "outputs": [
    {
     "data": {
      "application/vnd.plotly.v1+json": {
       "config": {
        "plotlyServerURL": "https://plot.ly"
       },
       "data": [
        {
         "fill": "toself",
         "fillcolor": "blue",
         "lat": [
          14.54688833291005,
          14.546393390910051,
          14.5778538,
          14.54688833291005
         ],
         "line": {
          "color": "blue"
         },
         "lon": [
          121.12981836542161,
          121.12965575542162,
          121.0347331,
          121.12981836542161
         ],
         "mode": "lines",
         "type": "scattergeo"
        },
        {
         "fill": "toself",
         "fillcolor": "blue",
         "lat": [
          14.55026802970709,
          14.551410128707088,
          14.5834899,
          14.55026802970709
         ],
         "line": {
          "color": "blue"
         },
         "lon": [
          120.95672662686631,
          120.95633209986632,
          121.0510488,
          120.95672662686631
         ],
         "mode": "lines",
         "type": "scattergeo"
        },
        {
         "fill": "toself",
         "fillcolor": "blue",
         "lat": [
          14.557259410074955,
          14.557689616074956,
          14.5852681,
          14.557259410074955
         ],
         "line": {
          "color": "blue"
         },
         "lon": [
          120.96119687382158,
          120.96107239982159,
          121.0571946,
          120.96119687382158
         ],
         "mode": "lines",
         "type": "scattergeo"
        },
        {
         "fill": "toself",
         "fillcolor": "blue",
         "lat": [
          14.654565655362099,
          14.6545548473621,
          14.5851191,
          14.654565655362099
         ],
         "line": {
          "color": "blue"
         },
         "lon": [
          121.12899279553858,
          121.12900322553858,
          121.0570402,
          121.12899279553858
         ],
         "mode": "lines",
         "type": "scattergeo"
        },
        {
         "fill": "toself",
         "fillcolor": "blue",
         "lat": [
          14.647593966154624,
          14.647436256154624,
          14.5832282,
          14.647593966154624
         ],
         "line": {
          "color": "blue"
         },
         "lon": [
          121.13131862325497,
          121.13145098625498,
          121.0547872,
          121.13131862325497
         ],
         "mode": "lines",
         "type": "scattergeo"
        },
        {
         "fill": "toself",
         "fillcolor": "blue",
         "lat": [
          14.576637512582131,
          14.57637582458213,
          14.5834899,
          14.576637512582131
         ],
         "line": {
          "color": "blue"
         },
         "lon": [
          121.1508138339083,
          121.15079551490831,
          121.0510488,
          121.1508138339083
         ],
         "mode": "lines",
         "type": "scattergeo"
        },
        {
         "fill": "toself",
         "fillcolor": "blue",
         "lat": [
          14.557259410074955,
          14.557689616074956,
          14.5852681,
          14.557259410074955
         ],
         "line": {
          "color": "blue"
         },
         "lon": [
          120.96119687382158,
          120.96107239982159,
          121.0571946,
          120.96119687382158
         ],
         "mode": "lines",
         "type": "scattergeo"
        },
        {
         "fill": "toself",
         "fillcolor": "blue",
         "lat": [
          14.654565655362099,
          14.6545548473621,
          14.5851191,
          14.654565655362099
         ],
         "line": {
          "color": "blue"
         },
         "lon": [
          121.12899279553858,
          121.12900322553858,
          121.0570402,
          121.12899279553858
         ],
         "mode": "lines",
         "type": "scattergeo"
        },
        {
         "fill": "toself",
         "fillcolor": "blue",
         "lat": [
          14.647593966154624,
          14.647436256154624,
          14.5832282,
          14.647593966154624
         ],
         "line": {
          "color": "blue"
         },
         "lon": [
          121.13131862325497,
          121.13145098625498,
          121.0547872,
          121.13131862325497
         ],
         "mode": "lines",
         "type": "scattergeo"
        },
        {
         "fill": "toself",
         "fillcolor": "blue",
         "lat": [
          14.626982495182787,
          14.626073650182786,
          14.575530800000005,
          14.626982495182787
         ],
         "line": {
          "color": "blue"
         },
         "lon": [
          121.12755334806829,
          121.12809216606828,
          121.0418037,
          121.12755334806829
         ],
         "mode": "lines",
         "type": "scattergeo"
        }
       ],
       "layout": {
        "hovermode": "closest",
        "mapbox": {
         "accesstoken": "pk.eyJ1IjoicmF2ZW5kaWNvIiwiYSI6ImNrOXNtMTQwNDE1NXEzZ3J0ZXBzbGFjajYifQ.reAoc-tEDpfezf6ZHJiyZQ",
         "center": {
          "lat": 14.582067554545459,
          "lon": 121.04354348181818
         },
         "zoom": 12
        },
        "template": {
         "data": {
          "bar": [
           {
            "error_x": {
             "color": "#2a3f5f"
            },
            "error_y": {
             "color": "#2a3f5f"
            },
            "marker": {
             "line": {
              "color": "#E5ECF6",
              "width": 0.5
             },
             "pattern": {
              "fillmode": "overlay",
              "size": 10,
              "solidity": 0.2
             }
            },
            "type": "bar"
           }
          ],
          "barpolar": [
           {
            "marker": {
             "line": {
              "color": "#E5ECF6",
              "width": 0.5
             },
             "pattern": {
              "fillmode": "overlay",
              "size": 10,
              "solidity": 0.2
             }
            },
            "type": "barpolar"
           }
          ],
          "carpet": [
           {
            "aaxis": {
             "endlinecolor": "#2a3f5f",
             "gridcolor": "white",
             "linecolor": "white",
             "minorgridcolor": "white",
             "startlinecolor": "#2a3f5f"
            },
            "baxis": {
             "endlinecolor": "#2a3f5f",
             "gridcolor": "white",
             "linecolor": "white",
             "minorgridcolor": "white",
             "startlinecolor": "#2a3f5f"
            },
            "type": "carpet"
           }
          ],
          "choropleth": [
           {
            "colorbar": {
             "outlinewidth": 0,
             "ticks": ""
            },
            "type": "choropleth"
           }
          ],
          "contour": [
           {
            "colorbar": {
             "outlinewidth": 0,
             "ticks": ""
            },
            "colorscale": [
             [
              0,
              "#0d0887"
             ],
             [
              0.1111111111111111,
              "#46039f"
             ],
             [
              0.2222222222222222,
              "#7201a8"
             ],
             [
              0.3333333333333333,
              "#9c179e"
             ],
             [
              0.4444444444444444,
              "#bd3786"
             ],
             [
              0.5555555555555556,
              "#d8576b"
             ],
             [
              0.6666666666666666,
              "#ed7953"
             ],
             [
              0.7777777777777778,
              "#fb9f3a"
             ],
             [
              0.8888888888888888,
              "#fdca26"
             ],
             [
              1,
              "#f0f921"
             ]
            ],
            "type": "contour"
           }
          ],
          "contourcarpet": [
           {
            "colorbar": {
             "outlinewidth": 0,
             "ticks": ""
            },
            "type": "contourcarpet"
           }
          ],
          "heatmap": [
           {
            "colorbar": {
             "outlinewidth": 0,
             "ticks": ""
            },
            "colorscale": [
             [
              0,
              "#0d0887"
             ],
             [
              0.1111111111111111,
              "#46039f"
             ],
             [
              0.2222222222222222,
              "#7201a8"
             ],
             [
              0.3333333333333333,
              "#9c179e"
             ],
             [
              0.4444444444444444,
              "#bd3786"
             ],
             [
              0.5555555555555556,
              "#d8576b"
             ],
             [
              0.6666666666666666,
              "#ed7953"
             ],
             [
              0.7777777777777778,
              "#fb9f3a"
             ],
             [
              0.8888888888888888,
              "#fdca26"
             ],
             [
              1,
              "#f0f921"
             ]
            ],
            "type": "heatmap"
           }
          ],
          "heatmapgl": [
           {
            "colorbar": {
             "outlinewidth": 0,
             "ticks": ""
            },
            "colorscale": [
             [
              0,
              "#0d0887"
             ],
             [
              0.1111111111111111,
              "#46039f"
             ],
             [
              0.2222222222222222,
              "#7201a8"
             ],
             [
              0.3333333333333333,
              "#9c179e"
             ],
             [
              0.4444444444444444,
              "#bd3786"
             ],
             [
              0.5555555555555556,
              "#d8576b"
             ],
             [
              0.6666666666666666,
              "#ed7953"
             ],
             [
              0.7777777777777778,
              "#fb9f3a"
             ],
             [
              0.8888888888888888,
              "#fdca26"
             ],
             [
              1,
              "#f0f921"
             ]
            ],
            "type": "heatmapgl"
           }
          ],
          "histogram": [
           {
            "marker": {
             "pattern": {
              "fillmode": "overlay",
              "size": 10,
              "solidity": 0.2
             }
            },
            "type": "histogram"
           }
          ],
          "histogram2d": [
           {
            "colorbar": {
             "outlinewidth": 0,
             "ticks": ""
            },
            "colorscale": [
             [
              0,
              "#0d0887"
             ],
             [
              0.1111111111111111,
              "#46039f"
             ],
             [
              0.2222222222222222,
              "#7201a8"
             ],
             [
              0.3333333333333333,
              "#9c179e"
             ],
             [
              0.4444444444444444,
              "#bd3786"
             ],
             [
              0.5555555555555556,
              "#d8576b"
             ],
             [
              0.6666666666666666,
              "#ed7953"
             ],
             [
              0.7777777777777778,
              "#fb9f3a"
             ],
             [
              0.8888888888888888,
              "#fdca26"
             ],
             [
              1,
              "#f0f921"
             ]
            ],
            "type": "histogram2d"
           }
          ],
          "histogram2dcontour": [
           {
            "colorbar": {
             "outlinewidth": 0,
             "ticks": ""
            },
            "colorscale": [
             [
              0,
              "#0d0887"
             ],
             [
              0.1111111111111111,
              "#46039f"
             ],
             [
              0.2222222222222222,
              "#7201a8"
             ],
             [
              0.3333333333333333,
              "#9c179e"
             ],
             [
              0.4444444444444444,
              "#bd3786"
             ],
             [
              0.5555555555555556,
              "#d8576b"
             ],
             [
              0.6666666666666666,
              "#ed7953"
             ],
             [
              0.7777777777777778,
              "#fb9f3a"
             ],
             [
              0.8888888888888888,
              "#fdca26"
             ],
             [
              1,
              "#f0f921"
             ]
            ],
            "type": "histogram2dcontour"
           }
          ],
          "mesh3d": [
           {
            "colorbar": {
             "outlinewidth": 0,
             "ticks": ""
            },
            "type": "mesh3d"
           }
          ],
          "parcoords": [
           {
            "line": {
             "colorbar": {
              "outlinewidth": 0,
              "ticks": ""
             }
            },
            "type": "parcoords"
           }
          ],
          "pie": [
           {
            "automargin": true,
            "type": "pie"
           }
          ],
          "scatter": [
           {
            "fillpattern": {
             "fillmode": "overlay",
             "size": 10,
             "solidity": 0.2
            },
            "type": "scatter"
           }
          ],
          "scatter3d": [
           {
            "line": {
             "colorbar": {
              "outlinewidth": 0,
              "ticks": ""
             }
            },
            "marker": {
             "colorbar": {
              "outlinewidth": 0,
              "ticks": ""
             }
            },
            "type": "scatter3d"
           }
          ],
          "scattercarpet": [
           {
            "marker": {
             "colorbar": {
              "outlinewidth": 0,
              "ticks": ""
             }
            },
            "type": "scattercarpet"
           }
          ],
          "scattergeo": [
           {
            "marker": {
             "colorbar": {
              "outlinewidth": 0,
              "ticks": ""
             }
            },
            "type": "scattergeo"
           }
          ],
          "scattergl": [
           {
            "marker": {
             "colorbar": {
              "outlinewidth": 0,
              "ticks": ""
             }
            },
            "type": "scattergl"
           }
          ],
          "scattermapbox": [
           {
            "marker": {
             "colorbar": {
              "outlinewidth": 0,
              "ticks": ""
             }
            },
            "type": "scattermapbox"
           }
          ],
          "scatterpolar": [
           {
            "marker": {
             "colorbar": {
              "outlinewidth": 0,
              "ticks": ""
             }
            },
            "type": "scatterpolar"
           }
          ],
          "scatterpolargl": [
           {
            "marker": {
             "colorbar": {
              "outlinewidth": 0,
              "ticks": ""
             }
            },
            "type": "scatterpolargl"
           }
          ],
          "scatterternary": [
           {
            "marker": {
             "colorbar": {
              "outlinewidth": 0,
              "ticks": ""
             }
            },
            "type": "scatterternary"
           }
          ],
          "surface": [
           {
            "colorbar": {
             "outlinewidth": 0,
             "ticks": ""
            },
            "colorscale": [
             [
              0,
              "#0d0887"
             ],
             [
              0.1111111111111111,
              "#46039f"
             ],
             [
              0.2222222222222222,
              "#7201a8"
             ],
             [
              0.3333333333333333,
              "#9c179e"
             ],
             [
              0.4444444444444444,
              "#bd3786"
             ],
             [
              0.5555555555555556,
              "#d8576b"
             ],
             [
              0.6666666666666666,
              "#ed7953"
             ],
             [
              0.7777777777777778,
              "#fb9f3a"
             ],
             [
              0.8888888888888888,
              "#fdca26"
             ],
             [
              1,
              "#f0f921"
             ]
            ],
            "type": "surface"
           }
          ],
          "table": [
           {
            "cells": {
             "fill": {
              "color": "#EBF0F8"
             },
             "line": {
              "color": "white"
             }
            },
            "header": {
             "fill": {
              "color": "#C8D4E3"
             },
             "line": {
              "color": "white"
             }
            },
            "type": "table"
           }
          ]
         },
         "layout": {
          "annotationdefaults": {
           "arrowcolor": "#2a3f5f",
           "arrowhead": 0,
           "arrowwidth": 1
          },
          "autotypenumbers": "strict",
          "coloraxis": {
           "colorbar": {
            "outlinewidth": 0,
            "ticks": ""
           }
          },
          "colorscale": {
           "diverging": [
            [
             0,
             "#8e0152"
            ],
            [
             0.1,
             "#c51b7d"
            ],
            [
             0.2,
             "#de77ae"
            ],
            [
             0.3,
             "#f1b6da"
            ],
            [
             0.4,
             "#fde0ef"
            ],
            [
             0.5,
             "#f7f7f7"
            ],
            [
             0.6,
             "#e6f5d0"
            ],
            [
             0.7,
             "#b8e186"
            ],
            [
             0.8,
             "#7fbc41"
            ],
            [
             0.9,
             "#4d9221"
            ],
            [
             1,
             "#276419"
            ]
           ],
           "sequential": [
            [
             0,
             "#0d0887"
            ],
            [
             0.1111111111111111,
             "#46039f"
            ],
            [
             0.2222222222222222,
             "#7201a8"
            ],
            [
             0.3333333333333333,
             "#9c179e"
            ],
            [
             0.4444444444444444,
             "#bd3786"
            ],
            [
             0.5555555555555556,
             "#d8576b"
            ],
            [
             0.6666666666666666,
             "#ed7953"
            ],
            [
             0.7777777777777778,
             "#fb9f3a"
            ],
            [
             0.8888888888888888,
             "#fdca26"
            ],
            [
             1,
             "#f0f921"
            ]
           ],
           "sequentialminus": [
            [
             0,
             "#0d0887"
            ],
            [
             0.1111111111111111,
             "#46039f"
            ],
            [
             0.2222222222222222,
             "#7201a8"
            ],
            [
             0.3333333333333333,
             "#9c179e"
            ],
            [
             0.4444444444444444,
             "#bd3786"
            ],
            [
             0.5555555555555556,
             "#d8576b"
            ],
            [
             0.6666666666666666,
             "#ed7953"
            ],
            [
             0.7777777777777778,
             "#fb9f3a"
            ],
            [
             0.8888888888888888,
             "#fdca26"
            ],
            [
             1,
             "#f0f921"
            ]
           ]
          },
          "colorway": [
           "#636efa",
           "#EF553B",
           "#00cc96",
           "#ab63fa",
           "#FFA15A",
           "#19d3f3",
           "#FF6692",
           "#B6E880",
           "#FF97FF",
           "#FECB52"
          ],
          "font": {
           "color": "#2a3f5f"
          },
          "geo": {
           "bgcolor": "white",
           "lakecolor": "white",
           "landcolor": "#E5ECF6",
           "showlakes": true,
           "showland": true,
           "subunitcolor": "white"
          },
          "hoverlabel": {
           "align": "left"
          },
          "hovermode": "closest",
          "mapbox": {
           "style": "light"
          },
          "paper_bgcolor": "white",
          "plot_bgcolor": "#E5ECF6",
          "polar": {
           "angularaxis": {
            "gridcolor": "white",
            "linecolor": "white",
            "ticks": ""
           },
           "bgcolor": "#E5ECF6",
           "radialaxis": {
            "gridcolor": "white",
            "linecolor": "white",
            "ticks": ""
           }
          },
          "scene": {
           "xaxis": {
            "backgroundcolor": "#E5ECF6",
            "gridcolor": "white",
            "gridwidth": 2,
            "linecolor": "white",
            "showbackground": true,
            "ticks": "",
            "zerolinecolor": "white"
           },
           "yaxis": {
            "backgroundcolor": "#E5ECF6",
            "gridcolor": "white",
            "gridwidth": 2,
            "linecolor": "white",
            "showbackground": true,
            "ticks": "",
            "zerolinecolor": "white"
           },
           "zaxis": {
            "backgroundcolor": "#E5ECF6",
            "gridcolor": "white",
            "gridwidth": 2,
            "linecolor": "white",
            "showbackground": true,
            "ticks": "",
            "zerolinecolor": "white"
           }
          },
          "shapedefaults": {
           "line": {
            "color": "#2a3f5f"
           }
          },
          "ternary": {
           "aaxis": {
            "gridcolor": "white",
            "linecolor": "white",
            "ticks": ""
           },
           "baxis": {
            "gridcolor": "white",
            "linecolor": "white",
            "ticks": ""
           },
           "bgcolor": "#E5ECF6",
           "caxis": {
            "gridcolor": "white",
            "linecolor": "white",
            "ticks": ""
           }
          },
          "title": {
           "x": 0.05
          },
          "xaxis": {
           "automargin": true,
           "gridcolor": "white",
           "linecolor": "white",
           "ticks": "",
           "title": {
            "standoff": 15
           },
           "zerolinecolor": "white",
           "zerolinewidth": 2
          },
          "yaxis": {
           "automargin": true,
           "gridcolor": "white",
           "linecolor": "white",
           "ticks": "",
           "title": {
            "standoff": 15
           },
           "zerolinecolor": "white",
           "zerolinewidth": 2
          }
         }
        }
       }
      }
     },
     "metadata": {},
     "output_type": "display_data"
    }
   ],
   "source": [
    "fig = go.Figure()\n",
    "\n",
    "# for idx, route in enumerate(routes):\n",
    "#     fig.add_trace(go.Scattermapbox(\n",
    "#             mode = \"markers+lines\",\n",
    "#             lat = jabee.loc[route].geometry.y,\n",
    "#             lon = jabee.loc[route].geometry.x,\n",
    "#             marker=go.scattermapbox.Marker(\n",
    "#                     size=14,\n",
    "#                     color = colors[idx],\n",
    "#                 ),\n",
    "#                 name = f'Route {idx}'\n",
    "#             # marker = {'size': 15, 'color': colors[idx]}\n",
    "#             ))\n",
    "\n",
    "for i in range(len(routes[0])-1):\n",
    "    A = np.array(jabee.loc[routes[0][i], ['Longitude', 'Latitude']])\n",
    "    B = np.array(jabee.loc[routes[0][i+1], ['Longitude', 'Latitude']])\n",
    "    S, T = compute_arrow_coords(A, B)\n",
    "    fig.add_trace(go.Scattergeo(lon = [S[0], T[0], B[0], S[0]], \n",
    "                            lat =[S[1], T[1], B[1], S[1]], \n",
    "                            mode='lines', \n",
    "                            fill='toself', \n",
    "                            fillcolor='blue', \n",
    "                            line_color='blue'))\n",
    "\n",
    "fig.update_layout(\n",
    "    hovermode='closest',\n",
    "    mapbox=dict(\n",
    "        accesstoken=mapbox_token,\n",
    "        # bearing=0,\n",
    "        center=go.layout.mapbox.Center(\n",
    "            lat=jabee.geometry.y.mean(),\n",
    "            lon=jabee.geometry.x.mean(),\n",
    "        ),\n",
    "        # pitch=0,\n",
    "        zoom=12\n",
    "    )\n",
    ")\n",
    "\n",
    "fig.show()"
   ]
  },
  {
   "cell_type": "code",
   "execution_count": 99,
   "id": "0df43e83",
   "metadata": {},
   "outputs": [
    {
     "data": {
      "text/plain": [
       "(array([122.06243259674207, 14.185637080053766], dtype=object),\n",
       " array([122.06210466074208, 14.184778887053767], dtype=object))"
      ]
     },
     "execution_count": 99,
     "metadata": {},
     "output_type": "execute_result"
    }
   ],
   "source": [
    "compute_arrow_coords(np.array(jabee.iloc[0][['Longitude', 'Latitude']]), \n",
    "                        np.array(jabee.iloc[1][['Longitude', 'Latitude']]))"
   ]
  },
  {
   "cell_type": "code",
   "execution_count": 91,
   "id": "5583201c",
   "metadata": {},
   "outputs": [
    {
     "data": {
      "application/vnd.plotly.v1+json": {
       "config": {
        "plotlyServerURL": "https://plot.ly"
       },
       "data": [
        {
         "lat": [
          26.1223084,
          34.5793131,
          40.6096698,
          38.0193657,
          32.7026116,
          33.2155935,
          41.6372578,
          35.5120966,
          43.0904764,
          41.7693747
         ],
         "locationmode": "USA-states",
         "lon": [
          -80.1433786,
          -118.1171108,
          -111.9391031,
          -122.1341321,
          -103.1360403,
          -86.79777856,
          -85.4216948,
          -79.217799,
          -83.2333705,
          -111.8046654
         ],
         "marker": {
          "color": "black",
          "line": {
           "color": "black",
           "width": 0.5
          },
          "size": 10,
          "sizemode": "area"
         },
         "mode": "markers+text",
         "name": "Candidate Facility",
         "text": [
          "Fort Lauderdale ",
          "Palmdale ",
          "West Jordan ",
          "Martinez ",
          "Hobbs ",
          "Alabaster ",
          "LaGrange ",
          "Glenwood village",
          "Lapeer ",
          "North Logan "
         ],
         "textfont": {
          "color": "black",
          "family": "Times New Roman",
          "size": 14
         },
         "textposition": "top center",
         "type": "scattergeo"
        },
        {
         "lat": [
          33.2155935,
          26.1223084
         ],
         "line": {
          "color": "blue",
          "width": 1.5
         },
         "lon": [
          -86.79777856,
          -80.1433786
         ],
         "mode": "lines",
         "type": "scattergeo"
        },
        {
         "fillcolor": "blue",
         "lat": [
          26.69164443238424,
          27.157452429584243,
          26.1223084,
          26.69164443238424
         ],
         "line": {
          "color": "blue"
         },
         "lon": [
          -81.14424635067562,
          -80.64771639367561,
          -80.1433786,
          -81.14424635067562
         ],
         "mode": "lines",
         "type": "scattergeo"
        },
        {
         "lat": [
          29.66895095
         ],
         "lon": [
          -83.47057858
         ],
         "mode": "text",
         "text": "               Your text",
         "type": "scattergeo"
        }
       ],
       "layout": {
        "geo": {
         "landcolor": "rgb(217, 217, 217)",
         "scope": "usa"
        },
        "height": 750,
        "showlegend": false,
        "template": {
         "data": {
          "bar": [
           {
            "error_x": {
             "color": "#2a3f5f"
            },
            "error_y": {
             "color": "#2a3f5f"
            },
            "marker": {
             "line": {
              "color": "#E5ECF6",
              "width": 0.5
             },
             "pattern": {
              "fillmode": "overlay",
              "size": 10,
              "solidity": 0.2
             }
            },
            "type": "bar"
           }
          ],
          "barpolar": [
           {
            "marker": {
             "line": {
              "color": "#E5ECF6",
              "width": 0.5
             },
             "pattern": {
              "fillmode": "overlay",
              "size": 10,
              "solidity": 0.2
             }
            },
            "type": "barpolar"
           }
          ],
          "carpet": [
           {
            "aaxis": {
             "endlinecolor": "#2a3f5f",
             "gridcolor": "white",
             "linecolor": "white",
             "minorgridcolor": "white",
             "startlinecolor": "#2a3f5f"
            },
            "baxis": {
             "endlinecolor": "#2a3f5f",
             "gridcolor": "white",
             "linecolor": "white",
             "minorgridcolor": "white",
             "startlinecolor": "#2a3f5f"
            },
            "type": "carpet"
           }
          ],
          "choropleth": [
           {
            "colorbar": {
             "outlinewidth": 0,
             "ticks": ""
            },
            "type": "choropleth"
           }
          ],
          "contour": [
           {
            "colorbar": {
             "outlinewidth": 0,
             "ticks": ""
            },
            "colorscale": [
             [
              0,
              "#0d0887"
             ],
             [
              0.1111111111111111,
              "#46039f"
             ],
             [
              0.2222222222222222,
              "#7201a8"
             ],
             [
              0.3333333333333333,
              "#9c179e"
             ],
             [
              0.4444444444444444,
              "#bd3786"
             ],
             [
              0.5555555555555556,
              "#d8576b"
             ],
             [
              0.6666666666666666,
              "#ed7953"
             ],
             [
              0.7777777777777778,
              "#fb9f3a"
             ],
             [
              0.8888888888888888,
              "#fdca26"
             ],
             [
              1,
              "#f0f921"
             ]
            ],
            "type": "contour"
           }
          ],
          "contourcarpet": [
           {
            "colorbar": {
             "outlinewidth": 0,
             "ticks": ""
            },
            "type": "contourcarpet"
           }
          ],
          "heatmap": [
           {
            "colorbar": {
             "outlinewidth": 0,
             "ticks": ""
            },
            "colorscale": [
             [
              0,
              "#0d0887"
             ],
             [
              0.1111111111111111,
              "#46039f"
             ],
             [
              0.2222222222222222,
              "#7201a8"
             ],
             [
              0.3333333333333333,
              "#9c179e"
             ],
             [
              0.4444444444444444,
              "#bd3786"
             ],
             [
              0.5555555555555556,
              "#d8576b"
             ],
             [
              0.6666666666666666,
              "#ed7953"
             ],
             [
              0.7777777777777778,
              "#fb9f3a"
             ],
             [
              0.8888888888888888,
              "#fdca26"
             ],
             [
              1,
              "#f0f921"
             ]
            ],
            "type": "heatmap"
           }
          ],
          "heatmapgl": [
           {
            "colorbar": {
             "outlinewidth": 0,
             "ticks": ""
            },
            "colorscale": [
             [
              0,
              "#0d0887"
             ],
             [
              0.1111111111111111,
              "#46039f"
             ],
             [
              0.2222222222222222,
              "#7201a8"
             ],
             [
              0.3333333333333333,
              "#9c179e"
             ],
             [
              0.4444444444444444,
              "#bd3786"
             ],
             [
              0.5555555555555556,
              "#d8576b"
             ],
             [
              0.6666666666666666,
              "#ed7953"
             ],
             [
              0.7777777777777778,
              "#fb9f3a"
             ],
             [
              0.8888888888888888,
              "#fdca26"
             ],
             [
              1,
              "#f0f921"
             ]
            ],
            "type": "heatmapgl"
           }
          ],
          "histogram": [
           {
            "marker": {
             "pattern": {
              "fillmode": "overlay",
              "size": 10,
              "solidity": 0.2
             }
            },
            "type": "histogram"
           }
          ],
          "histogram2d": [
           {
            "colorbar": {
             "outlinewidth": 0,
             "ticks": ""
            },
            "colorscale": [
             [
              0,
              "#0d0887"
             ],
             [
              0.1111111111111111,
              "#46039f"
             ],
             [
              0.2222222222222222,
              "#7201a8"
             ],
             [
              0.3333333333333333,
              "#9c179e"
             ],
             [
              0.4444444444444444,
              "#bd3786"
             ],
             [
              0.5555555555555556,
              "#d8576b"
             ],
             [
              0.6666666666666666,
              "#ed7953"
             ],
             [
              0.7777777777777778,
              "#fb9f3a"
             ],
             [
              0.8888888888888888,
              "#fdca26"
             ],
             [
              1,
              "#f0f921"
             ]
            ],
            "type": "histogram2d"
           }
          ],
          "histogram2dcontour": [
           {
            "colorbar": {
             "outlinewidth": 0,
             "ticks": ""
            },
            "colorscale": [
             [
              0,
              "#0d0887"
             ],
             [
              0.1111111111111111,
              "#46039f"
             ],
             [
              0.2222222222222222,
              "#7201a8"
             ],
             [
              0.3333333333333333,
              "#9c179e"
             ],
             [
              0.4444444444444444,
              "#bd3786"
             ],
             [
              0.5555555555555556,
              "#d8576b"
             ],
             [
              0.6666666666666666,
              "#ed7953"
             ],
             [
              0.7777777777777778,
              "#fb9f3a"
             ],
             [
              0.8888888888888888,
              "#fdca26"
             ],
             [
              1,
              "#f0f921"
             ]
            ],
            "type": "histogram2dcontour"
           }
          ],
          "mesh3d": [
           {
            "colorbar": {
             "outlinewidth": 0,
             "ticks": ""
            },
            "type": "mesh3d"
           }
          ],
          "parcoords": [
           {
            "line": {
             "colorbar": {
              "outlinewidth": 0,
              "ticks": ""
             }
            },
            "type": "parcoords"
           }
          ],
          "pie": [
           {
            "automargin": true,
            "type": "pie"
           }
          ],
          "scatter": [
           {
            "fillpattern": {
             "fillmode": "overlay",
             "size": 10,
             "solidity": 0.2
            },
            "type": "scatter"
           }
          ],
          "scatter3d": [
           {
            "line": {
             "colorbar": {
              "outlinewidth": 0,
              "ticks": ""
             }
            },
            "marker": {
             "colorbar": {
              "outlinewidth": 0,
              "ticks": ""
             }
            },
            "type": "scatter3d"
           }
          ],
          "scattercarpet": [
           {
            "marker": {
             "colorbar": {
              "outlinewidth": 0,
              "ticks": ""
             }
            },
            "type": "scattercarpet"
           }
          ],
          "scattergeo": [
           {
            "marker": {
             "colorbar": {
              "outlinewidth": 0,
              "ticks": ""
             }
            },
            "type": "scattergeo"
           }
          ],
          "scattergl": [
           {
            "marker": {
             "colorbar": {
              "outlinewidth": 0,
              "ticks": ""
             }
            },
            "type": "scattergl"
           }
          ],
          "scattermapbox": [
           {
            "marker": {
             "colorbar": {
              "outlinewidth": 0,
              "ticks": ""
             }
            },
            "type": "scattermapbox"
           }
          ],
          "scatterpolar": [
           {
            "marker": {
             "colorbar": {
              "outlinewidth": 0,
              "ticks": ""
             }
            },
            "type": "scatterpolar"
           }
          ],
          "scatterpolargl": [
           {
            "marker": {
             "colorbar": {
              "outlinewidth": 0,
              "ticks": ""
             }
            },
            "type": "scatterpolargl"
           }
          ],
          "scatterternary": [
           {
            "marker": {
             "colorbar": {
              "outlinewidth": 0,
              "ticks": ""
             }
            },
            "type": "scatterternary"
           }
          ],
          "surface": [
           {
            "colorbar": {
             "outlinewidth": 0,
             "ticks": ""
            },
            "colorscale": [
             [
              0,
              "#0d0887"
             ],
             [
              0.1111111111111111,
              "#46039f"
             ],
             [
              0.2222222222222222,
              "#7201a8"
             ],
             [
              0.3333333333333333,
              "#9c179e"
             ],
             [
              0.4444444444444444,
              "#bd3786"
             ],
             [
              0.5555555555555556,
              "#d8576b"
             ],
             [
              0.6666666666666666,
              "#ed7953"
             ],
             [
              0.7777777777777778,
              "#fb9f3a"
             ],
             [
              0.8888888888888888,
              "#fdca26"
             ],
             [
              1,
              "#f0f921"
             ]
            ],
            "type": "surface"
           }
          ],
          "table": [
           {
            "cells": {
             "fill": {
              "color": "#EBF0F8"
             },
             "line": {
              "color": "white"
             }
            },
            "header": {
             "fill": {
              "color": "#C8D4E3"
             },
             "line": {
              "color": "white"
             }
            },
            "type": "table"
           }
          ]
         },
         "layout": {
          "annotationdefaults": {
           "arrowcolor": "#2a3f5f",
           "arrowhead": 0,
           "arrowwidth": 1
          },
          "autotypenumbers": "strict",
          "coloraxis": {
           "colorbar": {
            "outlinewidth": 0,
            "ticks": ""
           }
          },
          "colorscale": {
           "diverging": [
            [
             0,
             "#8e0152"
            ],
            [
             0.1,
             "#c51b7d"
            ],
            [
             0.2,
             "#de77ae"
            ],
            [
             0.3,
             "#f1b6da"
            ],
            [
             0.4,
             "#fde0ef"
            ],
            [
             0.5,
             "#f7f7f7"
            ],
            [
             0.6,
             "#e6f5d0"
            ],
            [
             0.7,
             "#b8e186"
            ],
            [
             0.8,
             "#7fbc41"
            ],
            [
             0.9,
             "#4d9221"
            ],
            [
             1,
             "#276419"
            ]
           ],
           "sequential": [
            [
             0,
             "#0d0887"
            ],
            [
             0.1111111111111111,
             "#46039f"
            ],
            [
             0.2222222222222222,
             "#7201a8"
            ],
            [
             0.3333333333333333,
             "#9c179e"
            ],
            [
             0.4444444444444444,
             "#bd3786"
            ],
            [
             0.5555555555555556,
             "#d8576b"
            ],
            [
             0.6666666666666666,
             "#ed7953"
            ],
            [
             0.7777777777777778,
             "#fb9f3a"
            ],
            [
             0.8888888888888888,
             "#fdca26"
            ],
            [
             1,
             "#f0f921"
            ]
           ],
           "sequentialminus": [
            [
             0,
             "#0d0887"
            ],
            [
             0.1111111111111111,
             "#46039f"
            ],
            [
             0.2222222222222222,
             "#7201a8"
            ],
            [
             0.3333333333333333,
             "#9c179e"
            ],
            [
             0.4444444444444444,
             "#bd3786"
            ],
            [
             0.5555555555555556,
             "#d8576b"
            ],
            [
             0.6666666666666666,
             "#ed7953"
            ],
            [
             0.7777777777777778,
             "#fb9f3a"
            ],
            [
             0.8888888888888888,
             "#fdca26"
            ],
            [
             1,
             "#f0f921"
            ]
           ]
          },
          "colorway": [
           "#636efa",
           "#EF553B",
           "#00cc96",
           "#ab63fa",
           "#FFA15A",
           "#19d3f3",
           "#FF6692",
           "#B6E880",
           "#FF97FF",
           "#FECB52"
          ],
          "font": {
           "color": "#2a3f5f"
          },
          "geo": {
           "bgcolor": "white",
           "lakecolor": "white",
           "landcolor": "#E5ECF6",
           "showlakes": true,
           "showland": true,
           "subunitcolor": "white"
          },
          "hoverlabel": {
           "align": "left"
          },
          "hovermode": "closest",
          "mapbox": {
           "style": "light"
          },
          "paper_bgcolor": "white",
          "plot_bgcolor": "#E5ECF6",
          "polar": {
           "angularaxis": {
            "gridcolor": "white",
            "linecolor": "white",
            "ticks": ""
           },
           "bgcolor": "#E5ECF6",
           "radialaxis": {
            "gridcolor": "white",
            "linecolor": "white",
            "ticks": ""
           }
          },
          "scene": {
           "xaxis": {
            "backgroundcolor": "#E5ECF6",
            "gridcolor": "white",
            "gridwidth": 2,
            "linecolor": "white",
            "showbackground": true,
            "ticks": "",
            "zerolinecolor": "white"
           },
           "yaxis": {
            "backgroundcolor": "#E5ECF6",
            "gridcolor": "white",
            "gridwidth": 2,
            "linecolor": "white",
            "showbackground": true,
            "ticks": "",
            "zerolinecolor": "white"
           },
           "zaxis": {
            "backgroundcolor": "#E5ECF6",
            "gridcolor": "white",
            "gridwidth": 2,
            "linecolor": "white",
            "showbackground": true,
            "ticks": "",
            "zerolinecolor": "white"
           }
          },
          "shapedefaults": {
           "line": {
            "color": "#2a3f5f"
           }
          },
          "ternary": {
           "aaxis": {
            "gridcolor": "white",
            "linecolor": "white",
            "ticks": ""
           },
           "baxis": {
            "gridcolor": "white",
            "linecolor": "white",
            "ticks": ""
           },
           "bgcolor": "#E5ECF6",
           "caxis": {
            "gridcolor": "white",
            "linecolor": "white",
            "ticks": ""
           }
          },
          "title": {
           "x": 0.05
          },
          "xaxis": {
           "automargin": true,
           "gridcolor": "white",
           "linecolor": "white",
           "ticks": "",
           "title": {
            "standoff": 15
           },
           "zerolinecolor": "white",
           "zerolinewidth": 2
          },
          "yaxis": {
           "automargin": true,
           "gridcolor": "white",
           "linecolor": "white",
           "ticks": "",
           "title": {
            "standoff": 15
           },
           "zerolinecolor": "white",
           "zerolinewidth": 2
          }
         }
        },
        "width": 900
       }
      }
     },
     "metadata": {},
     "output_type": "display_data"
    }
   ],
   "source": [
    "import numpy as np\n",
    "import pandas as pd\n",
    "import plotly.graph_objects as go\n",
    "\n",
    "np.random.seed(1)\n",
    "I_list = list(np.random.randint(0,3229,10))\n",
    "skiplist = set(range(1, 3229)) - set(I_list)\n",
    "locations = pd.read_csv('https://raw.githubusercontent.com/plotly/datasets/master/2014_us_cities.csv', skiprows=skiplist)\n",
    "\n",
    "scale = 5000\n",
    "fig = go.Figure()\n",
    "fig.add_trace(go.Scattergeo(\n",
    "        locationmode = 'USA-states',\n",
    "        lon = locations['lon'],\n",
    "        lat = locations['lat'],\n",
    "        text = locations['name'],\n",
    "        textfont = {\"color\": 'black',\n",
    "                    \"family\":'Times New Roman',\n",
    "                    \"size\":14},\n",
    "        textposition=\"top center\",\n",
    "        name = \"Candidate Facility\",\n",
    "        mode =\"markers+text\",\n",
    "        marker = dict(\n",
    "            size = 10,\n",
    "            color = \"black\",\n",
    "            line_color='black',\n",
    "            line_width=0.5,\n",
    "            sizemode = 'area')))\n",
    "\n",
    "fig.add_trace(go.Scattergeo(\n",
    "    lat = [locations['lat'][5], locations['lat'][0]], \n",
    "    lon = [locations['lon'][5], locations['lon'][0]],\n",
    "    mode = 'lines',\n",
    "    line = dict(width = 1.5, color = 'blue'),\n",
    "))\n",
    "\n",
    "#Workaround to get the arrow at the end of an edge AB\n",
    "\n",
    "l = 1.1  # the arrow length\n",
    "widh =0.035  #2*widh is the width of the arrow base as triangle\n",
    "\n",
    "A = np.array([locations['lon'][5], locations['lat'][5]])\n",
    "B = np.array([locations['lon'][0], locations['lat'][0]])\n",
    "v = B-A\n",
    "w = v/np.linalg.norm(v)     \n",
    "u  =np.array([-v[1], v[0]])  #u orthogonal on  w\n",
    "         \n",
    "P = B-l*w\n",
    "S = P - widh*u\n",
    "T = P + widh*u\n",
    "\n",
    "fig.add_trace(go.Scattergeo(lon = [S[0], T[0], B[0], S[0]], \n",
    "                            lat =[S[1], T[1], B[1], S[1]], \n",
    "                            mode='lines', \n",
    "                            # fill='toself', \n",
    "                            fillcolor='blue', \n",
    "                            line_color='blue'))\n",
    "#------Display your text at the middle of the segment AB\n",
    "fig.add_trace(go.Scattergeo(lon =[0.5*(A+B)[0]], lat = [0.5*(A+B)[1]], mode='text', text='               Your text'))\n",
    "\n",
    "fig.update_layout(width=900, height=750,\n",
    "        showlegend = False,\n",
    "        geo = dict(\n",
    "            scope = 'usa',\n",
    "            landcolor = 'rgb(217, 217, 217)'))\n",
    "fig.show()"
   ]
  },
  {
   "attachments": {},
   "cell_type": "markdown",
   "id": "23732550",
   "metadata": {},
   "source": [
    "# VRP with capacity constraints\n",
    "\n",
    "Next, we describe an example of a VRP with capacity constraints. The example extends the previous VRP example and adds the following requirements. At each location there is a demand corresponding to the quantity of the item to be picked up. Also, each vehicle has a maximum capacity of 15. (We aren't specifying units for the demands or capacity.)\n",
    "\n",
    "The grid below shows the locations to visit in blue and the company location in black. The demands are shown at the lower right of each location. See Location coordinates in the VRP section for more details about how the locations are defined."
   ]
  },
  {
   "cell_type": "code",
   "execution_count": 7,
   "id": "5636ddc8",
   "metadata": {},
   "outputs": [],
   "source": [
    "data['demands'] = [0, 1, 1, 2, 4, 2, 4, 8, 8, 1, 2, 1, 2, 4, 4, 8, 8]\n",
    "data['vehicle_capacities'] = [15, 15, 15, 15]"
   ]
  },
  {
   "attachments": {},
   "cell_type": "markdown",
   "id": "bbec4b5a",
   "metadata": {},
   "source": [
    "## Add the demand callback\n",
    "\n",
    "Unlike the distance callback, which takes a pair of locations as inputs, the demand callback only depends on the location (from_node) of the delivery."
   ]
  },
  {
   "cell_type": "code",
   "execution_count": 8,
   "id": "e2023a7e",
   "metadata": {},
   "outputs": [
    {
     "data": {
      "text/plain": [
       "True"
      ]
     },
     "execution_count": 8,
     "metadata": {},
     "output_type": "execute_result"
    }
   ],
   "source": [
    "def demand_callback(from_index):\n",
    "    \"\"\"Returns the demand of the node.\"\"\"\n",
    "    # Convert from routing variable Index to demands NodeIndex.\n",
    "    from_node = manager.IndexToNode(from_index)\n",
    "    return data['demands'][from_node]\n",
    "\n",
    "demand_callback_index = routing.RegisterUnaryTransitCallback(\n",
    "    demand_callback)\n",
    "routing.AddDimensionWithVehicleCapacity(\n",
    "    demand_callback_index,\n",
    "    0,  # null capacity slack\n",
    "    data['vehicle_capacities'],  # vehicle maximum capacities\n",
    "    True,  # start cumul to zero\n",
    "    'Capacity')"
   ]
  },
  {
   "attachments": {},
   "cell_type": "markdown",
   "id": "49595590",
   "metadata": {},
   "source": [
    "## Add the solution printer"
   ]
  },
  {
   "cell_type": "code",
   "execution_count": 9,
   "id": "45b0beee",
   "metadata": {},
   "outputs": [],
   "source": [
    "def print_solution(data, manager, routing, solution):\n",
    "    \"\"\"Prints solution on console.\"\"\"\n",
    "    print(f'Objective: {solution.ObjectiveValue()}')\n",
    "    total_distance = 0\n",
    "    total_load = 0\n",
    "    for vehicle_id in range(data['num_vehicles']):\n",
    "        index = routing.Start(vehicle_id)\n",
    "        plan_output = 'Route for vehicle {}:\\n'.format(vehicle_id)\n",
    "        route_distance = 0\n",
    "        route_load = 0\n",
    "        while not routing.IsEnd(index):\n",
    "            node_index = manager.IndexToNode(index)\n",
    "            route_load += data['demands'][node_index]\n",
    "            plan_output += ' {0} Load({1}) -> '.format(node_index, route_load)\n",
    "            previous_index = index\n",
    "            index = solution.Value(routing.NextVar(index))\n",
    "            route_distance += routing.GetArcCostForVehicle(\n",
    "                previous_index, index, vehicle_id)\n",
    "        plan_output += ' {0} Load({1})\\n'.format(manager.IndexToNode(index),\n",
    "                                                 route_load)\n",
    "        plan_output += 'Distance of the route: {}m\\n'.format(route_distance)\n",
    "        plan_output += 'Load of the route: {}\\n'.format(route_load)\n",
    "        print(plan_output)\n",
    "        total_distance += route_distance\n",
    "        total_load += route_load\n",
    "    print('Total distance of all routes: {}m'.format(total_distance))\n",
    "    print('Total load of all routes: {}'.format(total_load))"
   ]
  },
  {
   "cell_type": "code",
   "execution_count": 10,
   "id": "663ed1db",
   "metadata": {},
   "outputs": [],
   "source": [
    "search_parameters = pywrapcp.DefaultRoutingSearchParameters()\n",
    "search_parameters.first_solution_strategy = (\n",
    "    routing_enums_pb2.FirstSolutionStrategy.PATH_CHEAPEST_ARC)\n",
    "search_parameters.local_search_metaheuristic = (\n",
    "    routing_enums_pb2.LocalSearchMetaheuristic.GUIDED_LOCAL_SEARCH)\n",
    "search_parameters.time_limit.FromSeconds(1)\n",
    "\n",
    "# Solve the problem.\n",
    "solution = routing.SolveWithParameters(search_parameters)"
   ]
  },
  {
   "cell_type": "code",
   "execution_count": 12,
   "id": "5798b7e9",
   "metadata": {},
   "outputs": [
    {
     "name": "stdout",
     "output_type": "stream",
     "text": [
      "Objective: 6208\n",
      "Route for vehicle 0:\n",
      " 0 Load(0) ->  4 Load(4) ->  3 Load(6) ->  1 Load(7) ->  7 Load(15) ->  0 Load(15)\n",
      "Distance of the route: 1552m\n",
      "Load of the route: 15\n",
      "\n",
      "Route for vehicle 1:\n",
      " 0 Load(0) ->  14 Load(4) ->  16 Load(12) ->  10 Load(14) ->  9 Load(15) ->  0 Load(15)\n",
      "Distance of the route: 1552m\n",
      "Load of the route: 15\n",
      "\n",
      "Route for vehicle 2:\n",
      " 0 Load(0) ->  12 Load(2) ->  11 Load(3) ->  15 Load(11) ->  13 Load(15) ->  0 Load(15)\n",
      "Distance of the route: 1552m\n",
      "Load of the route: 15\n",
      "\n",
      "Route for vehicle 3:\n",
      " 0 Load(0) ->  8 Load(8) ->  2 Load(9) ->  6 Load(13) ->  5 Load(15) ->  0 Load(15)\n",
      "Distance of the route: 1552m\n",
      "Load of the route: 15\n",
      "\n",
      "Total distance of all routes: 6208m\n",
      "Total load of all routes: 60\n"
     ]
    }
   ],
   "source": [
    "print_solution(data, manager, routing, solution)"
   ]
  },
  {
   "attachments": {},
   "cell_type": "markdown",
   "id": "195254e4",
   "metadata": {},
   "source": [
    "What happens if a problem has no solution ?\n",
    "A routing problem with constraints, such as a CVRP, might not have a feasible solution — for example, if the total quantity of the items being transported exceeds the total capacity of the vehicles. If you try to solve such a problem, the solver might run an exhaustive search which takes so long that eventually you have to give up and interrupt the program.\n",
    "\n",
    "Usually this won't be an issue. But here are a couple of ways to prevent your program from running a long time when a problem has no solution:\n",
    "\n",
    "Set a time limit in the program, which stops the search even if no solution has been found. However, keep in mind that if the problem has a solution that requires a lengthy search, the program might reach the time limit before finding the solution.\n",
    "Set penalties for dropping visits to locations. This allows the solver to return a \"solution\" that doesn't visit all locations in case the problem is infeasible. See Penalties and Dropping Visits.\n",
    "In general, it can be hard to tell if a given problem has a solution. Even for a CVRP in which total demand doesn't exceed total capacity, determining whether all the items will fit in the vehicles is a version of the multiple knapsack problem.\n",
    "\n"
   ]
  },
  {
   "attachments": {},
   "cell_type": "markdown",
   "id": "d7075fa8",
   "metadata": {},
   "source": [
    "# Setting start and end locations for routes\n",
    "\n",
    "So far, we have assumed that all vehicles start and end at a single location, the depot. You can also set possibly different start and end locations for each vehicle in the problem. To do so, pass two vectors, containing the indices of the start and end locations, as inputs to the RoutingModel method in the main function. Here's how to create the start and end vectors in the data section of the program:"
   ]
  },
  {
   "cell_type": "code",
   "execution_count": 14,
   "id": "fe38c8b8",
   "metadata": {},
   "outputs": [],
   "source": [
    "data['starts'] = [1, 2, 15, 16]\n",
    "data['ends'] = [0, 0, 0, 0]"
   ]
  },
  {
   "cell_type": "code",
   "execution_count": 15,
   "id": "3fad8e6c",
   "metadata": {},
   "outputs": [
    {
     "name": "stdout",
     "output_type": "stream",
     "text": [
      "Objective: 115794\n",
      "Route for vehicle 0:\n",
      " 1 ->  4 ->  3 ->  7 -> 0\n",
      "Distance of the route: 1004m\n",
      "\n",
      "Route for vehicle 1:\n",
      " 2 ->  6 ->  8 ->  5 -> 0\n",
      "Distance of the route: 936m\n",
      "\n",
      "Route for vehicle 2:\n",
      " 15 ->  11 ->  12 ->  13 -> 0\n",
      "Distance of the route: 936m\n",
      "\n",
      "Route for vehicle 3:\n",
      " 16 ->  14 ->  10 ->  9 -> 0\n",
      "Distance of the route: 1118m\n",
      "\n",
      "Maximum of the route distances: 1118m\n"
     ]
    }
   ],
   "source": [
    "\"\"\"Simple Vehicles Routing Problem.\"\"\"\n",
    "\n",
    "from ortools.constraint_solver import routing_enums_pb2\n",
    "from ortools.constraint_solver import pywrapcp\n",
    "\n",
    "\n",
    "def create_data_model():\n",
    "    \"\"\"Stores the data for the problem.\"\"\"\n",
    "    data = {}\n",
    "    data['distance_matrix'] = [\n",
    "        [\n",
    "            0, 548, 776, 696, 582, 274, 502, 194, 308, 194, 536, 502, 388, 354,\n",
    "            468, 776, 662\n",
    "        ],\n",
    "        [\n",
    "            548, 0, 684, 308, 194, 502, 730, 354, 696, 742, 1084, 594, 480, 674,\n",
    "            1016, 868, 1210\n",
    "        ],\n",
    "        [\n",
    "            776, 684, 0, 992, 878, 502, 274, 810, 468, 742, 400, 1278, 1164,\n",
    "            1130, 788, 1552, 754\n",
    "        ],\n",
    "        [\n",
    "            696, 308, 992, 0, 114, 650, 878, 502, 844, 890, 1232, 514, 628, 822,\n",
    "            1164, 560, 1358\n",
    "        ],\n",
    "        [\n",
    "            582, 194, 878, 114, 0, 536, 764, 388, 730, 776, 1118, 400, 514, 708,\n",
    "            1050, 674, 1244\n",
    "        ],\n",
    "        [\n",
    "            274, 502, 502, 650, 536, 0, 228, 308, 194, 240, 582, 776, 662, 628,\n",
    "            514, 1050, 708\n",
    "        ],\n",
    "        [\n",
    "            502, 730, 274, 878, 764, 228, 0, 536, 194, 468, 354, 1004, 890, 856,\n",
    "            514, 1278, 480\n",
    "        ],\n",
    "        [\n",
    "            194, 354, 810, 502, 388, 308, 536, 0, 342, 388, 730, 468, 354, 320,\n",
    "            662, 742, 856\n",
    "        ],\n",
    "        [\n",
    "            308, 696, 468, 844, 730, 194, 194, 342, 0, 274, 388, 810, 696, 662,\n",
    "            320, 1084, 514\n",
    "        ],\n",
    "        [\n",
    "            194, 742, 742, 890, 776, 240, 468, 388, 274, 0, 342, 536, 422, 388,\n",
    "            274, 810, 468\n",
    "        ],\n",
    "        [\n",
    "            536, 1084, 400, 1232, 1118, 582, 354, 730, 388, 342, 0, 878, 764,\n",
    "            730, 388, 1152, 354\n",
    "        ],\n",
    "        [\n",
    "            502, 594, 1278, 514, 400, 776, 1004, 468, 810, 536, 878, 0, 114,\n",
    "            308, 650, 274, 844\n",
    "        ],\n",
    "        [\n",
    "            388, 480, 1164, 628, 514, 662, 890, 354, 696, 422, 764, 114, 0, 194,\n",
    "            536, 388, 730\n",
    "        ],\n",
    "        [\n",
    "            354, 674, 1130, 822, 708, 628, 856, 320, 662, 388, 730, 308, 194, 0,\n",
    "            342, 422, 536\n",
    "        ],\n",
    "        [\n",
    "            468, 1016, 788, 1164, 1050, 514, 514, 662, 320, 274, 388, 650, 536,\n",
    "            342, 0, 764, 194\n",
    "        ],\n",
    "        [\n",
    "            776, 868, 1552, 560, 674, 1050, 1278, 742, 1084, 810, 1152, 274,\n",
    "            388, 422, 764, 0, 798\n",
    "        ],\n",
    "        [\n",
    "            662, 1210, 754, 1358, 1244, 708, 480, 856, 514, 468, 354, 844, 730,\n",
    "            536, 194, 798, 0\n",
    "        ],\n",
    "    ]\n",
    "    data['num_vehicles'] = 4\n",
    "    data['starts'] = [1, 2, 15, 16]\n",
    "    data['ends'] = [0, 0, 0, 0]\n",
    "    return data\n",
    "\n",
    "\n",
    "def print_solution(data, manager, routing, solution):\n",
    "    \"\"\"Prints solution on console.\"\"\"\n",
    "    print(f'Objective: {solution.ObjectiveValue()}')\n",
    "    max_route_distance = 0\n",
    "    for vehicle_id in range(data['num_vehicles']):\n",
    "        index = routing.Start(vehicle_id)\n",
    "        plan_output = 'Route for vehicle {}:\\n'.format(vehicle_id)\n",
    "        route_distance = 0\n",
    "        while not routing.IsEnd(index):\n",
    "            plan_output += ' {} -> '.format(manager.IndexToNode(index))\n",
    "            previous_index = index\n",
    "            index = solution.Value(routing.NextVar(index))\n",
    "            route_distance += routing.GetArcCostForVehicle(\n",
    "                previous_index, index, vehicle_id)\n",
    "        plan_output += '{}\\n'.format(manager.IndexToNode(index))\n",
    "        plan_output += 'Distance of the route: {}m\\n'.format(route_distance)\n",
    "        print(plan_output)\n",
    "        max_route_distance = max(route_distance, max_route_distance)\n",
    "    print('Maximum of the route distances: {}m'.format(max_route_distance))\n",
    "\n",
    "\n",
    "def main():\n",
    "    \"\"\"Entry point of the program.\"\"\"\n",
    "    # Instantiate the data problem.\n",
    "    data = create_data_model()\n",
    "\n",
    "    # Create the routing index manager.\n",
    "    manager = pywrapcp.RoutingIndexManager(len(data['distance_matrix']),\n",
    "                                           data['num_vehicles'], data['starts'],\n",
    "                                           data['ends'])\n",
    "\n",
    "    # Create Routing Model.\n",
    "    routing = pywrapcp.RoutingModel(manager)\n",
    "\n",
    "\n",
    "    # Create and register a transit callback.\n",
    "    def distance_callback(from_index, to_index):\n",
    "        \"\"\"Returns the distance between the two nodes.\"\"\"\n",
    "        # Convert from routing variable Index to distance matrix NodeIndex.\n",
    "        from_node = manager.IndexToNode(from_index)\n",
    "        to_node = manager.IndexToNode(to_index)\n",
    "        return data['distance_matrix'][from_node][to_node]\n",
    "\n",
    "    transit_callback_index = routing.RegisterTransitCallback(distance_callback)\n",
    "\n",
    "    # Define cost of each arc.\n",
    "    routing.SetArcCostEvaluatorOfAllVehicles(transit_callback_index)\n",
    "\n",
    "    # Add Distance constraint.\n",
    "    dimension_name = 'Distance'\n",
    "    routing.AddDimension(\n",
    "        transit_callback_index,\n",
    "        0,  # no slack\n",
    "        2000,  # vehicle maximum travel distance\n",
    "        True,  # start cumul to zero\n",
    "        dimension_name)\n",
    "    distance_dimension = routing.GetDimensionOrDie(dimension_name)\n",
    "    distance_dimension.SetGlobalSpanCostCoefficient(100)\n",
    "\n",
    "    # Setting first solution heuristic.\n",
    "    search_parameters = pywrapcp.DefaultRoutingSearchParameters()\n",
    "    search_parameters.first_solution_strategy = (\n",
    "        routing_enums_pb2.FirstSolutionStrategy.PATH_CHEAPEST_ARC)\n",
    "\n",
    "    # Solve the problem.\n",
    "    solution = routing.SolveWithParameters(search_parameters)\n",
    "\n",
    "    # Print solution on console.\n",
    "    if solution:\n",
    "        print_solution(data, manager, routing, solution)\n",
    "\n",
    "\n",
    "if __name__ == '__main__':\n",
    "    main()"
   ]
  },
  {
   "attachments": {},
   "cell_type": "markdown",
   "id": "ee1cc8f6",
   "metadata": {},
   "source": [
    "# VRP with various Pickups and Deliveries\n",
    "\n",
    "In this section we describe a VRP in which each vehicle picks up items at various locations and drops them off at others. The problem is to assign routes for the vehicles to pick up and deliver all the items, while minimizing the length of the longest route."
   ]
  },
  {
   "cell_type": "code",
   "execution_count": null,
   "id": "9b6822a5",
   "metadata": {},
   "outputs": [],
   "source": []
  },
  {
   "cell_type": "code",
   "execution_count": null,
   "id": "5d1d50f7",
   "metadata": {},
   "outputs": [],
   "source": []
  }
 ],
 "metadata": {
  "kernelspec": {
   "display_name": "or_env",
   "language": "python",
   "name": "python3"
  },
  "language_info": {
   "codemirror_mode": {
    "name": "ipython",
    "version": 3
   },
   "file_extension": ".py",
   "mimetype": "text/x-python",
   "name": "python",
   "nbconvert_exporter": "python",
   "pygments_lexer": "ipython3",
   "version": "3.8.15"
  },
  "vscode": {
   "interpreter": {
    "hash": "2ed57ed0e014f8c332b01f3501f743fdc02d8bab1f9052c09a150fb6a1d27f58"
   }
  }
 },
 "nbformat": 4,
 "nbformat_minor": 5
}
